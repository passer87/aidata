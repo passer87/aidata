{
  "nbformat": 4,
  "nbformat_minor": 0,
  "metadata": {
    "colab": {
      "provenance": [],
      "authorship_tag": "ABX9TyNUyIRm5SfPmLzgKI+cgIvd",
      "include_colab_link": true
    },
    "kernelspec": {
      "name": "python3",
      "display_name": "Python 3"
    },
    "language_info": {
      "name": "python"
    }
  },
  "cells": [
    {
      "cell_type": "markdown",
      "metadata": {
        "id": "view-in-github",
        "colab_type": "text"
      },
      "source": [
        "<a href=\"https://colab.research.google.com/github/passer87/aidata/blob/main/%E5%BF%AB%E9%80%9F%E6%89%BE%E5%87%BA%E8%B3%AA%E6%95%B8.ipynb\" target=\"_parent\"><img src=\"https://colab.research.google.com/assets/colab-badge.svg\" alt=\"Open In Colab\"/></a>"
      ]
    },
    {
      "cell_type": "code",
      "execution_count": 1,
      "metadata": {
        "colab": {
          "base_uri": "https://localhost:8080/"
        },
        "id": "etmj-73kTQMq",
        "outputId": "afce42dd-7c28-4053-db4b-d4d8a88a40e4"
      },
      "outputs": [
        {
          "output_type": "stream",
          "name": "stdout",
          "text": [
            "2 3 5 7 11 13 17 19 23 29 31 37 41 43 47 53 59 61 67 71 73 79 83 89 97\n"
          ]
        }
      ],
      "source": [
        "a = range(2, 100)        # 產生 2～100 的串列\n",
        "p = 0                    # 設定 p 從 0 開始 ( 從 a[p] 也就是第一個項目開始 )\n",
        "def g():                 # 定義一個函式 g\n",
        "    global p, a            # 設定 p 和 a 是全域變數\n",
        "    if p<len(a):           # 如果 p 小於 a 的長度 ( 依序取值到 a 的最後一個項目 )\n",
        "        a = [i for i in a if i==a[p] or i%a[p]>0]  # 重新設定 a 為移除倍數後的串列\n",
        "        p = p + 1            # p 增加 1\n",
        "        g()                  # 重新執行函式 g\n",
        "g()                      # 執行函式 g\n",
        "print(*a)                # 印出 a ( 使用 * 將串列打散印出 )"
      ]
    }
  ]
}