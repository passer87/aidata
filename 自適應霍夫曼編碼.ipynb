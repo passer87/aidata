{
  "nbformat": 4,
  "nbformat_minor": 0,
  "metadata": {
    "colab": {
      "provenance": [],
      "authorship_tag": "ABX9TyPntubrLcudIbVz26aAbqJc",
      "include_colab_link": true
    },
    "kernelspec": {
      "name": "python3",
      "display_name": "Python 3"
    },
    "language_info": {
      "name": "python"
    }
  },
  "cells": [
    {
      "cell_type": "markdown",
      "metadata": {
        "id": "view-in-github",
        "colab_type": "text"
      },
      "source": [
        "<a href=\"https://colab.research.google.com/github/passer87/aidata/blob/main/%E8%87%AA%E9%81%A9%E6%87%89%E9%9C%8D%E5%A4%AB%E6%9B%BC%E7%B7%A8%E7%A2%BC.ipynb\" target=\"_parent\"><img src=\"https://colab.research.google.com/assets/colab-badge.svg\" alt=\"Open In Colab\"/></a>"
      ]
    },
    {
      "cell_type": "code",
      "execution_count": 1,
      "metadata": {
        "colab": {
          "base_uri": "https://localhost:8080/"
        },
        "id": "4yicbd2c6o5p",
        "outputId": "024df023-ba31-45dc-978a-41daedecb3af"
      },
      "outputs": [
        {
          "output_type": "stream",
          "name": "stdout",
          "text": [
            "原始數據: hello huffman\n",
            "編碼後數據: 111111\n"
          ]
        }
      ],
      "source": [
        "#自適應霍夫曼編碼\n",
        "class AdaptiveHuffmanNode:\n",
        "    def __init__(self, char=None, freq=0):\n",
        "        self.char = char\n",
        "        self.freq = freq\n",
        "        self.left = None\n",
        "        self.right = None\n",
        "        self.parent = None\n",
        "\n",
        "class AdaptiveHuffmanTree:\n",
        "    def __init__(self):\n",
        "        self.root = AdaptiveHuffmanNode()\n",
        "        self.nodes = {}\n",
        "\n",
        "    def update(self, char):\n",
        "        if char in self.nodes:\n",
        "            node = self.nodes[char]\n",
        "            node.freq += 1\n",
        "            self._reorder(node)\n",
        "        else:\n",
        "            new_node = AdaptiveHuffmanNode(char, 1)\n",
        "            self.nodes[char] = new_node\n",
        "            if self.root.char is None:\n",
        "                self.root = new_node\n",
        "            else:\n",
        "                combined_node = AdaptiveHuffmanNode(freq=1)\n",
        "                combined_node.left = self.root\n",
        "                combined_node.right = new_node\n",
        "                new_node.parent = combined_node\n",
        "                self.root.parent = combined_node\n",
        "                self.root = combined_node\n",
        "                self._reorder(new_node)\n",
        "\n",
        "    def _reorder(self, node):\n",
        "        while node.parent is not None and node.freq > node.parent.freq:\n",
        "            parent = node.parent\n",
        "            if parent.left == node:\n",
        "                parent.left, parent.right = parent.right, parent.left\n",
        "            node.freq, parent.freq = parent.freq, node.freq\n",
        "            node = parent\n",
        "\n",
        "    def encode(self, data):\n",
        "        encoded_data = []\n",
        "        for char in data:\n",
        "            self.update(char)\n",
        "            encoded_data.append(self._get_code(self.nodes[char]))\n",
        "        return ''.join(encoded_data)\n",
        "\n",
        "    def _get_code(self, node):\n",
        "        code = []\n",
        "        while node.parent is not None:\n",
        "            if node.parent.left == node:\n",
        "                code.append('0')\n",
        "            else:\n",
        "                code.append('1')\n",
        "            node = node.parent\n",
        "        return ''.join(reversed(code))\n",
        "\n",
        "# 測試自適應霍夫曼編碼\n",
        "adaptive_tree = AdaptiveHuffmanTree()\n",
        "data = \"hello huffman\"\n",
        "encoded_data = adaptive_tree.encode(data)\n",
        "print(\"原始數據:\", data)\n",
        "print(\"編碼後數據:\", encoded_data)"
      ]
    }
  ]
}