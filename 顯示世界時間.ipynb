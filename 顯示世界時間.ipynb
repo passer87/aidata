{
  "nbformat": 4,
  "nbformat_minor": 0,
  "metadata": {
    "colab": {
      "provenance": [],
      "authorship_tag": "ABX9TyOw6AZytZJqZ9P/RICN0s5e",
      "include_colab_link": true
    },
    "kernelspec": {
      "name": "python3",
      "display_name": "Python 3"
    },
    "language_info": {
      "name": "python"
    }
  },
  "cells": [
    {
      "cell_type": "markdown",
      "metadata": {
        "id": "view-in-github",
        "colab_type": "text"
      },
      "source": [
        "<a href=\"https://colab.research.google.com/github/passer87/aidata/blob/main/%E9%A1%AF%E7%A4%BA%E4%B8%96%E7%95%8C%E6%99%82%E9%96%93.ipynb\" target=\"_parent\"><img src=\"https://colab.research.google.com/assets/colab-badge.svg\" alt=\"Open In Colab\"/></a>"
      ]
    },
    {
      "cell_type": "code",
      "execution_count": null,
      "metadata": {
        "colab": {
          "base_uri": "https://localhost:8080/"
        },
        "id": "FZl97iaMIOU2",
        "outputId": "652d3505-84ae-4e59-ea02-507f6a08e462"
      },
      "outputs": [
        {
          "output_type": "stream",
          "name": "stdout",
          "text": [
            "倫敦>17:04:22  台灣>00:04:22  日本>01:04:22  紐約>12:04:22  洛杉磯>09:04:22  紐西蘭>04:04:22  "
          ]
        }
      ],
      "source": [
        "import datetime\n",
        "import time\n",
        "\n",
        "def timezone(h):\n",
        "    GMT = datetime.timezone(datetime.timedelta(hours=h))       # 取得時區\n",
        "    return datetime.datetime.now(tz=GMT).strftime('%H:%M:%S')  # 回傳該時區的時間\n",
        "\n",
        "# 六個時區的名稱與時差\n",
        "local = {'倫敦':1,\n",
        "        '台灣':8,\n",
        "        '日本':9,\n",
        "        '紐約':-4,\n",
        "        '洛杉磯':-7,\n",
        "        '紐西蘭':12 }\n",
        "\n",
        "while True:\n",
        "    print('\\r',end='')   # 開始時將游標移到開頭\n",
        "    # 讀取 local 的 key\n",
        "    for i in local:\n",
        "        now = timezone(local[i])   # 根據 key 的 value 取得時間\n",
        "        print(f'{i}>{timezone(local[i])}  ', end='')\n",
        "    time.sleep(1)"
      ]
    }
  ]
}