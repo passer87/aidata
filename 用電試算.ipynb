{
  "nbformat": 4,
  "nbformat_minor": 0,
  "metadata": {
    "colab": {
      "provenance": [],
      "authorship_tag": "ABX9TyPODlgjqVOa5dQfABXpwQPn",
      "include_colab_link": true
    },
    "kernelspec": {
      "name": "python3",
      "display_name": "Python 3"
    },
    "language_info": {
      "name": "python"
    }
  },
  "cells": [
    {
      "cell_type": "markdown",
      "metadata": {
        "id": "view-in-github",
        "colab_type": "text"
      },
      "source": [
        "<a href=\"https://colab.research.google.com/github/passer87/aidata/blob/main/%E7%94%A8%E9%9B%BB%E8%A9%A6%E7%AE%97.ipynb\" target=\"_parent\"><img src=\"https://colab.research.google.com/assets/colab-badge.svg\" alt=\"Open In Colab\"/></a>"
      ]
    },
    {
      "cell_type": "code",
      "execution_count": null,
      "metadata": {
        "colab": {
          "base_uri": "https://localhost:8080/"
        },
        "id": "V9KMnuphxx4w",
        "outputId": "37c44c27-10df-4af9-cf1d-d6357a02b357"
      },
      "outputs": [
        {
          "output_type": "stream",
          "name": "stdout",
          "text": [
            "請輸入用電度數：30\n",
            "用電 30.0 度共 96.0 元\n"
          ]
        }
      ],
      "source": [
        "while True:\n",
        "    try:\n",
        "        num = float(input('請輸入用電度數：'))\n",
        "        output = 0\n",
        "        if num<=200:\n",
        "            output = num*3.2\n",
        "        elif num>200 and num<=300:\n",
        "            output = 200*3.2 + (num-200)*3.4\n",
        "        else:\n",
        "            output = 200*3.2 + 100*3.4 + (num-300)*3.6\n",
        "        print(f'用電 {num} 度共 {output} 元')\n",
        "    except:\n",
        "        break"
      ]
    },
    {
      "cell_type": "code",
      "source": [],
      "metadata": {
        "id": "xvCQQj2Zx-oo"
      },
      "execution_count": null,
      "outputs": []
    }
  ]
}