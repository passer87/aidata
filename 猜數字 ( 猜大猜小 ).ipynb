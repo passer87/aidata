{
  "nbformat": 4,
  "nbformat_minor": 0,
  "metadata": {
    "colab": {
      "provenance": [],
      "authorship_tag": "ABX9TyMDqI+ya4CuI1zhfjqwcWFM",
      "include_colab_link": true
    },
    "kernelspec": {
      "name": "python3",
      "display_name": "Python 3"
    },
    "language_info": {
      "name": "python"
    }
  },
  "cells": [
    {
      "cell_type": "markdown",
      "metadata": {
        "id": "view-in-github",
        "colab_type": "text"
      },
      "source": [
        "<a href=\"https://colab.research.google.com/github/passer87/aidata/blob/main/%E7%8C%9C%E6%95%B8%E5%AD%97%20(%20%E7%8C%9C%E5%A4%A7%E7%8C%9C%E5%B0%8F%20).ipynb\" target=\"_parent\"><img src=\"https://colab.research.google.com/assets/colab-badge.svg\" alt=\"Open In Colab\"/></a>"
      ]
    },
    {
      "cell_type": "code",
      "execution_count": 1,
      "metadata": {
        "colab": {
          "base_uri": "https://localhost:8080/"
        },
        "id": "4X-qlugw4XgY",
        "outputId": "900f211b-faa0-4d37-94d2-40e1530b8d90"
      },
      "outputs": [
        {
          "output_type": "stream",
          "name": "stdout",
          "text": [
            "輸入 1～99 的數字：50\n",
            "數字太大囉！再試一次吧：25\n",
            "數字太小囉！再試一次吧：37\n",
            "數字太大囉！再試一次吧：31\n",
            "數字太大囉！再試一次吧：28\n",
            "數字太小囉！再試一次吧：29\n",
            "答對囉！\n"
          ]
        }
      ],
      "source": [
        "import random\n",
        "a = random.randint(1,99)                         # 產生 1～99 的隨機整數\n",
        "b = int(input('輸入 1～99 的數字：'))               # 讓使用者輸入數字，使用 int 轉換成數字\n",
        "while a!=b:                                      # 使用 while 迴圈，如果 a 不等於 b，就不斷繼續\n",
        "    if b < a:\n",
        "        b = int(input('數字太小囉！再試一次吧：'))   # 如果 b<a，提示數字太小\n",
        "    elif b > a:\n",
        "        b = int(input('數字太大囉！再試一次吧：'))   # 如果 b>a，提示數字太大\n",
        "print('答對囉！')"
      ]
    }
  ]
}