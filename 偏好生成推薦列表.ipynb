{
  "nbformat": 4,
  "nbformat_minor": 0,
  "metadata": {
    "colab": {
      "provenance": [],
      "authorship_tag": "ABX9TyOMYmeaImKi3xbG5wdAS9re",
      "include_colab_link": true
    },
    "kernelspec": {
      "name": "python3",
      "display_name": "Python 3"
    },
    "language_info": {
      "name": "python"
    }
  },
  "cells": [
    {
      "cell_type": "markdown",
      "metadata": {
        "id": "view-in-github",
        "colab_type": "text"
      },
      "source": [
        "<a href=\"https://colab.research.google.com/github/passer87/aidata/blob/main/%E5%81%8F%E5%A5%BD%E7%94%9F%E6%88%90%E6%8E%A8%E8%96%A6%E5%88%97%E8%A1%A8.ipynb\" target=\"_parent\"><img src=\"https://colab.research.google.com/assets/colab-badge.svg\" alt=\"Open In Colab\"/></a>"
      ]
    },
    {
      "cell_type": "code",
      "execution_count": 1,
      "metadata": {
        "colab": {
          "base_uri": "https://localhost:8080/"
        },
        "id": "D74aeUYP9BMb",
        "outputId": "58673f68-1bc0-4450-9fa3-b0238e51b010"
      },
      "outputs": [
        {
          "output_type": "stream",
          "name": "stdout",
          "text": [
            "推薦的商品:\n",
            "商品: 藍色 T恤 短袖\n",
            "商品: 白色 T恤 長袖\n",
            "商品: 藍色 牛仔褲\n"
          ]
        }
      ],
      "source": [
        "#偏好生成推薦列表\n",
        "from sklearn.feature_extraction.text import TfidfVectorizer\n",
        "from sklearn.metrics.pairwise import linear_kernel\n",
        "\n",
        "def content_based_filtering(items, item_index, top_k=3):\n",
        "    tfidf = TfidfVectorizer(stop_words='english')\n",
        "    tfidf_matrix = tfidf.fit_transform(items)\n",
        "    cosine_sim = linear_kernel(tfidf_matrix, tfidf_matrix)\n",
        "    sim_scores = list(enumerate(cosine_sim[item_index]))\n",
        "    sim_scores = sorted(sim_scores, key=lambda x: x[1], reverse=True)\n",
        "    sim_scores = sim_scores[1:top_k + 1]\n",
        "    recommendations = [i[0] for i in sim_scores]\n",
        "    return recommendations\n",
        "\n",
        "# 模擬商品的屬性數據\n",
        "items = [\n",
        "    \"紅色 T恤 短袖\",\n",
        "    \"藍色 牛仔褲\",\n",
        "    \"黑色 皮鞋\",\n",
        "    \"白色 T恤 長袖\",\n",
        "    \"藍色 T恤 短袖\",\n",
        "]\n",
        "\n",
        "item_index = 0\n",
        "recommended_items = content_based_filtering(items, item_index)\n",
        "\n",
        "print(\"推薦的商品:\")\n",
        "for item in recommended_items:\n",
        "    print(f\"商品: {items[item]}\")"
      ]
    }
  ]
}