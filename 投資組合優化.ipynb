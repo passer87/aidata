{
  "nbformat": 4,
  "nbformat_minor": 0,
  "metadata": {
    "colab": {
      "provenance": [],
      "gpuType": "V28",
      "authorship_tag": "ABX9TyMZvi8AvvN2pJGMgTZ48nwX",
      "include_colab_link": true
    },
    "kernelspec": {
      "name": "python3",
      "display_name": "Python 3"
    },
    "language_info": {
      "name": "python"
    },
    "accelerator": "TPU"
  },
  "cells": [
    {
      "cell_type": "markdown",
      "metadata": {
        "id": "view-in-github",
        "colab_type": "text"
      },
      "source": [
        "<a href=\"https://colab.research.google.com/github/passer87/aidata/blob/main/%E6%8A%95%E8%B3%87%E7%B5%84%E5%90%88%E5%84%AA%E5%8C%96.ipynb\" target=\"_parent\"><img src=\"https://colab.research.google.com/assets/colab-badge.svg\" alt=\"Open In Colab\"/></a>"
      ]
    },
    {
      "cell_type": "code",
      "execution_count": 1,
      "metadata": {
        "colab": {
          "base_uri": "https://localhost:8080/"
        },
        "id": "sEl8sUylAvig",
        "outputId": "7e623ace-9c69-4ea8-bcb8-57435ef7b6a5"
      },
      "outputs": [
        {
          "output_type": "stream",
          "name": "stdout",
          "text": [
            "最大預期回報: 50\n"
          ]
        }
      ],
      "source": [
        "#投資組合優化\n",
        "def investment_portfolio(weights, returns, budget):\n",
        "    n = len(weights)\n",
        "    dp = [[0 for _ in range(budget + 1)] for _ in range(n + 1)]\n",
        "\n",
        "    for i in range(1, n + 1):\n",
        "        for b in range(1, budget + 1):\n",
        "            if weights[i - 1] <= b:\n",
        "                dp[i][b] = max(dp[i - 1][b], dp[i - 1][b - weights[i - 1]] + returns[i - 1])\n",
        "            else:\n",
        "                dp[i][b] = dp[i - 1][b]\n",
        "\n",
        "    return dp[n][budget]\n",
        "\n",
        "# 測試投資組合優化\n",
        "investment_costs = [100, 200, 300, 400]\n",
        "expected_returns = [10, 20, 30, 40]\n",
        "total_budget = 500\n",
        "max_return = investment_portfolio(investment_costs, expected_returns, total_budget)\n",
        "print(f\"最大預期回報: {max_return}\")"
      ]
    }
  ]
}