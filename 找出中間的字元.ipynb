{
  "nbformat": 4,
  "nbformat_minor": 0,
  "metadata": {
    "colab": {
      "provenance": [],
      "authorship_tag": "ABX9TyNv/CMKJRBRSdEx5mK4VbPB",
      "include_colab_link": true
    },
    "kernelspec": {
      "name": "python3",
      "display_name": "Python 3"
    },
    "language_info": {
      "name": "python"
    }
  },
  "cells": [
    {
      "cell_type": "markdown",
      "metadata": {
        "id": "view-in-github",
        "colab_type": "text"
      },
      "source": [
        "<a href=\"https://colab.research.google.com/github/passer87/aidata/blob/main/%E6%89%BE%E5%87%BA%E4%B8%AD%E9%96%93%E7%9A%84%E5%AD%97%E5%85%83.ipynb\" target=\"_parent\"><img src=\"https://colab.research.google.com/assets/colab-badge.svg\" alt=\"Open In Colab\"/></a>"
      ]
    },
    {
      "cell_type": "code",
      "execution_count": 2,
      "metadata": {
        "colab": {
          "base_uri": "https://localhost:8080/"
        },
        "id": "JlN9ePTm2PoU",
        "outputId": "fc5bea4d-3f22-444c-95ab-fea22cb316ff"
      },
      "outputs": [
        {
          "output_type": "stream",
          "name": "stdout",
          "text": [
            "輸入文字：abcdefgh\n",
            "de\n"
          ]
        }
      ],
      "source": [
        "import math       # import math 標準函式模組\n",
        "\n",
        "text = input('輸入文字：')                # 讓使用者輸入文字\n",
        "length = len(text)                      # 取得輸入的文字長度\n",
        "center = math.floor(length/2)           # 取出中間值\n",
        "if length%2 == 0:                       # 如果除以 2 餘數為 0，表示偶數\n",
        "    print(f'{text[center-1:center+1]}')   # 取出中間兩個字元\n",
        "else:\n",
        "    print(f'{text[center]}')              # 如果是奇數，取出中間一個字元"
      ]
    }
  ]
}