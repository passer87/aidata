{
  "nbformat": 4,
  "nbformat_minor": 0,
  "metadata": {
    "colab": {
      "provenance": [],
      "authorship_tag": "ABX9TyNtkIBEh/Dx92j4bziYKJ7J",
      "include_colab_link": true
    },
    "kernelspec": {
      "name": "python3",
      "display_name": "Python 3"
    },
    "language_info": {
      "name": "python"
    }
  },
  "cells": [
    {
      "cell_type": "markdown",
      "metadata": {
        "id": "view-in-github",
        "colab_type": "text"
      },
      "source": [
        "<a href=\"https://colab.research.google.com/github/passer87/aidata/blob/main/%E7%8C%9C%E6%95%B8%E5%AD%97%20(%20%E5%B9%BE%20A%20%E5%B9%BE%20B%20).ipynb\" target=\"_parent\"><img src=\"https://colab.research.google.com/assets/colab-badge.svg\" alt=\"Open In Colab\"/></a>"
      ]
    },
    {
      "cell_type": "code",
      "execution_count": 2,
      "metadata": {
        "colab": {
          "base_uri": "https://localhost:8080/"
        },
        "id": "KH3tgRli40BI",
        "outputId": "f2966467-d124-435c-f9f1-bf37b01acb8a"
      },
      "outputs": [
        {
          "output_type": "stream",
          "name": "stdout",
          "text": [
            "輸入四個數字：1234\n",
            "1234: 1A0B\n",
            "輸入四個數字：1567\n",
            "1567: 0A2B\n",
            "輸入四個數字：5268\n",
            "5268: 1A1B\n",
            "輸入四個數字：9276\n",
            "9276: 3A0B\n",
            "輸入四個數字：8276\n",
            "8276: 2A0B\n",
            "輸入四個數字：9278\n",
            "9278: 3A0B\n",
            "輸入四個數字：9275\n",
            "9275: 4A0B\n",
            "答對了！總共猜了 7 次，用了 117.915 秒\n"
          ]
        }
      ],
      "source": [
        "import random\n",
        "import time          # import time 模組\n",
        "answer = random.sample(range(1, 10), 4)\n",
        "#print(answer)\n",
        "a = b = n = 0\n",
        "num = 0              # 新增 num 變數為 0，作為計算次數使用\n",
        "t = time.time()      # 新增 t 變數為現在的時間\n",
        "while a!=4:\n",
        "    num += 1         # 每次重複時將 num 增加 1\n",
        "    a = b = n = 0\n",
        "    user = list(input('輸入四個數字：'))\n",
        "    for i in user:\n",
        "        if int(user[n]) == answer[n]:\n",
        "            a += 1\n",
        "        else:\n",
        "            if int(i) in answer:\n",
        "                b += 1\n",
        "        n += 1\n",
        "    output = ','.join(user).replace(',','')\n",
        "    print(f'{output}: {a}A{b}B')\n",
        "t = round((time.time() - t), 3)                # 當 a 等於 4 時，計算結束和開始的時間差\n",
        "print(f'答對了！總共猜了 {num} 次，用了 {t} 秒')   # 印出對應的文字"
      ]
    }
  ]
}