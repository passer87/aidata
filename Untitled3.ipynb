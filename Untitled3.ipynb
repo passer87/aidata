{
  "nbformat": 4,
  "nbformat_minor": 0,
  "metadata": {
    "colab": {
      "provenance": []
    },
    "kernelspec": {
      "name": "python3",
      "display_name": "Python 3"
    },
    "language_info": {
      "name": "python"
    },
    "widgets": {
      "application/vnd.jupyter.widget-state+json": {
        "0b8fc8f2c7244afd9a6f9ebb9300adf2": {
          "model_module": "@jupyter-widgets/controls",
          "model_name": "HBoxModel",
          "model_module_version": "1.5.0",
          "state": {
            "_dom_classes": [],
            "_model_module": "@jupyter-widgets/controls",
            "_model_module_version": "1.5.0",
            "_model_name": "HBoxModel",
            "_view_count": null,
            "_view_module": "@jupyter-widgets/controls",
            "_view_module_version": "1.5.0",
            "_view_name": "HBoxView",
            "box_style": "",
            "children": [
              "IPY_MODEL_54e955edae6e4f32998ab715f66f3afc",
              "IPY_MODEL_a6ba4f75676b4a7b8d1f5c7640dc03f1",
              "IPY_MODEL_8f4052b096ee4085b08977bbb9a76797"
            ],
            "layout": "IPY_MODEL_32d0411e6ff748f58b2525093e0da18f"
          }
        },
        "54e955edae6e4f32998ab715f66f3afc": {
          "model_module": "@jupyter-widgets/controls",
          "model_name": "HTMLModel",
          "model_module_version": "1.5.0",
          "state": {
            "_dom_classes": [],
            "_model_module": "@jupyter-widgets/controls",
            "_model_module_version": "1.5.0",
            "_model_name": "HTMLModel",
            "_view_count": null,
            "_view_module": "@jupyter-widgets/controls",
            "_view_module_version": "1.5.0",
            "_view_name": "HTMLView",
            "description": "",
            "description_tooltip": null,
            "layout": "IPY_MODEL_c011240749984e92a3cd0f328a35d83e",
            "placeholder": "​",
            "style": "IPY_MODEL_13c4040fd54d42028ac1a4089198bbd6",
            "value": "config.json: 100%"
          }
        },
        "a6ba4f75676b4a7b8d1f5c7640dc03f1": {
          "model_module": "@jupyter-widgets/controls",
          "model_name": "FloatProgressModel",
          "model_module_version": "1.5.0",
          "state": {
            "_dom_classes": [],
            "_model_module": "@jupyter-widgets/controls",
            "_model_module_version": "1.5.0",
            "_model_name": "FloatProgressModel",
            "_view_count": null,
            "_view_module": "@jupyter-widgets/controls",
            "_view_module_version": "1.5.0",
            "_view_name": "ProgressView",
            "bar_style": "success",
            "description": "",
            "description_tooltip": null,
            "layout": "IPY_MODEL_5a689d4861bb4d6781a4089a4f81ccb8",
            "max": 570,
            "min": 0,
            "orientation": "horizontal",
            "style": "IPY_MODEL_f535df602efa40c49418ca44a7d06c4a",
            "value": 570
          }
        },
        "8f4052b096ee4085b08977bbb9a76797": {
          "model_module": "@jupyter-widgets/controls",
          "model_name": "HTMLModel",
          "model_module_version": "1.5.0",
          "state": {
            "_dom_classes": [],
            "_model_module": "@jupyter-widgets/controls",
            "_model_module_version": "1.5.0",
            "_model_name": "HTMLModel",
            "_view_count": null,
            "_view_module": "@jupyter-widgets/controls",
            "_view_module_version": "1.5.0",
            "_view_name": "HTMLView",
            "description": "",
            "description_tooltip": null,
            "layout": "IPY_MODEL_54eb97b81c834554af733c80cf1f431a",
            "placeholder": "​",
            "style": "IPY_MODEL_a69ec79292e24bcfb93e84fb966fc781",
            "value": " 570/570 [00:00&lt;00:00, 10.3kB/s]"
          }
        },
        "32d0411e6ff748f58b2525093e0da18f": {
          "model_module": "@jupyter-widgets/base",
          "model_name": "LayoutModel",
          "model_module_version": "1.2.0",
          "state": {
            "_model_module": "@jupyter-widgets/base",
            "_model_module_version": "1.2.0",
            "_model_name": "LayoutModel",
            "_view_count": null,
            "_view_module": "@jupyter-widgets/base",
            "_view_module_version": "1.2.0",
            "_view_name": "LayoutView",
            "align_content": null,
            "align_items": null,
            "align_self": null,
            "border": null,
            "bottom": null,
            "display": null,
            "flex": null,
            "flex_flow": null,
            "grid_area": null,
            "grid_auto_columns": null,
            "grid_auto_flow": null,
            "grid_auto_rows": null,
            "grid_column": null,
            "grid_gap": null,
            "grid_row": null,
            "grid_template_areas": null,
            "grid_template_columns": null,
            "grid_template_rows": null,
            "height": null,
            "justify_content": null,
            "justify_items": null,
            "left": null,
            "margin": null,
            "max_height": null,
            "max_width": null,
            "min_height": null,
            "min_width": null,
            "object_fit": null,
            "object_position": null,
            "order": null,
            "overflow": null,
            "overflow_x": null,
            "overflow_y": null,
            "padding": null,
            "right": null,
            "top": null,
            "visibility": null,
            "width": null
          }
        },
        "c011240749984e92a3cd0f328a35d83e": {
          "model_module": "@jupyter-widgets/base",
          "model_name": "LayoutModel",
          "model_module_version": "1.2.0",
          "state": {
            "_model_module": "@jupyter-widgets/base",
            "_model_module_version": "1.2.0",
            "_model_name": "LayoutModel",
            "_view_count": null,
            "_view_module": "@jupyter-widgets/base",
            "_view_module_version": "1.2.0",
            "_view_name": "LayoutView",
            "align_content": null,
            "align_items": null,
            "align_self": null,
            "border": null,
            "bottom": null,
            "display": null,
            "flex": null,
            "flex_flow": null,
            "grid_area": null,
            "grid_auto_columns": null,
            "grid_auto_flow": null,
            "grid_auto_rows": null,
            "grid_column": null,
            "grid_gap": null,
            "grid_row": null,
            "grid_template_areas": null,
            "grid_template_columns": null,
            "grid_template_rows": null,
            "height": null,
            "justify_content": null,
            "justify_items": null,
            "left": null,
            "margin": null,
            "max_height": null,
            "max_width": null,
            "min_height": null,
            "min_width": null,
            "object_fit": null,
            "object_position": null,
            "order": null,
            "overflow": null,
            "overflow_x": null,
            "overflow_y": null,
            "padding": null,
            "right": null,
            "top": null,
            "visibility": null,
            "width": null
          }
        },
        "13c4040fd54d42028ac1a4089198bbd6": {
          "model_module": "@jupyter-widgets/controls",
          "model_name": "DescriptionStyleModel",
          "model_module_version": "1.5.0",
          "state": {
            "_model_module": "@jupyter-widgets/controls",
            "_model_module_version": "1.5.0",
            "_model_name": "DescriptionStyleModel",
            "_view_count": null,
            "_view_module": "@jupyter-widgets/base",
            "_view_module_version": "1.2.0",
            "_view_name": "StyleView",
            "description_width": ""
          }
        },
        "5a689d4861bb4d6781a4089a4f81ccb8": {
          "model_module": "@jupyter-widgets/base",
          "model_name": "LayoutModel",
          "model_module_version": "1.2.0",
          "state": {
            "_model_module": "@jupyter-widgets/base",
            "_model_module_version": "1.2.0",
            "_model_name": "LayoutModel",
            "_view_count": null,
            "_view_module": "@jupyter-widgets/base",
            "_view_module_version": "1.2.0",
            "_view_name": "LayoutView",
            "align_content": null,
            "align_items": null,
            "align_self": null,
            "border": null,
            "bottom": null,
            "display": null,
            "flex": null,
            "flex_flow": null,
            "grid_area": null,
            "grid_auto_columns": null,
            "grid_auto_flow": null,
            "grid_auto_rows": null,
            "grid_column": null,
            "grid_gap": null,
            "grid_row": null,
            "grid_template_areas": null,
            "grid_template_columns": null,
            "grid_template_rows": null,
            "height": null,
            "justify_content": null,
            "justify_items": null,
            "left": null,
            "margin": null,
            "max_height": null,
            "max_width": null,
            "min_height": null,
            "min_width": null,
            "object_fit": null,
            "object_position": null,
            "order": null,
            "overflow": null,
            "overflow_x": null,
            "overflow_y": null,
            "padding": null,
            "right": null,
            "top": null,
            "visibility": null,
            "width": null
          }
        },
        "f535df602efa40c49418ca44a7d06c4a": {
          "model_module": "@jupyter-widgets/controls",
          "model_name": "ProgressStyleModel",
          "model_module_version": "1.5.0",
          "state": {
            "_model_module": "@jupyter-widgets/controls",
            "_model_module_version": "1.5.0",
            "_model_name": "ProgressStyleModel",
            "_view_count": null,
            "_view_module": "@jupyter-widgets/base",
            "_view_module_version": "1.2.0",
            "_view_name": "StyleView",
            "bar_color": null,
            "description_width": ""
          }
        },
        "54eb97b81c834554af733c80cf1f431a": {
          "model_module": "@jupyter-widgets/base",
          "model_name": "LayoutModel",
          "model_module_version": "1.2.0",
          "state": {
            "_model_module": "@jupyter-widgets/base",
            "_model_module_version": "1.2.0",
            "_model_name": "LayoutModel",
            "_view_count": null,
            "_view_module": "@jupyter-widgets/base",
            "_view_module_version": "1.2.0",
            "_view_name": "LayoutView",
            "align_content": null,
            "align_items": null,
            "align_self": null,
            "border": null,
            "bottom": null,
            "display": null,
            "flex": null,
            "flex_flow": null,
            "grid_area": null,
            "grid_auto_columns": null,
            "grid_auto_flow": null,
            "grid_auto_rows": null,
            "grid_column": null,
            "grid_gap": null,
            "grid_row": null,
            "grid_template_areas": null,
            "grid_template_columns": null,
            "grid_template_rows": null,
            "height": null,
            "justify_content": null,
            "justify_items": null,
            "left": null,
            "margin": null,
            "max_height": null,
            "max_width": null,
            "min_height": null,
            "min_width": null,
            "object_fit": null,
            "object_position": null,
            "order": null,
            "overflow": null,
            "overflow_x": null,
            "overflow_y": null,
            "padding": null,
            "right": null,
            "top": null,
            "visibility": null,
            "width": null
          }
        },
        "a69ec79292e24bcfb93e84fb966fc781": {
          "model_module": "@jupyter-widgets/controls",
          "model_name": "DescriptionStyleModel",
          "model_module_version": "1.5.0",
          "state": {
            "_model_module": "@jupyter-widgets/controls",
            "_model_module_version": "1.5.0",
            "_model_name": "DescriptionStyleModel",
            "_view_count": null,
            "_view_module": "@jupyter-widgets/base",
            "_view_module_version": "1.2.0",
            "_view_name": "StyleView",
            "description_width": ""
          }
        },
        "f2375d0e0eea4fc69a538c0ab0e72678": {
          "model_module": "@jupyter-widgets/controls",
          "model_name": "HBoxModel",
          "model_module_version": "1.5.0",
          "state": {
            "_dom_classes": [],
            "_model_module": "@jupyter-widgets/controls",
            "_model_module_version": "1.5.0",
            "_model_name": "HBoxModel",
            "_view_count": null,
            "_view_module": "@jupyter-widgets/controls",
            "_view_module_version": "1.5.0",
            "_view_name": "HBoxView",
            "box_style": "",
            "children": [
              "IPY_MODEL_c716b146ea9448478fe0158148bae9fe",
              "IPY_MODEL_b23deb1dcb9544aab4cf70b4724d0cfa",
              "IPY_MODEL_ddf48b96ba874788a46d0505461074fc"
            ],
            "layout": "IPY_MODEL_73822d9575da45a0b8e84df177a77525"
          }
        },
        "c716b146ea9448478fe0158148bae9fe": {
          "model_module": "@jupyter-widgets/controls",
          "model_name": "HTMLModel",
          "model_module_version": "1.5.0",
          "state": {
            "_dom_classes": [],
            "_model_module": "@jupyter-widgets/controls",
            "_model_module_version": "1.5.0",
            "_model_name": "HTMLModel",
            "_view_count": null,
            "_view_module": "@jupyter-widgets/controls",
            "_view_module_version": "1.5.0",
            "_view_name": "HTMLView",
            "description": "",
            "description_tooltip": null,
            "layout": "IPY_MODEL_160fa80a51c042158509a3406714f248",
            "placeholder": "​",
            "style": "IPY_MODEL_93b705606c384437b47dda90d1fbaf00",
            "value": "model.safetensors: 100%"
          }
        },
        "b23deb1dcb9544aab4cf70b4724d0cfa": {
          "model_module": "@jupyter-widgets/controls",
          "model_name": "FloatProgressModel",
          "model_module_version": "1.5.0",
          "state": {
            "_dom_classes": [],
            "_model_module": "@jupyter-widgets/controls",
            "_model_module_version": "1.5.0",
            "_model_name": "FloatProgressModel",
            "_view_count": null,
            "_view_module": "@jupyter-widgets/controls",
            "_view_module_version": "1.5.0",
            "_view_name": "ProgressView",
            "bar_style": "success",
            "description": "",
            "description_tooltip": null,
            "layout": "IPY_MODEL_7cfcaf427172420486289a86b4098d38",
            "max": 440449768,
            "min": 0,
            "orientation": "horizontal",
            "style": "IPY_MODEL_18aa2368d1c643f9af070bad4a2fc252",
            "value": 440449768
          }
        },
        "ddf48b96ba874788a46d0505461074fc": {
          "model_module": "@jupyter-widgets/controls",
          "model_name": "HTMLModel",
          "model_module_version": "1.5.0",
          "state": {
            "_dom_classes": [],
            "_model_module": "@jupyter-widgets/controls",
            "_model_module_version": "1.5.0",
            "_model_name": "HTMLModel",
            "_view_count": null,
            "_view_module": "@jupyter-widgets/controls",
            "_view_module_version": "1.5.0",
            "_view_name": "HTMLView",
            "description": "",
            "description_tooltip": null,
            "layout": "IPY_MODEL_56ec43c315db43b9be8c1d7c81164b21",
            "placeholder": "​",
            "style": "IPY_MODEL_d471992266c142f88b9cccbd2777cd59",
            "value": " 440M/440M [00:06&lt;00:00, 118MB/s]"
          }
        },
        "73822d9575da45a0b8e84df177a77525": {
          "model_module": "@jupyter-widgets/base",
          "model_name": "LayoutModel",
          "model_module_version": "1.2.0",
          "state": {
            "_model_module": "@jupyter-widgets/base",
            "_model_module_version": "1.2.0",
            "_model_name": "LayoutModel",
            "_view_count": null,
            "_view_module": "@jupyter-widgets/base",
            "_view_module_version": "1.2.0",
            "_view_name": "LayoutView",
            "align_content": null,
            "align_items": null,
            "align_self": null,
            "border": null,
            "bottom": null,
            "display": null,
            "flex": null,
            "flex_flow": null,
            "grid_area": null,
            "grid_auto_columns": null,
            "grid_auto_flow": null,
            "grid_auto_rows": null,
            "grid_column": null,
            "grid_gap": null,
            "grid_row": null,
            "grid_template_areas": null,
            "grid_template_columns": null,
            "grid_template_rows": null,
            "height": null,
            "justify_content": null,
            "justify_items": null,
            "left": null,
            "margin": null,
            "max_height": null,
            "max_width": null,
            "min_height": null,
            "min_width": null,
            "object_fit": null,
            "object_position": null,
            "order": null,
            "overflow": null,
            "overflow_x": null,
            "overflow_y": null,
            "padding": null,
            "right": null,
            "top": null,
            "visibility": null,
            "width": null
          }
        },
        "160fa80a51c042158509a3406714f248": {
          "model_module": "@jupyter-widgets/base",
          "model_name": "LayoutModel",
          "model_module_version": "1.2.0",
          "state": {
            "_model_module": "@jupyter-widgets/base",
            "_model_module_version": "1.2.0",
            "_model_name": "LayoutModel",
            "_view_count": null,
            "_view_module": "@jupyter-widgets/base",
            "_view_module_version": "1.2.0",
            "_view_name": "LayoutView",
            "align_content": null,
            "align_items": null,
            "align_self": null,
            "border": null,
            "bottom": null,
            "display": null,
            "flex": null,
            "flex_flow": null,
            "grid_area": null,
            "grid_auto_columns": null,
            "grid_auto_flow": null,
            "grid_auto_rows": null,
            "grid_column": null,
            "grid_gap": null,
            "grid_row": null,
            "grid_template_areas": null,
            "grid_template_columns": null,
            "grid_template_rows": null,
            "height": null,
            "justify_content": null,
            "justify_items": null,
            "left": null,
            "margin": null,
            "max_height": null,
            "max_width": null,
            "min_height": null,
            "min_width": null,
            "object_fit": null,
            "object_position": null,
            "order": null,
            "overflow": null,
            "overflow_x": null,
            "overflow_y": null,
            "padding": null,
            "right": null,
            "top": null,
            "visibility": null,
            "width": null
          }
        },
        "93b705606c384437b47dda90d1fbaf00": {
          "model_module": "@jupyter-widgets/controls",
          "model_name": "DescriptionStyleModel",
          "model_module_version": "1.5.0",
          "state": {
            "_model_module": "@jupyter-widgets/controls",
            "_model_module_version": "1.5.0",
            "_model_name": "DescriptionStyleModel",
            "_view_count": null,
            "_view_module": "@jupyter-widgets/base",
            "_view_module_version": "1.2.0",
            "_view_name": "StyleView",
            "description_width": ""
          }
        },
        "7cfcaf427172420486289a86b4098d38": {
          "model_module": "@jupyter-widgets/base",
          "model_name": "LayoutModel",
          "model_module_version": "1.2.0",
          "state": {
            "_model_module": "@jupyter-widgets/base",
            "_model_module_version": "1.2.0",
            "_model_name": "LayoutModel",
            "_view_count": null,
            "_view_module": "@jupyter-widgets/base",
            "_view_module_version": "1.2.0",
            "_view_name": "LayoutView",
            "align_content": null,
            "align_items": null,
            "align_self": null,
            "border": null,
            "bottom": null,
            "display": null,
            "flex": null,
            "flex_flow": null,
            "grid_area": null,
            "grid_auto_columns": null,
            "grid_auto_flow": null,
            "grid_auto_rows": null,
            "grid_column": null,
            "grid_gap": null,
            "grid_row": null,
            "grid_template_areas": null,
            "grid_template_columns": null,
            "grid_template_rows": null,
            "height": null,
            "justify_content": null,
            "justify_items": null,
            "left": null,
            "margin": null,
            "max_height": null,
            "max_width": null,
            "min_height": null,
            "min_width": null,
            "object_fit": null,
            "object_position": null,
            "order": null,
            "overflow": null,
            "overflow_x": null,
            "overflow_y": null,
            "padding": null,
            "right": null,
            "top": null,
            "visibility": null,
            "width": null
          }
        },
        "18aa2368d1c643f9af070bad4a2fc252": {
          "model_module": "@jupyter-widgets/controls",
          "model_name": "ProgressStyleModel",
          "model_module_version": "1.5.0",
          "state": {
            "_model_module": "@jupyter-widgets/controls",
            "_model_module_version": "1.5.0",
            "_model_name": "ProgressStyleModel",
            "_view_count": null,
            "_view_module": "@jupyter-widgets/base",
            "_view_module_version": "1.2.0",
            "_view_name": "StyleView",
            "bar_color": null,
            "description_width": ""
          }
        },
        "56ec43c315db43b9be8c1d7c81164b21": {
          "model_module": "@jupyter-widgets/base",
          "model_name": "LayoutModel",
          "model_module_version": "1.2.0",
          "state": {
            "_model_module": "@jupyter-widgets/base",
            "_model_module_version": "1.2.0",
            "_model_name": "LayoutModel",
            "_view_count": null,
            "_view_module": "@jupyter-widgets/base",
            "_view_module_version": "1.2.0",
            "_view_name": "LayoutView",
            "align_content": null,
            "align_items": null,
            "align_self": null,
            "border": null,
            "bottom": null,
            "display": null,
            "flex": null,
            "flex_flow": null,
            "grid_area": null,
            "grid_auto_columns": null,
            "grid_auto_flow": null,
            "grid_auto_rows": null,
            "grid_column": null,
            "grid_gap": null,
            "grid_row": null,
            "grid_template_areas": null,
            "grid_template_columns": null,
            "grid_template_rows": null,
            "height": null,
            "justify_content": null,
            "justify_items": null,
            "left": null,
            "margin": null,
            "max_height": null,
            "max_width": null,
            "min_height": null,
            "min_width": null,
            "object_fit": null,
            "object_position": null,
            "order": null,
            "overflow": null,
            "overflow_x": null,
            "overflow_y": null,
            "padding": null,
            "right": null,
            "top": null,
            "visibility": null,
            "width": null
          }
        },
        "d471992266c142f88b9cccbd2777cd59": {
          "model_module": "@jupyter-widgets/controls",
          "model_name": "DescriptionStyleModel",
          "model_module_version": "1.5.0",
          "state": {
            "_model_module": "@jupyter-widgets/controls",
            "_model_module_version": "1.5.0",
            "_model_name": "DescriptionStyleModel",
            "_view_count": null,
            "_view_module": "@jupyter-widgets/base",
            "_view_module_version": "1.2.0",
            "_view_name": "StyleView",
            "description_width": ""
          }
        },
        "352b650a664a40608e59fdd2ebe33c7f": {
          "model_module": "@jupyter-widgets/controls",
          "model_name": "HBoxModel",
          "model_module_version": "1.5.0",
          "state": {
            "_dom_classes": [],
            "_model_module": "@jupyter-widgets/controls",
            "_model_module_version": "1.5.0",
            "_model_name": "HBoxModel",
            "_view_count": null,
            "_view_module": "@jupyter-widgets/controls",
            "_view_module_version": "1.5.0",
            "_view_name": "HBoxView",
            "box_style": "",
            "children": [
              "IPY_MODEL_7edf30cde1074c409f55c774a28b6232",
              "IPY_MODEL_b227e6bf2b15454b80729f75521a7e90",
              "IPY_MODEL_77e649feae9d4b559ca5cb6a318b7f86"
            ],
            "layout": "IPY_MODEL_235c7e68da2f46c6ac74db3ffa385b3d"
          }
        },
        "7edf30cde1074c409f55c774a28b6232": {
          "model_module": "@jupyter-widgets/controls",
          "model_name": "HTMLModel",
          "model_module_version": "1.5.0",
          "state": {
            "_dom_classes": [],
            "_model_module": "@jupyter-widgets/controls",
            "_model_module_version": "1.5.0",
            "_model_name": "HTMLModel",
            "_view_count": null,
            "_view_module": "@jupyter-widgets/controls",
            "_view_module_version": "1.5.0",
            "_view_name": "HTMLView",
            "description": "",
            "description_tooltip": null,
            "layout": "IPY_MODEL_0f08ca3497c146e7ae4ede4bc6681236",
            "placeholder": "​",
            "style": "IPY_MODEL_9aeaebf4fcac49b5ba3a78dfed629d73",
            "value": "tokenizer_config.json: 100%"
          }
        },
        "b227e6bf2b15454b80729f75521a7e90": {
          "model_module": "@jupyter-widgets/controls",
          "model_name": "FloatProgressModel",
          "model_module_version": "1.5.0",
          "state": {
            "_dom_classes": [],
            "_model_module": "@jupyter-widgets/controls",
            "_model_module_version": "1.5.0",
            "_model_name": "FloatProgressModel",
            "_view_count": null,
            "_view_module": "@jupyter-widgets/controls",
            "_view_module_version": "1.5.0",
            "_view_name": "ProgressView",
            "bar_style": "success",
            "description": "",
            "description_tooltip": null,
            "layout": "IPY_MODEL_d542e25ff45e4060a39bfbf10b730074",
            "max": 48,
            "min": 0,
            "orientation": "horizontal",
            "style": "IPY_MODEL_398e462477cd4e419c1403054e38c74f",
            "value": 48
          }
        },
        "77e649feae9d4b559ca5cb6a318b7f86": {
          "model_module": "@jupyter-widgets/controls",
          "model_name": "HTMLModel",
          "model_module_version": "1.5.0",
          "state": {
            "_dom_classes": [],
            "_model_module": "@jupyter-widgets/controls",
            "_model_module_version": "1.5.0",
            "_model_name": "HTMLModel",
            "_view_count": null,
            "_view_module": "@jupyter-widgets/controls",
            "_view_module_version": "1.5.0",
            "_view_name": "HTMLView",
            "description": "",
            "description_tooltip": null,
            "layout": "IPY_MODEL_08cc5106cf234e13998be187398a9e86",
            "placeholder": "​",
            "style": "IPY_MODEL_7de324af9b6b4860a2118d17ed2e5fc9",
            "value": " 48.0/48.0 [00:00&lt;00:00, 2.57kB/s]"
          }
        },
        "235c7e68da2f46c6ac74db3ffa385b3d": {
          "model_module": "@jupyter-widgets/base",
          "model_name": "LayoutModel",
          "model_module_version": "1.2.0",
          "state": {
            "_model_module": "@jupyter-widgets/base",
            "_model_module_version": "1.2.0",
            "_model_name": "LayoutModel",
            "_view_count": null,
            "_view_module": "@jupyter-widgets/base",
            "_view_module_version": "1.2.0",
            "_view_name": "LayoutView",
            "align_content": null,
            "align_items": null,
            "align_self": null,
            "border": null,
            "bottom": null,
            "display": null,
            "flex": null,
            "flex_flow": null,
            "grid_area": null,
            "grid_auto_columns": null,
            "grid_auto_flow": null,
            "grid_auto_rows": null,
            "grid_column": null,
            "grid_gap": null,
            "grid_row": null,
            "grid_template_areas": null,
            "grid_template_columns": null,
            "grid_template_rows": null,
            "height": null,
            "justify_content": null,
            "justify_items": null,
            "left": null,
            "margin": null,
            "max_height": null,
            "max_width": null,
            "min_height": null,
            "min_width": null,
            "object_fit": null,
            "object_position": null,
            "order": null,
            "overflow": null,
            "overflow_x": null,
            "overflow_y": null,
            "padding": null,
            "right": null,
            "top": null,
            "visibility": null,
            "width": null
          }
        },
        "0f08ca3497c146e7ae4ede4bc6681236": {
          "model_module": "@jupyter-widgets/base",
          "model_name": "LayoutModel",
          "model_module_version": "1.2.0",
          "state": {
            "_model_module": "@jupyter-widgets/base",
            "_model_module_version": "1.2.0",
            "_model_name": "LayoutModel",
            "_view_count": null,
            "_view_module": "@jupyter-widgets/base",
            "_view_module_version": "1.2.0",
            "_view_name": "LayoutView",
            "align_content": null,
            "align_items": null,
            "align_self": null,
            "border": null,
            "bottom": null,
            "display": null,
            "flex": null,
            "flex_flow": null,
            "grid_area": null,
            "grid_auto_columns": null,
            "grid_auto_flow": null,
            "grid_auto_rows": null,
            "grid_column": null,
            "grid_gap": null,
            "grid_row": null,
            "grid_template_areas": null,
            "grid_template_columns": null,
            "grid_template_rows": null,
            "height": null,
            "justify_content": null,
            "justify_items": null,
            "left": null,
            "margin": null,
            "max_height": null,
            "max_width": null,
            "min_height": null,
            "min_width": null,
            "object_fit": null,
            "object_position": null,
            "order": null,
            "overflow": null,
            "overflow_x": null,
            "overflow_y": null,
            "padding": null,
            "right": null,
            "top": null,
            "visibility": null,
            "width": null
          }
        },
        "9aeaebf4fcac49b5ba3a78dfed629d73": {
          "model_module": "@jupyter-widgets/controls",
          "model_name": "DescriptionStyleModel",
          "model_module_version": "1.5.0",
          "state": {
            "_model_module": "@jupyter-widgets/controls",
            "_model_module_version": "1.5.0",
            "_model_name": "DescriptionStyleModel",
            "_view_count": null,
            "_view_module": "@jupyter-widgets/base",
            "_view_module_version": "1.2.0",
            "_view_name": "StyleView",
            "description_width": ""
          }
        },
        "d542e25ff45e4060a39bfbf10b730074": {
          "model_module": "@jupyter-widgets/base",
          "model_name": "LayoutModel",
          "model_module_version": "1.2.0",
          "state": {
            "_model_module": "@jupyter-widgets/base",
            "_model_module_version": "1.2.0",
            "_model_name": "LayoutModel",
            "_view_count": null,
            "_view_module": "@jupyter-widgets/base",
            "_view_module_version": "1.2.0",
            "_view_name": "LayoutView",
            "align_content": null,
            "align_items": null,
            "align_self": null,
            "border": null,
            "bottom": null,
            "display": null,
            "flex": null,
            "flex_flow": null,
            "grid_area": null,
            "grid_auto_columns": null,
            "grid_auto_flow": null,
            "grid_auto_rows": null,
            "grid_column": null,
            "grid_gap": null,
            "grid_row": null,
            "grid_template_areas": null,
            "grid_template_columns": null,
            "grid_template_rows": null,
            "height": null,
            "justify_content": null,
            "justify_items": null,
            "left": null,
            "margin": null,
            "max_height": null,
            "max_width": null,
            "min_height": null,
            "min_width": null,
            "object_fit": null,
            "object_position": null,
            "order": null,
            "overflow": null,
            "overflow_x": null,
            "overflow_y": null,
            "padding": null,
            "right": null,
            "top": null,
            "visibility": null,
            "width": null
          }
        },
        "398e462477cd4e419c1403054e38c74f": {
          "model_module": "@jupyter-widgets/controls",
          "model_name": "ProgressStyleModel",
          "model_module_version": "1.5.0",
          "state": {
            "_model_module": "@jupyter-widgets/controls",
            "_model_module_version": "1.5.0",
            "_model_name": "ProgressStyleModel",
            "_view_count": null,
            "_view_module": "@jupyter-widgets/base",
            "_view_module_version": "1.2.0",
            "_view_name": "StyleView",
            "bar_color": null,
            "description_width": ""
          }
        },
        "08cc5106cf234e13998be187398a9e86": {
          "model_module": "@jupyter-widgets/base",
          "model_name": "LayoutModel",
          "model_module_version": "1.2.0",
          "state": {
            "_model_module": "@jupyter-widgets/base",
            "_model_module_version": "1.2.0",
            "_model_name": "LayoutModel",
            "_view_count": null,
            "_view_module": "@jupyter-widgets/base",
            "_view_module_version": "1.2.0",
            "_view_name": "LayoutView",
            "align_content": null,
            "align_items": null,
            "align_self": null,
            "border": null,
            "bottom": null,
            "display": null,
            "flex": null,
            "flex_flow": null,
            "grid_area": null,
            "grid_auto_columns": null,
            "grid_auto_flow": null,
            "grid_auto_rows": null,
            "grid_column": null,
            "grid_gap": null,
            "grid_row": null,
            "grid_template_areas": null,
            "grid_template_columns": null,
            "grid_template_rows": null,
            "height": null,
            "justify_content": null,
            "justify_items": null,
            "left": null,
            "margin": null,
            "max_height": null,
            "max_width": null,
            "min_height": null,
            "min_width": null,
            "object_fit": null,
            "object_position": null,
            "order": null,
            "overflow": null,
            "overflow_x": null,
            "overflow_y": null,
            "padding": null,
            "right": null,
            "top": null,
            "visibility": null,
            "width": null
          }
        },
        "7de324af9b6b4860a2118d17ed2e5fc9": {
          "model_module": "@jupyter-widgets/controls",
          "model_name": "DescriptionStyleModel",
          "model_module_version": "1.5.0",
          "state": {
            "_model_module": "@jupyter-widgets/controls",
            "_model_module_version": "1.5.0",
            "_model_name": "DescriptionStyleModel",
            "_view_count": null,
            "_view_module": "@jupyter-widgets/base",
            "_view_module_version": "1.2.0",
            "_view_name": "StyleView",
            "description_width": ""
          }
        },
        "a0873d2113b5497e9f6c2e232e17ee7c": {
          "model_module": "@jupyter-widgets/controls",
          "model_name": "HBoxModel",
          "model_module_version": "1.5.0",
          "state": {
            "_dom_classes": [],
            "_model_module": "@jupyter-widgets/controls",
            "_model_module_version": "1.5.0",
            "_model_name": "HBoxModel",
            "_view_count": null,
            "_view_module": "@jupyter-widgets/controls",
            "_view_module_version": "1.5.0",
            "_view_name": "HBoxView",
            "box_style": "",
            "children": [
              "IPY_MODEL_d9be76950e90447c971fd7dfd7ccdc1f",
              "IPY_MODEL_91c9f6cf4dff4732bdac9aff479774ee",
              "IPY_MODEL_cabff613c7dc4042a88cf43424aa8792"
            ],
            "layout": "IPY_MODEL_40c544956657424fbce1810c3e808860"
          }
        },
        "d9be76950e90447c971fd7dfd7ccdc1f": {
          "model_module": "@jupyter-widgets/controls",
          "model_name": "HTMLModel",
          "model_module_version": "1.5.0",
          "state": {
            "_dom_classes": [],
            "_model_module": "@jupyter-widgets/controls",
            "_model_module_version": "1.5.0",
            "_model_name": "HTMLModel",
            "_view_count": null,
            "_view_module": "@jupyter-widgets/controls",
            "_view_module_version": "1.5.0",
            "_view_name": "HTMLView",
            "description": "",
            "description_tooltip": null,
            "layout": "IPY_MODEL_71a68c6f868d4b2d8afa1177410cfa98",
            "placeholder": "​",
            "style": "IPY_MODEL_8f55a774bba94b8b954845745a0fd59c",
            "value": "vocab.txt: 100%"
          }
        },
        "91c9f6cf4dff4732bdac9aff479774ee": {
          "model_module": "@jupyter-widgets/controls",
          "model_name": "FloatProgressModel",
          "model_module_version": "1.5.0",
          "state": {
            "_dom_classes": [],
            "_model_module": "@jupyter-widgets/controls",
            "_model_module_version": "1.5.0",
            "_model_name": "FloatProgressModel",
            "_view_count": null,
            "_view_module": "@jupyter-widgets/controls",
            "_view_module_version": "1.5.0",
            "_view_name": "ProgressView",
            "bar_style": "success",
            "description": "",
            "description_tooltip": null,
            "layout": "IPY_MODEL_15372fd04c5d460e990ddf99c0387461",
            "max": 231508,
            "min": 0,
            "orientation": "horizontal",
            "style": "IPY_MODEL_5a977370e3a04cf89033733b052550ef",
            "value": 231508
          }
        },
        "cabff613c7dc4042a88cf43424aa8792": {
          "model_module": "@jupyter-widgets/controls",
          "model_name": "HTMLModel",
          "model_module_version": "1.5.0",
          "state": {
            "_dom_classes": [],
            "_model_module": "@jupyter-widgets/controls",
            "_model_module_version": "1.5.0",
            "_model_name": "HTMLModel",
            "_view_count": null,
            "_view_module": "@jupyter-widgets/controls",
            "_view_module_version": "1.5.0",
            "_view_name": "HTMLView",
            "description": "",
            "description_tooltip": null,
            "layout": "IPY_MODEL_9a23100fc9384cbbbe6f67e43d11d103",
            "placeholder": "​",
            "style": "IPY_MODEL_5d4f8ad4d3a54c54a737e106ee78acc6",
            "value": " 232k/232k [00:00&lt;00:00, 9.09MB/s]"
          }
        },
        "40c544956657424fbce1810c3e808860": {
          "model_module": "@jupyter-widgets/base",
          "model_name": "LayoutModel",
          "model_module_version": "1.2.0",
          "state": {
            "_model_module": "@jupyter-widgets/base",
            "_model_module_version": "1.2.0",
            "_model_name": "LayoutModel",
            "_view_count": null,
            "_view_module": "@jupyter-widgets/base",
            "_view_module_version": "1.2.0",
            "_view_name": "LayoutView",
            "align_content": null,
            "align_items": null,
            "align_self": null,
            "border": null,
            "bottom": null,
            "display": null,
            "flex": null,
            "flex_flow": null,
            "grid_area": null,
            "grid_auto_columns": null,
            "grid_auto_flow": null,
            "grid_auto_rows": null,
            "grid_column": null,
            "grid_gap": null,
            "grid_row": null,
            "grid_template_areas": null,
            "grid_template_columns": null,
            "grid_template_rows": null,
            "height": null,
            "justify_content": null,
            "justify_items": null,
            "left": null,
            "margin": null,
            "max_height": null,
            "max_width": null,
            "min_height": null,
            "min_width": null,
            "object_fit": null,
            "object_position": null,
            "order": null,
            "overflow": null,
            "overflow_x": null,
            "overflow_y": null,
            "padding": null,
            "right": null,
            "top": null,
            "visibility": null,
            "width": null
          }
        },
        "71a68c6f868d4b2d8afa1177410cfa98": {
          "model_module": "@jupyter-widgets/base",
          "model_name": "LayoutModel",
          "model_module_version": "1.2.0",
          "state": {
            "_model_module": "@jupyter-widgets/base",
            "_model_module_version": "1.2.0",
            "_model_name": "LayoutModel",
            "_view_count": null,
            "_view_module": "@jupyter-widgets/base",
            "_view_module_version": "1.2.0",
            "_view_name": "LayoutView",
            "align_content": null,
            "align_items": null,
            "align_self": null,
            "border": null,
            "bottom": null,
            "display": null,
            "flex": null,
            "flex_flow": null,
            "grid_area": null,
            "grid_auto_columns": null,
            "grid_auto_flow": null,
            "grid_auto_rows": null,
            "grid_column": null,
            "grid_gap": null,
            "grid_row": null,
            "grid_template_areas": null,
            "grid_template_columns": null,
            "grid_template_rows": null,
            "height": null,
            "justify_content": null,
            "justify_items": null,
            "left": null,
            "margin": null,
            "max_height": null,
            "max_width": null,
            "min_height": null,
            "min_width": null,
            "object_fit": null,
            "object_position": null,
            "order": null,
            "overflow": null,
            "overflow_x": null,
            "overflow_y": null,
            "padding": null,
            "right": null,
            "top": null,
            "visibility": null,
            "width": null
          }
        },
        "8f55a774bba94b8b954845745a0fd59c": {
          "model_module": "@jupyter-widgets/controls",
          "model_name": "DescriptionStyleModel",
          "model_module_version": "1.5.0",
          "state": {
            "_model_module": "@jupyter-widgets/controls",
            "_model_module_version": "1.5.0",
            "_model_name": "DescriptionStyleModel",
            "_view_count": null,
            "_view_module": "@jupyter-widgets/base",
            "_view_module_version": "1.2.0",
            "_view_name": "StyleView",
            "description_width": ""
          }
        },
        "15372fd04c5d460e990ddf99c0387461": {
          "model_module": "@jupyter-widgets/base",
          "model_name": "LayoutModel",
          "model_module_version": "1.2.0",
          "state": {
            "_model_module": "@jupyter-widgets/base",
            "_model_module_version": "1.2.0",
            "_model_name": "LayoutModel",
            "_view_count": null,
            "_view_module": "@jupyter-widgets/base",
            "_view_module_version": "1.2.0",
            "_view_name": "LayoutView",
            "align_content": null,
            "align_items": null,
            "align_self": null,
            "border": null,
            "bottom": null,
            "display": null,
            "flex": null,
            "flex_flow": null,
            "grid_area": null,
            "grid_auto_columns": null,
            "grid_auto_flow": null,
            "grid_auto_rows": null,
            "grid_column": null,
            "grid_gap": null,
            "grid_row": null,
            "grid_template_areas": null,
            "grid_template_columns": null,
            "grid_template_rows": null,
            "height": null,
            "justify_content": null,
            "justify_items": null,
            "left": null,
            "margin": null,
            "max_height": null,
            "max_width": null,
            "min_height": null,
            "min_width": null,
            "object_fit": null,
            "object_position": null,
            "order": null,
            "overflow": null,
            "overflow_x": null,
            "overflow_y": null,
            "padding": null,
            "right": null,
            "top": null,
            "visibility": null,
            "width": null
          }
        },
        "5a977370e3a04cf89033733b052550ef": {
          "model_module": "@jupyter-widgets/controls",
          "model_name": "ProgressStyleModel",
          "model_module_version": "1.5.0",
          "state": {
            "_model_module": "@jupyter-widgets/controls",
            "_model_module_version": "1.5.0",
            "_model_name": "ProgressStyleModel",
            "_view_count": null,
            "_view_module": "@jupyter-widgets/base",
            "_view_module_version": "1.2.0",
            "_view_name": "StyleView",
            "bar_color": null,
            "description_width": ""
          }
        },
        "9a23100fc9384cbbbe6f67e43d11d103": {
          "model_module": "@jupyter-widgets/base",
          "model_name": "LayoutModel",
          "model_module_version": "1.2.0",
          "state": {
            "_model_module": "@jupyter-widgets/base",
            "_model_module_version": "1.2.0",
            "_model_name": "LayoutModel",
            "_view_count": null,
            "_view_module": "@jupyter-widgets/base",
            "_view_module_version": "1.2.0",
            "_view_name": "LayoutView",
            "align_content": null,
            "align_items": null,
            "align_self": null,
            "border": null,
            "bottom": null,
            "display": null,
            "flex": null,
            "flex_flow": null,
            "grid_area": null,
            "grid_auto_columns": null,
            "grid_auto_flow": null,
            "grid_auto_rows": null,
            "grid_column": null,
            "grid_gap": null,
            "grid_row": null,
            "grid_template_areas": null,
            "grid_template_columns": null,
            "grid_template_rows": null,
            "height": null,
            "justify_content": null,
            "justify_items": null,
            "left": null,
            "margin": null,
            "max_height": null,
            "max_width": null,
            "min_height": null,
            "min_width": null,
            "object_fit": null,
            "object_position": null,
            "order": null,
            "overflow": null,
            "overflow_x": null,
            "overflow_y": null,
            "padding": null,
            "right": null,
            "top": null,
            "visibility": null,
            "width": null
          }
        },
        "5d4f8ad4d3a54c54a737e106ee78acc6": {
          "model_module": "@jupyter-widgets/controls",
          "model_name": "DescriptionStyleModel",
          "model_module_version": "1.5.0",
          "state": {
            "_model_module": "@jupyter-widgets/controls",
            "_model_module_version": "1.5.0",
            "_model_name": "DescriptionStyleModel",
            "_view_count": null,
            "_view_module": "@jupyter-widgets/base",
            "_view_module_version": "1.2.0",
            "_view_name": "StyleView",
            "description_width": ""
          }
        },
        "05ee2a7221144e41a04f2007ec18265b": {
          "model_module": "@jupyter-widgets/controls",
          "model_name": "HBoxModel",
          "model_module_version": "1.5.0",
          "state": {
            "_dom_classes": [],
            "_model_module": "@jupyter-widgets/controls",
            "_model_module_version": "1.5.0",
            "_model_name": "HBoxModel",
            "_view_count": null,
            "_view_module": "@jupyter-widgets/controls",
            "_view_module_version": "1.5.0",
            "_view_name": "HBoxView",
            "box_style": "",
            "children": [
              "IPY_MODEL_a529e211e9084950b6b6f5f9a99a026d",
              "IPY_MODEL_88b58bee19a9466b82e5285fc6671a7b",
              "IPY_MODEL_f6afeb995d7d48c081dd7600f759908b"
            ],
            "layout": "IPY_MODEL_9b1b9df2cfc64435a367270af5471e5d"
          }
        },
        "a529e211e9084950b6b6f5f9a99a026d": {
          "model_module": "@jupyter-widgets/controls",
          "model_name": "HTMLModel",
          "model_module_version": "1.5.0",
          "state": {
            "_dom_classes": [],
            "_model_module": "@jupyter-widgets/controls",
            "_model_module_version": "1.5.0",
            "_model_name": "HTMLModel",
            "_view_count": null,
            "_view_module": "@jupyter-widgets/controls",
            "_view_module_version": "1.5.0",
            "_view_name": "HTMLView",
            "description": "",
            "description_tooltip": null,
            "layout": "IPY_MODEL_44c0902659504b228cd1189a79cbb56a",
            "placeholder": "​",
            "style": "IPY_MODEL_3635061f7e764fa2aa70eaed7429fcc6",
            "value": "tokenizer.json: 100%"
          }
        },
        "88b58bee19a9466b82e5285fc6671a7b": {
          "model_module": "@jupyter-widgets/controls",
          "model_name": "FloatProgressModel",
          "model_module_version": "1.5.0",
          "state": {
            "_dom_classes": [],
            "_model_module": "@jupyter-widgets/controls",
            "_model_module_version": "1.5.0",
            "_model_name": "FloatProgressModel",
            "_view_count": null,
            "_view_module": "@jupyter-widgets/controls",
            "_view_module_version": "1.5.0",
            "_view_name": "ProgressView",
            "bar_style": "success",
            "description": "",
            "description_tooltip": null,
            "layout": "IPY_MODEL_85fa62bfd8074be785b624ed60dd408e",
            "max": 466062,
            "min": 0,
            "orientation": "horizontal",
            "style": "IPY_MODEL_0cff31d979534e0294f278798a06f828",
            "value": 466062
          }
        },
        "f6afeb995d7d48c081dd7600f759908b": {
          "model_module": "@jupyter-widgets/controls",
          "model_name": "HTMLModel",
          "model_module_version": "1.5.0",
          "state": {
            "_dom_classes": [],
            "_model_module": "@jupyter-widgets/controls",
            "_model_module_version": "1.5.0",
            "_model_name": "HTMLModel",
            "_view_count": null,
            "_view_module": "@jupyter-widgets/controls",
            "_view_module_version": "1.5.0",
            "_view_name": "HTMLView",
            "description": "",
            "description_tooltip": null,
            "layout": "IPY_MODEL_86874e05629f4f14b859df0793e7cb56",
            "placeholder": "​",
            "style": "IPY_MODEL_fe092ae17ab542e7a9fea857cf722d58",
            "value": " 466k/466k [00:00&lt;00:00, 16.1MB/s]"
          }
        },
        "9b1b9df2cfc64435a367270af5471e5d": {
          "model_module": "@jupyter-widgets/base",
          "model_name": "LayoutModel",
          "model_module_version": "1.2.0",
          "state": {
            "_model_module": "@jupyter-widgets/base",
            "_model_module_version": "1.2.0",
            "_model_name": "LayoutModel",
            "_view_count": null,
            "_view_module": "@jupyter-widgets/base",
            "_view_module_version": "1.2.0",
            "_view_name": "LayoutView",
            "align_content": null,
            "align_items": null,
            "align_self": null,
            "border": null,
            "bottom": null,
            "display": null,
            "flex": null,
            "flex_flow": null,
            "grid_area": null,
            "grid_auto_columns": null,
            "grid_auto_flow": null,
            "grid_auto_rows": null,
            "grid_column": null,
            "grid_gap": null,
            "grid_row": null,
            "grid_template_areas": null,
            "grid_template_columns": null,
            "grid_template_rows": null,
            "height": null,
            "justify_content": null,
            "justify_items": null,
            "left": null,
            "margin": null,
            "max_height": null,
            "max_width": null,
            "min_height": null,
            "min_width": null,
            "object_fit": null,
            "object_position": null,
            "order": null,
            "overflow": null,
            "overflow_x": null,
            "overflow_y": null,
            "padding": null,
            "right": null,
            "top": null,
            "visibility": null,
            "width": null
          }
        },
        "44c0902659504b228cd1189a79cbb56a": {
          "model_module": "@jupyter-widgets/base",
          "model_name": "LayoutModel",
          "model_module_version": "1.2.0",
          "state": {
            "_model_module": "@jupyter-widgets/base",
            "_model_module_version": "1.2.0",
            "_model_name": "LayoutModel",
            "_view_count": null,
            "_view_module": "@jupyter-widgets/base",
            "_view_module_version": "1.2.0",
            "_view_name": "LayoutView",
            "align_content": null,
            "align_items": null,
            "align_self": null,
            "border": null,
            "bottom": null,
            "display": null,
            "flex": null,
            "flex_flow": null,
            "grid_area": null,
            "grid_auto_columns": null,
            "grid_auto_flow": null,
            "grid_auto_rows": null,
            "grid_column": null,
            "grid_gap": null,
            "grid_row": null,
            "grid_template_areas": null,
            "grid_template_columns": null,
            "grid_template_rows": null,
            "height": null,
            "justify_content": null,
            "justify_items": null,
            "left": null,
            "margin": null,
            "max_height": null,
            "max_width": null,
            "min_height": null,
            "min_width": null,
            "object_fit": null,
            "object_position": null,
            "order": null,
            "overflow": null,
            "overflow_x": null,
            "overflow_y": null,
            "padding": null,
            "right": null,
            "top": null,
            "visibility": null,
            "width": null
          }
        },
        "3635061f7e764fa2aa70eaed7429fcc6": {
          "model_module": "@jupyter-widgets/controls",
          "model_name": "DescriptionStyleModel",
          "model_module_version": "1.5.0",
          "state": {
            "_model_module": "@jupyter-widgets/controls",
            "_model_module_version": "1.5.0",
            "_model_name": "DescriptionStyleModel",
            "_view_count": null,
            "_view_module": "@jupyter-widgets/base",
            "_view_module_version": "1.2.0",
            "_view_name": "StyleView",
            "description_width": ""
          }
        },
        "85fa62bfd8074be785b624ed60dd408e": {
          "model_module": "@jupyter-widgets/base",
          "model_name": "LayoutModel",
          "model_module_version": "1.2.0",
          "state": {
            "_model_module": "@jupyter-widgets/base",
            "_model_module_version": "1.2.0",
            "_model_name": "LayoutModel",
            "_view_count": null,
            "_view_module": "@jupyter-widgets/base",
            "_view_module_version": "1.2.0",
            "_view_name": "LayoutView",
            "align_content": null,
            "align_items": null,
            "align_self": null,
            "border": null,
            "bottom": null,
            "display": null,
            "flex": null,
            "flex_flow": null,
            "grid_area": null,
            "grid_auto_columns": null,
            "grid_auto_flow": null,
            "grid_auto_rows": null,
            "grid_column": null,
            "grid_gap": null,
            "grid_row": null,
            "grid_template_areas": null,
            "grid_template_columns": null,
            "grid_template_rows": null,
            "height": null,
            "justify_content": null,
            "justify_items": null,
            "left": null,
            "margin": null,
            "max_height": null,
            "max_width": null,
            "min_height": null,
            "min_width": null,
            "object_fit": null,
            "object_position": null,
            "order": null,
            "overflow": null,
            "overflow_x": null,
            "overflow_y": null,
            "padding": null,
            "right": null,
            "top": null,
            "visibility": null,
            "width": null
          }
        },
        "0cff31d979534e0294f278798a06f828": {
          "model_module": "@jupyter-widgets/controls",
          "model_name": "ProgressStyleModel",
          "model_module_version": "1.5.0",
          "state": {
            "_model_module": "@jupyter-widgets/controls",
            "_model_module_version": "1.5.0",
            "_model_name": "ProgressStyleModel",
            "_view_count": null,
            "_view_module": "@jupyter-widgets/base",
            "_view_module_version": "1.2.0",
            "_view_name": "StyleView",
            "bar_color": null,
            "description_width": ""
          }
        },
        "86874e05629f4f14b859df0793e7cb56": {
          "model_module": "@jupyter-widgets/base",
          "model_name": "LayoutModel",
          "model_module_version": "1.2.0",
          "state": {
            "_model_module": "@jupyter-widgets/base",
            "_model_module_version": "1.2.0",
            "_model_name": "LayoutModel",
            "_view_count": null,
            "_view_module": "@jupyter-widgets/base",
            "_view_module_version": "1.2.0",
            "_view_name": "LayoutView",
            "align_content": null,
            "align_items": null,
            "align_self": null,
            "border": null,
            "bottom": null,
            "display": null,
            "flex": null,
            "flex_flow": null,
            "grid_area": null,
            "grid_auto_columns": null,
            "grid_auto_flow": null,
            "grid_auto_rows": null,
            "grid_column": null,
            "grid_gap": null,
            "grid_row": null,
            "grid_template_areas": null,
            "grid_template_columns": null,
            "grid_template_rows": null,
            "height": null,
            "justify_content": null,
            "justify_items": null,
            "left": null,
            "margin": null,
            "max_height": null,
            "max_width": null,
            "min_height": null,
            "min_width": null,
            "object_fit": null,
            "object_position": null,
            "order": null,
            "overflow": null,
            "overflow_x": null,
            "overflow_y": null,
            "padding": null,
            "right": null,
            "top": null,
            "visibility": null,
            "width": null
          }
        },
        "fe092ae17ab542e7a9fea857cf722d58": {
          "model_module": "@jupyter-widgets/controls",
          "model_name": "DescriptionStyleModel",
          "model_module_version": "1.5.0",
          "state": {
            "_model_module": "@jupyter-widgets/controls",
            "_model_module_version": "1.5.0",
            "_model_name": "DescriptionStyleModel",
            "_view_count": null,
            "_view_module": "@jupyter-widgets/base",
            "_view_module_version": "1.2.0",
            "_view_name": "StyleView",
            "description_width": ""
          }
        }
      }
    }
  },
  "cells": [
    {
      "cell_type": "code",
      "execution_count": 1,
      "metadata": {
        "colab": {
          "base_uri": "https://localhost:8080/",
          "height": 466
        },
        "id": "j3teCVoLaKrr",
        "outputId": "30bceda2-482a-462a-9c3e-dcf1c29cd8cd"
      },
      "outputs": [
        {
          "output_type": "stream",
          "name": "stdout",
          "text": [
            "準確率: 0.7555555555555555\n"
          ]
        },
        {
          "output_type": "display_data",
          "data": {
            "text/plain": [
              "<Figure size 2000x1000 with 1 Axes>"
            ],
            "image/png": "[encoded data removed]"
          },
          "metadata": {}
        }
      ],
      "source": [
        "#決策樹分類器\n",
        "import numpy as np\n",
        "import matplotlib.pyplot as plt\n",
        "from sklearn import datasets\n",
        "from sklearn.model_selection import train_test_split\n",
        "from sklearn.tree import DecisionTreeClassifier\n",
        "from sklearn.metrics import accuracy_score\n",
        "from sklearn.tree import plot_tree\n",
        "\n",
        "# 加載數據集\n",
        "iris = datasets.load_iris()\n",
        "X = iris.data[:, :2]  # 取前兩個特徵\n",
        "y = iris.target\n",
        "\n",
        "# 將數據集分為訓練集和測試集\n",
        "X_train, X_test, y_train, y_test = train_test_split(X, y, test_size=0.3, random_state=42)\n",
        "\n",
        "# 訓練決策樹模型\n",
        "tree = DecisionTreeClassifier(max_depth=3)\n",
        "tree.fit(X_train, y_train)\n",
        "\n",
        "# 預測\n",
        "y_pred = tree.predict(X_test)\n",
        "\n",
        "# 計算準確率\n",
        "accuracy = accuracy_score(y_test, y_pred)\n",
        "print(f\"準確率: {accuracy}\")\n",
        "\n",
        "# 繪製決策樹\n",
        "plt.figure(figsize=(20,10))\n",
        "plot_tree(tree, filled=True, feature_names=iris.feature_names[:2], class_names=iris.target_names)\n",
        "plt.show()"
      ]
    },
    {
      "cell_type": "code",
      "source": [
        "#隨機森林\n",
        "from sklearn.ensemble import RandomForestClassifier\n",
        "\n",
        "# 訓練隨機森林模型\n",
        "forest = RandomForestClassifier(n_estimators=100, max_depth=3, random_state=42)\n",
        "forest.fit(X_train, y_train)\n",
        "\n",
        "# 預測\n",
        "y_pred_forest = forest.predict(X_test)\n",
        "\n",
        "# 計算準確率\n",
        "accuracy_forest = accuracy_score(y_test, y_pred_forest)\n",
        "print(f\"隨機森林準確率: {accuracy_forest}\")\n",
        "\n",
        "# 繪製隨機森林中的一棵樹\n",
        "plt.figure(figsize=(20,10))\n",
        "plot_tree(forest.estimators_[0], filled=True, feature_names=iris.feature_names[:2], class_names=iris.target_names)\n",
        "plt.show()"
      ],
      "metadata": {
        "colab": {
          "base_uri": "https://localhost:8080/",
          "height": 466
        },
        "id": "sWsCE1YDaThW",
        "outputId": "e891d67b-a079-4458-f167-35e3fb8dd60b"
      },
      "execution_count": 2,
      "outputs": [
        {
          "output_type": "stream",
          "name": "stdout",
          "text": [
            "隨機森林準確率: 0.7777777777777778\n"
          ]
        },
        {
          "output_type": "display_data",
          "data": {
            "text/plain": [
              "<Figure size 2000x1000 with 1 Axes>"
            ],
            "image/png": "[encoded data removed]"
          },
          "metadata": {}
        }
      ]
    },
    {
      "cell_type": "code",
      "source": [
        "#MapReduce應用\n",
        "from mrjob.job import MRJob\n",
        "from mrjob.step import MRStep\n",
        "\n",
        "class MRWordCount(MRJob):\n",
        "\n",
        "    def steps(self):\n",
        "        return [\n",
        "            MRStep(mapper=self.mapper_get_words,\n",
        "                   reducer=self.reducer_count_words)\n",
        "        ]\n",
        "\n",
        "    def mapper_get_words(self, _, line):\n",
        "        # 將每一行的單詞拆分\n",
        "        for word in line.split():\n",
        "            yield word.lower(), 1\n",
        "\n",
        "    def reducer_count_words(self, word, counts):\n",
        "        # 將具有相同單詞的值相加\n",
        "        yield word, sum(counts)\n",
        "\n",
        "if __name__ == '__main__':\n",
        "    MRWordCount.run()"
      ],
      "metadata": {
        "colab": {
          "base_uri": "https://localhost:8080/",
          "height": 178
        },
        "id": "iNDC4qT6agfG",
        "outputId": "04a1c6f3-74db-4fbe-a585-daa338aed1e4"
      },
      "execution_count": 5,
      "outputs": [
        {
          "output_type": "stream",
          "name": "stderr",
          "text": [
            "usage: colab_kernel_launcher.py [options] [input files]\n",
            "colab_kernel_launcher.py: error: unrecognized arguments: -f\n"
          ]
        },
        {
          "output_type": "error",
          "ename": "SystemExit",
          "evalue": "2",
          "traceback": [
            "An exception has occurred, use %tb to see the full traceback.\n",
            "\u001b[0;31mSystemExit\u001b[0m\u001b[0;31m:\u001b[0m 2\n"
          ]
        },
        {
          "output_type": "stream",
          "name": "stderr",
          "text": [
            "/usr/local/lib/python3.10/dist-packages/IPython/core/interactiveshell.py:3561: UserWarning: To exit: use 'exit', 'quit', or Ctrl-D.\n",
            "  warn(\"To exit: use 'exit', 'quit', or Ctrl-D.\", stacklevel=1)\n"
          ]
        }
      ]
    },
    {
      "cell_type": "code",
      "source": [],
      "metadata": {
        "id": "sFiG2R3scWoO"
      },
      "execution_count": null,
      "outputs": []
    },
    {
      "cell_type": "code",
      "source": [
        "pip install mrjob\n",
        "\n"
      ],
      "metadata": {
        "colab": {
          "base_uri": "https://localhost:8080/"
        },
        "id": "60IDQ10aaoke",
        "outputId": "90a2cf29-ac48-472d-cb28-642771128ff9"
      },
      "execution_count": 4,
      "outputs": [
        {
          "output_type": "stream",
          "name": "stdout",
          "text": [
            "Collecting mrjob\n",
            "  Downloading mrjob-0.7.4-py2.py3-none-any.whl.metadata (7.3 kB)\n",
            "Requirement already satisfied: PyYAML>=3.10 in /usr/local/lib/python3.10/dist-packages (from mrjob) (6.0.1)\n",
            "Downloading mrjob-0.7.4-py2.py3-none-any.whl (439 kB)\n",
            "\u001b[?25l   \u001b[90m━━━━━━━━━━━━━━━━━━━━━━━━━━━━━━━━━━━━━━━━\u001b[0m \u001b[32m0.0/439.6 kB\u001b[0m \u001b[31m?\u001b[0m eta \u001b[36m-:--:--\u001b[0m\r\u001b[2K   \u001b[90m━━━━━━━━━━━━━━━━━━━━━━━━━━━━━━━━━━━━━━━━\u001b[0m \u001b[32m439.6/439.6 kB\u001b[0m \u001b[31m19.3 MB/s\u001b[0m eta \u001b[36m0:00:00\u001b[0m\n",
            "\u001b[?25hInstalling collected packages: mrjob\n",
            "Successfully installed mrjob-0.7.4\n"
          ]
        }
      ]
    },
    {
      "cell_type": "code",
      "source": [
        "#哈希表\n",
        "class HashTable:\n",
        "    def __init__(self, size):\n",
        "        self.size = size\n",
        "        self.table = [[] for _ in range(size)]\n",
        "\n",
        "    def hash_function(self, key):\n",
        "        return hash(key) % self.size\n",
        "\n",
        "    def insert(self, key, value):\n",
        "        index = self.hash_function(key)\n",
        "        for kvp in self.table[index]:\n",
        "            if kvp[0] == key:\n",
        "                kvp[1] = value\n",
        "                return\n",
        "        self.table[index].append([key, value])\n",
        "\n",
        "    def search(self, key):\n",
        "        index = self.hash_function(key)\n",
        "        for kvp in self.table[index]:\n",
        "            if kvp[0] == key:\n",
        "                return kvp[1]\n",
        "        return None\n",
        "\n",
        "    def delete(self, key):\n",
        "        index = self.hash_function(key)\n",
        "        for i, kvp in enumerate(self.table[index]):\n",
        "            if kvp[0] == key:\n",
        "                del self.table[index][i]\n",
        "                return True\n",
        "        return False\n",
        "\n",
        "# 測試哈希表\n",
        "hash_table = HashTable(10)\n",
        "hash_table.insert(\"apple\", 10)\n",
        "hash_table.insert(\"banana\", 20)\n",
        "hash_table.insert(\"grape\", 30)\n",
        "\n",
        "print(hash_table.search(\"apple\"))  # 輸出: 10\n",
        "print(hash_table.search(\"banana\"))  # 輸出: 20\n",
        "print(hash_table.search(\"grape\"))  # 輸出: 30\n",
        "\n",
        "hash_table.delete(\"banana\")\n",
        "print(hash_table.search(\"banana\"))  # 輸出: None"
      ],
      "metadata": {
        "colab": {
          "base_uri": "https://localhost:8080/"
        },
        "id": "hXbW5DNucbP-",
        "outputId": "628151a3-37a8-4df2-9085-d893c8b9d2d2"
      },
      "execution_count": 6,
      "outputs": [
        {
          "output_type": "stream",
          "name": "stdout",
          "text": [
            "10\n",
            "20\n",
            "30\n",
            "None\n"
          ]
        }
      ]
    },
    {
      "cell_type": "code",
      "source": [
        "#支持動態擴容的哈希表\n",
        "class DynamicHashTable:\n",
        "    def __init__(self, initial_size=10):\n",
        "        self.size = initial_size\n",
        "        self.table = [[] for _ in range(self.size)]\n",
        "        self.count = 0\n",
        "\n",
        "    def hash_function(self, key):\n",
        "        return hash(key) % self.size\n",
        "\n",
        "    def insert(self, key, value):\n",
        "        if self.count / self.size > 0.7:\n",
        "            self.resize(self.size * 2)\n",
        "        index = self.hash_function(key)\n",
        "        for kvp in self.table[index]:\n",
        "            if kvp[0] == key:\n",
        "                kvp[1] = value\n",
        "                return\n",
        "        self.table[index].append([key, value])\n",
        "        self.count += 1\n",
        "\n",
        "    def search(self, key):\n",
        "        index = self.hash_function(key)\n",
        "        for kvp in self.table[index]:\n",
        "            if kvp[0] == key:\n",
        "                return kvp[1]\n",
        "        return None\n",
        "\n",
        "    def delete(self, key):\n",
        "        index = self.hash_function(key)\n",
        "        for i, kvp in enumerate(self.table[index]):\n",
        "            if kvp[0] == key:\n",
        "                del self.table[index][i]\n",
        "                self.count -= 1\n",
        "                if self.count / self.size < 0.2 and self.size > 10:\n",
        "                    self.resize(self.size // 2)\n",
        "                return True\n",
        "        return False\n",
        "\n",
        "    def resize(self, new_size):\n",
        "        old_table = self.table\n",
        "        self.size = new_size\n",
        "        self.table = [[] for _ in range(self.size)]\n",
        "        self.count = 0\n",
        "        for bucket in old_table:\n",
        "            for kvp in bucket:\n",
        "                self.insert(kvp[0], kvp[1])\n",
        "# 測試動態擴容的哈希表\n",
        "dynamic_hash_table = DynamicHashTable()\n",
        "for i in range(20):\n",
        "    dynamic_hash_table.insert(f\"key{i}\", i)\n",
        "\n",
        "for i in range(20):\n",
        "    print(dynamic_hash_table.search(f\"key{i}\"))  # 輸出: 0, 1, 2, ..., 19\n",
        "\n",
        "dynamic_hash_table.delete(\"key5\")\n",
        "print(dynamic_hash_table.search(\"key5\"))  # 輸出: None"
      ],
      "metadata": {
        "colab": {
          "base_uri": "https://localhost:8080/"
        },
        "id": "saMr-B-qiNXf",
        "outputId": "3f21780c-da80-44e2-cdfc-8a4884fe11ce"
      },
      "execution_count": 48,
      "outputs": [
        {
          "output_type": "stream",
          "name": "stdout",
          "text": [
            "0\n",
            "1\n",
            "2\n",
            "3\n",
            "4\n",
            "5\n",
            "6\n",
            "7\n",
            "8\n",
            "9\n",
            "10\n",
            "11\n",
            "12\n",
            "13\n",
            "14\n",
            "15\n",
            "16\n",
            "17\n",
            "18\n",
            "19\n",
            "None\n"
          ]
        }
      ]
    },
    {
      "cell_type": "code",
      "source": [
        "#霍夫曼編碼和解碼\n",
        "import heapq\n",
        "from collections import defaultdict\n",
        "\n",
        "# 定義霍夫曼節點類\n",
        "class HuffmanNode:\n",
        "    def __init__(self, char=None, freq=0):\n",
        "        self.char = char\n",
        "        self.freq = freq\n",
        "        self.left = None\n",
        "        self.right = None\n",
        "\n",
        "    # 定義比較運算符以便於優先佇列操作\n",
        "    def __lt__(self, other):\n",
        "        return self.freq < other.freq\n",
        "\n",
        "# 構建霍夫曼樹\n",
        "def build_huffman_tree(frequencies):\n",
        "    priority_queue = [HuffmanNode(char, freq) for char, freq in frequencies.items()]\n",
        "    heapq.heapify(priority_queue)\n",
        "\n",
        "    while len(priority_queue) > 1:\n",
        "        left = heapq.heappop(priority_queue)\n",
        "        right = heapq.heappop(priority_queue)\n",
        "        merged = HuffmanNode(freq=left.freq + right.freq)\n",
        "        merged.left = left\n",
        "        merged.right = right\n",
        "        heapq.heappush(priority_queue, merged)\n",
        "\n",
        "    return priority_queue[0]\n",
        "\n",
        "# 生成霍夫曼編碼\n",
        "def generate_huffman_codes(root):\n",
        "    huffman_codes = {}\n",
        "\n",
        "    def generate_codes_helper(node, current_code):\n",
        "        if node is not None:\n",
        "            if node.char is not None:\n",
        "                huffman_codes[node.char] = current_code\n",
        "            generate_codes_helper(node.left, current_code + \"0\")\n",
        "            generate_codes_helper(node.right, current_code + \"1\")\n",
        "\n",
        "    generate_codes_helper(root, \"\")\n",
        "    return huffman_codes\n",
        "\n",
        "# 編碼\n",
        "def huffman_encode(data, huffman_codes):\n",
        "    return \"\".join(huffman_codes[char] for char in data)\n",
        "\n",
        "# 解碼\n",
        "def huffman_decode(encoded_data, root):\n",
        "    decoded_data = []\n",
        "    current_node = root\n",
        "    for bit in encoded_data:\n",
        "        current_node = current_node.left if bit == \"0\" else current_node.right\n",
        "        if current_node.char is not None:\n",
        "            decoded_data.append(current_node.char)\n",
        "            current_node = root\n",
        "    return \"\".join(decoded_data)\n",
        "\n",
        "# 測試霍夫曼編碼和解碼\n",
        "data = \"hello huffman\"\n",
        "frequencies = defaultdict(int)\n",
        "for char in data:\n",
        "    frequencies[char] += 1\n",
        "\n",
        "huffman_tree = build_huffman_tree(frequencies)\n",
        "huffman_codes = generate_huffman_codes(huffman_tree)\n",
        "\n",
        "encoded_data = huffman_encode(data, huffman_codes)\n",
        "decoded_data = huffman_decode(encoded_data, huffman_tree)\n",
        "\n",
        "print(\"原始數據:\", data)\n",
        "print(\"編碼後數據:\", encoded_data)\n",
        "print(\"解碼後數據:\", decoded_data)"
      ],
      "metadata": {
        "colab": {
          "base_uri": "https://localhost:8080/"
        },
        "id": "Br8xsF19ckMF",
        "outputId": "f7ac8c57-8b5d-484f-d040-53ee2f10f1f0"
      },
      "execution_count": 8,
      "outputs": [
        {
          "output_type": "stream",
          "name": "stdout",
          "text": [
            "原始數據: hello huffman\n",
            "編碼後數據: 0011111001001010111000110001101101010111101\n",
            "解碼後數據: hello huffman\n"
          ]
        }
      ]
    },
    {
      "cell_type": "code",
      "source": [
        "#自適應霍夫曼編碼\n",
        "class AdaptiveHuffmanNode:\n",
        "    def __init__(self, char=None, freq=0):\n",
        "        self.char = char\n",
        "        self.freq = freq\n",
        "        self.left = None\n",
        "        self.right = None\n",
        "        self.parent = None\n",
        "\n",
        "class AdaptiveHuffmanTree:\n",
        "    def __init__(self):\n",
        "        self.root = AdaptiveHuffmanNode()\n",
        "        self.nodes = {}\n",
        "\n",
        "    def update(self, char):\n",
        "        if char in self.nodes:\n",
        "            node = self.nodes[char]\n",
        "            node.freq += 1\n",
        "            self._reorder(node)\n",
        "        else:\n",
        "            new_node = AdaptiveHuffmanNode(char, 1)\n",
        "            self.nodes[char] = new_node\n",
        "            if self.root.char is None:\n",
        "                self.root = new_node\n",
        "            else:\n",
        "                combined_node = AdaptiveHuffmanNode(freq=1)\n",
        "                combined_node.left = self.root\n",
        "                combined_node.right = new_node\n",
        "                new_node.parent = combined_node\n",
        "                self.root.parent = combined_node\n",
        "                self.root = combined_node\n",
        "                self._reorder(new_node)\n",
        "\n",
        "    def _reorder(self, node):\n",
        "        while node.parent is not None and node.freq > node.parent.freq:\n",
        "            parent = node.parent\n",
        "            if parent.left == node:\n",
        "                parent.left, parent.right = parent.right, parent.left\n",
        "            node.freq, parent.freq = parent.freq, node.freq\n",
        "            node = parent\n",
        "\n",
        "    def encode(self, data):\n",
        "        encoded_data = []\n",
        "        for char in data:\n",
        "            self.update(char)\n",
        "            encoded_data.append(self._get_code(self.nodes[char]))\n",
        "        return ''.join(encoded_data)\n",
        "\n",
        "    def _get_code(self, node):\n",
        "        code = []\n",
        "        while node.parent is not None:\n",
        "            if node.parent.left == node:\n",
        "                code.append('0')\n",
        "            else:\n",
        "                code.append('1')\n",
        "            node = node.parent\n",
        "        return ''.join(reversed(code))\n",
        "\n",
        "# 測試自適應霍夫曼編碼\n",
        "adaptive_tree = AdaptiveHuffmanTree()\n",
        "data = \"hello huffman\"\n",
        "encoded_data = adaptive_tree.encode(data)\n",
        "print(\"原始數據:\", data)\n",
        "print(\"編碼後數據:\", encoded_data)"
      ],
      "metadata": {
        "colab": {
          "base_uri": "https://localhost:8080/"
        },
        "id": "rnV1xGCWcwtm",
        "outputId": "ec595af5-ccde-4a6d-bbcf-ea065e705fb1"
      },
      "execution_count": 10,
      "outputs": [
        {
          "output_type": "stream",
          "name": "stdout",
          "text": [
            "原始數據: hello huffman\n",
            "編碼後數據: 111111\n"
          ]
        }
      ]
    },
    {
      "cell_type": "code",
      "source": [
        "#Paxos協議\n",
        "import threading\n",
        "\n",
        "class Acceptor:\n",
        "    def __init__(self):\n",
        "        self.promised_n = None\n",
        "        self.accepted_n = None\n",
        "        self.accepted_value = None\n",
        "\n",
        "    def prepare(self, n):\n",
        "        if self.promised_n is None or n > self.promised_n:\n",
        "            self.promised_n = n\n",
        "            return True, self.accepted_n, self.accepted_value\n",
        "        return False, self.accepted_n, self.accepted_value\n",
        "\n",
        "    def accept(self, n, value):\n",
        "        if self.promised_n is None or n >= self.promised_n:\n",
        "            self.accepted_n = n\n",
        "            self.accepted_value = value\n",
        "            return True\n",
        "        return False\n",
        "\n",
        "class Proposer:\n",
        "    def __init__(self, id, acceptors):\n",
        "        self.id = id\n",
        "        self.n = 0\n",
        "        self.acceptors = acceptors\n",
        "\n",
        "    def propose(self, value):\n",
        "        self.n += 1\n",
        "        promises = []\n",
        "        for acceptor in self.acceptors:\n",
        "            promise, accepted_n, accepted_value = acceptor.prepare(self.n)\n",
        "            if promise:\n",
        "                promises.append((accepted_n, accepted_value))\n",
        "\n",
        "        if len(promises) > len(self.acceptors) // 2:\n",
        "            accepted_value = value\n",
        "            for accepted_n, val in promises:\n",
        "                if val is not None:\n",
        "                    accepted_value = val\n",
        "            accept_count = 0\n",
        "            for acceptor in self.acceptors:\n",
        "                if acceptor.accept(self.n, accepted_value):\n",
        "                    accept_count += 1\n",
        "            if accept_count > len(self.acceptors) // 2:\n",
        "                return accepted_value\n",
        "        return None\n",
        "\n",
        "class Learner:\n",
        "    def __init__(self):\n",
        "        self.decided_value = None\n",
        "\n",
        "    def learn(self, value):\n",
        "        self.decided_value = value\n",
        "        print(f\"學習者達成一致決策: {value}\")\n",
        " # 測試Paxos協議\n",
        "acceptors = [Acceptor() for _ in range(5)]\n",
        "proposers = [Proposer(i, acceptors) for i in range(3)]\n",
        "learner = Learner()\n",
        "\n",
        "def proposer_thread(proposer, value):\n",
        "    result = proposer.propose(value)\n",
        "    if result is not None:\n",
        "        learner.learn(result)\n",
        "\n",
        "threads = []\n",
        "for proposer in proposers:\n",
        "    t = threading.Thread(target=proposer_thread, args=(proposer, f\"Value from proposer {proposer.id}\"))\n",
        "    threads.append(t)\n",
        "    t.start()\n",
        "\n",
        "for t in threads:\n",
        "    t.join()"
      ],
      "metadata": {
        "colab": {
          "base_uri": "https://localhost:8080/"
        },
        "id": "jnsezP2dc3Ue",
        "outputId": "16bdebff-5bfd-4e4e-f834-4571f2746ae7"
      },
      "execution_count": 11,
      "outputs": [
        {
          "output_type": "stream",
          "name": "stdout",
          "text": [
            "學習者達成一致決策: Value from proposer 0\n"
          ]
        }
      ]
    },
    {
      "cell_type": "code",
      "source": [
        "#SVM分類器\n",
        "import numpy as np\n",
        "import matplotlib.pyplot as plt\n",
        "from sklearn import datasets\n",
        "from sklearn.model_selection import train_test_split\n",
        "from sklearn.svm import SVC\n",
        "from sklearn.metrics import accuracy_score\n",
        "\n",
        "# 加載Iris數據集\n",
        "iris = datasets.load_iris()\n",
        "X = iris.data[:, :2]  # 取前兩個特徵\n",
        "y = iris.target\n",
        "\n",
        "# 將數據集分為訓練集和測試集\n",
        "X_train, X_test, y_train, y_test = train_test_split(X, y, test_size=0.3, random_state=42)\n",
        "\n",
        "# 訓練SVM模型\n",
        "svm = SVC(kernel='linear')\n",
        "svm.fit(X_train, y_train)\n",
        "\n",
        "# 預測\n",
        "y_pred = svm.predict(X_test)\n",
        "\n",
        "# 計算準確率\n",
        "accuracy = accuracy_score(y_test, y_pred)\n",
        "print(f\"準確率: {accuracy}\")\n",
        "\n",
        "# 繪製分類結果\n",
        "def plot_decision_boundary(X, y, model, title):\n",
        "    x_min, x_max = X[:, 0].min() - 1, X[:, 0].max() + 1\n",
        "    y_min, y_max = X[:, 1].min() - 1, X[:, 1].max() + 1\n",
        "    xx, yy = np.meshgrid(np.arange(x_min, x_max, 0.1),\n",
        "                         np.arange(y_min, y_max, 0.1))\n",
        "    Z = model.predict(np.c_[xx.ravel(), yy.ravel()])\n",
        "    Z = Z.reshape(xx.shape)\n",
        "\n",
        "    plt.contourf(xx, yy, Z, alpha=0.3)\n",
        "    plt.scatter(X[:, 0], X[:, 1], c=y, edgecolors='k', marker='o')\n",
        "    plt.xlabel('Sepal length')\n",
        "    plt.ylabel('Sepal width')\n",
        "    plt.title(title)\n",
        "    plt.show()\n",
        "\n",
        "plot_decision_boundary(X_test, y_test, svm, \"SVM 分類決策邊界 (線性核)\")"
      ],
      "metadata": {
        "colab": {
          "base_uri": "https://localhost:8080/",
          "height": 822
        },
        "id": "IhDfgY7HdCG1",
        "outputId": "93bcedaf-2672-4744-f9bc-ab573cdcc7eb"
      },
      "execution_count": 12,
      "outputs": [
        {
          "output_type": "stream",
          "name": "stdout",
          "text": [
            "準確率: 0.8\n"
          ]
        },
        {
          "output_type": "stream",
          "name": "stderr",
          "text": [
            "/usr/local/lib/python3.10/dist-packages/IPython/core/pylabtools.py:151: UserWarning: Glyph 20998 (\\N{CJK UNIFIED IDEOGRAPH-5206}) missing from current font.\n",
            "  fig.canvas.print_figure(bytes_io, **kw)\n",
            "/usr/local/lib/python3.10/dist-packages/IPython/core/pylabtools.py:151: UserWarning: Glyph 39006 (\\N{CJK UNIFIED IDEOGRAPH-985E}) missing from current font.\n",
            "  fig.canvas.print_figure(bytes_io, **kw)\n",
            "/usr/local/lib/python3.10/dist-packages/IPython/core/pylabtools.py:151: UserWarning: Glyph 27770 (\\N{CJK UNIFIED IDEOGRAPH-6C7A}) missing from current font.\n",
            "  fig.canvas.print_figure(bytes_io, **kw)\n",
            "/usr/local/lib/python3.10/dist-packages/IPython/core/pylabtools.py:151: UserWarning: Glyph 31574 (\\N{CJK UNIFIED IDEOGRAPH-7B56}) missing from current font.\n",
            "  fig.canvas.print_figure(bytes_io, **kw)\n",
            "/usr/local/lib/python3.10/dist-packages/IPython/core/pylabtools.py:151: UserWarning: Glyph 37002 (\\N{CJK UNIFIED IDEOGRAPH-908A}) missing from current font.\n",
            "  fig.canvas.print_figure(bytes_io, **kw)\n",
            "/usr/local/lib/python3.10/dist-packages/IPython/core/pylabtools.py:151: UserWarning: Glyph 30028 (\\N{CJK UNIFIED IDEOGRAPH-754C}) missing from current font.\n",
            "  fig.canvas.print_figure(bytes_io, **kw)\n",
            "/usr/local/lib/python3.10/dist-packages/IPython/core/pylabtools.py:151: UserWarning: Glyph 32218 (\\N{CJK UNIFIED IDEOGRAPH-7DDA}) missing from current font.\n",
            "  fig.canvas.print_figure(bytes_io, **kw)\n",
            "/usr/local/lib/python3.10/dist-packages/IPython/core/pylabtools.py:151: UserWarning: Glyph 24615 (\\N{CJK UNIFIED IDEOGRAPH-6027}) missing from current font.\n",
            "  fig.canvas.print_figure(bytes_io, **kw)\n",
            "/usr/local/lib/python3.10/dist-packages/IPython/core/pylabtools.py:151: UserWarning: Glyph 26680 (\\N{CJK UNIFIED IDEOGRAPH-6838}) missing from current font.\n",
            "  fig.canvas.print_figure(bytes_io, **kw)\n"
          ]
        },
        {
          "output_type": "display_data",
          "data": {
            "text/plain": [
              "<Figure size 640x480 with 1 Axes>"
            ],
            "image/png": "[encoded data removed]"
          },
          "metadata": {}
        }
      ]
    },
    {
      "cell_type": "code",
      "source": [
        "# 訓練RBF核的SVM模型\n",
        "svm_rbf = SVC(kernel='rbf', gamma='scale')\n",
        "svm_rbf.fit(X_train, y_train)\n",
        "\n",
        "# 預測\n",
        "y_pred_rbf = svm_rbf.predict(X_test)\n",
        "\n",
        "# 計算準確率\n",
        "accuracy_rbf = accuracy_score(y_test, y_pred_rbf)\n",
        "print(f\"RBF核SVM準確率: {accuracy_rbf}\")\n",
        "\n",
        "# 繪製分類結果\n",
        "plot_decision_boundary(X_test, y_test, svm_rbf, \"SVM 分類決策邊界 (RBF核)\")"
      ],
      "metadata": {
        "colab": {
          "base_uri": "https://localhost:8080/",
          "height": 752
        },
        "id": "HQW405-7dK6t",
        "outputId": "311f1d5c-4fbd-4f09-9e27-ecbb6607b222"
      },
      "execution_count": 13,
      "outputs": [
        {
          "output_type": "stream",
          "name": "stdout",
          "text": [
            "RBF核SVM準確率: 0.8\n"
          ]
        },
        {
          "output_type": "stream",
          "name": "stderr",
          "text": [
            "/usr/local/lib/python3.10/dist-packages/IPython/core/pylabtools.py:151: UserWarning: Glyph 20998 (\\N{CJK UNIFIED IDEOGRAPH-5206}) missing from current font.\n",
            "  fig.canvas.print_figure(bytes_io, **kw)\n",
            "/usr/local/lib/python3.10/dist-packages/IPython/core/pylabtools.py:151: UserWarning: Glyph 39006 (\\N{CJK UNIFIED IDEOGRAPH-985E}) missing from current font.\n",
            "  fig.canvas.print_figure(bytes_io, **kw)\n",
            "/usr/local/lib/python3.10/dist-packages/IPython/core/pylabtools.py:151: UserWarning: Glyph 27770 (\\N{CJK UNIFIED IDEOGRAPH-6C7A}) missing from current font.\n",
            "  fig.canvas.print_figure(bytes_io, **kw)\n",
            "/usr/local/lib/python3.10/dist-packages/IPython/core/pylabtools.py:151: UserWarning: Glyph 31574 (\\N{CJK UNIFIED IDEOGRAPH-7B56}) missing from current font.\n",
            "  fig.canvas.print_figure(bytes_io, **kw)\n",
            "/usr/local/lib/python3.10/dist-packages/IPython/core/pylabtools.py:151: UserWarning: Glyph 37002 (\\N{CJK UNIFIED IDEOGRAPH-908A}) missing from current font.\n",
            "  fig.canvas.print_figure(bytes_io, **kw)\n",
            "/usr/local/lib/python3.10/dist-packages/IPython/core/pylabtools.py:151: UserWarning: Glyph 30028 (\\N{CJK UNIFIED IDEOGRAPH-754C}) missing from current font.\n",
            "  fig.canvas.print_figure(bytes_io, **kw)\n",
            "/usr/local/lib/python3.10/dist-packages/IPython/core/pylabtools.py:151: UserWarning: Glyph 26680 (\\N{CJK UNIFIED IDEOGRAPH-6838}) missing from current font.\n",
            "  fig.canvas.print_figure(bytes_io, **kw)\n"
          ]
        },
        {
          "output_type": "display_data",
          "data": {
            "text/plain": [
              "<Figure size 640x480 with 1 Axes>"
            ],
            "image/png": "[encoded data removed]"
          },
          "metadata": {}
        }
      ]
    },
    {
      "cell_type": "code",
      "source": [
        "#KNN分類器\n",
        "import numpy as np\n",
        "import matplotlib.pyplot as plt\n",
        "from sklearn import datasets\n",
        "from sklearn.model_selection import train_test_split\n",
        "from sklearn.neighbors import KNeighborsClassifier\n",
        "from sklearn.metrics import accuracy_score\n",
        "\n",
        "# 加載Iris數據集\n",
        "iris = datasets.load_iris()\n",
        "X = iris.data[:, :2]  # 取前兩個特徵\n",
        "y = iris.target\n",
        "\n",
        "# 將數據集分為訓練集和測試集\n",
        "X_train, X_test, y_train, y_test = train_test_split(X, y, test_size=0.3, random_state=42)\n",
        "\n",
        "# 訓練KNN分類器\n",
        "knn = KNeighborsClassifier(n_neighbors=3)\n",
        "knn.fit(X_train, y_train)\n",
        "\n",
        "# 預測\n",
        "y_pred = knn.predict(X_test)\n",
        "\n",
        "# 計算準確率\n",
        "accuracy = accuracy_score(y_test, y_pred)\n",
        "print(f\"準確率: {accuracy}\")\n",
        "\n",
        "# 繪製分類結果\n",
        "def plot_decision_boundary(X, y, model, title):\n",
        "    x_min, x_max = X[:, 0].min() - 1, X[:, 0].max() + 1\n",
        "    y_min, y_max = X[:, 1].min() - 1, X[:, 1].max() + 1\n",
        "    xx, yy = np.meshgrid(np.arange(x_min, x_max, 0.1),\n",
        "                         np.arange(y_min, y_max, 0.1))\n",
        "    Z = model.predict(np.c_[xx.ravel(), yy.ravel()])\n",
        "    Z = Z.reshape(xx.shape)\n",
        "\n",
        "    plt.contourf(xx, yy, Z, alpha=0.3)\n",
        "    plt.scatter(X[:, 0], X[:, 1], c=y, edgecolors='k', marker='o')\n",
        "    plt.xlabel('Sepal length')\n",
        "    plt.ylabel('Sepal width')\n",
        "    plt.title(title)\n",
        "    plt.show()\n",
        "\n",
        "plot_decision_boundary(X_test, y_test, knn, \"KNN 分類決策邊界 (k=3)\")"
      ],
      "metadata": {
        "colab": {
          "base_uri": "https://localhost:8080/",
          "height": 718
        },
        "id": "i_1xfaa3dQMu",
        "outputId": "11e37a0d-f5b1-417a-c668-b9383ced4bf6"
      },
      "execution_count": 14,
      "outputs": [
        {
          "output_type": "stream",
          "name": "stdout",
          "text": [
            "準確率: 0.7555555555555555\n"
          ]
        },
        {
          "output_type": "stream",
          "name": "stderr",
          "text": [
            "/usr/local/lib/python3.10/dist-packages/IPython/core/pylabtools.py:151: UserWarning: Glyph 20998 (\\N{CJK UNIFIED IDEOGRAPH-5206}) missing from current font.\n",
            "  fig.canvas.print_figure(bytes_io, **kw)\n",
            "/usr/local/lib/python3.10/dist-packages/IPython/core/pylabtools.py:151: UserWarning: Glyph 39006 (\\N{CJK UNIFIED IDEOGRAPH-985E}) missing from current font.\n",
            "  fig.canvas.print_figure(bytes_io, **kw)\n",
            "/usr/local/lib/python3.10/dist-packages/IPython/core/pylabtools.py:151: UserWarning: Glyph 27770 (\\N{CJK UNIFIED IDEOGRAPH-6C7A}) missing from current font.\n",
            "  fig.canvas.print_figure(bytes_io, **kw)\n",
            "/usr/local/lib/python3.10/dist-packages/IPython/core/pylabtools.py:151: UserWarning: Glyph 31574 (\\N{CJK UNIFIED IDEOGRAPH-7B56}) missing from current font.\n",
            "  fig.canvas.print_figure(bytes_io, **kw)\n",
            "/usr/local/lib/python3.10/dist-packages/IPython/core/pylabtools.py:151: UserWarning: Glyph 37002 (\\N{CJK UNIFIED IDEOGRAPH-908A}) missing from current font.\n",
            "  fig.canvas.print_figure(bytes_io, **kw)\n",
            "/usr/local/lib/python3.10/dist-packages/IPython/core/pylabtools.py:151: UserWarning: Glyph 30028 (\\N{CJK UNIFIED IDEOGRAPH-754C}) missing from current font.\n",
            "  fig.canvas.print_figure(bytes_io, **kw)\n"
          ]
        },
        {
          "output_type": "display_data",
          "data": {
            "text/plain": [
              "<Figure size 640x480 with 1 Axes>"
            ],
            "image/png": "[encoded data removed]"
          },
          "metadata": {}
        }
      ]
    },
    {
      "cell_type": "code",
      "source": [
        "#KD樹加速KNN演算法\n",
        "from sklearn.neighbors import KDTree\n",
        "\n",
        "# 建立KD樹\n",
        "kd_tree = KDTree(X_train)\n",
        "\n",
        "# 使用KD樹進行KNN搜索\n",
        "def knn_kd_tree(kd_tree, X_train, X_test, k):\n",
        "    y_pred = []\n",
        "    for x in X_test:\n",
        "        dist, ind = kd_tree.query([x], k=k)\n",
        "        neighbor_labels = y_train[ind[0]]\n",
        "        unique, counts = np.unique(neighbor_labels, return_counts=True)\n",
        "        y_pred.append(unique[np.argmax(counts)])\n",
        "    return np.array(y_pred)\n",
        "\n",
        "# 預測\n",
        "y_pred_kd_tree = knn_kd_tree(kd_tree, X_train, X_test, k=3)\n",
        "\n",
        "# 計算準確率\n",
        "accuracy_kd_tree = accuracy_score(y_test, y_pred_kd_tree)\n",
        "print(f\"使用KD樹加速的KNN準確率: {accuracy_kd_tree}\")\n",
        "\n",
        "# 繪製分類結果\n",
        "plot_decision_boundary(X_test, y_test, knn, \"使用KD樹加速的KNN分類決策邊界 (k=3)\")"
      ],
      "metadata": {
        "colab": {
          "base_uri": "https://localhost:8080/",
          "height": 926
        },
        "id": "N7g1lHTLdUyG",
        "outputId": "b329db6d-51eb-4ead-d43e-11c138d4ddf4"
      },
      "execution_count": 15,
      "outputs": [
        {
          "output_type": "stream",
          "name": "stdout",
          "text": [
            "使用KD樹加速的KNN準確率: 0.7555555555555555\n"
          ]
        },
        {
          "output_type": "stream",
          "name": "stderr",
          "text": [
            "/usr/local/lib/python3.10/dist-packages/IPython/core/pylabtools.py:151: UserWarning: Glyph 20351 (\\N{CJK UNIFIED IDEOGRAPH-4F7F}) missing from current font.\n",
            "  fig.canvas.print_figure(bytes_io, **kw)\n",
            "/usr/local/lib/python3.10/dist-packages/IPython/core/pylabtools.py:151: UserWarning: Glyph 29992 (\\N{CJK UNIFIED IDEOGRAPH-7528}) missing from current font.\n",
            "  fig.canvas.print_figure(bytes_io, **kw)\n",
            "/usr/local/lib/python3.10/dist-packages/IPython/core/pylabtools.py:151: UserWarning: Glyph 27193 (\\N{CJK UNIFIED IDEOGRAPH-6A39}) missing from current font.\n",
            "  fig.canvas.print_figure(bytes_io, **kw)\n",
            "/usr/local/lib/python3.10/dist-packages/IPython/core/pylabtools.py:151: UserWarning: Glyph 21152 (\\N{CJK UNIFIED IDEOGRAPH-52A0}) missing from current font.\n",
            "  fig.canvas.print_figure(bytes_io, **kw)\n",
            "/usr/local/lib/python3.10/dist-packages/IPython/core/pylabtools.py:151: UserWarning: Glyph 36895 (\\N{CJK UNIFIED IDEOGRAPH-901F}) missing from current font.\n",
            "  fig.canvas.print_figure(bytes_io, **kw)\n",
            "/usr/local/lib/python3.10/dist-packages/IPython/core/pylabtools.py:151: UserWarning: Glyph 30340 (\\N{CJK UNIFIED IDEOGRAPH-7684}) missing from current font.\n",
            "  fig.canvas.print_figure(bytes_io, **kw)\n",
            "/usr/local/lib/python3.10/dist-packages/IPython/core/pylabtools.py:151: UserWarning: Glyph 20998 (\\N{CJK UNIFIED IDEOGRAPH-5206}) missing from current font.\n",
            "  fig.canvas.print_figure(bytes_io, **kw)\n",
            "/usr/local/lib/python3.10/dist-packages/IPython/core/pylabtools.py:151: UserWarning: Glyph 39006 (\\N{CJK UNIFIED IDEOGRAPH-985E}) missing from current font.\n",
            "  fig.canvas.print_figure(bytes_io, **kw)\n",
            "/usr/local/lib/python3.10/dist-packages/IPython/core/pylabtools.py:151: UserWarning: Glyph 27770 (\\N{CJK UNIFIED IDEOGRAPH-6C7A}) missing from current font.\n",
            "  fig.canvas.print_figure(bytes_io, **kw)\n",
            "/usr/local/lib/python3.10/dist-packages/IPython/core/pylabtools.py:151: UserWarning: Glyph 31574 (\\N{CJK UNIFIED IDEOGRAPH-7B56}) missing from current font.\n",
            "  fig.canvas.print_figure(bytes_io, **kw)\n",
            "/usr/local/lib/python3.10/dist-packages/IPython/core/pylabtools.py:151: UserWarning: Glyph 37002 (\\N{CJK UNIFIED IDEOGRAPH-908A}) missing from current font.\n",
            "  fig.canvas.print_figure(bytes_io, **kw)\n",
            "/usr/local/lib/python3.10/dist-packages/IPython/core/pylabtools.py:151: UserWarning: Glyph 30028 (\\N{CJK UNIFIED IDEOGRAPH-754C}) missing from current font.\n",
            "  fig.canvas.print_figure(bytes_io, **kw)\n"
          ]
        },
        {
          "output_type": "display_data",
          "data": {
            "text/plain": [
              "<Figure size 640x480 with 1 Axes>"
            ],
            "image/png": "[encoded data removed]"
          },
          "metadata": {}
        }
      ]
    },
    {
      "cell_type": "code",
      "source": [
        "#前饋神經網絡\n",
        "import torch\n",
        "import torch.nn as nn\n",
        "import torch.optim as optim\n",
        "from sklearn import datasets\n",
        "from sklearn.model_selection import train_test_split\n",
        "from sklearn.preprocessing import StandardScaler\n",
        "\n",
        "# 加載Iris數據集\n",
        "iris = datasets.load_iris()\n",
        "X = iris.data\n",
        "y = iris.target\n",
        "\n",
        "# 標準化數據\n",
        "scaler = StandardScaler()\n",
        "X = scaler.fit_transform(X)\n",
        "\n",
        "# 將數據集分為訓練集和測試集\n",
        "X_train, X_test, y_train, y_test = train_test_split(X, y, test_size=0.3, random_state=42)\n",
        "\n",
        "# 將數據轉換為PyTorch的張量\n",
        "X_train = torch.tensor(X_train, dtype=torch.float32)\n",
        "X_test = torch.tensor(X_test, dtype=torch.float32)\n",
        "y_train = torch.tensor(y_train, dtype=torch.long)\n",
        "y_test = torch.tensor(y_test, dtype=torch.long)\n",
        "\n",
        "# 定義前饋神經網絡模型\n",
        "class FeedforwardNN(nn.Module):\n",
        "    def __init__(self, input_dim, hidden_dim, output_dim):\n",
        "        super(FeedforwardNN, self).__init__()\n",
        "        self.fc1 = nn.Linear(input_dim, hidden_dim)\n",
        "        self.relu = nn.ReLU()\n",
        "        self.fc2 = nn.Linear(hidden_dim, hidden_dim)\n",
        "        self.fc3 = nn.Linear(hidden_dim, output_dim)\n",
        "\n",
        "    def forward(self, x):\n",
        "        out = self.fc1(x)\n",
        "        out = self.relu(out)\n",
        "        out = self.fc2(out)\n",
        "        out = self.relu(out)\n",
        "        out = self.fc3(out)\n",
        "        return out\n",
        "\n",
        "input_dim = X_train.shape[1]\n",
        "hidden_dim = 10\n",
        "output_dim = 3\n",
        "\n",
        "model = FeedforwardNN(input_dim, hidden_dim, output_dim)\n",
        "\n",
        "# 定義損失函數和優化器\n",
        "criterion = nn.CrossEntropyLoss()\n",
        "optimizer = optim.Adam(model.parameters(), lr=0.01)\n",
        "\n",
        "# 訓練模型\n",
        "num_epochs = 100\n",
        "for epoch in range(num_epochs):\n",
        "    # 前向傳播\n",
        "    outputs = model(X_train)\n",
        "    loss = criterion(outputs, y_train)\n",
        "\n",
        "    # 反向傳播和優化\n",
        "    optimizer.zero_grad()\n",
        "    loss.backward()\n",
        "    optimizer.step()\n",
        "\n",
        "    if (epoch+1) % 10 == 0:\n",
        "        print(f'Epoch [{epoch+1}/{num_epochs}], Loss: {loss.item():.4f}')\n",
        "\n",
        "# 評估模型\n",
        "model.eval()\n",
        "with torch.no_grad():\n",
        "    outputs = model(X_test)\n",
        "    _, predicted = torch.max(outputs.data, 1)\n",
        "    accuracy = (predicted == y_test).sum().item() / y_test.size(0)\n",
        "    print(f'準確率: {accuracy:.4f}')"
      ],
      "metadata": {
        "colab": {
          "base_uri": "https://localhost:8080/"
        },
        "id": "mjlbxJoqddhe",
        "outputId": "46e806d2-37b9-4e95-f566-4385fb780b10"
      },
      "execution_count": 16,
      "outputs": [
        {
          "output_type": "stream",
          "name": "stdout",
          "text": [
            "Epoch [10/100], Loss: 0.9686\n",
            "Epoch [20/100], Loss: 0.8259\n",
            "Epoch [30/100], Loss: 0.6518\n",
            "Epoch [40/100], Loss: 0.3919\n",
            "Epoch [50/100], Loss: 0.1942\n",
            "Epoch [60/100], Loss: 0.1180\n",
            "Epoch [70/100], Loss: 0.0837\n",
            "Epoch [80/100], Loss: 0.0678\n",
            "Epoch [90/100], Loss: 0.0614\n",
            "Epoch [100/100], Loss: 0.0582\n",
            "準確率: 1.0000\n"
          ]
        }
      ]
    },
    {
      "cell_type": "code",
      "source": [
        "#CIFAR-10數據集進行圖像分類\n",
        "import torch\n",
        "import torch.nn as nn\n",
        "import torch.optim as optim\n",
        "from torchvision import datasets, transforms\n",
        "from torch.utils.data import DataLoader\n",
        "\n",
        "# 定義卷積神經網絡模型\n",
        "class CNN(nn.Module):\n",
        "    def __init__(self):\n",
        "        super(CNN, self).__init__()\n",
        "        self.conv1 = nn.Conv2d(3, 32, kernel_size=3, padding=1)\n",
        "        self.pool = nn.MaxPool2d(kernel_size=2, stride=2, padding=0)\n",
        "        self.conv2 = nn.Conv2d(32, 64, kernel_size=3, padding=1)\n",
        "        self.fc1 = nn.Linear(64 * 8 * 8, 256)\n",
        "        self.fc2 = nn.Linear(256, 10)\n",
        "        self.relu = nn.ReLU()\n",
        "\n",
        "    def forward(self, x):\n",
        "        x = self.pool(self.relu(self.conv1(x)))\n",
        "        x = self.pool(self.relu(self.conv2(x)))\n",
        "        x = x.view(-1, 64 * 8 * 8)\n",
        "        x = self.relu(self.fc1(x))\n",
        "        x = self.fc2(x)\n",
        "        return x\n",
        "\n",
        "# 設定超參數\n",
        "batch_size = 64\n",
        "num_epochs = 10\n",
        "learning_rate = 0.001\n",
        "\n",
        "# 定義數據預處理和加載\n",
        "transform = transforms.Compose([\n",
        "    transforms.ToTensor(),\n",
        "    transforms.Normalize((0.5, 0.5, 0.5), (0.5, 0.5, 0.5))\n",
        "])\n",
        "\n",
        "train_dataset = datasets.CIFAR10(root='./data', train=True, download=True, transform=transform)\n",
        "test_dataset = datasets.CIFAR10(root='./data', train=False, download=True, transform=transform)\n",
        "\n",
        "train_loader = DataLoader(train_dataset, batch_size=batch_size, shuffle=True)\n",
        "test_loader = DataLoader(test_dataset, batch_size=batch_size, shuffle=False)\n",
        "\n",
        "# 初始化模型、損失函數和優化器\n",
        "model = CNN()\n",
        "criterion = nn.CrossEntropyLoss()\n",
        "optimizer = optim.Adam(model.parameters(), lr=learning_rate)\n",
        "\n",
        "# 訓練模型\n",
        "for epoch in range(num_epochs):\n",
        "    for i, (images, labels) in enumerate(train_loader):\n",
        "        outputs = model(images)\n",
        "        loss = criterion(outputs, labels)\n",
        "\n",
        "        optimizer.zero_grad()\n",
        "        loss.backward()\n",
        "        optimizer.step()\n",
        "\n",
        "    print(f'Epoch [{epoch+1}/{num_epochs}], Loss: {loss.item():.4f}')"
      ],
      "metadata": {
        "colab": {
          "base_uri": "https://localhost:8080/",
          "height": 495
        },
        "id": "kamHTWRjdoFm",
        "outputId": "843498c8-72c2-486b-e17e-653019538a65"
      },
      "execution_count": 17,
      "outputs": [
        {
          "output_type": "stream",
          "name": "stdout",
          "text": [
            "Downloading https://www.cs.toronto.edu/~kriz/cifar-10-python.tar.gz to ./data/cifar-10-python.tar.gz\n"
          ]
        },
        {
          "output_type": "stream",
          "name": "stderr",
          "text": [
            "100%|██████████| 170498071/170498071 [00:02<00:00, 64565952.71it/s]\n"
          ]
        },
        {
          "output_type": "stream",
          "name": "stdout",
          "text": [
            "Extracting ./data/cifar-10-python.tar.gz to ./data\n",
            "Files already downloaded and verified\n",
            "Epoch [1/10], Loss: 1.1832\n",
            "Epoch [2/10], Loss: 0.8472\n",
            "Epoch [3/10], Loss: 0.4554\n"
          ]
        },
        {
          "output_type": "error",
          "ename": "KeyboardInterrupt",
          "evalue": "",
          "traceback": [
            "\u001b[0;31m---------------------------------------------------------------------------\u001b[0m",
            "\u001b[0;31mKeyboardInterrupt\u001b[0m                         Traceback (most recent call last)",
            "\u001b[0;32m<ipython-input-17-84573aa22de0>\u001b[0m in \u001b[0;36m<cell line: 50>\u001b[0;34m()\u001b[0m\n\u001b[1;32m     50\u001b[0m \u001b[0;32mfor\u001b[0m \u001b[0mepoch\u001b[0m \u001b[0;32min\u001b[0m \u001b[0mrange\u001b[0m\u001b[0;34m(\u001b[0m\u001b[0mnum_epochs\u001b[0m\u001b[0;34m)\u001b[0m\u001b[0;34m:\u001b[0m\u001b[0;34m\u001b[0m\u001b[0;34m\u001b[0m\u001b[0m\n\u001b[1;32m     51\u001b[0m     \u001b[0;32mfor\u001b[0m \u001b[0mi\u001b[0m\u001b[0;34m,\u001b[0m \u001b[0;34m(\u001b[0m\u001b[0mimages\u001b[0m\u001b[0;34m,\u001b[0m \u001b[0mlabels\u001b[0m\u001b[0;34m)\u001b[0m \u001b[0;32min\u001b[0m \u001b[0menumerate\u001b[0m\u001b[0;34m(\u001b[0m\u001b[0mtrain_loader\u001b[0m\u001b[0;34m)\u001b[0m\u001b[0;34m:\u001b[0m\u001b[0;34m\u001b[0m\u001b[0;34m\u001b[0m\u001b[0m\n\u001b[0;32m---> 52\u001b[0;31m         \u001b[0moutputs\u001b[0m \u001b[0;34m=\u001b[0m \u001b[0mmodel\u001b[0m\u001b[0;34m(\u001b[0m\u001b[0mimages\u001b[0m\u001b[0;34m)\u001b[0m\u001b[0;34m\u001b[0m\u001b[0;34m\u001b[0m\u001b[0m\n\u001b[0m\u001b[1;32m     53\u001b[0m         \u001b[0mloss\u001b[0m \u001b[0;34m=\u001b[0m \u001b[0mcriterion\u001b[0m\u001b[0;34m(\u001b[0m\u001b[0moutputs\u001b[0m\u001b[0;34m,\u001b[0m \u001b[0mlabels\u001b[0m\u001b[0;34m)\u001b[0m\u001b[0;34m\u001b[0m\u001b[0;34m\u001b[0m\u001b[0m\n\u001b[1;32m     54\u001b[0m \u001b[0;34m\u001b[0m\u001b[0m\n",
            "\u001b[0;32m/usr/local/lib/python3.10/dist-packages/torch/nn/modules/module.py\u001b[0m in \u001b[0;36m_wrapped_call_impl\u001b[0;34m(self, *args, **kwargs)\u001b[0m\n\u001b[1;32m   1530\u001b[0m             \u001b[0;32mreturn\u001b[0m \u001b[0mself\u001b[0m\u001b[0;34m.\u001b[0m\u001b[0m_compiled_call_impl\u001b[0m\u001b[0;34m(\u001b[0m\u001b[0;34m*\u001b[0m\u001b[0margs\u001b[0m\u001b[0;34m,\u001b[0m \u001b[0;34m**\u001b[0m\u001b[0mkwargs\u001b[0m\u001b[0;34m)\u001b[0m  \u001b[0;31m# type: ignore[misc]\u001b[0m\u001b[0;34m\u001b[0m\u001b[0;34m\u001b[0m\u001b[0m\n\u001b[1;32m   1531\u001b[0m         \u001b[0;32melse\u001b[0m\u001b[0;34m:\u001b[0m\u001b[0;34m\u001b[0m\u001b[0;34m\u001b[0m\u001b[0m\n\u001b[0;32m-> 1532\u001b[0;31m             \u001b[0;32mreturn\u001b[0m \u001b[0mself\u001b[0m\u001b[0;34m.\u001b[0m\u001b[0m_call_impl\u001b[0m\u001b[0;34m(\u001b[0m\u001b[0;34m*\u001b[0m\u001b[0margs\u001b[0m\u001b[0;34m,\u001b[0m \u001b[0;34m**\u001b[0m\u001b[0mkwargs\u001b[0m\u001b[0;34m)\u001b[0m\u001b[0;34m\u001b[0m\u001b[0;34m\u001b[0m\u001b[0m\n\u001b[0m\u001b[1;32m   1533\u001b[0m \u001b[0;34m\u001b[0m\u001b[0m\n\u001b[1;32m   1534\u001b[0m     \u001b[0;32mdef\u001b[0m \u001b[0m_call_impl\u001b[0m\u001b[0;34m(\u001b[0m\u001b[0mself\u001b[0m\u001b[0;34m,\u001b[0m \u001b[0;34m*\u001b[0m\u001b[0margs\u001b[0m\u001b[0;34m,\u001b[0m \u001b[0;34m**\u001b[0m\u001b[0mkwargs\u001b[0m\u001b[0;34m)\u001b[0m\u001b[0;34m:\u001b[0m\u001b[0;34m\u001b[0m\u001b[0;34m\u001b[0m\u001b[0m\n",
            "\u001b[0;32m/usr/local/lib/python3.10/dist-packages/torch/nn/modules/module.py\u001b[0m in \u001b[0;36m_call_impl\u001b[0;34m(self, *args, **kwargs)\u001b[0m\n\u001b[1;32m   1539\u001b[0m                 \u001b[0;32mor\u001b[0m \u001b[0m_global_backward_pre_hooks\u001b[0m \u001b[0;32mor\u001b[0m \u001b[0m_global_backward_hooks\u001b[0m\u001b[0;34m\u001b[0m\u001b[0;34m\u001b[0m\u001b[0m\n\u001b[1;32m   1540\u001b[0m                 or _global_forward_hooks or _global_forward_pre_hooks):\n\u001b[0;32m-> 1541\u001b[0;31m             \u001b[0;32mreturn\u001b[0m \u001b[0mforward_call\u001b[0m\u001b[0;34m(\u001b[0m\u001b[0;34m*\u001b[0m\u001b[0margs\u001b[0m\u001b[0;34m,\u001b[0m \u001b[0;34m**\u001b[0m\u001b[0mkwargs\u001b[0m\u001b[0;34m)\u001b[0m\u001b[0;34m\u001b[0m\u001b[0;34m\u001b[0m\u001b[0m\n\u001b[0m\u001b[1;32m   1542\u001b[0m \u001b[0;34m\u001b[0m\u001b[0m\n\u001b[1;32m   1543\u001b[0m         \u001b[0;32mtry\u001b[0m\u001b[0;34m:\u001b[0m\u001b[0;34m\u001b[0m\u001b[0;34m\u001b[0m\u001b[0m\n",
            "\u001b[0;32m<ipython-input-17-84573aa22de0>\u001b[0m in \u001b[0;36mforward\u001b[0;34m(self, x)\u001b[0m\n\u001b[1;32m     18\u001b[0m \u001b[0;34m\u001b[0m\u001b[0m\n\u001b[1;32m     19\u001b[0m     \u001b[0;32mdef\u001b[0m \u001b[0mforward\u001b[0m\u001b[0;34m(\u001b[0m\u001b[0mself\u001b[0m\u001b[0;34m,\u001b[0m \u001b[0mx\u001b[0m\u001b[0;34m)\u001b[0m\u001b[0;34m:\u001b[0m\u001b[0;34m\u001b[0m\u001b[0;34m\u001b[0m\u001b[0m\n\u001b[0;32m---> 20\u001b[0;31m         \u001b[0mx\u001b[0m \u001b[0;34m=\u001b[0m \u001b[0mself\u001b[0m\u001b[0;34m.\u001b[0m\u001b[0mpool\u001b[0m\u001b[0;34m(\u001b[0m\u001b[0mself\u001b[0m\u001b[0;34m.\u001b[0m\u001b[0mrelu\u001b[0m\u001b[0;34m(\u001b[0m\u001b[0mself\u001b[0m\u001b[0;34m.\u001b[0m\u001b[0mconv1\u001b[0m\u001b[0;34m(\u001b[0m\u001b[0mx\u001b[0m\u001b[0;34m)\u001b[0m\u001b[0;34m)\u001b[0m\u001b[0;34m)\u001b[0m\u001b[0;34m\u001b[0m\u001b[0;34m\u001b[0m\u001b[0m\n\u001b[0m\u001b[1;32m     21\u001b[0m         \u001b[0mx\u001b[0m \u001b[0;34m=\u001b[0m \u001b[0mself\u001b[0m\u001b[0;34m.\u001b[0m\u001b[0mpool\u001b[0m\u001b[0;34m(\u001b[0m\u001b[0mself\u001b[0m\u001b[0;34m.\u001b[0m\u001b[0mrelu\u001b[0m\u001b[0;34m(\u001b[0m\u001b[0mself\u001b[0m\u001b[0;34m.\u001b[0m\u001b[0mconv2\u001b[0m\u001b[0;34m(\u001b[0m\u001b[0mx\u001b[0m\u001b[0;34m)\u001b[0m\u001b[0;34m)\u001b[0m\u001b[0;34m)\u001b[0m\u001b[0;34m\u001b[0m\u001b[0;34m\u001b[0m\u001b[0m\n\u001b[1;32m     22\u001b[0m         \u001b[0mx\u001b[0m \u001b[0;34m=\u001b[0m \u001b[0mx\u001b[0m\u001b[0;34m.\u001b[0m\u001b[0mview\u001b[0m\u001b[0;34m(\u001b[0m\u001b[0;34m-\u001b[0m\u001b[0;36m1\u001b[0m\u001b[0;34m,\u001b[0m \u001b[0;36m64\u001b[0m \u001b[0;34m*\u001b[0m \u001b[0;36m8\u001b[0m \u001b[0;34m*\u001b[0m \u001b[0;36m8\u001b[0m\u001b[0;34m)\u001b[0m\u001b[0;34m\u001b[0m\u001b[0;34m\u001b[0m\u001b[0m\n",
            "\u001b[0;32m/usr/local/lib/python3.10/dist-packages/torch/nn/modules/module.py\u001b[0m in \u001b[0;36m_wrapped_call_impl\u001b[0;34m(self, *args, **kwargs)\u001b[0m\n\u001b[1;32m   1530\u001b[0m             \u001b[0;32mreturn\u001b[0m \u001b[0mself\u001b[0m\u001b[0;34m.\u001b[0m\u001b[0m_compiled_call_impl\u001b[0m\u001b[0;34m(\u001b[0m\u001b[0;34m*\u001b[0m\u001b[0margs\u001b[0m\u001b[0;34m,\u001b[0m \u001b[0;34m**\u001b[0m\u001b[0mkwargs\u001b[0m\u001b[0;34m)\u001b[0m  \u001b[0;31m# type: ignore[misc]\u001b[0m\u001b[0;34m\u001b[0m\u001b[0;34m\u001b[0m\u001b[0m\n\u001b[1;32m   1531\u001b[0m         \u001b[0;32melse\u001b[0m\u001b[0;34m:\u001b[0m\u001b[0;34m\u001b[0m\u001b[0;34m\u001b[0m\u001b[0m\n\u001b[0;32m-> 1532\u001b[0;31m             \u001b[0;32mreturn\u001b[0m \u001b[0mself\u001b[0m\u001b[0;34m.\u001b[0m\u001b[0m_call_impl\u001b[0m\u001b[0;34m(\u001b[0m\u001b[0;34m*\u001b[0m\u001b[0margs\u001b[0m\u001b[0;34m,\u001b[0m \u001b[0;34m**\u001b[0m\u001b[0mkwargs\u001b[0m\u001b[0;34m)\u001b[0m\u001b[0;34m\u001b[0m\u001b[0;34m\u001b[0m\u001b[0m\n\u001b[0m\u001b[1;32m   1533\u001b[0m \u001b[0;34m\u001b[0m\u001b[0m\n\u001b[1;32m   1534\u001b[0m     \u001b[0;32mdef\u001b[0m \u001b[0m_call_impl\u001b[0m\u001b[0;34m(\u001b[0m\u001b[0mself\u001b[0m\u001b[0;34m,\u001b[0m \u001b[0;34m*\u001b[0m\u001b[0margs\u001b[0m\u001b[0;34m,\u001b[0m \u001b[0;34m**\u001b[0m\u001b[0mkwargs\u001b[0m\u001b[0;34m)\u001b[0m\u001b[0;34m:\u001b[0m\u001b[0;34m\u001b[0m\u001b[0;34m\u001b[0m\u001b[0m\n",
            "\u001b[0;32m/usr/local/lib/python3.10/dist-packages/torch/nn/modules/module.py\u001b[0m in \u001b[0;36m_call_impl\u001b[0;34m(self, *args, **kwargs)\u001b[0m\n\u001b[1;32m   1539\u001b[0m                 \u001b[0;32mor\u001b[0m \u001b[0m_global_backward_pre_hooks\u001b[0m \u001b[0;32mor\u001b[0m \u001b[0m_global_backward_hooks\u001b[0m\u001b[0;34m\u001b[0m\u001b[0;34m\u001b[0m\u001b[0m\n\u001b[1;32m   1540\u001b[0m                 or _global_forward_hooks or _global_forward_pre_hooks):\n\u001b[0;32m-> 1541\u001b[0;31m             \u001b[0;32mreturn\u001b[0m \u001b[0mforward_call\u001b[0m\u001b[0;34m(\u001b[0m\u001b[0;34m*\u001b[0m\u001b[0margs\u001b[0m\u001b[0;34m,\u001b[0m \u001b[0;34m**\u001b[0m\u001b[0mkwargs\u001b[0m\u001b[0;34m)\u001b[0m\u001b[0;34m\u001b[0m\u001b[0;34m\u001b[0m\u001b[0m\n\u001b[0m\u001b[1;32m   1542\u001b[0m \u001b[0;34m\u001b[0m\u001b[0m\n\u001b[1;32m   1543\u001b[0m         \u001b[0;32mtry\u001b[0m\u001b[0;34m:\u001b[0m\u001b[0;34m\u001b[0m\u001b[0;34m\u001b[0m\u001b[0m\n",
            "\u001b[0;32m/usr/local/lib/python3.10/dist-packages/torch/nn/modules/pooling.py\u001b[0m in \u001b[0;36mforward\u001b[0;34m(self, input)\u001b[0m\n\u001b[1;32m    162\u001b[0m \u001b[0;34m\u001b[0m\u001b[0m\n\u001b[1;32m    163\u001b[0m     \u001b[0;32mdef\u001b[0m \u001b[0mforward\u001b[0m\u001b[0;34m(\u001b[0m\u001b[0mself\u001b[0m\u001b[0;34m,\u001b[0m \u001b[0minput\u001b[0m\u001b[0;34m:\u001b[0m \u001b[0mTensor\u001b[0m\u001b[0;34m)\u001b[0m\u001b[0;34m:\u001b[0m\u001b[0;34m\u001b[0m\u001b[0;34m\u001b[0m\u001b[0m\n\u001b[0;32m--> 164\u001b[0;31m         return F.max_pool2d(input, self.kernel_size, self.stride,\n\u001b[0m\u001b[1;32m    165\u001b[0m                             \u001b[0mself\u001b[0m\u001b[0;34m.\u001b[0m\u001b[0mpadding\u001b[0m\u001b[0;34m,\u001b[0m \u001b[0mself\u001b[0m\u001b[0;34m.\u001b[0m\u001b[0mdilation\u001b[0m\u001b[0;34m,\u001b[0m \u001b[0mceil_mode\u001b[0m\u001b[0;34m=\u001b[0m\u001b[0mself\u001b[0m\u001b[0;34m.\u001b[0m\u001b[0mceil_mode\u001b[0m\u001b[0;34m,\u001b[0m\u001b[0;34m\u001b[0m\u001b[0;34m\u001b[0m\u001b[0m\n\u001b[1;32m    166\u001b[0m                             return_indices=self.return_indices)\n",
            "\u001b[0;32m/usr/local/lib/python3.10/dist-packages/torch/_jit_internal.py\u001b[0m in \u001b[0;36mfn\u001b[0;34m(*args, **kwargs)\u001b[0m\n\u001b[1;32m    495\u001b[0m             \u001b[0;32mreturn\u001b[0m \u001b[0mif_true\u001b[0m\u001b[0;34m(\u001b[0m\u001b[0;34m*\u001b[0m\u001b[0margs\u001b[0m\u001b[0;34m,\u001b[0m \u001b[0;34m**\u001b[0m\u001b[0mkwargs\u001b[0m\u001b[0;34m)\u001b[0m\u001b[0;34m\u001b[0m\u001b[0;34m\u001b[0m\u001b[0m\n\u001b[1;32m    496\u001b[0m         \u001b[0;32melse\u001b[0m\u001b[0;34m:\u001b[0m\u001b[0;34m\u001b[0m\u001b[0;34m\u001b[0m\u001b[0m\n\u001b[0;32m--> 497\u001b[0;31m             \u001b[0;32mreturn\u001b[0m \u001b[0mif_false\u001b[0m\u001b[0;34m(\u001b[0m\u001b[0;34m*\u001b[0m\u001b[0margs\u001b[0m\u001b[0;34m,\u001b[0m \u001b[0;34m**\u001b[0m\u001b[0mkwargs\u001b[0m\u001b[0;34m)\u001b[0m\u001b[0;34m\u001b[0m\u001b[0;34m\u001b[0m\u001b[0m\n\u001b[0m\u001b[1;32m    498\u001b[0m \u001b[0;34m\u001b[0m\u001b[0m\n\u001b[1;32m    499\u001b[0m     \u001b[0;32mif\u001b[0m \u001b[0mif_true\u001b[0m\u001b[0;34m.\u001b[0m\u001b[0m__doc__\u001b[0m \u001b[0;32mis\u001b[0m \u001b[0;32mNone\u001b[0m \u001b[0;32mand\u001b[0m \u001b[0mif_false\u001b[0m\u001b[0;34m.\u001b[0m\u001b[0m__doc__\u001b[0m \u001b[0;32mis\u001b[0m \u001b[0;32mnot\u001b[0m \u001b[0;32mNone\u001b[0m\u001b[0;34m:\u001b[0m\u001b[0;34m\u001b[0m\u001b[0;34m\u001b[0m\u001b[0m\n",
            "\u001b[0;32m/usr/local/lib/python3.10/dist-packages/torch/nn/functional.py\u001b[0m in \u001b[0;36m_max_pool2d\u001b[0;34m(input, kernel_size, stride, padding, dilation, ceil_mode, return_indices)\u001b[0m\n\u001b[1;32m    794\u001b[0m     \u001b[0;32mif\u001b[0m \u001b[0mstride\u001b[0m \u001b[0;32mis\u001b[0m \u001b[0;32mNone\u001b[0m\u001b[0;34m:\u001b[0m\u001b[0;34m\u001b[0m\u001b[0;34m\u001b[0m\u001b[0m\n\u001b[1;32m    795\u001b[0m         \u001b[0mstride\u001b[0m \u001b[0;34m=\u001b[0m \u001b[0mtorch\u001b[0m\u001b[0;34m.\u001b[0m\u001b[0mjit\u001b[0m\u001b[0;34m.\u001b[0m\u001b[0mannotate\u001b[0m\u001b[0;34m(\u001b[0m\u001b[0mList\u001b[0m\u001b[0;34m[\u001b[0m\u001b[0mint\u001b[0m\u001b[0;34m]\u001b[0m\u001b[0;34m,\u001b[0m \u001b[0;34m[\u001b[0m\u001b[0;34m]\u001b[0m\u001b[0;34m)\u001b[0m\u001b[0;34m\u001b[0m\u001b[0;34m\u001b[0m\u001b[0m\n\u001b[0;32m--> 796\u001b[0;31m     \u001b[0;32mreturn\u001b[0m \u001b[0mtorch\u001b[0m\u001b[0;34m.\u001b[0m\u001b[0mmax_pool2d\u001b[0m\u001b[0;34m(\u001b[0m\u001b[0minput\u001b[0m\u001b[0;34m,\u001b[0m \u001b[0mkernel_size\u001b[0m\u001b[0;34m,\u001b[0m \u001b[0mstride\u001b[0m\u001b[0;34m,\u001b[0m \u001b[0mpadding\u001b[0m\u001b[0;34m,\u001b[0m \u001b[0mdilation\u001b[0m\u001b[0;34m,\u001b[0m \u001b[0mceil_mode\u001b[0m\u001b[0;34m)\u001b[0m\u001b[0;34m\u001b[0m\u001b[0;34m\u001b[0m\u001b[0m\n\u001b[0m\u001b[1;32m    797\u001b[0m \u001b[0;34m\u001b[0m\u001b[0m\n\u001b[1;32m    798\u001b[0m \u001b[0;34m\u001b[0m\u001b[0m\n",
            "\u001b[0;31mKeyboardInterrupt\u001b[0m: "
          ]
        }
      ]
    },
    {
      "cell_type": "code",
      "source": [
        "#快速排序的工作原理\n",
        "def quick_sort(arr):\n",
        "    if len(arr) <= 1:\n",
        "        return arr\n",
        "    else:\n",
        "        pivot = arr[len(arr) // 2]  # 選擇中間元素作為樞軸\n",
        "        left = [x for x in arr if x < pivot]\n",
        "        middle = [x for x in arr if x == pivot]\n",
        "        right = [x for x in arr if x > pivot]\n",
        "        return quick_sort(left) + middle + quick_sort(right)\n",
        "\n",
        "# 測試快速排序\n",
        "example_arr = [64, 34, 25, 12, 22, 11, 90]\n",
        "sorted_arr = quick_sort(example_arr)\n",
        "print(\"排序後的數列:\", sorted_arr)"
      ],
      "metadata": {
        "colab": {
          "base_uri": "https://localhost:8080/"
        },
        "id": "6D6DgAvdd0o9",
        "outputId": "2bb403d0-3a18-48f3-e47b-7a9fce57a13a"
      },
      "execution_count": 18,
      "outputs": [
        {
          "output_type": "stream",
          "name": "stdout",
          "text": [
            "排序後的數列: [11, 12, 22, 25, 34, 64, 90]\n"
          ]
        }
      ]
    },
    {
      "cell_type": "code",
      "source": [
        "#對一組產品按價格進行排序\n",
        "# 定義產品列表，每個產品包含名稱和價格\n",
        "products = [\n",
        "    {\"name\": \"Laptop\", \"price\": 999.99},\n",
        "    {\"name\": \"Smartphone\", \"price\": 699.99},\n",
        "    {\"name\": \"Tablet\", \"price\": 499.99},\n",
        "    {\"name\": \"Monitor\", \"price\": 199.99},\n",
        "    {\"name\": \"Keyboard\", \"price\": 49.99}\n",
        "]\n",
        "\n",
        "# 使用快速排序按價格排序產品列表\n",
        "def quick_sort_products(products):\n",
        "    if len(products) <= 1:\n",
        "        return products\n",
        "    else:\n",
        "        pivot = products[len(products) // 2][\"price\"]\n",
        "        left = [product for product in products if product[\"price\"] < pivot]\n",
        "        middle = [product for product in products if product[\"price\"] == pivot]\n",
        "        right = [product for product in products if product[\"price\"] > pivot]\n",
        "        return quick_sort_products(left) + middle + quick_sort_products(right)\n",
        "\n",
        "sorted_products = quick_sort_products(products)\n",
        "\n",
        "# 打印排序後的產品列表\n",
        "print(\"按價格排序後的產品列表:\")\n",
        "for product in sorted_products:\n",
        "    print(f\"{product['name']}: ${product['price']}\")"
      ],
      "metadata": {
        "colab": {
          "base_uri": "https://localhost:8080/"
        },
        "id": "eZZzPoyYeD2O",
        "outputId": "fb43b3d4-cd60-43ca-8c7b-b2bc77597e0c"
      },
      "execution_count": 19,
      "outputs": [
        {
          "output_type": "stream",
          "name": "stdout",
          "text": [
            "按價格排序後的產品列表:\n",
            "Keyboard: $49.99\n",
            "Monitor: $199.99\n",
            "Tablet: $499.99\n",
            "Smartphone: $699.99\n",
            "Laptop: $999.99\n"
          ]
        }
      ]
    },
    {
      "cell_type": "code",
      "source": [
        "#生成推薦列表\n",
        "import numpy as np\n",
        "from sklearn.metrics.pairwise import cosine_similarity\n",
        "\n",
        "def item_based_collaborative_filtering(ratings, item_index, top_k=3):\n",
        "    item_ratings = ratings.T  # 轉置矩陣，將物品作為行，用戶作為列\n",
        "    similarity = cosine_similarity(item_ratings)\n",
        "    similar_items = np.argsort(-similarity[item_index])[:top_k + 1]\n",
        "    similar_items = similar_items[similar_items != item_index]\n",
        "    recommendations = []\n",
        "    for item in similar_items:\n",
        "        recommendations.append(item)\n",
        "    return recommendations\n",
        "\n",
        "# 模擬用戶對商品的評分數據\n",
        "# 行表示用戶，列表示商品，數值表示評分\n",
        "ratings = np.array([\n",
        "    [5, 3, 0, 1],\n",
        "    [4, 0, 0, 1],\n",
        "    [1, 1, 0, 5],\n",
        "    [0, 0, 5, 4],\n",
        "    [0, 0, 5, 4],\n",
        "])\n",
        "\n",
        "item_index = 0\n",
        "recommended_items = item_based_collaborative_filtering(ratings, item_index)\n",
        "\n",
        "print(\"推薦的商品:\")\n",
        "for item in recommended_items:\n",
        "    print(f\"商品{item}\")"
      ],
      "metadata": {
        "colab": {
          "base_uri": "https://localhost:8080/"
        },
        "id": "UBqH4B-DeGoG",
        "outputId": "23043e10-9508-4127-c05f-b5ed6c5dd571"
      },
      "execution_count": 20,
      "outputs": [
        {
          "output_type": "stream",
          "name": "stdout",
          "text": [
            "推薦的商品:\n",
            "商品1\n",
            "商品3\n",
            "商品2\n"
          ]
        }
      ]
    },
    {
      "cell_type": "code",
      "source": [
        "#偏好生成推薦列表\n",
        "from sklearn.feature_extraction.text import TfidfVectorizer\n",
        "from sklearn.metrics.pairwise import linear_kernel\n",
        "\n",
        "def content_based_filtering(items, item_index, top_k=3):\n",
        "    tfidf = TfidfVectorizer(stop_words='english')\n",
        "    tfidf_matrix = tfidf.fit_transform(items)\n",
        "    cosine_sim = linear_kernel(tfidf_matrix, tfidf_matrix)\n",
        "    sim_scores = list(enumerate(cosine_sim[item_index]))\n",
        "    sim_scores = sorted(sim_scores, key=lambda x: x[1], reverse=True)\n",
        "    sim_scores = sim_scores[1:top_k + 1]\n",
        "    recommendations = [i[0] for i in sim_scores]\n",
        "    return recommendations\n",
        "\n",
        "# 模擬商品的屬性數據\n",
        "items = [\n",
        "    \"紅色 T恤 短袖\",\n",
        "    \"藍色 牛仔褲\",\n",
        "    \"黑色 皮鞋\",\n",
        "    \"白色 T恤 長袖\",\n",
        "    \"藍色 T恤 短袖\",\n",
        "]\n",
        "\n",
        "item_index = 0\n",
        "recommended_items = content_based_filtering(items, item_index)\n",
        "\n",
        "print(\"推薦的商品:\")\n",
        "for item in recommended_items:\n",
        "    print(f\"商品: {items[item]}\")"
      ],
      "metadata": {
        "colab": {
          "base_uri": "https://localhost:8080/"
        },
        "id": "XzamTseWeMEI",
        "outputId": "f986de59-a1c2-40da-e646-11f504545a33"
      },
      "execution_count": 21,
      "outputs": [
        {
          "output_type": "stream",
          "name": "stdout",
          "text": [
            "推薦的商品:\n",
            "商品: 藍色 T恤 短袖\n",
            "商品: 白色 T恤 長袖\n",
            "商品: 藍色 牛仔褲\n"
          ]
        }
      ]
    },
    {
      "cell_type": "code",
      "source": [
        "#加入多樣性權重\n",
        "def content_based_filtering_with_diversity(items, item_index, top_k=3, diversity_weight=0.5):\n",
        "    tfidf = TfidfVectorizer(stop_words='english')\n",
        "    tfidf_matrix = tfidf.fit_transform(items)\n",
        "    cosine_sim = linear_kernel(tfidf_matrix, tfidf_matrix)\n",
        "    sim_scores = list(enumerate(cosine_sim[item_index]))\n",
        "    sim_scores = sorted(sim_scores, key=lambda x: x[1], reverse=True)"
      ],
      "metadata": {
        "id": "0dsemQaYeTKF"
      },
      "execution_count": 22,
      "outputs": []
    },
    {
      "cell_type": "code",
      "source": [
        "#深度優先搜尋和廣度優先搜尋\n",
        "# 定義圖形結構\n",
        "graph = {\n",
        "    'A': ['B', 'C'],\n",
        "    'B': ['D', 'E'],\n",
        "    'C': ['F'],\n",
        "    'D': [],\n",
        "    'E': ['F'],\n",
        "    'F': []\n",
        "}\n",
        "\n",
        "# 深度優先搜尋\n",
        "def dfs(graph, start):\n",
        "    visited = set()\n",
        "    stack = [start]\n",
        "\n",
        "    while stack:\n",
        "        vertex = stack.pop()\n",
        "        if vertex not in visited:\n",
        "            print(vertex, end=\" \")\n",
        "            visited.add(vertex)\n",
        "            stack.extend(reversed(graph[vertex]))\n",
        "\n",
        "# 廣度優先搜尋\n",
        "def bfs(graph, start):\n",
        "    visited = set()\n",
        "    queue = [start]\n",
        "\n",
        "    while queue:\n",
        "        vertex = queue.pop(0)\n",
        "        if vertex not in visited:\n",
        "            print(vertex, end=\" \")\n",
        "            visited.add(vertex)\n",
        "            queue.extend(graph[vertex])\n",
        "\n",
        "# 測試深度優先搜尋和廣度優先搜尋\n",
        "print(\"深度優先搜尋:\")\n",
        "dfs(graph, 'A')\n",
        "print(\"\\n廣度優先搜尋:\")\n",
        "bfs(graph, 'A')"
      ],
      "metadata": {
        "colab": {
          "base_uri": "https://localhost:8080/"
        },
        "id": "pkI8Gx-ieZfl",
        "outputId": "e84ab18b-6d27-4dae-aaea-246ce8758f5f"
      },
      "execution_count": 23,
      "outputs": [
        {
          "output_type": "stream",
          "name": "stdout",
          "text": [
            "深度優先搜尋:\n",
            "A B D E F C \n",
            "廣度優先搜尋:\n",
            "A B C D E F "
          ]
        }
      ]
    },
    {
      "cell_type": "code",
      "source": [
        "#雙向搜尋和迭代加深搜尋的\n",
        "# 雙向搜尋\n",
        "def bidirectional_search(graph, start, goal):\n",
        "    if start == goal:\n",
        "        return [start]\n",
        "\n",
        "    front_visited = {start}\n",
        "    back_visited = {goal}\n",
        "    front_queue = [(start, [start])]\n",
        "    back_queue = [(goal, [goal])]\n",
        "\n",
        "    while front_queue and back_queue:\n",
        "        if front_queue:\n",
        "            front_vertex, front_path = front_queue.pop(0)\n",
        "            for neighbor in graph[front_vertex]:\n",
        "                if neighbor not in front_visited:\n",
        "                    front_visited.add(neighbor)\n",
        "                    front_queue.append((neighbor, front_path + [neighbor]))\n",
        "                    if neighbor in back_visited:\n",
        "                        back_path = [p for v, p in back_queue if v == neighbor][0]\n",
        "                        return front_path + back_path[::-1][1:]\n",
        "\n",
        "        if back_queue:\n",
        "            back_vertex, back_path = back_queue.pop(0)\n",
        "            for neighbor in graph[back_vertex]:\n",
        "                if neighbor not in back_visited:\n",
        "                    back_visited.add(neighbor)\n",
        "                    back_queue.append((neighbor, back_path + [neighbor]))\n",
        "                    if neighbor in front_visited:\n",
        "                        front_path = [p for v, p in front_queue if v == neighbor][0]\n",
        "                        return front_path + back_path[::-1][1:]\n",
        "\n",
        "    return None\n",
        "\n",
        "# 迭代加深搜尋\n",
        "def iterative_deepening_search(graph, start, goal):\n",
        "    def dls(node, depth, path):\n",
        "        if depth == 0 and node == goal:\n",
        "            return path\n",
        "        if depth > 0:\n",
        "            for neighbor in graph[node]:\n",
        "                result = dls(neighbor, depth - 1, path + [neighbor])\n",
        "                if result:\n",
        "                    return result\n",
        "        return None\n",
        "\n",
        "    depth = 0\n",
        "    while True:\n",
        "        result = dls(start, depth, [start])\n",
        "        if result:\n",
        "            return result\n",
        "        depth += 1\n",
        "# 測試雙向搜尋與迭代加深搜尋\n",
        "print(\"雙向搜尋:\")\n",
        "print(bidirectional_search(graph, 'A', 'F'))  # 輸出: ['A', 'C', 'F']\n",
        "print(\"迭代加深搜尋:\")\n",
        "print(iterative_deepening_search(graph, 'A', 'F'))  # 輸出: ['A', 'C', 'F']"
      ],
      "metadata": {
        "colab": {
          "base_uri": "https://localhost:8080/"
        },
        "id": "5y53pjt0eeEv",
        "outputId": "df13342e-62e8-478c-cead-43821e9d2d64"
      },
      "execution_count": 24,
      "outputs": [
        {
          "output_type": "stream",
          "name": "stdout",
          "text": [
            "雙向搜尋:\n",
            "None\n",
            "迭代加深搜尋:\n",
            "['A', 'C', 'F']\n"
          ]
        }
      ]
    },
    {
      "cell_type": "code",
      "source": [
        "#RSA加密演算法\n",
        "import random\n",
        "from sympy import isprime, mod_inverse\n",
        "\n",
        "def generate_keypair(bits):\n",
        "    # 選擇兩個大質數 p 和 q\n",
        "    p = random_prime(bits)\n",
        "    q = random_prime(bits)\n",
        "    while p == q:\n",
        "        q = random_prime(bits)\n",
        "\n",
        "    n = p * q\n",
        "    phi = (p - 1) * (q - 1)\n",
        "\n",
        "    # 選擇公開指數 e\n",
        "    e = 65537  # 常用公開指數\n",
        "    d = mod_inverse(e, phi)\n",
        "\n",
        "    return ((e, n), (d, n))\n",
        "\n",
        "def random_prime(bits):\n",
        "    while True:\n",
        "        num = random.getrandbits(bits)\n",
        "        if isprime(num):\n",
        "            return num\n",
        "\n",
        "def encrypt(public_key, plaintext):\n",
        "    e, n = public_key\n",
        "    plaintext_int = int.from_bytes(plaintext.encode('utf-8'), 'big')\n",
        "    cipher_int = pow(plaintext_int, e, n)\n",
        "    return cipher_int\n",
        "\n",
        "def decrypt(private_key, ciphertext):\n",
        "    d, n = private_key\n",
        "    plaintext_int = pow(ciphertext, d, n)\n",
        "    plaintext = plaintext_int.to_bytes((plaintext_int.bit_length() + 7) // 8, 'big').decode('utf-8')\n",
        "    return plaintext\n",
        "# 測試RSA加密演算法\n",
        "if __name__ == \"__main__\":\n",
        "    bits = 512  # 密鑰長度\n",
        "    public_key, private_key = generate_keypair(bits)\n",
        "\n",
        "    message = \"Hello, RSA!\"\n",
        "    ciphertext = encrypt(public_key, message)\n",
        "    print(f\"加密後的密文: {ciphertext}\")\n",
        "\n",
        "    decrypted_message = decrypt(private_key, ciphertext)\n",
        "    print(f\"解密後的明文: {decrypted_message}\")\n",
        "\n",
        "# 使用2048位密鑰進行RSA加密\n",
        "if __name__ == \"__main__\":\n",
        "    bits = 2048  # 使用更長的密鑰\n",
        "    public_key, private_key = generate_keypair(bits)\n",
        "\n",
        "    message = \"Hello, RSA with 2048-bit key!\"\n",
        "    ciphertext = encrypt(public_key, message)\n",
        "    print(f\"加密後的密文: {ciphertext}\")\n",
        "\n",
        "    decrypted_message = decrypt(private_key, ciphertext)\n",
        "    print(f\"解密後的明文: {decrypted_message}\")"
      ],
      "metadata": {
        "colab": {
          "base_uri": "https://localhost:8080/"
        },
        "id": "lMoBGmwVeiPX",
        "outputId": "1457ba19-f6bd-4b00-ba15-0b812aa65d32"
      },
      "execution_count": 25,
      "outputs": [
        {
          "output_type": "stream",
          "name": "stdout",
          "text": [
            "加密後的密文: 70334306480339113152996977566752640974404915512036837306324434571478603644862499884564961850704036795715649638752242495047764610566598568497983255348044352868675562574161592337943433880214927558493157892079914170405671646915852742330677252695626003256585003179097966934821534355539351611614852491754242162871\n",
            "解密後的明文: Hello, RSA!\n",
            "加密後的密文: 6433716680954347524635537087221286726516708764556612199908703567848172557122128714674542434298280133069548144295640693347903065332583775788356017155794585548076215604265885696141693265372061317205905398829115879423532517171337423327393466610084552603376805868425264017809973893121010752954884985800021113687320109457876347095829551716448532553509601338025500203197655612182342646562218250364035442716935930911917068530217754835866074005686786715951688504241868930857455661621819716531255564322254471613272636337844792649220739992476306242118216629374006575790507524203777684735265270254037403359930125974941567817836741177909504390720631159954307526297903491094076162130085419228561111842827007965862376559669729079117419362241638020724510639231342045024094396616389040618313416307137082352791541534517101032634667677051308653045713418440806413975260238593304454342985610760836175161340813902807017185730807915163540346016366494934589652158174301407570578635714356681047010250141345681323119161533796432789616381680082398422018923968703972407368710458700832645162516460796192707312212669525768839706474660500407019914841512894415205249171888280878813815361723811021350388894029251882277972230892390188405592729339490400410448759072\n",
            "解密後的明文: Hello, RSA with 2048-bit key!\n"
          ]
        }
      ]
    },
    {
      "cell_type": "code",
      "source": [
        "#貪心演算法的工作原理\n",
        "def min_coins_greedy(coins, amount):\n",
        "    # 將硬幣按面值從大到小排序\n",
        "    coins.sort(reverse=True)\n",
        "    count = 0\n",
        "    for coin in coins:\n",
        "        if amount == 0:\n",
        "            break\n",
        "        # 使用盡可能多的當前面值硬幣\n",
        "        count += amount // coin\n",
        "        amount %= coin\n",
        "    return count\n",
        "\n",
        "# 測試貪心算法解決貨幣找零問題\n",
        "coins = [1, 5, 10, 25]\n",
        "amount = 63\n",
        "min_coins = min_coins_greedy(coins, amount)\n",
        "print(f\"最少需要的硬幣數量: {min_coins}\")"
      ],
      "metadata": {
        "colab": {
          "base_uri": "https://localhost:8080/"
        },
        "id": "T7PsVk5Qes0m",
        "outputId": "553f9837-3a61-49d9-bee8-16fdb6a6a1f7"
      },
      "execution_count": 26,
      "outputs": [
        {
          "output_type": "stream",
          "name": "stdout",
          "text": [
            "最少需要的硬幣數量: 6\n"
          ]
        }
      ]
    },
    {
      "cell_type": "code",
      "source": [
        "#貪心算法來進行投資組合優化\n",
        "def max_profit_greedy(investments, budget):\n",
        "    # 將投資項目按收益/成本比從高到低排序\n",
        "    investments.sort(key=lambda x: x['profit'] / x['cost'], reverse=True)\n",
        "    total_profit = 0\n",
        "    for investment in investments:\n",
        "        if budget == 0:\n",
        "            break\n",
        "        if investment['cost'] <= budget:\n",
        "            budget -= investment['cost']\n",
        "            total_profit += investment['profit']\n",
        "    return total_profit\n",
        "\n",
        "# 測試投資組合優化\n",
        "investments = [\n",
        "    {'cost': 100, 'profit': 10},\n",
        "    {'cost': 200, 'profit': 20},\n",
        "    {'cost': 300, 'profit': 30},\n",
        "    {'cost': 400, 'profit': 40}\n",
        "]\n",
        "budget = 500\n",
        "max_profit = max_profit_greedy(investments, budget)\n",
        "print(f\"最大預期回報: {max_profit}\")"
      ],
      "metadata": {
        "colab": {
          "base_uri": "https://localhost:8080/"
        },
        "id": "rdF4SFbGev72",
        "outputId": "56038a00-e73a-4890-cc11-224b1dbe0d5a"
      },
      "execution_count": 27,
      "outputs": [
        {
          "output_type": "stream",
          "name": "stdout",
          "text": [
            "最大預期回報: 30\n"
          ]
        }
      ]
    },
    {
      "cell_type": "code",
      "source": [
        "#動態規劃的解法\n",
        "def min_coins_dp(coins, amount):\n",
        "    dp = [float('inf')] * (amount + 1)\n",
        "    dp[0] = 0\n",
        "    for coin in coins:\n",
        "        for x in range(coin, amount + 1):\n",
        "            dp[x] = min(dp[x], dp[x - coin] + 1)\n",
        "    return dp[amount] if dp[amount] != float('inf') else -1\n",
        "\n",
        "# 測試動態規劃解法\n",
        "coins = [1, 3, 4]\n",
        "amount = 6\n",
        "min_coins = min_coins_dp(coins, amount)\n",
        "print(f\"最少需要的硬幣數量（正確解法）: {min_coins}\")"
      ],
      "metadata": {
        "colab": {
          "base_uri": "https://localhost:8080/"
        },
        "id": "7r7hNQpbe0pf",
        "outputId": "43c0bac4-bdb1-44bf-f283-7d209d9e8331"
      },
      "execution_count": 28,
      "outputs": [
        {
          "output_type": "stream",
          "name": "stdout",
          "text": [
            "最少需要的硬幣數量（正確解法）: 2\n"
          ]
        }
      ]
    },
    {
      "cell_type": "code",
      "source": [
        "#冒泡排序\n",
        "def bubble_sort(arr):\n",
        "    n = len(arr)\n",
        "    for i in range(n):\n",
        "        # 提前退出標誌\n",
        "        swapped = False\n",
        "        for j in range(0, n-i-1):\n",
        "            if arr[j] > arr[j+1]:\n",
        "                arr[j], arr[j+1] = arr[j+1], arr[j]\n",
        "                swapped = True\n",
        "        if not swapped:\n",
        "            break\n",
        "    return arr\n",
        "\n",
        "# 測試冒泡排序\n",
        "example_arr = [64, 34, 25, 12, 22, 11, 90]\n",
        "sorted_arr = bubble_sort(example_arr)\n",
        "print(\"排序後的數列:\", sorted_arr)"
      ],
      "metadata": {
        "colab": {
          "base_uri": "https://localhost:8080/"
        },
        "id": "1qLaicZwe2dd",
        "outputId": "5077c3d2-4aed-437d-9d3d-d74b57b08316"
      },
      "execution_count": 29,
      "outputs": [
        {
          "output_type": "stream",
          "name": "stdout",
          "text": [
            "排序後的數列: [11, 12, 22, 25, 34, 64, 90]\n"
          ]
        }
      ]
    },
    {
      "cell_type": "code",
      "source": [
        "#快速排序\n",
        "def quick_sort(arr):\n",
        "    if len(arr) <= 1:\n",
        "        return arr\n",
        "    else:\n",
        "        pivot = arr[len(arr) // 2]\n",
        "        left = [x for x in arr if x < pivot]\n",
        "        middle = [x for x in arr if x == pivot]\n",
        "        right = [x for x in arr if x > pivot]\n",
        "        return quick_sort(left) + middle + quick_sort(right)\n",
        "\n",
        "# 測試快速排序\n",
        "example_arr = [64, 34, 25, 12, 22, 11, 90]\n",
        "sorted_arr = quick_sort(example_arr)\n",
        "print(\"排序後的數列:\", sorted_arr)"
      ],
      "metadata": {
        "colab": {
          "base_uri": "https://localhost:8080/"
        },
        "id": "GCccx39Ge-x-",
        "outputId": "b02ddf51-01df-4964-a110-757113d5f5e9"
      },
      "execution_count": 30,
      "outputs": [
        {
          "output_type": "stream",
          "name": "stdout",
          "text": [
            "排序後的數列: [11, 12, 22, 25, 34, 64, 90]\n"
          ]
        }
      ]
    },
    {
      "cell_type": "code",
      "source": [
        "#將一組產品按價格排序\n",
        "# 定義產品列表，每個產品包含名稱和價格\n",
        "products = [\n",
        "    {\"name\": \"Laptop\", \"price\": 999.99},\n",
        "    {\"name\": \"Smartphone\", \"price\": 699.99},\n",
        "    {\"name\": \"Tablet\", \"price\": 499.99},\n",
        "    {\"name\": \"Monitor\", \"price\": 199.99},\n",
        "    {\"name\": \"Keyboard\", \"price\": 49.99}\n",
        "]\n",
        "\n",
        "# 使用lambda函數按價格排序產品列表\n",
        "sorted_products = sorted(products, key=lambda x: x[\"price\"])\n",
        "\n",
        "# 打印排序後的產品列表\n",
        "print(\"按價格排序後的產品列表:\")\n",
        "for product in sorted_products:\n",
        "    print(f\"{product['name']}: ${product['price']}\")"
      ],
      "metadata": {
        "colab": {
          "base_uri": "https://localhost:8080/"
        },
        "id": "1JxFLw_ufG1V",
        "outputId": "b799ef53-ce89-4748-bf5c-5e90cd3ff9c5"
      },
      "execution_count": 31,
      "outputs": [
        {
          "output_type": "stream",
          "name": "stdout",
          "text": [
            "按價格排序後的產品列表:\n",
            "Keyboard: $49.99\n",
            "Monitor: $199.99\n",
            "Tablet: $499.99\n",
            "Smartphone: $699.99\n",
            "Laptop: $999.99\n"
          ]
        }
      ]
    },
    {
      "cell_type": "code",
      "source": [
        "#動態規劃解法\n",
        "def knapsack(weights, values, capacity):\n",
        "    n = len(weights)\n",
        "    # 初始化dp表，dp[i][j]表示前i個物品在容量為j的背包中的最大價值\n",
        "    dp = [[0 for _ in range(capacity + 1)] for _ in range(n + 1)]\n",
        "\n",
        "    # 填充dp表\n",
        "    for i in range(1, n + 1):\n",
        "        for w in range(1, capacity + 1):\n",
        "            if weights[i - 1] <= w:\n",
        "                # 取不取物品i\n",
        "                dp[i][w] = max(dp[i - 1][w], dp[i - 1][w - weights[i - 1]] + values[i - 1])\n",
        "            else:\n",
        "                dp[i][w] = dp[i - 1][w]\n",
        "\n",
        "    return dp[n][capacity]\n",
        "\n",
        "# 測試0/1背包問題\n",
        "weights = [2, 3, 4, 5]\n",
        "values = [3, 4, 5, 6]\n",
        "capacity = 5\n",
        "max_value = knapsack(weights, values, capacity)\n",
        "print(f\"背包的最大價值: {max_value}\")"
      ],
      "metadata": {
        "colab": {
          "base_uri": "https://localhost:8080/"
        },
        "id": "NPfiVQ--fhsv",
        "outputId": "def34dba-8a47-4909-bc14-16086f04e05a"
      },
      "execution_count": 32,
      "outputs": [
        {
          "output_type": "stream",
          "name": "stdout",
          "text": [
            "背包的最大價值: 7\n"
          ]
        }
      ]
    },
    {
      "cell_type": "code",
      "source": [
        "#投資組合優化\n",
        "def investment_portfolio(weights, returns, budget):\n",
        "    n = len(weights)\n",
        "    dp = [[0 for _ in range(budget + 1)] for _ in range(n + 1)]\n",
        "\n",
        "    for i in range(1, n + 1):\n",
        "        for b in range(1, budget + 1):\n",
        "            if weights[i - 1] <= b:\n",
        "                dp[i][b] = max(dp[i - 1][b], dp[i - 1][b - weights[i - 1]] + returns[i - 1])\n",
        "            else:\n",
        "                dp[i][b] = dp[i - 1][b]\n",
        "\n",
        "    return dp[n][budget]\n",
        "\n",
        "# 測試投資組合優化\n",
        "investment_costs = [100, 200, 300, 400]\n",
        "expected_returns = [10, 20, 30, 40]\n",
        "total_budget = 500\n",
        "max_return = investment_portfolio(investment_costs, expected_returns, total_budget)\n",
        "print(f\"最大預期回報: {max_return}\")"
      ],
      "metadata": {
        "colab": {
          "base_uri": "https://localhost:8080/"
        },
        "id": "r9yOT3IEftSH",
        "outputId": "0548ab1d-977c-41ed-bcab-700cf2db5b9d"
      },
      "execution_count": 33,
      "outputs": [
        {
          "output_type": "stream",
          "name": "stdout",
          "text": [
            "最大預期回報: 50\n"
          ]
        }
      ]
    },
    {
      "cell_type": "code",
      "source": [
        "#動態規劃解法的工作原理\n",
        "def max_subarray_sum(nums):\n",
        "    # 初始化\n",
        "    max_sum = nums[0]\n",
        "    current_sum = nums[0]\n",
        "\n",
        "    for num in nums[1:]:\n",
        "        # 更新當前子數列的最大和\n",
        "        current_sum = max(num, current_sum + num)\n",
        "        # 更新全局最大和\n",
        "        max_sum = max(max_sum, current_sum)\n",
        "\n",
        "    return max_sum\n",
        "\n",
        "# 測試最大子序列和問題\n",
        "example_arr = [-2, 1, -3, 4, -1, 2, 1, -5, 4]\n",
        "max_sum = max_subarray_sum(example_arr)\n",
        "print(f\"最大子序列和為: {max_sum}\")"
      ],
      "metadata": {
        "colab": {
          "base_uri": "https://localhost:8080/"
        },
        "id": "9t-QIgDtf3DX",
        "outputId": "bd8309dc-a271-47e0-f412-ae668ddb0ec6"
      },
      "execution_count": 34,
      "outputs": [
        {
          "output_type": "stream",
          "name": "stdout",
          "text": [
            "最大子序列和為: 6\n"
          ]
        }
      ]
    },
    {
      "cell_type": "code",
      "source": [
        "#分治法解決最大子序列和問題\n",
        "def max_crossing_sum(nums, left, mid, right):\n",
        "    left_sum = float('-inf')\n",
        "    total = 0\n",
        "    for i in range(mid, left - 1, -1):\n",
        "        total += nums[i]\n",
        "        if total > left_sum:\n",
        "            left_sum = total\n",
        "\n",
        "    right_sum = float('-inf')\n",
        "    total = 0\n",
        "    for i in range(mid + 1, right + 1):\n",
        "        total += nums[i]\n",
        "        if total > right_sum:\n",
        "            right_sum = total\n",
        "\n",
        "    return left_sum + right_sum\n",
        "\n",
        "def max_subarray_sum_divide_and_conquer(nums, left, right):\n",
        "    if left == right:\n",
        "        return nums[left]\n",
        "\n",
        "    mid = (left + right) // 2\n",
        "\n",
        "    left_sum = max_subarray_sum_divide_and_conquer(nums, left, mid)\n",
        "    right_sum = max_subarray_sum_divide_and_conquer(nums, mid + 1, right)\n",
        "    cross_sum = max_crossing_sum(nums, left, mid, right)\n",
        "\n",
        "    return max(left_sum, right_sum, cross_sum)\n",
        "\n",
        "# 測試分治法解決最大子序列和問題\n",
        "example_arr = [-2, 1, -3, 4, -1, 2, 1, -5, 4]\n",
        "max_sum = max_subarray_sum_divide_and_conquer(example_arr, 0, len(example_arr) - 1)\n",
        "print(f\"最大子序列和為: {max_sum}\")"
      ],
      "metadata": {
        "colab": {
          "base_uri": "https://localhost:8080/"
        },
        "id": "KpNZR-ZQf8Kv",
        "outputId": "14e05cdc-b97d-4620-c966-110b5a1e3f1a"
      },
      "execution_count": 35,
      "outputs": [
        {
          "output_type": "stream",
          "name": "stdout",
          "text": [
            "最大子序列和為: 6\n"
          ]
        }
      ]
    },
    {
      "cell_type": "code",
      "source": [
        "#使用最大子序列和算法來進行股票價格分析\n",
        "def max_profit(prices):\n",
        "    changes = [prices[i+1] - prices[i] for i in range(len(prices)-1)]\n",
        "    return max_subarray_sum(changes)\n",
        "\n",
        "# 測試股票價格分析\n",
        "prices = [100, 180, 260, 310, 40, 535, 695]\n",
        "profit = max_profit(prices)\n",
        "print(f\"最大利潤為: {profit}\")"
      ],
      "metadata": {
        "colab": {
          "base_uri": "https://localhost:8080/"
        },
        "id": "8fVgce7TgBt_",
        "outputId": "bf765dd2-b3be-42b6-bf09-89152bf0578b"
      },
      "execution_count": 36,
      "outputs": [
        {
          "output_type": "stream",
          "name": "stdout",
          "text": [
            "最大利潤為: 655\n"
          ]
        }
      ]
    },
    {
      "cell_type": "code",
      "source": [
        "#Fibonacci數列最直觀的方法\n",
        "def fibonacci_recursive(n):\n",
        "    if n <= 0:\n",
        "        return 0\n",
        "    elif n == 1:\n",
        "        return 1\n",
        "    else:\n",
        "        return fibonacci_recursive(n-1) + fibonacci_recursive(n-2)\n",
        "\n",
        "# 測試遞迴法計算Fibonacci數列\n",
        "n = 10\n",
        "print(f\"第 {n} 項 Fibonacci 數為: {fibonacci_recursive(n)}\")"
      ],
      "metadata": {
        "colab": {
          "base_uri": "https://localhost:8080/"
        },
        "id": "7d9x51yqgJzQ",
        "outputId": "f15f951e-95ac-4c6b-a246-6108178d4813"
      },
      "execution_count": 37,
      "outputs": [
        {
          "output_type": "stream",
          "name": "stdout",
          "text": [
            "第 10 項 Fibonacci 數為: 55\n"
          ]
        }
      ]
    },
    {
      "cell_type": "code",
      "source": [
        "#動態規劃方法\n",
        "def fibonacci_dynamic(n):\n",
        "    if n <= 0:\n",
        "        return 0\n",
        "    elif n == 1:\n",
        "        return 1\n",
        "\n",
        "    fib = [0] * (n + 1)\n",
        "    fib[1] = 1\n",
        "\n",
        "    for i in range(2, n + 1):\n",
        "        fib[i] = fib[i-1] + fib[i-2]\n",
        "\n",
        "    return fib[n]\n",
        "\n",
        "# 測試動態規劃法計算Fibonacci數列\n",
        "n = 10\n",
        "print(f\"第 {n} 項 Fibonacci 數為: {fibonacci_dynamic(n)}\")"
      ],
      "metadata": {
        "colab": {
          "base_uri": "https://localhost:8080/"
        },
        "id": "vyN35u9RgOjv",
        "outputId": "8f3cf43d-fd51-41d3-cf23-3b2e244bd364"
      },
      "execution_count": 38,
      "outputs": [
        {
          "output_type": "stream",
          "name": "stdout",
          "text": [
            "第 10 項 Fibonacci 數為: 55\n"
          ]
        }
      ]
    },
    {
      "cell_type": "code",
      "source": [
        "#使用Fibonacci數列來設計一個簡單的數據結構\n",
        "class FibonacciHeap:\n",
        "    def __init__(self):\n",
        "        self.min_node = None\n",
        "        self.total_nodes = 0\n",
        "\n",
        "    class Node:\n",
        "        def __init__(self, value):\n",
        "            self.value = value\n",
        "            self.degree = 0\n",
        "            self.parent = None\n",
        "            self.child = None\n",
        "            self.left = self\n",
        "            self.right = self\n",
        "\n",
        "    def insert(self, value):\n",
        "        new_node = self.Node(value)\n",
        "        if self.min_node is None:\n",
        "            self.min_node = new_node\n",
        "        else:\n",
        "            self._merge_with_root_list(new_node)\n",
        "            if new_node.value < self.min_node.value:\n",
        "                self.min_node = new_node\n",
        "        self.total_nodes += 1\n",
        "\n",
        "    def _merge_with_root_list(self, node):\n",
        "        node.left = self.min_node\n",
        "        node.right = self.min_node.right\n",
        "        self.min_node.right = node\n",
        "        node.right.left = node\n",
        "\n",
        "# 測試Fibonacci堆的插入操作\n",
        "fib_heap = FibonacciHeap()\n",
        "fib_heap.insert(10)\n",
        "fib_heap.insert(4)\n",
        "fib_heap.insert(15)\n",
        "print(f\"最小值為: {fib_heap.min_node.value}\")"
      ],
      "metadata": {
        "colab": {
          "base_uri": "https://localhost:8080/"
        },
        "id": "IXeFiMPYgTjn",
        "outputId": "cc363a93-1144-4206-a8bd-2172ff6d6d12"
      },
      "execution_count": 39,
      "outputs": [
        {
          "output_type": "stream",
          "name": "stdout",
          "text": [
            "最小值為: 4\n"
          ]
        }
      ]
    },
    {
      "cell_type": "code",
      "source": [
        "#繪製一個基於Fibonacci數列的螺旋圖案\n",
        "import turtle\n",
        "\n",
        "def draw_fibonacci_spiral(n):\n",
        "    fib = [0, 1]\n",
        "    for i in range(2, n):\n",
        "        fib.append(fib[-1] + fib[-2])\n",
        "\n",
        "    turtle.speed(10)\n",
        "    for i in range(n):\n",
        "        turtle.circle(fib[i] * 10, 90)\n",
        "\n",
        "    turtle.done()\n",
        "\n",
        "# 繪製Fibonacci螺旋圖案\n",
        "draw_fibonacci_spiral(10)\n",
        " # 評估模型\n",
        "model.eval()\n",
        "with torch.no_grad():\n",
        "    correct = 0\n",
        "    total = 0\n",
        "    for images, labels in test_loader:\n",
        "        outputs = model(images)\n",
        "        _, predicted = torch.max(outputs.data, 1)\n",
        "        total += labels.size(0)\n",
        "        correct += (predicted == labels).sum().item()\n",
        "\n",
        "    accuracy = correct / total\n",
        "    print(f'準確率: {accuracy:.4f}')"
      ],
      "metadata": {
        "colab": {
          "base_uri": "https://localhost:8080/",
          "height": 373
        },
        "id": "DsOcdeEWgYWn",
        "outputId": "e937304b-4ec3-44a5-bed6-9a63640a606c"
      },
      "execution_count": 53,
      "outputs": [
        {
          "output_type": "error",
          "ename": "TclError",
          "evalue": "no display name and no $DISPLAY environment variable",
          "traceback": [
            "\u001b[0;31m---------------------------------------------------------------------------\u001b[0m",
            "\u001b[0;31mTclError\u001b[0m                                  Traceback (most recent call last)",
            "\u001b[0;32m<ipython-input-53-8f720a825149>\u001b[0m in \u001b[0;36m<cell line: 16>\u001b[0;34m()\u001b[0m\n\u001b[1;32m     14\u001b[0m \u001b[0;34m\u001b[0m\u001b[0m\n\u001b[1;32m     15\u001b[0m \u001b[0;31m# 繪製Fibonacci螺旋圖案\u001b[0m\u001b[0;34m\u001b[0m\u001b[0;34m\u001b[0m\u001b[0m\n\u001b[0;32m---> 16\u001b[0;31m \u001b[0mdraw_fibonacci_spiral\u001b[0m\u001b[0;34m(\u001b[0m\u001b[0;36m10\u001b[0m\u001b[0;34m)\u001b[0m\u001b[0;34m\u001b[0m\u001b[0;34m\u001b[0m\u001b[0m\n\u001b[0m\u001b[1;32m     17\u001b[0m  \u001b[0;31m# 評估模型\u001b[0m\u001b[0;34m\u001b[0m\u001b[0;34m\u001b[0m\u001b[0m\n\u001b[1;32m     18\u001b[0m \u001b[0mmodel\u001b[0m\u001b[0;34m.\u001b[0m\u001b[0meval\u001b[0m\u001b[0;34m(\u001b[0m\u001b[0;34m)\u001b[0m\u001b[0;34m\u001b[0m\u001b[0;34m\u001b[0m\u001b[0m\n",
            "\u001b[0;32m<ipython-input-53-8f720a825149>\u001b[0m in \u001b[0;36mdraw_fibonacci_spiral\u001b[0;34m(n)\u001b[0m\n\u001b[1;32m      7\u001b[0m         \u001b[0mfib\u001b[0m\u001b[0;34m.\u001b[0m\u001b[0mappend\u001b[0m\u001b[0;34m(\u001b[0m\u001b[0mfib\u001b[0m\u001b[0;34m[\u001b[0m\u001b[0;34m-\u001b[0m\u001b[0;36m1\u001b[0m\u001b[0;34m]\u001b[0m \u001b[0;34m+\u001b[0m \u001b[0mfib\u001b[0m\u001b[0;34m[\u001b[0m\u001b[0;34m-\u001b[0m\u001b[0;36m2\u001b[0m\u001b[0;34m]\u001b[0m\u001b[0;34m)\u001b[0m\u001b[0;34m\u001b[0m\u001b[0;34m\u001b[0m\u001b[0m\n\u001b[1;32m      8\u001b[0m \u001b[0;34m\u001b[0m\u001b[0m\n\u001b[0;32m----> 9\u001b[0;31m     \u001b[0mturtle\u001b[0m\u001b[0;34m.\u001b[0m\u001b[0mspeed\u001b[0m\u001b[0;34m(\u001b[0m\u001b[0;36m10\u001b[0m\u001b[0;34m)\u001b[0m\u001b[0;34m\u001b[0m\u001b[0;34m\u001b[0m\u001b[0m\n\u001b[0m\u001b[1;32m     10\u001b[0m     \u001b[0;32mfor\u001b[0m \u001b[0mi\u001b[0m \u001b[0;32min\u001b[0m \u001b[0mrange\u001b[0m\u001b[0;34m(\u001b[0m\u001b[0mn\u001b[0m\u001b[0;34m)\u001b[0m\u001b[0;34m:\u001b[0m\u001b[0;34m\u001b[0m\u001b[0;34m\u001b[0m\u001b[0m\n\u001b[1;32m     11\u001b[0m         \u001b[0mturtle\u001b[0m\u001b[0;34m.\u001b[0m\u001b[0mcircle\u001b[0m\u001b[0;34m(\u001b[0m\u001b[0mfib\u001b[0m\u001b[0;34m[\u001b[0m\u001b[0mi\u001b[0m\u001b[0;34m]\u001b[0m \u001b[0;34m*\u001b[0m \u001b[0;36m10\u001b[0m\u001b[0;34m,\u001b[0m \u001b[0;36m90\u001b[0m\u001b[0;34m)\u001b[0m\u001b[0;34m\u001b[0m\u001b[0;34m\u001b[0m\u001b[0m\n",
            "\u001b[0;32m/usr/lib/python3.10/turtle.py\u001b[0m in \u001b[0;36mspeed\u001b[0;34m(speed)\u001b[0m\n",
            "\u001b[0;32m/usr/lib/python3.10/turtle.py\u001b[0m in \u001b[0;36m__init__\u001b[0;34m(self, shape, undobuffersize, visible)\u001b[0m\n\u001b[1;32m   3812\u001b[0m                  visible=_CFG[\"visible\"]):\n\u001b[1;32m   3813\u001b[0m         \u001b[0;32mif\u001b[0m \u001b[0mTurtle\u001b[0m\u001b[0;34m.\u001b[0m\u001b[0m_screen\u001b[0m \u001b[0;32mis\u001b[0m \u001b[0;32mNone\u001b[0m\u001b[0;34m:\u001b[0m\u001b[0;34m\u001b[0m\u001b[0;34m\u001b[0m\u001b[0m\n\u001b[0;32m-> 3814\u001b[0;31m             \u001b[0mTurtle\u001b[0m\u001b[0;34m.\u001b[0m\u001b[0m_screen\u001b[0m \u001b[0;34m=\u001b[0m \u001b[0mScreen\u001b[0m\u001b[0;34m(\u001b[0m\u001b[0;34m)\u001b[0m\u001b[0;34m\u001b[0m\u001b[0;34m\u001b[0m\u001b[0m\n\u001b[0m\u001b[1;32m   3815\u001b[0m         RawTurtle.__init__(self, Turtle._screen,\n\u001b[1;32m   3816\u001b[0m                            \u001b[0mshape\u001b[0m\u001b[0;34m=\u001b[0m\u001b[0mshape\u001b[0m\u001b[0;34m,\u001b[0m\u001b[0;34m\u001b[0m\u001b[0;34m\u001b[0m\u001b[0m\n",
            "\u001b[0;32m/usr/lib/python3.10/turtle.py\u001b[0m in \u001b[0;36mScreen\u001b[0;34m()\u001b[0m\n\u001b[1;32m   3662\u001b[0m     else return the existing one.\"\"\"\n\u001b[1;32m   3663\u001b[0m     \u001b[0;32mif\u001b[0m \u001b[0mTurtle\u001b[0m\u001b[0;34m.\u001b[0m\u001b[0m_screen\u001b[0m \u001b[0;32mis\u001b[0m \u001b[0;32mNone\u001b[0m\u001b[0;34m:\u001b[0m\u001b[0;34m\u001b[0m\u001b[0;34m\u001b[0m\u001b[0m\n\u001b[0;32m-> 3664\u001b[0;31m         \u001b[0mTurtle\u001b[0m\u001b[0;34m.\u001b[0m\u001b[0m_screen\u001b[0m \u001b[0;34m=\u001b[0m \u001b[0m_Screen\u001b[0m\u001b[0;34m(\u001b[0m\u001b[0;34m)\u001b[0m\u001b[0;34m\u001b[0m\u001b[0;34m\u001b[0m\u001b[0m\n\u001b[0m\u001b[1;32m   3665\u001b[0m     \u001b[0;32mreturn\u001b[0m \u001b[0mTurtle\u001b[0m\u001b[0;34m.\u001b[0m\u001b[0m_screen\u001b[0m\u001b[0;34m\u001b[0m\u001b[0;34m\u001b[0m\u001b[0m\n\u001b[1;32m   3666\u001b[0m \u001b[0;34m\u001b[0m\u001b[0m\n",
            "\u001b[0;32m/usr/lib/python3.10/turtle.py\u001b[0m in \u001b[0;36m__init__\u001b[0;34m(self)\u001b[0m\n\u001b[1;32m   3678\u001b[0m         \u001b[0;31m# preserved (perhaps by passing it as an optional parameter)\u001b[0m\u001b[0;34m\u001b[0m\u001b[0;34m\u001b[0m\u001b[0m\n\u001b[1;32m   3679\u001b[0m         \u001b[0;32mif\u001b[0m \u001b[0m_Screen\u001b[0m\u001b[0;34m.\u001b[0m\u001b[0m_root\u001b[0m \u001b[0;32mis\u001b[0m \u001b[0;32mNone\u001b[0m\u001b[0;34m:\u001b[0m\u001b[0;34m\u001b[0m\u001b[0;34m\u001b[0m\u001b[0m\n\u001b[0;32m-> 3680\u001b[0;31m             \u001b[0m_Screen\u001b[0m\u001b[0;34m.\u001b[0m\u001b[0m_root\u001b[0m \u001b[0;34m=\u001b[0m \u001b[0mself\u001b[0m\u001b[0;34m.\u001b[0m\u001b[0m_root\u001b[0m \u001b[0;34m=\u001b[0m \u001b[0m_Root\u001b[0m\u001b[0;34m(\u001b[0m\u001b[0;34m)\u001b[0m\u001b[0;34m\u001b[0m\u001b[0;34m\u001b[0m\u001b[0m\n\u001b[0m\u001b[1;32m   3681\u001b[0m             \u001b[0mself\u001b[0m\u001b[0;34m.\u001b[0m\u001b[0m_root\u001b[0m\u001b[0;34m.\u001b[0m\u001b[0mtitle\u001b[0m\u001b[0;34m(\u001b[0m\u001b[0m_Screen\u001b[0m\u001b[0;34m.\u001b[0m\u001b[0m_title\u001b[0m\u001b[0;34m)\u001b[0m\u001b[0;34m\u001b[0m\u001b[0;34m\u001b[0m\u001b[0m\n\u001b[1;32m   3682\u001b[0m             \u001b[0mself\u001b[0m\u001b[0;34m.\u001b[0m\u001b[0m_root\u001b[0m\u001b[0;34m.\u001b[0m\u001b[0mondestroy\u001b[0m\u001b[0;34m(\u001b[0m\u001b[0mself\u001b[0m\u001b[0;34m.\u001b[0m\u001b[0m_destroy\u001b[0m\u001b[0;34m)\u001b[0m\u001b[0;34m\u001b[0m\u001b[0;34m\u001b[0m\u001b[0m\n",
            "\u001b[0;32m/usr/lib/python3.10/turtle.py\u001b[0m in \u001b[0;36m__init__\u001b[0;34m(self)\u001b[0m\n\u001b[1;32m    433\u001b[0m     \u001b[0;34m\"\"\"Root class for Screen based on Tkinter.\"\"\"\u001b[0m\u001b[0;34m\u001b[0m\u001b[0;34m\u001b[0m\u001b[0m\n\u001b[1;32m    434\u001b[0m     \u001b[0;32mdef\u001b[0m \u001b[0m__init__\u001b[0m\u001b[0;34m(\u001b[0m\u001b[0mself\u001b[0m\u001b[0;34m)\u001b[0m\u001b[0;34m:\u001b[0m\u001b[0;34m\u001b[0m\u001b[0;34m\u001b[0m\u001b[0m\n\u001b[0;32m--> 435\u001b[0;31m         \u001b[0mTK\u001b[0m\u001b[0;34m.\u001b[0m\u001b[0mTk\u001b[0m\u001b[0;34m.\u001b[0m\u001b[0m__init__\u001b[0m\u001b[0;34m(\u001b[0m\u001b[0mself\u001b[0m\u001b[0;34m)\u001b[0m\u001b[0;34m\u001b[0m\u001b[0;34m\u001b[0m\u001b[0m\n\u001b[0m\u001b[1;32m    436\u001b[0m \u001b[0;34m\u001b[0m\u001b[0m\n\u001b[1;32m    437\u001b[0m     \u001b[0;32mdef\u001b[0m \u001b[0msetupcanvas\u001b[0m\u001b[0;34m(\u001b[0m\u001b[0mself\u001b[0m\u001b[0;34m,\u001b[0m \u001b[0mwidth\u001b[0m\u001b[0;34m,\u001b[0m \u001b[0mheight\u001b[0m\u001b[0;34m,\u001b[0m \u001b[0mcwidth\u001b[0m\u001b[0;34m,\u001b[0m \u001b[0mcheight\u001b[0m\u001b[0;34m)\u001b[0m\u001b[0;34m:\u001b[0m\u001b[0;34m\u001b[0m\u001b[0;34m\u001b[0m\u001b[0m\n",
            "\u001b[0;32m/usr/lib/python3.10/tkinter/__init__.py\u001b[0m in \u001b[0;36m__init__\u001b[0;34m(self, screenName, baseName, className, useTk, sync, use)\u001b[0m\n\u001b[1;32m   2297\u001b[0m                 \u001b[0mbaseName\u001b[0m \u001b[0;34m=\u001b[0m \u001b[0mbaseName\u001b[0m \u001b[0;34m+\u001b[0m \u001b[0mext\u001b[0m\u001b[0;34m\u001b[0m\u001b[0;34m\u001b[0m\u001b[0m\n\u001b[1;32m   2298\u001b[0m         \u001b[0minteractive\u001b[0m \u001b[0;34m=\u001b[0m \u001b[0;32mFalse\u001b[0m\u001b[0;34m\u001b[0m\u001b[0;34m\u001b[0m\u001b[0m\n\u001b[0;32m-> 2299\u001b[0;31m         \u001b[0mself\u001b[0m\u001b[0;34m.\u001b[0m\u001b[0mtk\u001b[0m \u001b[0;34m=\u001b[0m \u001b[0m_tkinter\u001b[0m\u001b[0;34m.\u001b[0m\u001b[0mcreate\u001b[0m\u001b[0;34m(\u001b[0m\u001b[0mscreenName\u001b[0m\u001b[0;34m,\u001b[0m \u001b[0mbaseName\u001b[0m\u001b[0;34m,\u001b[0m \u001b[0mclassName\u001b[0m\u001b[0;34m,\u001b[0m \u001b[0minteractive\u001b[0m\u001b[0;34m,\u001b[0m \u001b[0mwantobjects\u001b[0m\u001b[0;34m,\u001b[0m \u001b[0museTk\u001b[0m\u001b[0;34m,\u001b[0m \u001b[0msync\u001b[0m\u001b[0;34m,\u001b[0m \u001b[0muse\u001b[0m\u001b[0;34m)\u001b[0m\u001b[0;34m\u001b[0m\u001b[0;34m\u001b[0m\u001b[0m\n\u001b[0m\u001b[1;32m   2300\u001b[0m         \u001b[0;32mif\u001b[0m \u001b[0museTk\u001b[0m\u001b[0;34m:\u001b[0m\u001b[0;34m\u001b[0m\u001b[0;34m\u001b[0m\u001b[0m\n\u001b[1;32m   2301\u001b[0m             \u001b[0mself\u001b[0m\u001b[0;34m.\u001b[0m\u001b[0m_loadtk\u001b[0m\u001b[0;34m(\u001b[0m\u001b[0;34m)\u001b[0m\u001b[0;34m\u001b[0m\u001b[0;34m\u001b[0m\u001b[0m\n",
            "\u001b[0;31mTclError\u001b[0m: no display name and no $DISPLAY environment variable"
          ]
        }
      ]
    },
    {
      "cell_type": "code",
      "source": [
        "#使用PyTorch和GPU加速訓練神經網絡\n",
        "import torch\n",
        "import torch.nn as nn\n",
        "import torch.optim as optim\n",
        "from torchvision import datasets, transforms\n",
        "from torch.utils.data import DataLoader\n",
        "\n",
        "# 檢查是否有可用的GPU\n",
        "device = torch.device('cuda' if torch.cuda.is_available() else 'cpu')\n",
        "print(f\"使用設備: {device}\")\n",
        "\n",
        "# 定義卷積神經網絡模型\n",
        "class CNN(nn.Module):\n",
        "    def __init__(self):\n",
        "        super(CNN, self).__init__()\n",
        "        self.conv1 = nn.Conv2d(3, 32, kernel_size=3, padding=1)\n",
        "        self.pool = nn.MaxPool2d(kernel_size=2, stride=2, padding=0)\n",
        "        self.conv2 = nn.Conv2d(32, 64, kernel_size=3, padding=1)\n",
        "        self.fc1 = nn.Linear(64 * 8 * 8, 256)\n",
        "        self.fc2 = nn.Linear(256, 10)\n",
        "        self.relu = nn.ReLU()\n",
        "\n",
        "    def forward(self, x):\n",
        "        x = self.pool(self.relu(self.conv1(x)))\n",
        "        x = self.pool(self.relu(self.conv2(x)))\n",
        "        x = x.view(-1, 64 * 8 * 8)\n",
        "        x = self.relu(self.fc1(x))\n",
        "        x = self.fc2(x)\n",
        "        return x\n",
        "\n",
        "# 設定超參數\n",
        "batch_size = 64\n",
        "num_epochs = 10\n",
        "learning_rate = 0.001\n",
        "\n",
        "# 定義數據預處理和加載\n",
        "transform = transforms.Compose([\n",
        "    transforms.ToTensor(),\n",
        "    transforms.Normalize((0.5, 0.5, 0.5), (0.5, 0.5, 0.5))\n",
        "])\n",
        "\n",
        "train_dataset = datasets.CIFAR10(root='./data', train=True, download=True, transform=transform)\n",
        "test_dataset = datasets.CIFAR10(root='./data', train=False, download=True, transform=transform)\n",
        "\n",
        "train_loader = DataLoader(train_dataset, batch_size=batch_size, shuffle=True)\n",
        "test_loader = DataLoader(test_dataset, batch_size=batch_size, shuffle=False)\n",
        "\n",
        "# 初始化模型、損失函數和優化器\n",
        "model = CNN().to(device)\n",
        "criterion = nn.CrossEntropyLoss()\n",
        "optimizer = optim.Adam(model.parameters(), lr=learning_rate)\n",
        "\n",
        " # 訓練模型\n",
        "for epoch in range(num_epochs):\n",
        "     for i, (images, labels) in enumerate(train_loader):\n",
        "        images = images.to(device)\n",
        "        labels = labels.to(device)\n",
        "\n",
        "        outputs = model(images)\n",
        "        loss = criterion(outputs, labels)\n",
        "\n",
        "        optimizer.zero_grad()\n",
        "        loss.backward()\n",
        "        optimizer.step()\n",
        "\n",
        "     print(f'Epoch [{epoch+1}/{num_epochs}], Loss: {loss.item():.4f}')\n",
        "\n",
        "\n",
        "# 評估模型\n",
        "model.eval()\n",
        "with torch.no_grad():\n",
        "    correct = 0\n",
        "    total = 0\n",
        "    for images, labels in test_loader:\n",
        "        images = images.to(device)\n",
        "        labels = labels.to(device)\n",
        "        outputs = model(images)\n",
        "        _, predicted = torch.max(outputs.data, 1)\n",
        "        total += labels.size(0)\n",
        "        correct += (predicted == labels).sum().item()\n",
        "\n",
        "    accuracy = correct / total\n",
        "    print(f'準確率: {accuracy:.4f}')"
      ],
      "metadata": {
        "colab": {
          "base_uri": "https://localhost:8080/",
          "height": 443
        },
        "id": "Rh-it6yei-6H",
        "outputId": "bc0077f4-8d74-4d97-d65c-436f9f184a58"
      },
      "execution_count": 57,
      "outputs": [
        {
          "output_type": "stream",
          "name": "stdout",
          "text": [
            "使用設備: cpu\n",
            "Files already downloaded and verified\n",
            "Files already downloaded and verified\n",
            "Epoch [1/10], Loss: 1.2271\n"
          ]
        },
        {
          "output_type": "error",
          "ename": "KeyboardInterrupt",
          "evalue": "",
          "traceback": [
            "\u001b[0;31m---------------------------------------------------------------------------\u001b[0m",
            "\u001b[0;31mKeyboardInterrupt\u001b[0m                         Traceback (most recent call last)",
            "\u001b[0;32m<ipython-input-57-3476e3c7d0d2>\u001b[0m in \u001b[0;36m<cell line: 54>\u001b[0;34m()\u001b[0m\n\u001b[1;32m     57\u001b[0m         \u001b[0mlabels\u001b[0m \u001b[0;34m=\u001b[0m \u001b[0mlabels\u001b[0m\u001b[0;34m.\u001b[0m\u001b[0mto\u001b[0m\u001b[0;34m(\u001b[0m\u001b[0mdevice\u001b[0m\u001b[0;34m)\u001b[0m\u001b[0;34m\u001b[0m\u001b[0;34m\u001b[0m\u001b[0m\n\u001b[1;32m     58\u001b[0m \u001b[0;34m\u001b[0m\u001b[0m\n\u001b[0;32m---> 59\u001b[0;31m         \u001b[0moutputs\u001b[0m \u001b[0;34m=\u001b[0m \u001b[0mmodel\u001b[0m\u001b[0;34m(\u001b[0m\u001b[0mimages\u001b[0m\u001b[0;34m)\u001b[0m\u001b[0;34m\u001b[0m\u001b[0;34m\u001b[0m\u001b[0m\n\u001b[0m\u001b[1;32m     60\u001b[0m         \u001b[0mloss\u001b[0m \u001b[0;34m=\u001b[0m \u001b[0mcriterion\u001b[0m\u001b[0;34m(\u001b[0m\u001b[0moutputs\u001b[0m\u001b[0;34m,\u001b[0m \u001b[0mlabels\u001b[0m\u001b[0;34m)\u001b[0m\u001b[0;34m\u001b[0m\u001b[0;34m\u001b[0m\u001b[0m\n\u001b[1;32m     61\u001b[0m \u001b[0;34m\u001b[0m\u001b[0m\n",
            "\u001b[0;32m/usr/local/lib/python3.10/dist-packages/torch/nn/modules/module.py\u001b[0m in \u001b[0;36m_wrapped_call_impl\u001b[0;34m(self, *args, **kwargs)\u001b[0m\n\u001b[1;32m   1530\u001b[0m             \u001b[0;32mreturn\u001b[0m \u001b[0mself\u001b[0m\u001b[0;34m.\u001b[0m\u001b[0m_compiled_call_impl\u001b[0m\u001b[0;34m(\u001b[0m\u001b[0;34m*\u001b[0m\u001b[0margs\u001b[0m\u001b[0;34m,\u001b[0m \u001b[0;34m**\u001b[0m\u001b[0mkwargs\u001b[0m\u001b[0;34m)\u001b[0m  \u001b[0;31m# type: ignore[misc]\u001b[0m\u001b[0;34m\u001b[0m\u001b[0;34m\u001b[0m\u001b[0m\n\u001b[1;32m   1531\u001b[0m         \u001b[0;32melse\u001b[0m\u001b[0;34m:\u001b[0m\u001b[0;34m\u001b[0m\u001b[0;34m\u001b[0m\u001b[0m\n\u001b[0;32m-> 1532\u001b[0;31m             \u001b[0;32mreturn\u001b[0m \u001b[0mself\u001b[0m\u001b[0;34m.\u001b[0m\u001b[0m_call_impl\u001b[0m\u001b[0;34m(\u001b[0m\u001b[0;34m*\u001b[0m\u001b[0margs\u001b[0m\u001b[0;34m,\u001b[0m \u001b[0;34m**\u001b[0m\u001b[0mkwargs\u001b[0m\u001b[0;34m)\u001b[0m\u001b[0;34m\u001b[0m\u001b[0;34m\u001b[0m\u001b[0m\n\u001b[0m\u001b[1;32m   1533\u001b[0m \u001b[0;34m\u001b[0m\u001b[0m\n\u001b[1;32m   1534\u001b[0m     \u001b[0;32mdef\u001b[0m \u001b[0m_call_impl\u001b[0m\u001b[0;34m(\u001b[0m\u001b[0mself\u001b[0m\u001b[0;34m,\u001b[0m \u001b[0;34m*\u001b[0m\u001b[0margs\u001b[0m\u001b[0;34m,\u001b[0m \u001b[0;34m**\u001b[0m\u001b[0mkwargs\u001b[0m\u001b[0;34m)\u001b[0m\u001b[0;34m:\u001b[0m\u001b[0;34m\u001b[0m\u001b[0;34m\u001b[0m\u001b[0m\n",
            "\u001b[0;32m/usr/local/lib/python3.10/dist-packages/torch/nn/modules/module.py\u001b[0m in \u001b[0;36m_call_impl\u001b[0;34m(self, *args, **kwargs)\u001b[0m\n\u001b[1;32m   1539\u001b[0m                 \u001b[0;32mor\u001b[0m \u001b[0m_global_backward_pre_hooks\u001b[0m \u001b[0;32mor\u001b[0m \u001b[0m_global_backward_hooks\u001b[0m\u001b[0;34m\u001b[0m\u001b[0;34m\u001b[0m\u001b[0m\n\u001b[1;32m   1540\u001b[0m                 or _global_forward_hooks or _global_forward_pre_hooks):\n\u001b[0;32m-> 1541\u001b[0;31m             \u001b[0;32mreturn\u001b[0m \u001b[0mforward_call\u001b[0m\u001b[0;34m(\u001b[0m\u001b[0;34m*\u001b[0m\u001b[0margs\u001b[0m\u001b[0;34m,\u001b[0m \u001b[0;34m**\u001b[0m\u001b[0mkwargs\u001b[0m\u001b[0;34m)\u001b[0m\u001b[0;34m\u001b[0m\u001b[0;34m\u001b[0m\u001b[0m\n\u001b[0m\u001b[1;32m   1542\u001b[0m \u001b[0;34m\u001b[0m\u001b[0m\n\u001b[1;32m   1543\u001b[0m         \u001b[0;32mtry\u001b[0m\u001b[0;34m:\u001b[0m\u001b[0;34m\u001b[0m\u001b[0;34m\u001b[0m\u001b[0m\n",
            "\u001b[0;32m<ipython-input-57-3476e3c7d0d2>\u001b[0m in \u001b[0;36mforward\u001b[0;34m(self, x)\u001b[0m\n\u001b[1;32m     22\u001b[0m \u001b[0;34m\u001b[0m\u001b[0m\n\u001b[1;32m     23\u001b[0m     \u001b[0;32mdef\u001b[0m \u001b[0mforward\u001b[0m\u001b[0;34m(\u001b[0m\u001b[0mself\u001b[0m\u001b[0;34m,\u001b[0m \u001b[0mx\u001b[0m\u001b[0;34m)\u001b[0m\u001b[0;34m:\u001b[0m\u001b[0;34m\u001b[0m\u001b[0;34m\u001b[0m\u001b[0m\n\u001b[0;32m---> 24\u001b[0;31m         \u001b[0mx\u001b[0m \u001b[0;34m=\u001b[0m \u001b[0mself\u001b[0m\u001b[0;34m.\u001b[0m\u001b[0mpool\u001b[0m\u001b[0;34m(\u001b[0m\u001b[0mself\u001b[0m\u001b[0;34m.\u001b[0m\u001b[0mrelu\u001b[0m\u001b[0;34m(\u001b[0m\u001b[0mself\u001b[0m\u001b[0;34m.\u001b[0m\u001b[0mconv1\u001b[0m\u001b[0;34m(\u001b[0m\u001b[0mx\u001b[0m\u001b[0;34m)\u001b[0m\u001b[0;34m)\u001b[0m\u001b[0;34m)\u001b[0m\u001b[0;34m\u001b[0m\u001b[0;34m\u001b[0m\u001b[0m\n\u001b[0m\u001b[1;32m     25\u001b[0m         \u001b[0mx\u001b[0m \u001b[0;34m=\u001b[0m \u001b[0mself\u001b[0m\u001b[0;34m.\u001b[0m\u001b[0mpool\u001b[0m\u001b[0;34m(\u001b[0m\u001b[0mself\u001b[0m\u001b[0;34m.\u001b[0m\u001b[0mrelu\u001b[0m\u001b[0;34m(\u001b[0m\u001b[0mself\u001b[0m\u001b[0;34m.\u001b[0m\u001b[0mconv2\u001b[0m\u001b[0;34m(\u001b[0m\u001b[0mx\u001b[0m\u001b[0;34m)\u001b[0m\u001b[0;34m)\u001b[0m\u001b[0;34m)\u001b[0m\u001b[0;34m\u001b[0m\u001b[0;34m\u001b[0m\u001b[0m\n\u001b[1;32m     26\u001b[0m         \u001b[0mx\u001b[0m \u001b[0;34m=\u001b[0m \u001b[0mx\u001b[0m\u001b[0;34m.\u001b[0m\u001b[0mview\u001b[0m\u001b[0;34m(\u001b[0m\u001b[0;34m-\u001b[0m\u001b[0;36m1\u001b[0m\u001b[0;34m,\u001b[0m \u001b[0;36m64\u001b[0m \u001b[0;34m*\u001b[0m \u001b[0;36m8\u001b[0m \u001b[0;34m*\u001b[0m \u001b[0;36m8\u001b[0m\u001b[0;34m)\u001b[0m\u001b[0;34m\u001b[0m\u001b[0;34m\u001b[0m\u001b[0m\n",
            "\u001b[0;32m/usr/local/lib/python3.10/dist-packages/torch/nn/modules/module.py\u001b[0m in \u001b[0;36m_wrapped_call_impl\u001b[0;34m(self, *args, **kwargs)\u001b[0m\n\u001b[1;32m   1530\u001b[0m             \u001b[0;32mreturn\u001b[0m \u001b[0mself\u001b[0m\u001b[0;34m.\u001b[0m\u001b[0m_compiled_call_impl\u001b[0m\u001b[0;34m(\u001b[0m\u001b[0;34m*\u001b[0m\u001b[0margs\u001b[0m\u001b[0;34m,\u001b[0m \u001b[0;34m**\u001b[0m\u001b[0mkwargs\u001b[0m\u001b[0;34m)\u001b[0m  \u001b[0;31m# type: ignore[misc]\u001b[0m\u001b[0;34m\u001b[0m\u001b[0;34m\u001b[0m\u001b[0m\n\u001b[1;32m   1531\u001b[0m         \u001b[0;32melse\u001b[0m\u001b[0;34m:\u001b[0m\u001b[0;34m\u001b[0m\u001b[0;34m\u001b[0m\u001b[0m\n\u001b[0;32m-> 1532\u001b[0;31m             \u001b[0;32mreturn\u001b[0m \u001b[0mself\u001b[0m\u001b[0;34m.\u001b[0m\u001b[0m_call_impl\u001b[0m\u001b[0;34m(\u001b[0m\u001b[0;34m*\u001b[0m\u001b[0margs\u001b[0m\u001b[0;34m,\u001b[0m \u001b[0;34m**\u001b[0m\u001b[0mkwargs\u001b[0m\u001b[0;34m)\u001b[0m\u001b[0;34m\u001b[0m\u001b[0;34m\u001b[0m\u001b[0m\n\u001b[0m\u001b[1;32m   1533\u001b[0m \u001b[0;34m\u001b[0m\u001b[0m\n\u001b[1;32m   1534\u001b[0m     \u001b[0;32mdef\u001b[0m \u001b[0m_call_impl\u001b[0m\u001b[0;34m(\u001b[0m\u001b[0mself\u001b[0m\u001b[0;34m,\u001b[0m \u001b[0;34m*\u001b[0m\u001b[0margs\u001b[0m\u001b[0;34m,\u001b[0m \u001b[0;34m**\u001b[0m\u001b[0mkwargs\u001b[0m\u001b[0;34m)\u001b[0m\u001b[0;34m:\u001b[0m\u001b[0;34m\u001b[0m\u001b[0;34m\u001b[0m\u001b[0m\n",
            "\u001b[0;32m/usr/local/lib/python3.10/dist-packages/torch/nn/modules/module.py\u001b[0m in \u001b[0;36m_call_impl\u001b[0;34m(self, *args, **kwargs)\u001b[0m\n\u001b[1;32m   1539\u001b[0m                 \u001b[0;32mor\u001b[0m \u001b[0m_global_backward_pre_hooks\u001b[0m \u001b[0;32mor\u001b[0m \u001b[0m_global_backward_hooks\u001b[0m\u001b[0;34m\u001b[0m\u001b[0;34m\u001b[0m\u001b[0m\n\u001b[1;32m   1540\u001b[0m                 or _global_forward_hooks or _global_forward_pre_hooks):\n\u001b[0;32m-> 1541\u001b[0;31m             \u001b[0;32mreturn\u001b[0m \u001b[0mforward_call\u001b[0m\u001b[0;34m(\u001b[0m\u001b[0;34m*\u001b[0m\u001b[0margs\u001b[0m\u001b[0;34m,\u001b[0m \u001b[0;34m**\u001b[0m\u001b[0mkwargs\u001b[0m\u001b[0;34m)\u001b[0m\u001b[0;34m\u001b[0m\u001b[0;34m\u001b[0m\u001b[0m\n\u001b[0m\u001b[1;32m   1542\u001b[0m \u001b[0;34m\u001b[0m\u001b[0m\n\u001b[1;32m   1543\u001b[0m         \u001b[0;32mtry\u001b[0m\u001b[0;34m:\u001b[0m\u001b[0;34m\u001b[0m\u001b[0;34m\u001b[0m\u001b[0m\n",
            "\u001b[0;32m/usr/local/lib/python3.10/dist-packages/torch/nn/modules/pooling.py\u001b[0m in \u001b[0;36mforward\u001b[0;34m(self, input)\u001b[0m\n\u001b[1;32m    162\u001b[0m \u001b[0;34m\u001b[0m\u001b[0m\n\u001b[1;32m    163\u001b[0m     \u001b[0;32mdef\u001b[0m \u001b[0mforward\u001b[0m\u001b[0;34m(\u001b[0m\u001b[0mself\u001b[0m\u001b[0;34m,\u001b[0m \u001b[0minput\u001b[0m\u001b[0;34m:\u001b[0m \u001b[0mTensor\u001b[0m\u001b[0;34m)\u001b[0m\u001b[0;34m:\u001b[0m\u001b[0;34m\u001b[0m\u001b[0;34m\u001b[0m\u001b[0m\n\u001b[0;32m--> 164\u001b[0;31m         return F.max_pool2d(input, self.kernel_size, self.stride,\n\u001b[0m\u001b[1;32m    165\u001b[0m                             \u001b[0mself\u001b[0m\u001b[0;34m.\u001b[0m\u001b[0mpadding\u001b[0m\u001b[0;34m,\u001b[0m \u001b[0mself\u001b[0m\u001b[0;34m.\u001b[0m\u001b[0mdilation\u001b[0m\u001b[0;34m,\u001b[0m \u001b[0mceil_mode\u001b[0m\u001b[0;34m=\u001b[0m\u001b[0mself\u001b[0m\u001b[0;34m.\u001b[0m\u001b[0mceil_mode\u001b[0m\u001b[0;34m,\u001b[0m\u001b[0;34m\u001b[0m\u001b[0;34m\u001b[0m\u001b[0m\n\u001b[1;32m    166\u001b[0m                             return_indices=self.return_indices)\n",
            "\u001b[0;32m/usr/local/lib/python3.10/dist-packages/torch/_jit_internal.py\u001b[0m in \u001b[0;36mfn\u001b[0;34m(*args, **kwargs)\u001b[0m\n\u001b[1;32m    495\u001b[0m             \u001b[0;32mreturn\u001b[0m \u001b[0mif_true\u001b[0m\u001b[0;34m(\u001b[0m\u001b[0;34m*\u001b[0m\u001b[0margs\u001b[0m\u001b[0;34m,\u001b[0m \u001b[0;34m**\u001b[0m\u001b[0mkwargs\u001b[0m\u001b[0;34m)\u001b[0m\u001b[0;34m\u001b[0m\u001b[0;34m\u001b[0m\u001b[0m\n\u001b[1;32m    496\u001b[0m         \u001b[0;32melse\u001b[0m\u001b[0;34m:\u001b[0m\u001b[0;34m\u001b[0m\u001b[0;34m\u001b[0m\u001b[0m\n\u001b[0;32m--> 497\u001b[0;31m             \u001b[0;32mreturn\u001b[0m \u001b[0mif_false\u001b[0m\u001b[0;34m(\u001b[0m\u001b[0;34m*\u001b[0m\u001b[0margs\u001b[0m\u001b[0;34m,\u001b[0m \u001b[0;34m**\u001b[0m\u001b[0mkwargs\u001b[0m\u001b[0;34m)\u001b[0m\u001b[0;34m\u001b[0m\u001b[0;34m\u001b[0m\u001b[0m\n\u001b[0m\u001b[1;32m    498\u001b[0m \u001b[0;34m\u001b[0m\u001b[0m\n\u001b[1;32m    499\u001b[0m     \u001b[0;32mif\u001b[0m \u001b[0mif_true\u001b[0m\u001b[0;34m.\u001b[0m\u001b[0m__doc__\u001b[0m \u001b[0;32mis\u001b[0m \u001b[0;32mNone\u001b[0m \u001b[0;32mand\u001b[0m \u001b[0mif_false\u001b[0m\u001b[0;34m.\u001b[0m\u001b[0m__doc__\u001b[0m \u001b[0;32mis\u001b[0m \u001b[0;32mnot\u001b[0m \u001b[0;32mNone\u001b[0m\u001b[0;34m:\u001b[0m\u001b[0;34m\u001b[0m\u001b[0;34m\u001b[0m\u001b[0m\n",
            "\u001b[0;32m/usr/local/lib/python3.10/dist-packages/torch/nn/functional.py\u001b[0m in \u001b[0;36m_max_pool2d\u001b[0;34m(input, kernel_size, stride, padding, dilation, ceil_mode, return_indices)\u001b[0m\n\u001b[1;32m    794\u001b[0m     \u001b[0;32mif\u001b[0m \u001b[0mstride\u001b[0m \u001b[0;32mis\u001b[0m \u001b[0;32mNone\u001b[0m\u001b[0;34m:\u001b[0m\u001b[0;34m\u001b[0m\u001b[0;34m\u001b[0m\u001b[0m\n\u001b[1;32m    795\u001b[0m         \u001b[0mstride\u001b[0m \u001b[0;34m=\u001b[0m \u001b[0mtorch\u001b[0m\u001b[0;34m.\u001b[0m\u001b[0mjit\u001b[0m\u001b[0;34m.\u001b[0m\u001b[0mannotate\u001b[0m\u001b[0;34m(\u001b[0m\u001b[0mList\u001b[0m\u001b[0;34m[\u001b[0m\u001b[0mint\u001b[0m\u001b[0;34m]\u001b[0m\u001b[0;34m,\u001b[0m \u001b[0;34m[\u001b[0m\u001b[0;34m]\u001b[0m\u001b[0;34m)\u001b[0m\u001b[0;34m\u001b[0m\u001b[0;34m\u001b[0m\u001b[0m\n\u001b[0;32m--> 796\u001b[0;31m     \u001b[0;32mreturn\u001b[0m \u001b[0mtorch\u001b[0m\u001b[0;34m.\u001b[0m\u001b[0mmax_pool2d\u001b[0m\u001b[0;34m(\u001b[0m\u001b[0minput\u001b[0m\u001b[0;34m,\u001b[0m \u001b[0mkernel_size\u001b[0m\u001b[0;34m,\u001b[0m \u001b[0mstride\u001b[0m\u001b[0;34m,\u001b[0m \u001b[0mpadding\u001b[0m\u001b[0;34m,\u001b[0m \u001b[0mdilation\u001b[0m\u001b[0;34m,\u001b[0m \u001b[0mceil_mode\u001b[0m\u001b[0;34m)\u001b[0m\u001b[0;34m\u001b[0m\u001b[0;34m\u001b[0m\u001b[0m\n\u001b[0m\u001b[1;32m    797\u001b[0m \u001b[0;34m\u001b[0m\u001b[0m\n\u001b[1;32m    798\u001b[0m \u001b[0;34m\u001b[0m\u001b[0m\n",
            "\u001b[0;31mKeyboardInterrupt\u001b[0m: "
          ]
        }
      ]
    },
    {
      "cell_type": "code",
      "source": [],
      "metadata": {
        "id": "dLV-9kZ5kJf_"
      },
      "execution_count": null,
      "outputs": []
    },
    {
      "cell_type": "code",
      "source": [],
      "metadata": {
        "id": "hIkERHZeizwp"
      },
      "execution_count": null,
      "outputs": []
    },
    {
      "cell_type": "code",
      "source": [
        "#PageRank演算法\n",
        "import numpy as np\n",
        "\n",
        "def pagerank(matrix, d=0.85, max_iterations=100, tol=1e-6):\n",
        "    n = matrix.shape[0]\n",
        "    # 初始化PageRank值\n",
        "    pr = np.ones(n) / n\n",
        "    # 轉置矩陣\n",
        "    matrix_t = matrix.T\n",
        "    for _ in range(max_iterations):\n",
        "        pr_new = np.ones(n) * (1 - d) / n + d * matrix_t.dot(pr / matrix.sum(axis=1))\n",
        "        # 判斷是否收斂\n",
        "        if np.linalg.norm(pr_new - pr) < tol:\n",
        "            break\n",
        "        pr = pr_new\n",
        "    return pr\n",
        "\n",
        "# 測試PageRank演算法\n",
        "if __name__ == \"__main__\":\n",
        "    # 網頁連結矩陣（行表示鏈出，列表示鏈入）\n",
        "    link_matrix = np.array([[0, 0, 1, 0],\n",
        "                            [1, 0, 0, 1],\n",
        "                            [0, 1, 0, 0],\n",
        "                            [0, 1, 1, 0]])\n",
        "    pr = pagerank(link_matrix)\n",
        "    print(f\"PageRank值: {pr}\")"
      ],
      "metadata": {
        "colab": {
          "base_uri": "https://localhost:8080/"
        },
        "id": "OKAi8Kx1iCAX",
        "outputId": "bdd05896-b2f3-4313-a21e-955fc61f471b"
      },
      "execution_count": 46,
      "outputs": [
        {
          "output_type": "stream",
          "name": "stdout",
          "text": [
            "PageRank值: [0.18669965 0.35105809 0.27554261 0.18669965]\n"
          ]
        }
      ]
    },
    {
      "cell_type": "code",
      "source": [
        "#Paxos協議\n",
        "import threading\n",
        "\n",
        "class Acceptor:\n",
        "    def __init__(self):\n",
        "        self.promised_n = None\n",
        "        self.accepted_n = None\n",
        "        self.accepted_value = None\n",
        "\n",
        "    def prepare(self, n):\n",
        "        if self.promised_n is None or n > self.promised_n:\n",
        "            self.promised_n = n\n",
        "            return True, self.accepted_n, self.accepted_value\n",
        "        return False, self.accepted_n, self.accepted_value\n",
        "\n",
        "    def accept(self, n, value):\n",
        "        if self.promised_n is None or n >= self.promised_n:\n",
        "            self.accepted_n = n\n",
        "            self.accepted_value = value\n",
        "            return True\n",
        "        return False\n",
        "\n",
        "class Proposer:\n",
        "    def __init__(self, id, acceptors):\n",
        "        self.id = id\n",
        "        self.n = 0\n",
        "        self.acceptors = acceptors\n",
        "\n",
        "    def propose(self, value):\n",
        "        self.n += 1\n",
        "        promises = []\n",
        "        for acceptor in self.acceptors:\n",
        "            promise, accepted_n, accepted_value = acceptor.prepare(self.n)\n",
        "            if promise:\n",
        "                promises.append((accepted_n, accepted_value))\n",
        "\n",
        "        if len(promises) > len(self.acceptors) // 2:\n",
        "            accepted_value = value\n",
        "            for accepted_n, val in promises:\n",
        "                if val is not None:\n",
        "                    accepted_value = val\n",
        "            accept_count = 0\n",
        "            for acceptor in self.acceptors:\n",
        "                if acceptor.accept(self.n, accepted_value):\n",
        "                    accept_count += 1\n",
        "            if accept_count > len(self.acceptors) // 2:\n",
        "                return accepted_value\n",
        "        return None\n",
        "\n",
        "class Learner:\n",
        "    def __init__(self):\n",
        "        self.decided_value = None\n",
        "\n",
        "    def learn(self, value):\n",
        "        self.decided_value = value\n",
        "        print(f\"學習者達成一致決策: {value}\")\n",
        " # 測試Paxos協議\n",
        "acceptors = [Acceptor() for _ in range(5)]\n",
        "proposers = [Proposer(i, acceptors) for i in range(3)]\n",
        "learner = Learner()\n",
        "\n",
        "def proposer_thread(proposer, value):\n",
        "    result = proposer.propose(value)\n",
        "    if result is not None:\n",
        "        learner.learn(result)\n",
        "\n",
        "threads = []\n",
        "for proposer in proposers:\n",
        "    t = threading.Thread(target=proposer_thread, args=(proposer, f\"Value from proposer {proposer.id}\"))\n",
        "    threads.append(t)\n",
        "    t.start()\n",
        "\n",
        "for t in threads:\n",
        "    t.join()"
      ],
      "metadata": {
        "colab": {
          "base_uri": "https://localhost:8080/"
        },
        "id": "lnGChzsIgeEu",
        "outputId": "50872515-7ff8-4a8a-dc4d-474d82163b7b"
      },
      "execution_count": 50,
      "outputs": [
        {
          "output_type": "stream",
          "name": "stdout",
          "text": [
            "學習者達成一致決策: Value from proposer 0\n"
          ]
        }
      ]
    },
    {
      "cell_type": "code",
      "source": [
        "#快速Paxos實現\n",
        "class FastAcceptor:\n",
        "    def __init__(self):\n",
        "        self.promised_n = None\n",
        "        self.accepted_n = None\n",
        "        self.accepted_value = None\n",
        "\n",
        "    def prepare(self, n):\n",
        "        if self.promised_n is None or n > self.promised_n:\n",
        "            self.promised_n = n\n",
        "            return True, self.accepted_n, self.accepted_value\n",
        "        return False, self.accepted_n, self.accepted_value\n",
        "\n",
        "    def accept(self, n, value):\n",
        "        if self.promised_n is None or n >= self.promised_n:\n",
        "            self.accepted_n = n\n",
        "            self.accepted_value = value\n",
        "            return True\n",
        "        return False\n",
        "\n",
        "class FastProposer:\n",
        "    def __init__(self, id, acceptors):\n",
        "        self.id = id\n",
        "        self.n = 0\n",
        "        self.acceptors = acceptors\n",
        "\n",
        "    def propose(self, value):\n",
        "        self.n += 1\n",
        "        promises = []\n",
        "        for acceptor in self.acceptors:\n",
        "            promise, accepted_n, accepted_value = acceptor.prepare(self.n)\n",
        "            if promise:\n",
        "                promises.append((accepted_n, accepted_value))\n",
        "\n",
        "        if len(promises) > len(self.acceptors) // 2:\n",
        "            accepted_value = value\n",
        "            for accepted_n, val in promises:\n",
        "                if val is not None:\n",
        "                    accepted_value = val\n",
        "            accept_count = 0\n",
        "            for acceptor in self.acceptors:\n",
        "                if acceptor.accept(self.n, accepted_value):\n",
        "                    accept_count += 1\n",
        "            if accept_count > len(self.acceptors) // 2:\n",
        "                return accepted_value\n",
        "        return None\n",
        "\n",
        "class FastLearner:\n",
        "    def __init__(self):\n",
        "        self.decided_value = None\n",
        "\n",
        "    def learn(self, value):\n",
        "        self.decided_value = value\n",
        "        print(f\"學習者達成一致決策: {value}\")\n",
        "# 測試快速Paxos協議\n",
        "fast_acceptors = [FastAcceptor() for _ in range(5)]\n",
        "fast_proposers = [FastProposer(i, fast_acceptors) for i in range(3)]\n",
        "fast_learner = FastLearner()\n",
        "\n",
        "def fast_proposer_thread(proposer, value):\n",
        "    result = proposer.propose(value)\n",
        "    if result is not None:\n",
        "        fast_learner.learn(result)\n",
        "\n",
        "threads = []\n",
        "for proposer in fast_proposers:\n",
        "    t = threading.Thread(target=fast_proposer_thread, args=(proposer, f\"Value from proposer {proposer.id}\"))\n",
        "    threads.append(t)\n",
        "    t.start()\n",
        "\n",
        "for t in threads:\n",
        "    t.join()"
      ],
      "metadata": {
        "colab": {
          "base_uri": "https://localhost:8080/"
        },
        "id": "U8Xnj6Fcik-v",
        "outputId": "f28799ce-17de-46ac-8ade-85646dc0db2c"
      },
      "execution_count": 52,
      "outputs": [
        {
          "output_type": "stream",
          "name": "stdout",
          "text": [
            "學習者達成一致決策: Value from proposer 0\n"
          ]
        }
      ]
    },
    {
      "cell_type": "code",
      "source": [
        "#PageRank值。\n",
        "import numpy as np\n",
        "\n",
        "def page_rank(links, num_iterations=100, d=0.85):\n",
        "    num_pages = len(links)\n",
        "    pr = np.ones(num_pages) / num_pages\n",
        "    for _ in range(num_iterations):\n",
        "        new_pr = np.zeros(num_pages)\n",
        "        for i in range(num_pages):\n",
        "            for j in links[i]:\n",
        "                new_pr[j] += d * pr[i] / len(links[i])\n",
        "        new_pr += (1 - d) / num_pages\n",
        "        pr = new_pr\n",
        "    return pr\n",
        "\n",
        "# 模擬網頁連結結構\n",
        "# 假設有4個網頁，連結關係如下：\n",
        "# 0 -> 1, 2\n",
        "# 1 -> 2\n",
        "# 2 -> 0\n",
        "# 3 -> 2\n",
        "\n",
        "links = [[1, 2], [2], [0], [2]]\n",
        "page_ranks = page_rank(links)\n",
        "\n",
        "print(\"每個網頁的PageRank值:\")\n",
        "for i, rank in enumerate(page_ranks):\n",
        "    print(f\"網頁{i}: {rank:.4f}\")"
      ],
      "metadata": {
        "colab": {
          "base_uri": "https://localhost:8080/"
        },
        "id": "6mL1lq9ckLDY",
        "outputId": "34324108-b3d1-48d0-d85a-888da75f3404"
      },
      "execution_count": 58,
      "outputs": [
        {
          "output_type": "stream",
          "name": "stdout",
          "text": [
            "每個網頁的PageRank值:\n",
            "網頁0: 0.3725\n",
            "網頁1: 0.1958\n",
            "網頁2: 0.3941\n",
            "網頁3: 0.0375\n"
          ]
        }
      ]
    },
    {
      "cell_type": "code",
      "source": [
        "#簡單協同過濾推薦算法\n",
        "import numpy as np\n",
        "from sklearn.metrics.pairwise import cosine_similarity\n",
        "\n",
        "def collaborative_filtering(ratings, user_index, top_k=3):\n",
        "    user_ratings = ratings[user_index]\n",
        "    similarity = cosine_similarity(ratings)\n",
        "    similar_users = np.argsort(-similarity[user_index])[:top_k + 1]\n",
        "    similar_users = similar_users[similar_users != user_index]\n",
        "    recommendations = np.zeros(ratings.shape[1])\n",
        "    for sim_user in similar_users:\n",
        "        recommendations += ratings[sim_user] * similarity[user_index, sim_user]\n",
        "    recommendations[user_ratings > 0] = 0\n",
        "    recommended_items = np.argsort(-recommendations)[:top_k]\n",
        "    return recommended_items\n",
        "\n",
        "# 模擬用戶對視頻的評分數據\n",
        "# 行表示用戶，列表示視頻，數值表示評分\n",
        "ratings = np.array([\n",
        "    [5, 3, 0, 1],\n",
        "    [4, 0, 0, 1],\n",
        "    [1, 1, 0, 5],\n",
        "    [0, 0, 5, 4],\n",
        "    [0, 0, 5, 4],\n",
        "])\n",
        "\n",
        "user_index = 0\n",
        "recommended_items = collaborative_filtering(ratings, user_index)\n",
        "\n",
        "print(\"為用戶0推薦的視頻:\")\n",
        "for item in recommended_items:\n",
        "    print(f\"視頻{item}\")"
      ],
      "metadata": {
        "colab": {
          "base_uri": "https://localhost:8080/"
        },
        "id": "w9HD8-pKkP2A",
        "outputId": "100472d5-e9d2-446e-996e-5da7871aa337"
      },
      "execution_count": 59,
      "outputs": [
        {
          "output_type": "stream",
          "name": "stdout",
          "text": [
            "為用戶0推薦的視頻:\n",
            "視頻2\n",
            "視頻0\n",
            "視頻1\n"
          ]
        }
      ]
    },
    {
      "cell_type": "code",
      "source": [
        "#模擬一個小型社交網絡，並選擇影響力最大的節點\n",
        "import networkx as nx\n",
        "import matplotlib.pyplot as plt\n",
        "import numpy as np\n",
        "\n",
        "def greedy_influence_maximization(graph, k):\n",
        "    seeds = []\n",
        "    for _ in range(k):\n",
        "        max_influence = -1\n",
        "        best_node = None\n",
        "        for node in graph.nodes():\n",
        "            if node in seeds:\n",
        "                continue\n",
        "            influence = simulate_spread(graph, seeds + [node])\n",
        "            if influence > max_influence:\n",
        "                max_influence = influence\n",
        "                best_node = node\n",
        "        seeds.append(best_node)\n",
        "    return seeds\n",
        "\n",
        "def simulate_spread(graph, seeds, steps=3):\n",
        "    activated = set(seeds)\n",
        "    new_activated = set(seeds)\n",
        "    for _ in range(steps):\n",
        "        new_activated = set(\n",
        "            neighbor for node in new_activated for neighbor in graph.neighbors(node)\n",
        "            if neighbor not in activated and np.random.rand() < 0.1\n",
        "        )\n",
        "        activated.update(new_activated)\n",
        "    return len(activated)\n",
        "\n",
        "# 模擬一個小型社交網絡\n",
        "G = nx.erdos_renyi_graph(30, 0.05)\n",
        "nx.draw(G, with_labels=True)\n",
        "plt.show()\n",
        "\n",
        "# 選擇影響力最大的節點\n",
        "k = 3\n",
        "seeds = greedy_influence_maximization(G, k)\n",
        "print(f\"影響力最大的節點: {seeds}\")"
      ],
      "metadata": {
        "colab": {
          "base_uri": "https://localhost:8080/",
          "height": 533
        },
        "id": "hn5YykKPkYW4",
        "outputId": "05821d18-4feb-4068-b219-3b5618beef3d"
      },
      "execution_count": 60,
      "outputs": [
        {
          "output_type": "display_data",
          "data": {
            "text/plain": [
              "<Figure size 640x480 with 1 Axes>"
            ],
            "image/png": "[encoded data removed]"
          },
          "metadata": {}
        },
        {
          "output_type": "stream",
          "name": "stdout",
          "text": [
            "影響力最大的節點: [0, 13, 2]\n"
          ]
        }
      ]
    },
    {
      "cell_type": "code",
      "source": [
        "#Louvain社群發現算法\n",
        "import community as community_louvain\n",
        "import matplotlib.cm as cm\n",
        "\n",
        "# Louvain社群發現算法\n",
        "partition = community_louvain.best_partition(G)\n",
        "\n",
        "# 繪製社群結構\n",
        "pos = nx.spring_layout(G)\n",
        "cmap = cm.get_cmap('viridis', max(partition.values()) + 1)\n",
        "nx.draw_networkx_nodes(G, pos, partition.keys(), node_size=40, cmap=cmap, node_color=list(partition.values()))\n",
        "nx.draw_networkx_edges(G, pos, alpha=0.5)\n",
        "plt.show()\n",
        "\n",
        "print(f\"社群結構: {partition}\")"
      ],
      "metadata": {
        "colab": {
          "base_uri": "https://localhost:8080/",
          "height": 211
        },
        "id": "cSPIHyHekcbP",
        "outputId": "4d24d6c9-062c-4cf0-df65-0dc44edc30b0"
      },
      "execution_count": 61,
      "outputs": [
        {
          "output_type": "error",
          "ename": "AttributeError",
          "evalue": "module 'community' has no attribute 'best_partition'",
          "traceback": [
            "\u001b[0;31m---------------------------------------------------------------------------\u001b[0m",
            "\u001b[0;31mAttributeError\u001b[0m                            Traceback (most recent call last)",
            "\u001b[0;32m<ipython-input-61-1f6aa6afcea4>\u001b[0m in \u001b[0;36m<cell line: 6>\u001b[0;34m()\u001b[0m\n\u001b[1;32m      4\u001b[0m \u001b[0;34m\u001b[0m\u001b[0m\n\u001b[1;32m      5\u001b[0m \u001b[0;31m# Louvain社群發現算法\u001b[0m\u001b[0;34m\u001b[0m\u001b[0;34m\u001b[0m\u001b[0m\n\u001b[0;32m----> 6\u001b[0;31m \u001b[0mpartition\u001b[0m \u001b[0;34m=\u001b[0m \u001b[0mcommunity_louvain\u001b[0m\u001b[0;34m.\u001b[0m\u001b[0mbest_partition\u001b[0m\u001b[0;34m(\u001b[0m\u001b[0mG\u001b[0m\u001b[0;34m)\u001b[0m\u001b[0;34m\u001b[0m\u001b[0;34m\u001b[0m\u001b[0m\n\u001b[0m\u001b[1;32m      7\u001b[0m \u001b[0;34m\u001b[0m\u001b[0m\n\u001b[1;32m      8\u001b[0m \u001b[0;31m# 繪製社群結構\u001b[0m\u001b[0;34m\u001b[0m\u001b[0;34m\u001b[0m\u001b[0m\n",
            "\u001b[0;31mAttributeError\u001b[0m: module 'community' has no attribute 'best_partition'"
          ]
        }
      ]
    },
    {
      "cell_type": "code",
      "source": [
        "#基於協同過濾的內容推薦算法\n",
        "import numpy as np\n",
        "from sklearn.metrics.pairwise import cosine_similarity\n",
        "\n",
        "def collaborative_filtering(ratings, user_index, top_k=3):\n",
        "    user_ratings = ratings[user_index]\n",
        "    similarity = cosine_similarity(ratings)\n",
        "    similar_users = np.argsort(-similarity[user_index])[:top_k + 1]\n",
        "    similar_users = similar_users[similar_users != user_index]\n",
        "    recommendations = np.zeros(ratings.shape[1])\n",
        "    for sim_user in similar_users:\n",
        "        recommendations += ratings[sim_user] * similarity[user_index, sim_user]\n",
        "    recommendations[user_ratings > 0] = 0\n",
        "    recommended_items = np.argsort(-recommendations)[:top_k]\n",
        "    return recommended_items\n",
        "\n",
        "# 模擬用戶對內容的評分數據\n",
        "# 行表示用戶，列表示內容，數值表示評分\n",
        "ratings = np.array([\n",
        "    [5, 3, 0, 1],\n",
        "    [4, 0, 0, 1],\n",
        "    [1, 1, 0, 5],\n",
        "    [0, 0, 5, 4],\n",
        "    [0, 0, 5, 4],\n",
        "])\n",
        "\n",
        "user_index = 0\n",
        "recommended_items = collaborative_filtering(ratings, user_index)\n",
        "\n",
        "print(\"推薦的內容:\")\n",
        "for item in recommended_items:\n",
        "    print(f\"內容{item}\")"
      ],
      "metadata": {
        "colab": {
          "base_uri": "https://localhost:8080/"
        },
        "id": "-Klte9WglYzn",
        "outputId": "e431bf46-79ff-4c36-823b-ae1cabae3829"
      },
      "execution_count": 62,
      "outputs": [
        {
          "output_type": "stream",
          "name": "stdout",
          "text": [
            "推薦的內容:\n",
            "內容2\n",
            "內容0\n",
            "內容1\n"
          ]
        }
      ]
    },
    {
      "cell_type": "code",
      "source": [
        "#簡單動態定價算法\n",
        "import numpy as np\n",
        "\n",
        "def dynamic_pricing(base_price, demand, supply, elasticity=0.1):\n",
        "    \"\"\"\n",
        "    動態定價算法\n",
        "    :param base_price: 基礎價格\n",
        "    :param demand: 當前需求\n",
        "    :param supply: 當前供應\n",
        "    :param elasticity: 價格彈性係數\n",
        "    :return: 動態價格\n",
        "    \"\"\"\n",
        "    if supply == 0:\n",
        "        return base_price * (1 + elasticity)\n",
        "    ratio = demand / supply\n",
        "    price_adjustment = (ratio - 1) * elasticity\n",
        "    return base_price * (1 + price_adjustment)\n",
        "\n",
        "# 模擬供需變化\n",
        "base_price = 100\n",
        "demand = np.array([50, 100, 150, 200])\n",
        "supply = np.array([100, 100, 100, 100])\n",
        "\n",
        "dynamic_prices = [dynamic_pricing(base_price, d, s) for d, s in zip(demand, supply)]\n",
        "\n",
        "print(\"動態價格:\")\n",
        "for i, price in enumerate(dynamic_prices):\n",
        "    print(f\"需求: {demand[i]}, 供應: {supply[i]}, 價格: {price:.2f}\")"
      ],
      "metadata": {
        "colab": {
          "base_uri": "https://localhost:8080/"
        },
        "id": "Yk5-vZckleyv",
        "outputId": "7d355bcf-a305-4288-cc7b-3cf7686731d0"
      },
      "execution_count": 63,
      "outputs": [
        {
          "output_type": "stream",
          "name": "stdout",
          "text": [
            "動態價格:\n",
            "需求: 50, 供應: 100, 價格: 95.00\n",
            "需求: 100, 供應: 100, 價格: 100.00\n",
            "需求: 150, 供應: 100, 價格: 105.00\n",
            "需求: 200, 供應: 100, 價格: 110.00\n"
          ]
        }
      ]
    },
    {
      "cell_type": "code",
      "source": [
        "#使用歷史股票數據，並基於均值回歸策略進行套利操作\n",
        "import numpy as np\n",
        "import pandas as pd\n",
        "import matplotlib.pyplot as plt\n",
        "import yfinance as yf\n",
        "\n",
        "# 下載股票數據\n",
        "tickers = [\"AAPL\", \"MSFT\"]\n",
        "data = yf.download(tickers, start=\"2020-01-01\", end=\"2021-01-01\")[\"Adj Close\"]\n",
        "\n",
        "# 計算股票的日回報率\n",
        "returns = data.pct_change().dropna()\n",
        "\n",
        "# 計算股票之間的相關性\n",
        "corr_matrix = returns.corr()\n",
        "print(\"股票之間的相關性:\")\n",
        "print(corr_matrix)\n",
        "\n",
        "# 簡單的均值回歸策略\n",
        "mean_returns = returns.mean()\n",
        "std_returns = returns.std()\n",
        "\n",
        "# 設定交易門檻\n",
        "threshold = 1.0\n",
        "\n",
        "# 模擬交易\n",
        "signals = (returns - mean_returns) / std_returns\n",
        "positions = -signals\n",
        "returns_strategy = returns * positions.shift(1)\n",
        "\n",
        "# 累積回報\n",
        "cumulative_returns = (1 + returns_strategy).cumprod()\n",
        "\n",
        "# 繪製結果\n",
        "plt.figure(figsize=(12, 6))\n",
        "plt.plot(cumulative_returns)\n",
        "plt.title('統計套利策略模擬結果')\n",
        "plt.xlabel('日期')\n",
        "plt.ylabel('累積回報')\n",
        "plt.legend(tickers)\n",
        "plt.show()"
      ],
      "metadata": {
        "colab": {
          "base_uri": "https://localhost:8080/",
          "height": 1000
        },
        "id": "iU7IRmN9lmTH",
        "outputId": "4ebe2c34-2227-416c-f8b4-e1fe1a9b8fcb"
      },
      "execution_count": 64,
      "outputs": [
        {
          "output_type": "stream",
          "name": "stderr",
          "text": [
            "[*********************100%%**********************]  2 of 2 completed\n",
            "/usr/local/lib/python3.10/dist-packages/IPython/core/pylabtools.py:151: UserWarning: Glyph 32047 (\\N{CJK UNIFIED IDEOGRAPH-7D2F}) missing from current font.\n",
            "  fig.canvas.print_figure(bytes_io, **kw)\n",
            "/usr/local/lib/python3.10/dist-packages/IPython/core/pylabtools.py:151: UserWarning: Glyph 31309 (\\N{CJK UNIFIED IDEOGRAPH-7A4D}) missing from current font.\n",
            "  fig.canvas.print_figure(bytes_io, **kw)\n",
            "/usr/local/lib/python3.10/dist-packages/IPython/core/pylabtools.py:151: UserWarning: Glyph 22238 (\\N{CJK UNIFIED IDEOGRAPH-56DE}) missing from current font.\n",
            "  fig.canvas.print_figure(bytes_io, **kw)\n",
            "/usr/local/lib/python3.10/dist-packages/IPython/core/pylabtools.py:151: UserWarning: Glyph 22577 (\\N{CJK UNIFIED IDEOGRAPH-5831}) missing from current font.\n",
            "  fig.canvas.print_figure(bytes_io, **kw)\n",
            "/usr/local/lib/python3.10/dist-packages/IPython/core/pylabtools.py:151: UserWarning: Glyph 32113 (\\N{CJK UNIFIED IDEOGRAPH-7D71}) missing from current font.\n",
            "  fig.canvas.print_figure(bytes_io, **kw)\n",
            "/usr/local/lib/python3.10/dist-packages/IPython/core/pylabtools.py:151: UserWarning: Glyph 35336 (\\N{CJK UNIFIED IDEOGRAPH-8A08}) missing from current font.\n",
            "  fig.canvas.print_figure(bytes_io, **kw)\n",
            "/usr/local/lib/python3.10/dist-packages/IPython/core/pylabtools.py:151: UserWarning: Glyph 22871 (\\N{CJK UNIFIED IDEOGRAPH-5957}) missing from current font.\n",
            "  fig.canvas.print_figure(bytes_io, **kw)\n",
            "/usr/local/lib/python3.10/dist-packages/IPython/core/pylabtools.py:151: UserWarning: Glyph 21033 (\\N{CJK UNIFIED IDEOGRAPH-5229}) missing from current font.\n",
            "  fig.canvas.print_figure(bytes_io, **kw)\n",
            "/usr/local/lib/python3.10/dist-packages/IPython/core/pylabtools.py:151: UserWarning: Glyph 31574 (\\N{CJK UNIFIED IDEOGRAPH-7B56}) missing from current font.\n",
            "  fig.canvas.print_figure(bytes_io, **kw)\n",
            "/usr/local/lib/python3.10/dist-packages/IPython/core/pylabtools.py:151: UserWarning: Glyph 30053 (\\N{CJK UNIFIED IDEOGRAPH-7565}) missing from current font.\n",
            "  fig.canvas.print_figure(bytes_io, **kw)\n",
            "/usr/local/lib/python3.10/dist-packages/IPython/core/pylabtools.py:151: UserWarning: Glyph 27169 (\\N{CJK UNIFIED IDEOGRAPH-6A21}) missing from current font.\n",
            "  fig.canvas.print_figure(bytes_io, **kw)\n",
            "/usr/local/lib/python3.10/dist-packages/IPython/core/pylabtools.py:151: UserWarning: Glyph 25836 (\\N{CJK UNIFIED IDEOGRAPH-64EC}) missing from current font.\n",
            "  fig.canvas.print_figure(bytes_io, **kw)\n",
            "/usr/local/lib/python3.10/dist-packages/IPython/core/pylabtools.py:151: UserWarning: Glyph 32080 (\\N{CJK UNIFIED IDEOGRAPH-7D50}) missing from current font.\n",
            "  fig.canvas.print_figure(bytes_io, **kw)\n",
            "/usr/local/lib/python3.10/dist-packages/IPython/core/pylabtools.py:151: UserWarning: Glyph 26524 (\\N{CJK UNIFIED IDEOGRAPH-679C}) missing from current font.\n",
            "  fig.canvas.print_figure(bytes_io, **kw)\n"
          ]
        },
        {
          "output_type": "stream",
          "name": "stdout",
          "text": [
            "股票之間的相關性:\n",
            "Ticker      AAPL      MSFT\n",
            "Ticker                    \n",
            "AAPL    1.000000  0.839273\n",
            "MSFT    0.839273  1.000000\n"
          ]
        },
        {
          "output_type": "stream",
          "name": "stderr",
          "text": [
            "/usr/local/lib/python3.10/dist-packages/IPython/core/pylabtools.py:151: UserWarning: Glyph 26085 (\\N{CJK UNIFIED IDEOGRAPH-65E5}) missing from current font.\n",
            "  fig.canvas.print_figure(bytes_io, **kw)\n",
            "/usr/local/lib/python3.10/dist-packages/IPython/core/pylabtools.py:151: UserWarning: Glyph 26399 (\\N{CJK UNIFIED IDEOGRAPH-671F}) missing from current font.\n",
            "  fig.canvas.print_figure(bytes_io, **kw)\n"
          ]
        },
        {
          "output_type": "display_data",
          "data": {
            "text/plain": [
              "<Figure size 1200x600 with 1 Axes>"
            ],
            "image/png": "[encoded data removed]"
          },
          "metadata": {}
        }
      ]
    },
    {
      "cell_type": "code",
      "source": [
        "#使用統計方法來檢測股票價格的異常變動\n",
        "import numpy as np\n",
        "import pandas as pd\n",
        "import matplotlib.pyplot as plt\n",
        "import yfinance as yf\n",
        "\n",
        "# 下載股票數據\n",
        "ticker = \"AAPL\"\n",
        "data = yf.download(ticker, start=\"2020-01-01\", end=\"2021-01-01\")[\"Adj Close\"]\n",
        "\n",
        "# 計算股票的日回報率\n",
        "returns = data.pct_change().dropna()\n",
        "\n",
        "# 設定異常檢測的標準差門檻\n",
        "threshold = 3\n",
        "\n",
        "# 計算均值和標準差\n",
        "mean_return = returns.mean()\n",
        "std_return = returns.std()\n",
        "\n",
        "# 檢測異常\n",
        "anomalies = returns[np.abs(returns - mean_return) > threshold * std_return]\n",
        "\n",
        "# 繪製結果\n",
        "plt.figure(figsize=(12, 6))\n",
        "plt.plot(returns, label='日回報率')\n",
        "plt.plot(anomalies, 'ro', markersize=5, label='異常點')\n",
        "plt.axhline(mean_return, color='green', linestyle='--', linewidth=1, label='均值')\n",
        "plt.axhline(mean_return + threshold * std_return, color='red', linestyle='--', linewidth=1)\n",
        "plt.axhline(mean_return - threshold * std_return, color='red', linestyle='--', linewidth=1)\n",
        "plt.title('股票價格異常檢測')\n",
        "plt.xlabel('日期')\n",
        "plt.ylabel('回報率')\n",
        "plt.legend()\n",
        "plt.show()"
      ],
      "metadata": {
        "colab": {
          "base_uri": "https://localhost:8080/",
          "height": 1000
        },
        "id": "lhRhPFf8luiQ",
        "outputId": "d9ce1e5d-45d9-4340-d7ed-01f3f239c015"
      },
      "execution_count": 65,
      "outputs": [
        {
          "output_type": "stream",
          "name": "stderr",
          "text": [
            "\r[*********************100%%**********************]  1 of 1 completed\n",
            "/usr/local/lib/python3.10/dist-packages/IPython/core/pylabtools.py:151: UserWarning: Glyph 22238 (\\N{CJK UNIFIED IDEOGRAPH-56DE}) missing from current font.\n",
            "  fig.canvas.print_figure(bytes_io, **kw)\n",
            "/usr/local/lib/python3.10/dist-packages/IPython/core/pylabtools.py:151: UserWarning: Glyph 22577 (\\N{CJK UNIFIED IDEOGRAPH-5831}) missing from current font.\n",
            "  fig.canvas.print_figure(bytes_io, **kw)\n",
            "/usr/local/lib/python3.10/dist-packages/IPython/core/pylabtools.py:151: UserWarning: Glyph 29575 (\\N{CJK UNIFIED IDEOGRAPH-7387}) missing from current font.\n",
            "  fig.canvas.print_figure(bytes_io, **kw)\n",
            "/usr/local/lib/python3.10/dist-packages/IPython/core/pylabtools.py:151: UserWarning: Glyph 32929 (\\N{CJK UNIFIED IDEOGRAPH-80A1}) missing from current font.\n",
            "  fig.canvas.print_figure(bytes_io, **kw)\n",
            "/usr/local/lib/python3.10/dist-packages/IPython/core/pylabtools.py:151: UserWarning: Glyph 31080 (\\N{CJK UNIFIED IDEOGRAPH-7968}) missing from current font.\n",
            "  fig.canvas.print_figure(bytes_io, **kw)\n",
            "/usr/local/lib/python3.10/dist-packages/IPython/core/pylabtools.py:151: UserWarning: Glyph 20729 (\\N{CJK UNIFIED IDEOGRAPH-50F9}) missing from current font.\n",
            "  fig.canvas.print_figure(bytes_io, **kw)\n",
            "/usr/local/lib/python3.10/dist-packages/IPython/core/pylabtools.py:151: UserWarning: Glyph 26684 (\\N{CJK UNIFIED IDEOGRAPH-683C}) missing from current font.\n",
            "  fig.canvas.print_figure(bytes_io, **kw)\n",
            "/usr/local/lib/python3.10/dist-packages/IPython/core/pylabtools.py:151: UserWarning: Glyph 30064 (\\N{CJK UNIFIED IDEOGRAPH-7570}) missing from current font.\n",
            "  fig.canvas.print_figure(bytes_io, **kw)\n",
            "/usr/local/lib/python3.10/dist-packages/IPython/core/pylabtools.py:151: UserWarning: Glyph 24120 (\\N{CJK UNIFIED IDEOGRAPH-5E38}) missing from current font.\n",
            "  fig.canvas.print_figure(bytes_io, **kw)\n",
            "/usr/local/lib/python3.10/dist-packages/IPython/core/pylabtools.py:151: UserWarning: Glyph 27298 (\\N{CJK UNIFIED IDEOGRAPH-6AA2}) missing from current font.\n",
            "  fig.canvas.print_figure(bytes_io, **kw)\n",
            "/usr/local/lib/python3.10/dist-packages/IPython/core/pylabtools.py:151: UserWarning: Glyph 28204 (\\N{CJK UNIFIED IDEOGRAPH-6E2C}) missing from current font.\n",
            "  fig.canvas.print_figure(bytes_io, **kw)\n",
            "/usr/local/lib/python3.10/dist-packages/IPython/core/pylabtools.py:151: UserWarning: Glyph 26085 (\\N{CJK UNIFIED IDEOGRAPH-65E5}) missing from current font.\n",
            "  fig.canvas.print_figure(bytes_io, **kw)\n",
            "/usr/local/lib/python3.10/dist-packages/IPython/core/pylabtools.py:151: UserWarning: Glyph 26399 (\\N{CJK UNIFIED IDEOGRAPH-671F}) missing from current font.\n",
            "  fig.canvas.print_figure(bytes_io, **kw)\n",
            "/usr/local/lib/python3.10/dist-packages/IPython/core/pylabtools.py:151: UserWarning: Glyph 40670 (\\N{CJK UNIFIED IDEOGRAPH-9EDE}) missing from current font.\n",
            "  fig.canvas.print_figure(bytes_io, **kw)\n",
            "/usr/local/lib/python3.10/dist-packages/IPython/core/pylabtools.py:151: UserWarning: Glyph 22343 (\\N{CJK UNIFIED IDEOGRAPH-5747}) missing from current font.\n",
            "  fig.canvas.print_figure(bytes_io, **kw)\n",
            "/usr/local/lib/python3.10/dist-packages/IPython/core/pylabtools.py:151: UserWarning: Glyph 20540 (\\N{CJK UNIFIED IDEOGRAPH-503C}) missing from current font.\n",
            "  fig.canvas.print_figure(bytes_io, **kw)\n"
          ]
        },
        {
          "output_type": "display_data",
          "data": {
            "text/plain": [
              "<Figure size 1200x600 with 1 Axes>"
            ],
            "image/png": "[encoded data removed]"
          },
          "metadata": {}
        }
      ]
    },
    {
      "cell_type": "code",
      "source": [
        "#簡單EdgeRank算法\n",
        "from datetime import datetime, timedelta\n",
        "\n",
        "class Post:\n",
        "    def __init__(self, post_id, user_id, post_time, likes, comments, shares):\n",
        "        self.post_id = post_id\n",
        "        self.user_id = user_id\n",
        "        self.post_time = post_time\n",
        "        self.likes = likes\n",
        "        self.comments = comments\n",
        "        self.shares = shares\n",
        "\n",
        "def calculate_affinity(user_id, post_user_id, interaction_history):\n",
        "    return interaction_history.get((user_id, post_user_id), 0)\n",
        "\n",
        "def calculate_weight(likes, comments, shares):\n",
        "    return likes * 1 + comments * 3 + shares * 5\n",
        "\n",
        "def calculate_time_decay(post_time, current_time):\n",
        "    return 1 / ((current_time - post_time).days + 1)\n",
        "\n",
        "def calculate_edgerank(post, user_id, interaction_history, current_time):\n",
        "    affinity = calculate_affinity(user_id, post.user_id, interaction_history)\n",
        "    weight = calculate_weight(post.likes, post.comments, post.shares)\n",
        "    time_decay = calculate_time_decay(post.post_time, current_time)\n",
        "    return affinity * weight * time_decay\n",
        "\n",
        "# 模擬用戶的動態消息流\n",
        "current_time = datetime.now()\n",
        "posts = [\n",
        "    Post(1, 101, current_time - timedelta(hours=1), 10, 5, 2),\n",
        "    Post(2, 102, current_time - timedelta(days=1), 20, 10, 5),\n",
        "    Post(3, 103, current_time - timedelta(hours=3), 15, 7, 3),\n",
        "    Post(4, 104, current_time - timedelta(minutes=30), 5, 2, 1),\n",
        "]\n",
        "\n",
        "# 模擬用戶的互動歷史\n",
        "interaction_history = {\n",
        "    (1, 101): 5,\n",
        "    (1, 102): 3,\n",
        "    (1, 103): 10,\n",
        "    (1, 104): 1,\n",
        "}\n",
        "\n",
        "# 計算每篇貼文的EdgeRank\n",
        "user_id = 1\n",
        "post_ranks = [(post.post_id, calculate_edgerank(post, user_id, interaction_history, current_time)) for post in posts]\n",
        "post_ranks.sort(key=lambda x: x[1], reverse=True)\n",
        "\n",
        "print(\"動態消息流排序結果:\")\n",
        "for post_id, rank in post_ranks:\n",
        "    print(f\"貼文ID: {post_id}, EdgeRank: {rank:.4f}\")"
      ],
      "metadata": {
        "colab": {
          "base_uri": "https://localhost:8080/"
        },
        "id": "IVBNrF4ml-VI",
        "outputId": "6a925f8c-d3ed-4e68-8271-e1c14b976af5"
      },
      "execution_count": 66,
      "outputs": [
        {
          "output_type": "stream",
          "name": "stdout",
          "text": [
            "動態消息流排序結果:\n",
            "貼文ID: 3, EdgeRank: 510.0000\n",
            "貼文ID: 1, EdgeRank: 175.0000\n",
            "貼文ID: 2, EdgeRank: 112.5000\n",
            "貼文ID: 4, EdgeRank: 16.0000\n"
          ]
        }
      ]
    },
    {
      "cell_type": "code",
      "source": [
        "#在EdgeRank算法的基礎上，加入多樣性權重，提升動態消息流的內容多樣性\n",
        "def calculate_diversity_weight(post, user_interests):\n",
        "    return 1 if post.user_id in user_interests else 2\n",
        "\n",
        "def calculate_edgerank_with_diversity(post, user_id, interaction_history, current_time, user_interests):\n",
        "    affinity = calculate_affinity(user_id, post.user_id, interaction_history)\n",
        "    weight = calculate_weight(post.likes, post.comments, post.shares)\n",
        "    time_decay = calculate_time_decay(post.post_time, current_time)\n",
        "    diversity_weight = calculate_diversity_weight(post, user_interests)\n",
        "    return affinity * weight * time_decay * diversity_weight\n",
        "\n",
        "# 模擬用戶的興趣標籤\n",
        "user_interests = {101, 103}\n",
        "\n",
        "# 計算每篇貼文的EdgeRank（含多樣性權重）\n",
        "post_ranks_with_diversity = [(post.post_id, calculate_edgerank_with_diversity(post, user_id, interaction_history, current_time, user_interests)) for post in posts]\n",
        "post_ranks_with_diversity.sort(key=lambda x: x[1], reverse=True)\n",
        "\n",
        "print(\"動態消息流排序結果（含多樣性權重）:\")\n",
        "for post_id, rank in post_ranks_with_diversity:\n",
        "    print(f\"貼文ID: {post_id}, EdgeRank: {rank:.4f}\")"
      ],
      "metadata": {
        "colab": {
          "base_uri": "https://localhost:8080/"
        },
        "id": "IlIIc8JemEPp",
        "outputId": "f1ea2645-1154-4eb8-f39e-b4f114af4c4d"
      },
      "execution_count": 67,
      "outputs": [
        {
          "output_type": "stream",
          "name": "stdout",
          "text": [
            "動態消息流排序結果（含多樣性權重）:\n",
            "貼文ID: 3, EdgeRank: 510.0000\n",
            "貼文ID: 2, EdgeRank: 225.0000\n",
            "貼文ID: 1, EdgeRank: 175.0000\n",
            "貼文ID: 4, EdgeRank: 32.0000\n"
          ]
        }
      ]
    },
    {
      "cell_type": "code",
      "source": [
        "#使用MNIST數據集來模擬古文字識別\n",
        "import numpy as np\n",
        "import tensorflow as tf\n",
        "from tensorflow.keras import datasets, layers, models\n",
        "import matplotlib.pyplot as plt\n",
        "\n",
        "# 加載MNIST數據集\n",
        "(train_images, train_labels), (test_images, test_labels) = datasets.mnist.load_data()\n",
        "\n",
        "# 預處理數據\n",
        "train_images = train_images.reshape((60000, 28, 28, 1)).astype('float32') / 255\n",
        "test_images = test_images.reshape((10000, 28, 28, 1)).astype('float32') / 255\n",
        "\n",
        "# 建立卷積神經網絡模型\n",
        "model = models.Sequential([\n",
        "    layers.Conv2D(32, (3, 3), activation='relu', input_shape=(28, 28, 1)),\n",
        "    layers.MaxPooling2D((2, 2)),\n",
        "    layers.Conv2D(64, (3, 3), activation='relu'),\n",
        "    layers.MaxPooling2D((2, 2)),\n",
        "    layers.Conv2D(64, (3, 3), activation='relu'),\n",
        "    layers.Flatten(),\n",
        "    layers.Dense(64, activation='relu'),\n",
        "    layers.Dense(10, activation='softmax')\n",
        "])\n",
        "\n",
        "# 編譯模型\n",
        "model.compile(optimizer='adam', loss='sparse_categorical_crossentropy', metrics=['accuracy'])\n",
        "\n",
        "# 訓練模型\n",
        "model.fit(train_images, train_labels, epochs=5, batch_size=64, verbose=1)\n",
        "\n",
        "# 評估模型\n",
        "test_loss, test_acc = model.evaluate(test_images, test_labels)\n",
        "print(f'準確率: {test_acc:.4f}')\n",
        "\n",
        "# 顯示部分預測結果\n",
        "predictions = model.predict(test_images)\n",
        "plt.figure(figsize=(10, 10))\n",
        "for i in range(25):\n",
        "    plt.subplot(5, 5, i + 1)\n",
        "    plt.xticks([])\n",
        "    plt.yticks([])\n",
        "    plt.grid(False)\n",
        "    plt.imshow(test_images[i], cmap=plt.cm.binary)\n",
        "    plt.xlabel(np.argmax(predictions[i]))\n",
        "plt.show()"
      ],
      "metadata": {
        "colab": {
          "base_uri": "https://localhost:8080/",
          "height": 512
        },
        "id": "AZT4e6sBmLpB",
        "outputId": "18cb0926-f19d-4e9a-d810-5ff1c29b8582"
      },
      "execution_count": 68,
      "outputs": [
        {
          "output_type": "stream",
          "name": "stdout",
          "text": [
            "Downloading data from https://storage.googleapis.com/tensorflow/tf-keras-datasets/mnist.npz\n",
            "11490434/11490434 [==============================] - 0s 0us/step\n",
            "Epoch 1/5\n",
            "938/938 [==============================] - 73s 76ms/step - loss: 0.1839 - accuracy: 0.9450\n",
            "Epoch 2/5\n",
            "938/938 [==============================] - 77s 83ms/step - loss: 0.0502 - accuracy: 0.9842\n",
            "Epoch 3/5\n",
            "244/938 [======>.......................] - ETA: 1:07 - loss: 0.0358 - accuracy: 0.9889"
          ]
        },
        {
          "output_type": "error",
          "ename": "KeyboardInterrupt",
          "evalue": "",
          "traceback": [
            "\u001b[0;31m---------------------------------------------------------------------------\u001b[0m",
            "\u001b[0;31mKeyboardInterrupt\u001b[0m                         Traceback (most recent call last)",
            "\u001b[0;32m<ipython-input-68-28988bc6528e>\u001b[0m in \u001b[0;36m<cell line: 30>\u001b[0;34m()\u001b[0m\n\u001b[1;32m     28\u001b[0m \u001b[0;34m\u001b[0m\u001b[0m\n\u001b[1;32m     29\u001b[0m \u001b[0;31m# 訓練模型\u001b[0m\u001b[0;34m\u001b[0m\u001b[0;34m\u001b[0m\u001b[0m\n\u001b[0;32m---> 30\u001b[0;31m \u001b[0mmodel\u001b[0m\u001b[0;34m.\u001b[0m\u001b[0mfit\u001b[0m\u001b[0;34m(\u001b[0m\u001b[0mtrain_images\u001b[0m\u001b[0;34m,\u001b[0m \u001b[0mtrain_labels\u001b[0m\u001b[0;34m,\u001b[0m \u001b[0mepochs\u001b[0m\u001b[0;34m=\u001b[0m\u001b[0;36m5\u001b[0m\u001b[0;34m,\u001b[0m \u001b[0mbatch_size\u001b[0m\u001b[0;34m=\u001b[0m\u001b[0;36m64\u001b[0m\u001b[0;34m,\u001b[0m \u001b[0mverbose\u001b[0m\u001b[0;34m=\u001b[0m\u001b[0;36m1\u001b[0m\u001b[0;34m)\u001b[0m\u001b[0;34m\u001b[0m\u001b[0;34m\u001b[0m\u001b[0m\n\u001b[0m\u001b[1;32m     31\u001b[0m \u001b[0;34m\u001b[0m\u001b[0m\n\u001b[1;32m     32\u001b[0m \u001b[0;31m# 評估模型\u001b[0m\u001b[0;34m\u001b[0m\u001b[0;34m\u001b[0m\u001b[0m\n",
            "\u001b[0;32m/usr/local/lib/python3.10/dist-packages/keras/src/utils/traceback_utils.py\u001b[0m in \u001b[0;36merror_handler\u001b[0;34m(*args, **kwargs)\u001b[0m\n\u001b[1;32m     63\u001b[0m         \u001b[0mfiltered_tb\u001b[0m \u001b[0;34m=\u001b[0m \u001b[0;32mNone\u001b[0m\u001b[0;34m\u001b[0m\u001b[0;34m\u001b[0m\u001b[0m\n\u001b[1;32m     64\u001b[0m         \u001b[0;32mtry\u001b[0m\u001b[0;34m:\u001b[0m\u001b[0;34m\u001b[0m\u001b[0;34m\u001b[0m\u001b[0m\n\u001b[0;32m---> 65\u001b[0;31m             \u001b[0;32mreturn\u001b[0m \u001b[0mfn\u001b[0m\u001b[0;34m(\u001b[0m\u001b[0;34m*\u001b[0m\u001b[0margs\u001b[0m\u001b[0;34m,\u001b[0m \u001b[0;34m**\u001b[0m\u001b[0mkwargs\u001b[0m\u001b[0;34m)\u001b[0m\u001b[0;34m\u001b[0m\u001b[0;34m\u001b[0m\u001b[0m\n\u001b[0m\u001b[1;32m     66\u001b[0m         \u001b[0;32mexcept\u001b[0m \u001b[0mException\u001b[0m \u001b[0;32mas\u001b[0m \u001b[0me\u001b[0m\u001b[0;34m:\u001b[0m\u001b[0;34m\u001b[0m\u001b[0;34m\u001b[0m\u001b[0m\n\u001b[1;32m     67\u001b[0m             \u001b[0mfiltered_tb\u001b[0m \u001b[0;34m=\u001b[0m \u001b[0m_process_traceback_frames\u001b[0m\u001b[0;34m(\u001b[0m\u001b[0me\u001b[0m\u001b[0;34m.\u001b[0m\u001b[0m__traceback__\u001b[0m\u001b[0;34m)\u001b[0m\u001b[0;34m\u001b[0m\u001b[0;34m\u001b[0m\u001b[0m\n",
            "\u001b[0;32m/usr/local/lib/python3.10/dist-packages/keras/src/engine/training.py\u001b[0m in \u001b[0;36mfit\u001b[0;34m(self, x, y, batch_size, epochs, verbose, callbacks, validation_split, validation_data, shuffle, class_weight, sample_weight, initial_epoch, steps_per_epoch, validation_steps, validation_batch_size, validation_freq, max_queue_size, workers, use_multiprocessing)\u001b[0m\n\u001b[1;32m   1805\u001b[0m                         ):\n\u001b[1;32m   1806\u001b[0m                             \u001b[0mcallbacks\u001b[0m\u001b[0;34m.\u001b[0m\u001b[0mon_train_batch_begin\u001b[0m\u001b[0;34m(\u001b[0m\u001b[0mstep\u001b[0m\u001b[0;34m)\u001b[0m\u001b[0;34m\u001b[0m\u001b[0;34m\u001b[0m\u001b[0m\n\u001b[0;32m-> 1807\u001b[0;31m                             \u001b[0mtmp_logs\u001b[0m \u001b[0;34m=\u001b[0m \u001b[0mself\u001b[0m\u001b[0;34m.\u001b[0m\u001b[0mtrain_function\u001b[0m\u001b[0;34m(\u001b[0m\u001b[0miterator\u001b[0m\u001b[0;34m)\u001b[0m\u001b[0;34m\u001b[0m\u001b[0;34m\u001b[0m\u001b[0m\n\u001b[0m\u001b[1;32m   1808\u001b[0m                             \u001b[0;32mif\u001b[0m \u001b[0mdata_handler\u001b[0m\u001b[0;34m.\u001b[0m\u001b[0mshould_sync\u001b[0m\u001b[0;34m:\u001b[0m\u001b[0;34m\u001b[0m\u001b[0;34m\u001b[0m\u001b[0m\n\u001b[1;32m   1809\u001b[0m                                 \u001b[0mcontext\u001b[0m\u001b[0;34m.\u001b[0m\u001b[0masync_wait\u001b[0m\u001b[0;34m(\u001b[0m\u001b[0;34m)\u001b[0m\u001b[0;34m\u001b[0m\u001b[0;34m\u001b[0m\u001b[0m\n",
            "\u001b[0;32m/usr/local/lib/python3.10/dist-packages/tensorflow/python/util/traceback_utils.py\u001b[0m in \u001b[0;36merror_handler\u001b[0;34m(*args, **kwargs)\u001b[0m\n\u001b[1;32m    148\u001b[0m     \u001b[0mfiltered_tb\u001b[0m \u001b[0;34m=\u001b[0m \u001b[0;32mNone\u001b[0m\u001b[0;34m\u001b[0m\u001b[0;34m\u001b[0m\u001b[0m\n\u001b[1;32m    149\u001b[0m     \u001b[0;32mtry\u001b[0m\u001b[0;34m:\u001b[0m\u001b[0;34m\u001b[0m\u001b[0;34m\u001b[0m\u001b[0m\n\u001b[0;32m--> 150\u001b[0;31m       \u001b[0;32mreturn\u001b[0m \u001b[0mfn\u001b[0m\u001b[0;34m(\u001b[0m\u001b[0;34m*\u001b[0m\u001b[0margs\u001b[0m\u001b[0;34m,\u001b[0m \u001b[0;34m**\u001b[0m\u001b[0mkwargs\u001b[0m\u001b[0;34m)\u001b[0m\u001b[0;34m\u001b[0m\u001b[0;34m\u001b[0m\u001b[0m\n\u001b[0m\u001b[1;32m    151\u001b[0m     \u001b[0;32mexcept\u001b[0m \u001b[0mException\u001b[0m \u001b[0;32mas\u001b[0m \u001b[0me\u001b[0m\u001b[0;34m:\u001b[0m\u001b[0;34m\u001b[0m\u001b[0;34m\u001b[0m\u001b[0m\n\u001b[1;32m    152\u001b[0m       \u001b[0mfiltered_tb\u001b[0m \u001b[0;34m=\u001b[0m \u001b[0m_process_traceback_frames\u001b[0m\u001b[0;34m(\u001b[0m\u001b[0me\u001b[0m\u001b[0;34m.\u001b[0m\u001b[0m__traceback__\u001b[0m\u001b[0;34m)\u001b[0m\u001b[0;34m\u001b[0m\u001b[0;34m\u001b[0m\u001b[0m\n",
            "\u001b[0;32m/usr/local/lib/python3.10/dist-packages/tensorflow/python/eager/polymorphic_function/polymorphic_function.py\u001b[0m in \u001b[0;36m__call__\u001b[0;34m(self, *args, **kwds)\u001b[0m\n\u001b[1;32m    830\u001b[0m \u001b[0;34m\u001b[0m\u001b[0m\n\u001b[1;32m    831\u001b[0m       \u001b[0;32mwith\u001b[0m \u001b[0mOptionalXlaContext\u001b[0m\u001b[0;34m(\u001b[0m\u001b[0mself\u001b[0m\u001b[0;34m.\u001b[0m\u001b[0m_jit_compile\u001b[0m\u001b[0;34m)\u001b[0m\u001b[0;34m:\u001b[0m\u001b[0;34m\u001b[0m\u001b[0;34m\u001b[0m\u001b[0m\n\u001b[0;32m--> 832\u001b[0;31m         \u001b[0mresult\u001b[0m \u001b[0;34m=\u001b[0m \u001b[0mself\u001b[0m\u001b[0;34m.\u001b[0m\u001b[0m_call\u001b[0m\u001b[0;34m(\u001b[0m\u001b[0;34m*\u001b[0m\u001b[0margs\u001b[0m\u001b[0;34m,\u001b[0m \u001b[0;34m**\u001b[0m\u001b[0mkwds\u001b[0m\u001b[0;34m)\u001b[0m\u001b[0;34m\u001b[0m\u001b[0;34m\u001b[0m\u001b[0m\n\u001b[0m\u001b[1;32m    833\u001b[0m \u001b[0;34m\u001b[0m\u001b[0m\n\u001b[1;32m    834\u001b[0m       \u001b[0mnew_tracing_count\u001b[0m \u001b[0;34m=\u001b[0m \u001b[0mself\u001b[0m\u001b[0;34m.\u001b[0m\u001b[0mexperimental_get_tracing_count\u001b[0m\u001b[0;34m(\u001b[0m\u001b[0;34m)\u001b[0m\u001b[0;34m\u001b[0m\u001b[0;34m\u001b[0m\u001b[0m\n",
            "\u001b[0;32m/usr/local/lib/python3.10/dist-packages/tensorflow/python/eager/polymorphic_function/polymorphic_function.py\u001b[0m in \u001b[0;36m_call\u001b[0;34m(self, *args, **kwds)\u001b[0m\n\u001b[1;32m    866\u001b[0m       \u001b[0;31m# In this case we have created variables on the first call, so we run the\u001b[0m\u001b[0;34m\u001b[0m\u001b[0;34m\u001b[0m\u001b[0m\n\u001b[1;32m    867\u001b[0m       \u001b[0;31m# defunned version which is guaranteed to never create variables.\u001b[0m\u001b[0;34m\u001b[0m\u001b[0;34m\u001b[0m\u001b[0m\n\u001b[0;32m--> 868\u001b[0;31m       return tracing_compilation.call_function(\n\u001b[0m\u001b[1;32m    869\u001b[0m           \u001b[0margs\u001b[0m\u001b[0;34m,\u001b[0m \u001b[0mkwds\u001b[0m\u001b[0;34m,\u001b[0m \u001b[0mself\u001b[0m\u001b[0;34m.\u001b[0m\u001b[0m_no_variable_creation_config\u001b[0m\u001b[0;34m\u001b[0m\u001b[0;34m\u001b[0m\u001b[0m\n\u001b[1;32m    870\u001b[0m       )\n",
            "\u001b[0;32m/usr/local/lib/python3.10/dist-packages/tensorflow/python/eager/polymorphic_function/tracing_compilation.py\u001b[0m in \u001b[0;36mcall_function\u001b[0;34m(args, kwargs, tracing_options)\u001b[0m\n\u001b[1;32m    137\u001b[0m   \u001b[0mbound_args\u001b[0m \u001b[0;34m=\u001b[0m \u001b[0mfunction\u001b[0m\u001b[0;34m.\u001b[0m\u001b[0mfunction_type\u001b[0m\u001b[0;34m.\u001b[0m\u001b[0mbind\u001b[0m\u001b[0;34m(\u001b[0m\u001b[0;34m*\u001b[0m\u001b[0margs\u001b[0m\u001b[0;34m,\u001b[0m \u001b[0;34m**\u001b[0m\u001b[0mkwargs\u001b[0m\u001b[0;34m)\u001b[0m\u001b[0;34m\u001b[0m\u001b[0;34m\u001b[0m\u001b[0m\n\u001b[1;32m    138\u001b[0m   \u001b[0mflat_inputs\u001b[0m \u001b[0;34m=\u001b[0m \u001b[0mfunction\u001b[0m\u001b[0;34m.\u001b[0m\u001b[0mfunction_type\u001b[0m\u001b[0;34m.\u001b[0m\u001b[0munpack_inputs\u001b[0m\u001b[0;34m(\u001b[0m\u001b[0mbound_args\u001b[0m\u001b[0;34m)\u001b[0m\u001b[0;34m\u001b[0m\u001b[0;34m\u001b[0m\u001b[0m\n\u001b[0;32m--> 139\u001b[0;31m   return function._call_flat(  # pylint: disable=protected-access\n\u001b[0m\u001b[1;32m    140\u001b[0m       \u001b[0mflat_inputs\u001b[0m\u001b[0;34m,\u001b[0m \u001b[0mcaptured_inputs\u001b[0m\u001b[0;34m=\u001b[0m\u001b[0mfunction\u001b[0m\u001b[0;34m.\u001b[0m\u001b[0mcaptured_inputs\u001b[0m\u001b[0;34m\u001b[0m\u001b[0;34m\u001b[0m\u001b[0m\n\u001b[1;32m    141\u001b[0m   )\n",
            "\u001b[0;32m/usr/local/lib/python3.10/dist-packages/tensorflow/python/eager/polymorphic_function/concrete_function.py\u001b[0m in \u001b[0;36m_call_flat\u001b[0;34m(self, tensor_inputs, captured_inputs)\u001b[0m\n\u001b[1;32m   1321\u001b[0m         and executing_eagerly):\n\u001b[1;32m   1322\u001b[0m       \u001b[0;31m# No tape is watching; skip to running the function.\u001b[0m\u001b[0;34m\u001b[0m\u001b[0;34m\u001b[0m\u001b[0m\n\u001b[0;32m-> 1323\u001b[0;31m       \u001b[0;32mreturn\u001b[0m \u001b[0mself\u001b[0m\u001b[0;34m.\u001b[0m\u001b[0m_inference_function\u001b[0m\u001b[0;34m.\u001b[0m\u001b[0mcall_preflattened\u001b[0m\u001b[0;34m(\u001b[0m\u001b[0margs\u001b[0m\u001b[0;34m)\u001b[0m\u001b[0;34m\u001b[0m\u001b[0;34m\u001b[0m\u001b[0m\n\u001b[0m\u001b[1;32m   1324\u001b[0m     forward_backward = self._select_forward_and_backward_functions(\n\u001b[1;32m   1325\u001b[0m         \u001b[0margs\u001b[0m\u001b[0;34m,\u001b[0m\u001b[0;34m\u001b[0m\u001b[0;34m\u001b[0m\u001b[0m\n",
            "\u001b[0;32m/usr/local/lib/python3.10/dist-packages/tensorflow/python/eager/polymorphic_function/atomic_function.py\u001b[0m in \u001b[0;36mcall_preflattened\u001b[0;34m(self, args)\u001b[0m\n\u001b[1;32m    214\u001b[0m   \u001b[0;32mdef\u001b[0m \u001b[0mcall_preflattened\u001b[0m\u001b[0;34m(\u001b[0m\u001b[0mself\u001b[0m\u001b[0;34m,\u001b[0m \u001b[0margs\u001b[0m\u001b[0;34m:\u001b[0m \u001b[0mSequence\u001b[0m\u001b[0;34m[\u001b[0m\u001b[0mcore\u001b[0m\u001b[0;34m.\u001b[0m\u001b[0mTensor\u001b[0m\u001b[0;34m]\u001b[0m\u001b[0;34m)\u001b[0m \u001b[0;34m->\u001b[0m \u001b[0mAny\u001b[0m\u001b[0;34m:\u001b[0m\u001b[0;34m\u001b[0m\u001b[0;34m\u001b[0m\u001b[0m\n\u001b[1;32m    215\u001b[0m     \u001b[0;34m\"\"\"Calls with flattened tensor inputs and returns the structured output.\"\"\"\u001b[0m\u001b[0;34m\u001b[0m\u001b[0;34m\u001b[0m\u001b[0m\n\u001b[0;32m--> 216\u001b[0;31m     \u001b[0mflat_outputs\u001b[0m \u001b[0;34m=\u001b[0m \u001b[0mself\u001b[0m\u001b[0;34m.\u001b[0m\u001b[0mcall_flat\u001b[0m\u001b[0;34m(\u001b[0m\u001b[0;34m*\u001b[0m\u001b[0margs\u001b[0m\u001b[0;34m)\u001b[0m\u001b[0;34m\u001b[0m\u001b[0;34m\u001b[0m\u001b[0m\n\u001b[0m\u001b[1;32m    217\u001b[0m     \u001b[0;32mreturn\u001b[0m \u001b[0mself\u001b[0m\u001b[0;34m.\u001b[0m\u001b[0mfunction_type\u001b[0m\u001b[0;34m.\u001b[0m\u001b[0mpack_output\u001b[0m\u001b[0;34m(\u001b[0m\u001b[0mflat_outputs\u001b[0m\u001b[0;34m)\u001b[0m\u001b[0;34m\u001b[0m\u001b[0;34m\u001b[0m\u001b[0m\n\u001b[1;32m    218\u001b[0m \u001b[0;34m\u001b[0m\u001b[0m\n",
            "\u001b[0;32m/usr/local/lib/python3.10/dist-packages/tensorflow/python/eager/polymorphic_function/atomic_function.py\u001b[0m in \u001b[0;36mcall_flat\u001b[0;34m(self, *args)\u001b[0m\n\u001b[1;32m    249\u001b[0m         \u001b[0;32mwith\u001b[0m \u001b[0mrecord\u001b[0m\u001b[0;34m.\u001b[0m\u001b[0mstop_recording\u001b[0m\u001b[0;34m(\u001b[0m\u001b[0;34m)\u001b[0m\u001b[0;34m:\u001b[0m\u001b[0;34m\u001b[0m\u001b[0;34m\u001b[0m\u001b[0m\n\u001b[1;32m    250\u001b[0m           \u001b[0;32mif\u001b[0m \u001b[0mself\u001b[0m\u001b[0;34m.\u001b[0m\u001b[0m_bound_context\u001b[0m\u001b[0;34m.\u001b[0m\u001b[0mexecuting_eagerly\u001b[0m\u001b[0;34m(\u001b[0m\u001b[0;34m)\u001b[0m\u001b[0;34m:\u001b[0m\u001b[0;34m\u001b[0m\u001b[0;34m\u001b[0m\u001b[0m\n\u001b[0;32m--> 251\u001b[0;31m             outputs = self._bound_context.call_function(\n\u001b[0m\u001b[1;32m    252\u001b[0m                 \u001b[0mself\u001b[0m\u001b[0;34m.\u001b[0m\u001b[0mname\u001b[0m\u001b[0;34m,\u001b[0m\u001b[0;34m\u001b[0m\u001b[0;34m\u001b[0m\u001b[0m\n\u001b[1;32m    253\u001b[0m                 \u001b[0mlist\u001b[0m\u001b[0;34m(\u001b[0m\u001b[0margs\u001b[0m\u001b[0;34m)\u001b[0m\u001b[0;34m,\u001b[0m\u001b[0;34m\u001b[0m\u001b[0;34m\u001b[0m\u001b[0m\n",
            "\u001b[0;32m/usr/local/lib/python3.10/dist-packages/tensorflow/python/eager/context.py\u001b[0m in \u001b[0;36mcall_function\u001b[0;34m(self, name, tensor_inputs, num_outputs)\u001b[0m\n\u001b[1;32m   1484\u001b[0m     \u001b[0mcancellation_context\u001b[0m \u001b[0;34m=\u001b[0m \u001b[0mcancellation\u001b[0m\u001b[0;34m.\u001b[0m\u001b[0mcontext\u001b[0m\u001b[0;34m(\u001b[0m\u001b[0;34m)\u001b[0m\u001b[0;34m\u001b[0m\u001b[0;34m\u001b[0m\u001b[0m\n\u001b[1;32m   1485\u001b[0m     \u001b[0;32mif\u001b[0m \u001b[0mcancellation_context\u001b[0m \u001b[0;32mis\u001b[0m \u001b[0;32mNone\u001b[0m\u001b[0;34m:\u001b[0m\u001b[0;34m\u001b[0m\u001b[0;34m\u001b[0m\u001b[0m\n\u001b[0;32m-> 1486\u001b[0;31m       outputs = execute.execute(\n\u001b[0m\u001b[1;32m   1487\u001b[0m           \u001b[0mname\u001b[0m\u001b[0;34m.\u001b[0m\u001b[0mdecode\u001b[0m\u001b[0;34m(\u001b[0m\u001b[0;34m\"utf-8\"\u001b[0m\u001b[0;34m)\u001b[0m\u001b[0;34m,\u001b[0m\u001b[0;34m\u001b[0m\u001b[0;34m\u001b[0m\u001b[0m\n\u001b[1;32m   1488\u001b[0m           \u001b[0mnum_outputs\u001b[0m\u001b[0;34m=\u001b[0m\u001b[0mnum_outputs\u001b[0m\u001b[0;34m,\u001b[0m\u001b[0;34m\u001b[0m\u001b[0;34m\u001b[0m\u001b[0m\n",
            "\u001b[0;32m/usr/local/lib/python3.10/dist-packages/tensorflow/python/eager/execute.py\u001b[0m in \u001b[0;36mquick_execute\u001b[0;34m(op_name, num_outputs, inputs, attrs, ctx, name)\u001b[0m\n\u001b[1;32m     51\u001b[0m   \u001b[0;32mtry\u001b[0m\u001b[0;34m:\u001b[0m\u001b[0;34m\u001b[0m\u001b[0;34m\u001b[0m\u001b[0m\n\u001b[1;32m     52\u001b[0m     \u001b[0mctx\u001b[0m\u001b[0;34m.\u001b[0m\u001b[0mensure_initialized\u001b[0m\u001b[0;34m(\u001b[0m\u001b[0;34m)\u001b[0m\u001b[0;34m\u001b[0m\u001b[0;34m\u001b[0m\u001b[0m\n\u001b[0;32m---> 53\u001b[0;31m     tensors = pywrap_tfe.TFE_Py_Execute(ctx._handle, device_name, op_name,\n\u001b[0m\u001b[1;32m     54\u001b[0m                                         inputs, attrs, num_outputs)\n\u001b[1;32m     55\u001b[0m   \u001b[0;32mexcept\u001b[0m \u001b[0mcore\u001b[0m\u001b[0;34m.\u001b[0m\u001b[0m_NotOkStatusException\u001b[0m \u001b[0;32mas\u001b[0m \u001b[0me\u001b[0m\u001b[0;34m:\u001b[0m\u001b[0;34m\u001b[0m\u001b[0;34m\u001b[0m\u001b[0m\n",
            "\u001b[0;31mKeyboardInterrupt\u001b[0m: "
          ]
        }
      ]
    },
    {
      "cell_type": "code",
      "source": [
        "#使用BERT模型進行語言理解\n",
        "from transformers import pipeline\n",
        "\n",
        "# 建立填空任務管道\n",
        "fill_mask = pipeline(\"fill-mask\", model=\"bert-base-uncased\")\n",
        "\n",
        "# 測試句子\n",
        "sentence = \"The ancient script is [MASK] to decipher.\"\n",
        "\n",
        "# 進行預測\n",
        "results = fill_mask(sentence)\n",
        "\n",
        "# 顯示預測結果\n",
        "for result in results:\n",
        "    print(f\"預測: {result['sequence']}, 機率: {result['score']:.4f}\")"
      ],
      "metadata": {
        "colab": {
          "base_uri": "https://localhost:8080/",
          "height": 440,
          "referenced_widgets": [
            "0b8fc8f2c7244afd9a6f9ebb9300adf2",
            "54e955edae6e4f32998ab715f66f3afc",
            "a6ba4f75676b4a7b8d1f5c7640dc03f1",
            "8f4052b096ee4085b08977bbb9a76797",
            "32d0411e6ff748f58b2525093e0da18f",
            "c011240749984e92a3cd0f328a35d83e",
            "13c4040fd54d42028ac1a4089198bbd6",
            "5a689d4861bb4d6781a4089a4f81ccb8",
            "f535df602efa40c49418ca44a7d06c4a",
            "54eb97b81c834554af733c80cf1f431a",
            "a69ec79292e24bcfb93e84fb966fc781",
            "f2375d0e0eea4fc69a538c0ab0e72678",
            "c716b146ea9448478fe0158148bae9fe",
            "b23deb1dcb9544aab4cf70b4724d0cfa",
            "ddf48b96ba874788a46d0505461074fc",
            "73822d9575da45a0b8e84df177a77525",
            "160fa80a51c042158509a3406714f248",
            "93b705606c384437b47dda90d1fbaf00",
            "7cfcaf427172420486289a86b4098d38",
            "18aa2368d1c643f9af070bad4a2fc252",
            "56ec43c315db43b9be8c1d7c81164b21",
            "d471992266c142f88b9cccbd2777cd59",
            "352b650a664a40608e59fdd2ebe33c7f",
            "7edf30cde1074c409f55c774a28b6232",
            "b227e6bf2b15454b80729f75521a7e90",
            "77e649feae9d4b559ca5cb6a318b7f86",
            "235c7e68da2f46c6ac74db3ffa385b3d",
            "0f08ca3497c146e7ae4ede4bc6681236",
            "9aeaebf4fcac49b5ba3a78dfed629d73",
            "d542e25ff45e4060a39bfbf10b730074",
            "398e462477cd4e419c1403054e38c74f",
            "08cc5106cf234e13998be187398a9e86",
            "7de324af9b6b4860a2118d17ed2e5fc9",
            "a0873d2113b5497e9f6c2e232e17ee7c",
            "d9be76950e90447c971fd7dfd7ccdc1f",
            "91c9f6cf4dff4732bdac9aff479774ee",
            "cabff613c7dc4042a88cf43424aa8792",
            "40c544956657424fbce1810c3e808860",
            "71a68c6f868d4b2d8afa1177410cfa98",
            "8f55a774bba94b8b954845745a0fd59c",
            "15372fd04c5d460e990ddf99c0387461",
            "5a977370e3a04cf89033733b052550ef",
            "9a23100fc9384cbbbe6f67e43d11d103",
            "5d4f8ad4d3a54c54a737e106ee78acc6",
            "05ee2a7221144e41a04f2007ec18265b",
            "a529e211e9084950b6b6f5f9a99a026d",
            "88b58bee19a9466b82e5285fc6671a7b",
            "f6afeb995d7d48c081dd7600f759908b",
            "9b1b9df2cfc64435a367270af5471e5d",
            "44c0902659504b228cd1189a79cbb56a",
            "3635061f7e764fa2aa70eaed7429fcc6",
            "85fa62bfd8074be785b624ed60dd408e",
            "0cff31d979534e0294f278798a06f828",
            "86874e05629f4f14b859df0793e7cb56",
            "fe092ae17ab542e7a9fea857cf722d58"
          ]
        },
        "id": "T6AfARH5mSf_",
        "outputId": "57bb4f9c-d948-4c74-eeb2-a3473cb7c599"
      },
      "execution_count": 69,
      "outputs": [
        {
          "output_type": "stream",
          "name": "stderr",
          "text": [
            "/usr/local/lib/python3.10/dist-packages/huggingface_hub/utils/_token.py:89: UserWarning: \n",
            "The secret `HF_TOKEN` does not exist in your Colab secrets.\n",
            "To authenticate with the Hugging Face Hub, create a token in your settings tab (https://huggingface.co/settings/tokens), set it as secret in your Google Colab and restart your session.\n",
            "You will be able to reuse this secret in all of your notebooks.\n",
            "Please note that authentication is recommended but still optional to access public models or datasets.\n",
            "  warnings.warn(\n"
          ]
        },
        {
          "output_type": "display_data",
          "data": {
            "text/plain": [
              "config.json:   0%|          | 0.00/570 [00:00<?, ?B/s]"
            ],
            "application/vnd.jupyter.widget-view+json": {
              "version_major": 2,
              "version_minor": 0,
              "model_id": "0b8fc8f2c7244afd9a6f9ebb9300adf2"
            }
          },
          "metadata": {}
        },
        {
          "output_type": "display_data",
          "data": {
            "text/plain": [
              "model.safetensors:   0%|          | 0.00/440M [00:00<?, ?B/s]"
            ],
            "application/vnd.jupyter.widget-view+json": {
              "version_major": 2,
              "version_minor": 0,
              "model_id": "f2375d0e0eea4fc69a538c0ab0e72678"
            }
          },
          "metadata": {}
        },
        {
          "output_type": "stream",
          "name": "stderr",
          "text": [
            "Some weights of the model checkpoint at bert-base-uncased were not used when initializing BertForMaskedLM: ['bert.pooler.dense.bias', 'bert.pooler.dense.weight', 'cls.seq_relationship.bias', 'cls.seq_relationship.weight']\n",
            "- This IS expected if you are initializing BertForMaskedLM from the checkpoint of a model trained on another task or with another architecture (e.g. initializing a BertForSequenceClassification model from a BertForPreTraining model).\n",
            "- This IS NOT expected if you are initializing BertForMaskedLM from the checkpoint of a model that you expect to be exactly identical (initializing a BertForSequenceClassification model from a BertForSequenceClassification model).\n"
          ]
        },
        {
          "output_type": "display_data",
          "data": {
            "text/plain": [
              "tokenizer_config.json:   0%|          | 0.00/48.0 [00:00<?, ?B/s]"
            ],
            "application/vnd.jupyter.widget-view+json": {
              "version_major": 2,
              "version_minor": 0,
              "model_id": "352b650a664a40608e59fdd2ebe33c7f"
            }
          },
          "metadata": {}
        },
        {
          "output_type": "display_data",
          "data": {
            "text/plain": [
              "vocab.txt:   0%|          | 0.00/232k [00:00<?, ?B/s]"
            ],
            "application/vnd.jupyter.widget-view+json": {
              "version_major": 2,
              "version_minor": 0,
              "model_id": "a0873d2113b5497e9f6c2e232e17ee7c"
            }
          },
          "metadata": {}
        },
        {
          "output_type": "display_data",
          "data": {
            "text/plain": [
              "tokenizer.json:   0%|          | 0.00/466k [00:00<?, ?B/s]"
            ],
            "application/vnd.jupyter.widget-view+json": {
              "version_major": 2,
              "version_minor": 0,
              "model_id": "05ee2a7221144e41a04f2007ec18265b"
            }
          },
          "metadata": {}
        },
        {
          "output_type": "stream",
          "name": "stdout",
          "text": [
            "預測: the ancient script is difficult to decipher., 機率: 0.7290\n",
            "預測: the ancient script is hard to decipher., 機率: 0.1364\n",
            "預測: the ancient script is impossible to decipher., 機率: 0.0840\n",
            "預測: the ancient script is easy to decipher., 機率: 0.0293\n",
            "預測: the ancient script is harder to decipher., 機率: 0.0095\n"
          ]
        }
      ]
    },
    {
      "cell_type": "code",
      "source": [
        "#使用Python和Keras實現簡單埃及象形文字識別\n",
        "import numpy as np\n",
        "import tensorflow as tf\n",
        "from tensorflow.keras import datasets, layers, models\n",
        "import matplotlib.pyplot as plt\n",
        "\n",
        "# 假設我們有一個包含象形文字圖像和標籤的數據集\n",
        "# 這裡我們使用MNIST數據集來模擬\n",
        "(train_images, train_labels), (test_images, test_labels) = datasets.mnist.load_data()\n",
        "\n",
        "# 預處理數據\n",
        "train_images = train_images.reshape((60000, 28, 28, 1)).astype('float32') / 255\n",
        "test_images = test_images.reshape((10000, 28, 28, 1)).astype('float32') / 255\n",
        "\n",
        "# 建立卷積神經網絡模型\n",
        "model = models.Sequential([\n",
        "    layers.Conv2D(32, (3, 3), activation='relu', input_shape=(28, 28, 1)),\n",
        "    layers.MaxPooling2D((2, 2)),\n",
        "    layers.Conv2D(64, (3, 3), activation='relu'),\n",
        "    layers.MaxPooling2D((2, 2)),\n",
        "    layers.Conv2D(64, (3, 3), activation='relu'),\n",
        "    layers.Flatten(),\n",
        "    layers.Dense(64, activation='relu'),\n",
        "    layers.Dense(10, activation='softmax')\n",
        "])\n",
        "\n",
        "# 編譯模型\n",
        "model.compile(optimizer='adam', loss='sparse_categorical_crossentropy', metrics=['accuracy'])\n",
        "\n",
        "# 訓練模型\n",
        "model.fit(train_images, train_labels, epochs=5, batch_size=64, verbose=1)\n",
        "\n",
        "# 評估模型\n",
        "test_loss, test_acc = model.evaluate(test_images, test_labels)\n",
        "print(f'準確率: {test_acc:.4f}')\n",
        "\n",
        "# 顯示部分預測結果\n",
        "predictions = model.predict(test_images)\n",
        "plt.figure(figsize=(10, 10))\n",
        "for i in range(25):\n",
        "    plt.subplot(5, 5, i + 1)\n",
        "    plt.xticks([])\n",
        "    plt.yticks([])\n",
        "    plt.grid(False)\n",
        "    plt.imshow(test_images[i], cmap=plt.cm.binary)\n",
        "    plt.xlabel(np.argmax(predictions[i]))\n",
        "plt.show()"
      ],
      "metadata": {
        "colab": {
          "base_uri": "https://localhost:8080/"
        },
        "id": "LJCq7yNvmXvR",
        "outputId": "8d020670-99c0-45a2-f81f-8c2f9b23055b"
      },
      "execution_count": null,
      "outputs": [
        {
          "output_type": "stream",
          "name": "stdout",
          "text": [
            "Epoch 1/5\n",
            "938/938 [==============================] - 65s 68ms/step - loss: 0.1800 - accuracy: 0.9441\n",
            "Epoch 2/5\n",
            "831/938 [=========================>....] - ETA: 9s - loss: 0.0518 - accuracy: 0.9845"
          ]
        }
      ]
    },
    {
      "cell_type": "code",
      "source": [],
      "metadata": {
        "id": "cVEfP8ohnM0Q"
      },
      "execution_count": null,
      "outputs": []
    },
    {
      "cell_type": "code",
      "source": [
        "#數據視覺化與圖表製作\n",
        "pip install matplotlib seaborn\n",
        "\n",
        "import matplotlib.pyplot as plt\n",
        "\n",
        "# 創建數據\n",
        "x = [1, 2, 3, 4, 5]\n",
        "y = [2, 3, 5, 7, 11]\n",
        "\n",
        "# 繪製折線圖\n",
        "plt.plot(x, y, marker='o')\n",
        "plt.title('Line Plot')\n",
        "plt.xlabel('X Axis')\n",
        "plt.ylabel('Y Axis')\n",
        "plt.show()\n",
        "\n",
        "import matplotlib.pyplot as plt\n",
        "\n",
        "# 創建數據\n",
        "categories = ['A', 'B', 'C', 'D', 'E']\n",
        "values = [5, 7, 3, 8, 4]\n",
        "\n",
        "# 繪製柱狀圖\n",
        "plt.bar(categories, values, color='blue')\n",
        "plt.title('Bar Plot')\n",
        "plt.xlabel('Categories')\n",
        "plt.ylabel('Values')\n",
        "plt.show()\n",
        "\n",
        "import matplotlib.pyplot as plt\n",
        "import numpy as np\n",
        "\n",
        "# 創建數據\n",
        "data = np.random.randn(1000)\n",
        "\n",
        "# 繪製直方圖\n",
        "plt.hist(data, bins=30, color='green', edgecolor='black')\n",
        "plt.title('Histogram')\n",
        "plt.xlabel('Value')\n",
        "plt.ylabel('Frequency')\n",
        "plt.show()\n",
        "\n",
        "import matplotlib.pyplot as plt\n",
        "\n",
        "# 創建數據\n",
        "x = np.random.rand(100)\n",
        "y = np.random.rand(100)\n",
        "\n",
        "# 繪製散點圖\n",
        "plt.scatter(x, y, color='red')\n",
        "plt.title('Scatter Plot')\n",
        "plt.xlabel('X Axis')\n",
        "plt.ylabel('Y Axis')\n",
        "plt.show()\n",
        "\n",
        "import seaborn as sns\n",
        "import matplotlib.pyplot as plt\n",
        "\n",
        "# 創建數據\n",
        "data = np.random.randn(100)\n",
        "\n",
        "# 繪製箱線圖\n",
        "sns.boxplot(data)\n",
        "plt.title('Box Plot')\n",
        "plt.show()"
      ],
      "metadata": {
        "id": "BG2meKdommYS"
      },
      "execution_count": null,
      "outputs": []
    },
    {
      "cell_type": "code",
      "source": [
        "import matplotlib.pyplot as plt\n",
        "\n",
        "# 創建數據\n",
        "x = np.linspace(0, 10, 100)\n",
        "y1 = np.sin(x)\n",
        "y2 = np.cos(x)\n",
        "\n",
        "# 創建多圖表佈局\n",
        "fig, (ax1, ax2) = plt.subplots(1, 2, figsize=(12, 5))\n",
        "\n",
        "# 繪製圖表\n",
        "ax1.plot(x, y1, color='blue', label='Sine')\n",
        "ax1.set_title('Sine Wave')\n",
        "ax1.set_xlabel('X Axis')\n",
        "ax1.set_ylabel('Y Axis')\n",
        "ax1.legend()\n",
        "\n",
        "ax2.plot(x, y2, color='green', label='Cosine')\n",
        "ax2.set_title('Cosine Wave')\n",
        "ax2.set_xlabel('X Axis')\n",
        "ax2.set_ylabel('Y Axis')\n",
        "ax2.legend()\n",
        "\n",
        "plt.show()"
      ],
      "metadata": {
        "id": "uycXaVmbmz5H"
      },
      "execution_count": null,
      "outputs": []
    },
    {
      "cell_type": "code",
      "source": [
        "#使用 Seaborn 進行高級數據視覺化\n",
        "import seaborn as sns\n",
        "import matplotlib.pyplot as plt\n",
        "\n",
        "# 創建數據\n",
        "tips = sns.load_dataset('tips')\n",
        "\n",
        "# 繪製多變量散點圖\n",
        "sns.pairplot(tips, hue='sex')\n",
        "plt.show()"
      ],
      "metadata": {
        "id": "z5EX7oVnm2N-"
      },
      "execution_count": null,
      "outputs": []
    },
    {
      "cell_type": "code",
      "source": [
        "import plotly.express as px\n",
        "\n",
        "# 創建數據\n",
        "df = px.data.iris()\n",
        "\n",
        "# 繪製交互式散點圖\n",
        "fig = px.scatter(df, x='sepal_width', y='sepal_length', color='species')\n",
        "fig.show()"
      ],
      "metadata": {
        "id": "fGi9XVIvm5ZY"
      },
      "execution_count": null,
      "outputs": []
    },
    {
      "cell_type": "code",
      "source": [
        "#數據清洗與處理\n",
        "pip install pandas numpy\n",
        "\n",
        "import pandas as pd\n",
        "\n",
        "# 讀取數據\n",
        "df = pd.read_csv('data.csv')\n",
        "\n",
        "# 顯示數據集前五行\n",
        "print(df.head())\n",
        "\n",
        "# 顯示數據集基本信息\n",
        "print(df.info())\n",
        "\n",
        "# 查看每列的缺失值數量\n",
        "print(df.isnull().sum())\n",
        "\n",
        "# 刪除包含缺失值的行\n",
        "df_cleaned = df.dropna()\n",
        "\n",
        "# 用特定值填充缺失值\n",
        "df_filled = df.fillna(0)\n",
        "\n",
        "# 用列的平均值填充缺失值\n",
        "df_filled_mean = df.fillna(df.mean())"
      ],
      "metadata": {
        "id": "xZhQyFjXnOI2"
      },
      "execution_count": null,
      "outputs": []
    },
    {
      "cell_type": "code",
      "source": [
        "# 查看數據集中是否存在重複行\n",
        "print(df.duplicated().sum())\n",
        "\n",
        "# 刪除重複行\n",
        "df_unique = df.drop_duplicates()"
      ],
      "metadata": {
        "id": "XcPwOJKwnU_-"
      },
      "execution_count": null,
      "outputs": []
    },
    {
      "cell_type": "code",
      "source": [
        "# 使用 IQR 方法識別和刪除異常值\n",
        "Q1 = df.quantile(0.25)\n",
        "Q3 = df.quantile(0.75)\n",
        "IQR = Q3 - Q1\n",
        "\n",
        "df_no_outliers = df[~((df < (Q1 - 1.5 * IQR)) | (df > (Q3 + 1.5 * IQR))).any(axis=1)]"
      ],
      "metadata": {
        "id": "5NLlHMsFnXOG"
      },
      "execution_count": null,
      "outputs": []
    },
    {
      "cell_type": "code",
      "source": [
        "# 將類別變量轉換為數字變量\n",
        "df['category'] = df['category'].astype('category')\n",
        "df['category'] = df['category'].cat.codes\n",
        "\n",
        "# 創建新變量\n",
        "df['new_variable'] = df['variable1'] + df['variable2']"
      ],
      "metadata": {
        "id": "ba9vJvVWnYdm"
      },
      "execution_count": null,
      "outputs": []
    },
    {
      "cell_type": "code",
      "source": [
        "#進行標準化和正規化處理\n",
        "from sklearn.preprocessing import StandardScaler, MinMaxScaler\n",
        "\n",
        "# 標準化數據\n",
        "scaler = StandardScaler()\n",
        "df_standardized = pd.DataFrame(scaler.fit_transform(df), columns=df.columns)\n",
        "\n",
        "# 正規化數據\n",
        "minmax_scaler = MinMaxScaler()\n",
        "df_normalized = pd.DataFrame(minmax_scaler.fit_transform(df), columns=df.columns)"
      ],
      "metadata": {
        "id": "r5J6kBJKnbFX"
      },
      "execution_count": null,
      "outputs": []
    },
    {
      "cell_type": "code",
      "source": [
        "#特徵工程\n",
        "# 創建交互特徵\n",
        "df['interaction'] = df['variable1'] * df['variable2']\n",
        "\n",
        "# 創建多項式特徵\n",
        "df['variable1_squared'] = df['variable1'] ** 2"
      ],
      "metadata": {
        "id": "bBKbeOEnndoX"
      },
      "execution_count": null,
      "outputs": []
    },
    {
      "cell_type": "code",
      "source": [
        "#處理時間序列數據\n",
        "# 將列轉換為日期時間格式\n",
        "df['date'] = pd.to_datetime(df['date'])\n",
        "\n",
        "# 設置索引為日期\n",
        "df.set_index('date', inplace=True)\n",
        "\n",
        "# 重採樣數據\n",
        "df_resampled = df.resample('M').mean()"
      ],
      "metadata": {
        "id": "eKwh_X60ngBO"
      },
      "execution_count": null,
      "outputs": []
    }
  ]
}