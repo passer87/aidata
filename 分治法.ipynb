{
  "nbformat": 4,
  "nbformat_minor": 0,
  "metadata": {
    "colab": {
      "provenance": [],
      "authorship_tag": "ABX9TyMqGbXac0EsC2bRqqiwTGXA",
      "include_colab_link": true
    },
    "kernelspec": {
      "name": "python3",
      "display_name": "Python 3"
    },
    "language_info": {
      "name": "python"
    }
  },
  "cells": [
    {
      "cell_type": "markdown",
      "metadata": {
        "id": "view-in-github",
        "colab_type": "text"
      },
      "source": [
        "<a href=\"https://colab.research.google.com/github/passer87/aidata/blob/main/%E5%88%86%E6%B2%BB%E6%B3%95.ipynb\" target=\"_parent\"><img src=\"https://colab.research.google.com/assets/colab-badge.svg\" alt=\"Open In Colab\"/></a>"
      ]
    },
    {
      "cell_type": "code",
      "execution_count": 1,
      "metadata": {
        "colab": {
          "base_uri": "https://localhost:8080/"
        },
        "id": "TGCY4jo1BF1p",
        "outputId": "9fb9e88d-2088-45ee-9dea-aad5b19496e7"
      },
      "outputs": [
        {
          "output_type": "stream",
          "name": "stdout",
          "text": [
            "最大子序列和為: 6\n"
          ]
        }
      ],
      "source": [
        "#分治法解決最大子序列和問題\n",
        "def max_crossing_sum(nums, left, mid, right):\n",
        "    left_sum = float('-inf')\n",
        "    total = 0\n",
        "    for i in range(mid, left - 1, -1):\n",
        "        total += nums[i]\n",
        "        if total > left_sum:\n",
        "            left_sum = total\n",
        "\n",
        "    right_sum = float('-inf')\n",
        "    total = 0\n",
        "    for i in range(mid + 1, right + 1):\n",
        "        total += nums[i]\n",
        "        if total > right_sum:\n",
        "            right_sum = total\n",
        "\n",
        "    return left_sum + right_sum\n",
        "\n",
        "def max_subarray_sum_divide_and_conquer(nums, left, right):\n",
        "    if left == right:\n",
        "        return nums[left]\n",
        "\n",
        "    mid = (left + right) // 2\n",
        "\n",
        "    left_sum = max_subarray_sum_divide_and_conquer(nums, left, mid)\n",
        "    right_sum = max_subarray_sum_divide_and_conquer(nums, mid + 1, right)\n",
        "    cross_sum = max_crossing_sum(nums, left, mid, right)\n",
        "\n",
        "    return max(left_sum, right_sum, cross_sum)\n",
        "\n",
        "# 測試分治法解決最大子序列和問題\n",
        "example_arr = [-2, 1, -3, 4, -1, 2, 1, -5, 4]\n",
        "max_sum = max_subarray_sum_divide_and_conquer(example_arr, 0, len(example_arr) - 1)\n",
        "print(f\"最大子序列和為: {max_sum}\")"
      ]
    }
  ]
}