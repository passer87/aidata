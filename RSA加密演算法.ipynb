{
  "nbformat": 4,
  "nbformat_minor": 0,
  "metadata": {
    "colab": {
      "provenance": [],
      "authorship_tag": "ABX9TyPepvmUXA67v2XTpQFM5Ezu",
      "include_colab_link": true
    },
    "kernelspec": {
      "name": "python3",
      "display_name": "Python 3"
    },
    "language_info": {
      "name": "python"
    }
  },
  "cells": [
    {
      "cell_type": "markdown",
      "metadata": {
        "id": "view-in-github",
        "colab_type": "text"
      },
      "source": [
        "<a href=\"https://colab.research.google.com/github/passer87/aidata/blob/main/RSA%E5%8A%A0%E5%AF%86%E6%BC%94%E7%AE%97%E6%B3%95.ipynb\" target=\"_parent\"><img src=\"https://colab.research.google.com/assets/colab-badge.svg\" alt=\"Open In Colab\"/></a>"
      ]
    },
    {
      "cell_type": "code",
      "execution_count": 1,
      "metadata": {
        "colab": {
          "base_uri": "https://localhost:8080/"
        },
        "id": "CFL6Svlu9-4Y",
        "outputId": "4f6dad9f-aa2d-40fd-a745-049e2583af3e"
      },
      "outputs": [
        {
          "output_type": "stream",
          "name": "stdout",
          "text": [
            "加密後的密文: 1399147991342727900150592628610586166963878558174769251007972539305343445387918766585187717769168908838310199269595439265934782333270932987706015661100556921695823911076043440255513692173415555264938522990317219863917265983405542169802231422106827203870772475796294549126713494753399419932579607976864382929\n",
            "解密後的明文: Hello, RSA!\n",
            "加密後的密文: 68520960634317251537533771786795456159223151326660672109203915829347451734777863469640670135468832376047524381349729191232679337057396325535013046265349235652514002153527659313937858989544562041969137147975346572939899916260751527523450348181615493271304155876522922119051150687043963568376030065712514148016063908480320637276550357997711979583596023583798118025680211173619317520087300521908154058063166177142444541223817463834814173867822954345370056515894255047684011668357427864758938177632665787366893890126554336766953883147208020459264413539415524562014094466273836880279056693374107628754926064799701912559772774327250954251629028257724527458346852300296755407968399781223896063729655046895413126068334530564144574559364968268131015613904576996124544819823857360461949410766897895482436143771686553858152338416744134524846434492116108232786146621140496103967330977173215718574345082227777938206467233236132605150571426212728047112231108861672378687373282746989808233886388838374527890390096290211002360384284362400036486522125150199279620266505087543631502646500001481149368208903030955546429736934270862752335016071127279547142203335476403954164318886942005682302088518747500885959093288484578379664080824342908493473979994\n",
            "解密後的明文: Hello, RSA with 2048-bit key!\n"
          ]
        }
      ],
      "source": [
        "#RSA加密演算法\n",
        "import random\n",
        "from sympy import isprime, mod_inverse\n",
        "\n",
        "def generate_keypair(bits):\n",
        "    # 選擇兩個大質數 p 和 q\n",
        "    p = random_prime(bits)\n",
        "    q = random_prime(bits)\n",
        "    while p == q:\n",
        "        q = random_prime(bits)\n",
        "\n",
        "    n = p * q\n",
        "    phi = (p - 1) * (q - 1)\n",
        "\n",
        "    # 選擇公開指數 e\n",
        "    e = 65537  # 常用公開指數\n",
        "    d = mod_inverse(e, phi)\n",
        "\n",
        "    return ((e, n), (d, n))\n",
        "\n",
        "def random_prime(bits):\n",
        "    while True:\n",
        "        num = random.getrandbits(bits)\n",
        "        if isprime(num):\n",
        "            return num\n",
        "\n",
        "def encrypt(public_key, plaintext):\n",
        "    e, n = public_key\n",
        "    plaintext_int = int.from_bytes(plaintext.encode('utf-8'), 'big')\n",
        "    cipher_int = pow(plaintext_int, e, n)\n",
        "    return cipher_int\n",
        "\n",
        "def decrypt(private_key, ciphertext):\n",
        "    d, n = private_key\n",
        "    plaintext_int = pow(ciphertext, d, n)\n",
        "    plaintext = plaintext_int.to_bytes((plaintext_int.bit_length() + 7) // 8, 'big').decode('utf-8')\n",
        "    return plaintext\n",
        "# 測試RSA加密演算法\n",
        "if __name__ == \"__main__\":\n",
        "    bits = 512  # 密鑰長度\n",
        "    public_key, private_key = generate_keypair(bits)\n",
        "\n",
        "    message = \"Hello, RSA!\"\n",
        "    ciphertext = encrypt(public_key, message)\n",
        "    print(f\"加密後的密文: {ciphertext}\")\n",
        "\n",
        "    decrypted_message = decrypt(private_key, ciphertext)\n",
        "    print(f\"解密後的明文: {decrypted_message}\")\n",
        "\n",
        "# 使用2048位密鑰進行RSA加密\n",
        "if __name__ == \"__main__\":\n",
        "    bits = 2048  # 使用更長的密鑰\n",
        "    public_key, private_key = generate_keypair(bits)\n",
        "\n",
        "    message = \"Hello, RSA with 2048-bit key!\"\n",
        "    ciphertext = encrypt(public_key, message)\n",
        "    print(f\"加密後的密文: {ciphertext}\")\n",
        "\n",
        "    decrypted_message = decrypt(private_key, ciphertext)\n",
        "    print(f\"解密後的明文: {decrypted_message}\")"
      ]
    }
  ]
}