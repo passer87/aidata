{
  "nbformat": 4,
  "nbformat_minor": 0,
  "metadata": {
    "colab": {
      "provenance": [],
      "authorship_tag": "ABX9TyManVKVgsHUPW1J+v1DbWpQ",
      "include_colab_link": true
    },
    "kernelspec": {
      "name": "python3",
      "display_name": "Python 3"
    },
    "language_info": {
      "name": "python"
    }
  },
  "cells": [
    {
      "cell_type": "markdown",
      "metadata": {
        "id": "view-in-github",
        "colab_type": "text"
      },
      "source": [
        "<a href=\"https://colab.research.google.com/github/passer87/aidata/blob/main/%E8%B2%AA%E5%BF%83%E6%BC%94%E7%AE%97%E6%B3%95.ipynb\" target=\"_parent\"><img src=\"https://colab.research.google.com/assets/colab-badge.svg\" alt=\"Open In Colab\"/></a>"
      ]
    },
    {
      "cell_type": "code",
      "execution_count": 1,
      "metadata": {
        "colab": {
          "base_uri": "https://localhost:8080/"
        },
        "id": "EDhT8Aso-WfK",
        "outputId": "5b3f7091-db60-48e3-8a5b-05e9e61d6944"
      },
      "outputs": [
        {
          "output_type": "stream",
          "name": "stdout",
          "text": [
            "最少需要的硬幣數量: 6\n"
          ]
        }
      ],
      "source": [
        "#貪心演算法的工作原理\n",
        "def min_coins_greedy(coins, amount):\n",
        "    # 將硬幣按面值從大到小排序\n",
        "    coins.sort(reverse=True)\n",
        "    count = 0\n",
        "    for coin in coins:\n",
        "        if amount == 0:\n",
        "            break\n",
        "        # 使用盡可能多的當前面值硬幣\n",
        "        count += amount // coin\n",
        "        amount %= coin\n",
        "    return count\n",
        "\n",
        "# 測試貪心算法解決貨幣找零問題\n",
        "coins = [1, 5, 10, 25]\n",
        "amount = 63\n",
        "min_coins = min_coins_greedy(coins, amount)\n",
        "print(f\"最少需要的硬幣數量: {min_coins}\")"
      ]
    },
    {
      "cell_type": "code",
      "source": [
        "#貪心算法來進行投資組合優化\n",
        "def max_profit_greedy(investments, budget):\n",
        "    # 將投資項目按收益/成本比從高到低排序\n",
        "    investments.sort(key=lambda x: x['profit'] / x['cost'], reverse=True)\n",
        "    total_profit = 0\n",
        "    for investment in investments:\n",
        "        if budget == 0:\n",
        "            break\n",
        "        if investment['cost'] <= budget:\n",
        "            budget -= investment['cost']\n",
        "            total_profit += investment['profit']\n",
        "    return total_profit\n",
        "\n",
        "# 測試投資組合優化\n",
        "investments = [\n",
        "    {'cost': 100, 'profit': 10},\n",
        "    {'cost': 200, 'profit': 20},\n",
        "    {'cost': 300, 'profit': 30},\n",
        "    {'cost': 400, 'profit': 40}\n",
        "]\n",
        "budget = 500\n",
        "max_profit = max_profit_greedy(investments, budget)\n",
        "print(f\"最大預期回報: {max_profit}\")"
      ],
      "metadata": {
        "colab": {
          "base_uri": "https://localhost:8080/"
        },
        "id": "OK1QSu08-bUx",
        "outputId": "087c469f-25f6-4b83-aefa-4bd9356f34af"
      },
      "execution_count": 2,
      "outputs": [
        {
          "output_type": "stream",
          "name": "stdout",
          "text": [
            "最大預期回報: 30\n"
          ]
        }
      ]
    },
    {
      "cell_type": "code",
      "source": [
        "#動態規劃的解法\n",
        "def min_coins_dp(coins, amount):\n",
        "    dp = [float('inf')] * (amount + 1)\n",
        "    dp[0] = 0\n",
        "    for coin in coins:\n",
        "        for x in range(coin, amount + 1):\n",
        "            dp[x] = min(dp[x], dp[x - coin] + 1)\n",
        "    return dp[amount] if dp[amount] != float('inf') else -1\n",
        "\n",
        "# 測試動態規劃解法\n",
        "coins = [1, 3, 4]\n",
        "amount = 6\n",
        "min_coins = min_coins_dp(coins, amount)\n",
        "print(f\"最少需要的硬幣數量（正確解法）: {min_coins}\")"
      ],
      "metadata": {
        "colab": {
          "base_uri": "https://localhost:8080/"
        },
        "id": "V05U_8bN-kLn",
        "outputId": "dd7a14bc-aead-404e-c2a4-9a3ee9432042"
      },
      "execution_count": 3,
      "outputs": [
        {
          "output_type": "stream",
          "name": "stdout",
          "text": [
            "最少需要的硬幣數量（正確解法）: 2\n"
          ]
        }
      ]
    }
  ]
}