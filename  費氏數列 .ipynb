{
  "nbformat": 4,
  "nbformat_minor": 0,
  "metadata": {
    "colab": {
      "provenance": [],
      "authorship_tag": "ABX9TyP3ch5fCUzMLLIpdsB1Ij0Q",
      "include_colab_link": true
    },
    "kernelspec": {
      "name": "python3",
      "display_name": "Python 3"
    },
    "language_info": {
      "name": "python"
    }
  },
  "cells": [
    {
      "cell_type": "markdown",
      "metadata": {
        "id": "view-in-github",
        "colab_type": "text"
      },
      "source": [
        "<a href=\"https://colab.research.google.com/github/passer87/aidata/blob/main/%20%E8%B2%BB%E6%B0%8F%E6%95%B8%E5%88%97%20.ipynb\" target=\"_parent\"><img src=\"https://colab.research.google.com/assets/colab-badge.svg\" alt=\"Open In Colab\"/></a>"
      ]
    },
    {
      "cell_type": "code",
      "execution_count": 2,
      "metadata": {
        "colab": {
          "base_uri": "https://localhost:8080/"
        },
        "id": "nK4-iAQ2Ncsg",
        "outputId": "e5378514-42c2-4e03-d54b-a859cb38e05e"
      },
      "outputs": [
        {
          "output_type": "stream",
          "name": "stdout",
          "text": [
            "10\n",
            "0,1,1,2,3,5,8,13,21,34,"
          ]
        }
      ],
      "source": [
        "n = int(input())             # 輸入要產生的數字數量\n",
        "arr = []                     # 建立一個空串列，記錄數字\n",
        "for i in range(n):           # 使用 for 迴圈，重複指定的數字\n",
        "    if i==0:                 # 如果 i 等於 0，a 為 0\n",
        "        a = 0\n",
        "    elif i==1:               # 如果 i 等於 1，a 為 1\n",
        "        a = 1\n",
        "        arr = [0, 1]         # 將串列設定為 [0, 1]\n",
        "    else:                    # 如果 i 大於 1\n",
        "        a = arr[0] + arr[1]  # a 等於串列的兩個數字相加\n",
        "        del arr[0]           # 刪除串列的第一個項目\n",
        "        arr.append(a)        # 將 a 加入串列成為第二個項目\n",
        "    print(a, end=',')        # 0,1,1,2,3,5,8,13,21,34,55,89,144,233,377,610,987,1597,2584,4181"
      ]
    }
  ]
}