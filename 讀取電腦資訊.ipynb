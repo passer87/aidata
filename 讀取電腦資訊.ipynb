{
  "nbformat": 4,
  "nbformat_minor": 0,
  "metadata": {
    "colab": {
      "provenance": [],
      "authorship_tag": "ABX9TyO2XtZwPY7lQaqFQGD3p/ZS",
      "include_colab_link": true
    },
    "kernelspec": {
      "name": "python3",
      "display_name": "Python 3"
    },
    "language_info": {
      "name": "python"
    }
  },
  "cells": [
    {
      "cell_type": "markdown",
      "metadata": {
        "id": "view-in-github",
        "colab_type": "text"
      },
      "source": [
        "<a href=\"https://colab.research.google.com/github/passer87/aidata/blob/main/%E8%AE%80%E5%8F%96%E9%9B%BB%E8%85%A6%E8%B3%87%E8%A8%8A.ipynb\" target=\"_parent\"><img src=\"https://colab.research.google.com/assets/colab-badge.svg\" alt=\"Open In Colab\"/></a>"
      ]
    },
    {
      "cell_type": "code",
      "execution_count": 20,
      "metadata": {
        "colab": {
          "base_uri": "https://localhost:8080/"
        },
        "id": "s4gsJyhCZoZZ",
        "outputId": "d54710f9-61ac-4131-8059-6043b686b778"
      },
      "outputs": [
        {
          "output_type": "stream",
          "name": "stdout",
          "text": [
            "2\n",
            "1\n",
            "[6.0, 4.1]\n",
            "scpufreq(current=2199.998, min=0.0, max=0.0)\n",
            "硬體\n",
            "svmem(total=13609431040, available=12419993600, percent=8.7, used=854192128, free=7571603456, active=694370304, inactive=5002592256, buffers=399007744, cached=4784627712, shared=2023424, slab=234663936)\n",
            "[sdiskpart(device='/dev/root', mountpoint='/usr/sbin/docker-init', fstype='ext2', opts='ro,relatime', maxfile=255, maxpath=4096), sdiskpart(device='/dev/sda1', mountpoint='/kaggle/input', fstype='ext4', opts='ro,relatime,commit=30', maxfile=255, maxpath=4096), sdiskpart(device='/dev/sda1', mountpoint='/etc/resolv.conf', fstype='ext4', opts='rw,nosuid,nodev,relatime,commit=30', maxfile=255, maxpath=4096), sdiskpart(device='/dev/sda1', mountpoint='/etc/hostname', fstype='ext4', opts='rw,nosuid,nodev,relatime,commit=30', maxfile=255, maxpath=4096), sdiskpart(device='/dev/sda1', mountpoint='/etc/hosts', fstype='ext4', opts='rw,nosuid,nodev,relatime,commit=30', maxfile=255, maxpath=4096)]\n",
            "網路\n",
            "snetio(bytes_sent=6008651, bytes_recv=6043226, packets_sent=19756, packets_recv=20215, errin=0, errout=0, dropin=0, dropout=0)\n",
            "{'lo': [snicaddr(family=<AddressFamily.AF_INET: 2>, address='127.0.0.1', netmask='255.0.0.0', broadcast=None, ptp=None), snicaddr(family=<AddressFamily.AF_PACKET: 17>, address='00:00:00:00:00:00', netmask=None, broadcast=None, ptp=None)], 'eth0': [snicaddr(family=<AddressFamily.AF_INET: 2>, address='172.28.0.12', netmask='255.255.0.0', broadcast='172.28.255.255', ptp=None), snicaddr(family=<AddressFamily.AF_PACKET: 17>, address='02:42:ac:1c:00:0c', netmask=None, broadcast='ff:ff:ff:ff:ff:ff', ptp=None)]}\n",
            "[sconn(fd=-1, family=<AddressFamily.AF_INET: 2>, type=<SocketKind.SOCK_STREAM: 1>, laddr=addr(ip='172.28.0.12', port=6000), raddr=addr(ip='172.28.0.12', port=52884), status='TIME_WAIT', pid=None), sconn(fd=7, family=<AddressFamily.AF_INET: 2>, type=<SocketKind.SOCK_STREAM: 1>, laddr=addr(ip='172.28.0.12', port=46006), raddr=addr(ip='172.28.0.12', port=9000), status='ESTABLISHED', pid=20), sconn(fd=-1, family=<AddressFamily.AF_INET: 2>, type=<SocketKind.SOCK_STREAM: 1>, laddr=addr(ip='127.0.0.11', port=42341), raddr=(), status='LISTEN', pid=None), sconn(fd=8, family=<AddressFamily.AF_INET: 2>, type=<SocketKind.SOCK_STREAM: 1>, laddr=addr(ip='172.28.0.12', port=9000), raddr=addr(ip='172.28.0.12', port=46006), status='ESTABLISHED', pid=82), sconn(fd=-1, family=<AddressFamily.AF_INET: 2>, type=<SocketKind.SOCK_STREAM: 1>, laddr=addr(ip='172.28.0.12', port=6000), raddr=addr(ip='172.28.0.12', port=52874), status='TIME_WAIT', pid=None), sconn(fd=-1, family=<AddressFamily.AF_INET6: 10>, type=<SocketKind.SOCK_STREAM: 1>, laddr=addr(ip='::ffff:172.28.0.12', port=8080), raddr=addr(ip='::ffff:172.28.0.1', port=39470), status='TIME_WAIT', pid=None), sconn(fd=9, family=<AddressFamily.AF_INET: 2>, type=<SocketKind.SOCK_STREAM: 1>, laddr=addr(ip='172.28.0.12', port=6000), raddr=addr(ip='172.28.0.1', port=49428), status='ESTABLISHED', pid=20), sconn(fd=21, family=<AddressFamily.AF_INET: 2>, type=<SocketKind.SOCK_STREAM: 1>, laddr=addr(ip='127.0.0.1', port=35579), raddr=(), status='LISTEN', pid=456), sconn(fd=18, family=<AddressFamily.AF_INET: 2>, type=<SocketKind.SOCK_STREAM: 1>, laddr=addr(ip='172.28.0.12', port=9000), raddr=addr(ip='172.28.0.12', port=50574), status='ESTABLISHED', pid=82), sconn(fd=-1, family=<AddressFamily.AF_INET: 2>, type=<SocketKind.SOCK_STREAM: 1>, laddr=addr(ip='172.28.0.12', port=6000), raddr=addr(ip='172.28.0.12', port=47606), status='TIME_WAIT', pid=None), sconn(fd=21, family=<AddressFamily.AF_INET6: 10>, type=<SocketKind.SOCK_STREAM: 1>, laddr=addr(ip='::', port=8080), raddr=(), status='LISTEN', pid=7), sconn(fd=-1, family=<AddressFamily.AF_INET6: 10>, type=<SocketKind.SOCK_STREAM: 1>, laddr=addr(ip='::ffff:172.28.0.12', port=8080), raddr=addr(ip='::ffff:172.28.0.1', port=40894), status='TIME_WAIT', pid=None), sconn(fd=40, family=<AddressFamily.AF_INET: 2>, type=<SocketKind.SOCK_STREAM: 1>, laddr=addr(ip='127.0.0.1', port=51702), raddr=addr(ip='127.0.0.1', port=42565), status='ESTABLISHED', pid=456), sconn(fd=3, family=<AddressFamily.AF_INET: 2>, type=<SocketKind.SOCK_STREAM: 1>, laddr=addr(ip='172.28.0.12', port=6000), raddr=addr(ip='172.28.0.12', port=59500), status='ESTABLISHED', pid=20), sconn(fd=3, family=<AddressFamily.AF_INET: 2>, type=<SocketKind.SOCK_STREAM: 1>, laddr=addr(ip='127.0.0.1', port=3453), raddr=(), status='LISTEN', pid=61), sconn(fd=-1, family=<AddressFamily.AF_INET6: 10>, type=<SocketKind.SOCK_STREAM: 1>, laddr=addr(ip='::ffff:172.28.0.12', port=8080), raddr=addr(ip='::ffff:172.28.0.1', port=57492), status='TIME_WAIT', pid=None), sconn(fd=-1, family=<AddressFamily.AF_INET: 2>, type=<SocketKind.SOCK_STREAM: 1>, laddr=addr(ip='172.28.0.12', port=6000), raddr=addr(ip='172.28.0.12', port=52588), status='TIME_WAIT', pid=None), sconn(fd=26, family=<AddressFamily.AF_INET6: 10>, type=<SocketKind.SOCK_STREAM: 1>, laddr=addr(ip='::ffff:172.28.0.12', port=8080), raddr=addr(ip='::ffff:172.28.0.1', port=57480), status='ESTABLISHED', pid=7), sconn(fd=4, family=<AddressFamily.AF_INET: 2>, type=<SocketKind.SOCK_STREAM: 1>, laddr=addr(ip='127.0.0.1', port=42565), raddr=(), status='LISTEN', pid=491), sconn(fd=-1, family=<AddressFamily.AF_INET: 2>, type=<SocketKind.SOCK_STREAM: 1>, laddr=addr(ip='172.28.0.12', port=6000), raddr=addr(ip='172.28.0.12', port=40704), status='TIME_WAIT', pid=None), sconn(fd=7, family=<AddressFamily.AF_INET: 2>, type=<SocketKind.SOCK_STREAM: 1>, laddr=addr(ip='172.28.0.12', port=9000), raddr=(), status='LISTEN', pid=82), sconn(fd=6, family=<AddressFamily.AF_INET: 2>, type=<SocketKind.SOCK_STREAM: 1>, laddr=addr(ip='172.28.0.12', port=6000), raddr=(), status='LISTEN', pid=20), sconn(fd=-1, family=<AddressFamily.AF_INET: 2>, type=<SocketKind.SOCK_DGRAM: 2>, laddr=addr(ip='127.0.0.11', port=39980), raddr=(), status='NONE', pid=None), sconn(fd=-1, family=<AddressFamily.AF_INET6: 10>, type=<SocketKind.SOCK_STREAM: 1>, laddr=addr(ip='::ffff:172.28.0.12', port=8080), raddr=addr(ip='::ffff:172.28.0.1', port=52418), status='TIME_WAIT', pid=None), sconn(fd=3, family=<AddressFamily.AF_INET: 2>, type=<SocketKind.SOCK_STREAM: 1>, laddr=addr(ip='127.0.0.1', port=40673), raddr=(), status='LISTEN', pid=491), sconn(fd=6, family=<AddressFamily.AF_INET: 2>, type=<SocketKind.SOCK_STREAM: 1>, laddr=addr(ip='127.0.0.1', port=42565), raddr=addr(ip='127.0.0.1', port=51702), status='ESTABLISHED', pid=491), sconn(fd=-1, family=<AddressFamily.AF_INET: 2>, type=<SocketKind.SOCK_STREAM: 1>, laddr=addr(ip='172.28.0.12', port=6000), raddr=addr(ip='172.28.0.12', port=58624), status='TIME_WAIT', pid=None), sconn(fd=28, family=<AddressFamily.AF_INET6: 10>, type=<SocketKind.SOCK_STREAM: 1>, laddr=addr(ip='::ffff:172.28.0.12', port=8080), raddr=addr(ip='::ffff:172.28.0.1', port=34984), status='ESTABLISHED', pid=7), sconn(fd=-1, family=<AddressFamily.AF_INET: 2>, type=<SocketKind.SOCK_STREAM: 1>, laddr=addr(ip='172.28.0.12', port=6000), raddr=addr(ip='172.28.0.12', port=57068), status='TIME_WAIT', pid=None), sconn(fd=-1, family=<AddressFamily.AF_INET: 2>, type=<SocketKind.SOCK_STREAM: 1>, laddr=addr(ip='172.28.0.12', port=6000), raddr=addr(ip='172.28.0.12', port=47602), status='TIME_WAIT', pid=None), sconn(fd=5, family=<AddressFamily.AF_INET: 2>, type=<SocketKind.SOCK_STREAM: 1>, laddr=addr(ip='127.0.0.1', port=40673), raddr=addr(ip='127.0.0.1', port=34326), status='ESTABLISHED', pid=491), sconn(fd=-1, family=<AddressFamily.AF_INET: 2>, type=<SocketKind.SOCK_STREAM: 1>, laddr=addr(ip='172.28.0.12', port=6000), raddr=addr(ip='172.28.0.12', port=58618), status='TIME_WAIT', pid=None), sconn(fd=8, family=<AddressFamily.AF_INET: 2>, type=<SocketKind.SOCK_STREAM: 1>, laddr=addr(ip='172.28.0.12', port=50574), raddr=addr(ip='172.28.0.12', port=9000), status='ESTABLISHED', pid=20), sconn(fd=8, family=<AddressFamily.AF_INET: 2>, type=<SocketKind.SOCK_STREAM: 1>, laddr=addr(ip='127.0.0.1', port=34326), raddr=addr(ip='127.0.0.1', port=40673), status='ESTABLISHED', pid=83), sconn(fd=27, family=<AddressFamily.AF_INET: 2>, type=<SocketKind.SOCK_STREAM: 1>, laddr=addr(ip='172.28.0.12', port=59500), raddr=addr(ip='172.28.0.12', port=6000), status='ESTABLISHED', pid=7), sconn(fd=29, family=<AddressFamily.AF_INET6: 10>, type=<SocketKind.SOCK_STREAM: 1>, laddr=addr(ip='::ffff:172.28.0.12', port=8080), raddr=addr(ip='::ffff:172.28.0.1', port=48388), status='ESTABLISHED', pid=7)]\n",
            "系統與使用者資訊\n",
            "[]\n",
            "1722791806.0\n",
            "2024-08-04 17:16:46\n",
            "應用程式資訊\n",
            "<bound method Process.name of psutil.Process(pid=1, name='docker-init', status='sleeping', started='17:17:09')>\n",
            "<bound method Process.name of psutil.Process(pid=7, name='node', status='sleeping', started='17:17:10')>\n",
            "<bound method Process.name of psutil.Process(pid=15, name='oom_monitor.sh', status='sleeping', started='17:17:10')>\n",
            "<bound method Process.name of psutil.Process(pid=17, name='run.sh', status='sleeping', started='17:17:10')>\n",
            "<bound method Process.name of psutil.Process(pid=20, name='kernel_manager_proxy', status='sleeping', started='17:17:10')>\n",
            "<bound method Process.name of psutil.Process(pid=21, name='tail', status='sleeping', started='17:17:10')>\n",
            "<bound method Process.name of psutil.Process(pid=60, name='python3', status='zombie', started='17:17:15')>\n",
            "<bound method Process.name of psutil.Process(pid=61, name='colab-fileshim.', status='sleeping', started='17:17:15')>\n",
            "<bound method Process.name of psutil.Process(pid=82, name='jupyter-noteboo', status='sleeping', started='17:17:16')>\n",
            "<bound method Process.name of psutil.Process(pid=83, name='dap_multiplexer', status='sleeping', started='17:17:16')>\n",
            "<bound method Process.name of psutil.Process(pid=456, name='python3', status='running', started='17:18:47')>\n",
            "<bound method Process.name of psutil.Process(pid=491, name='python3', status='sleeping', started='17:18:52')>\n",
            "<bound method Process.name of psutil.Process(pid=598, name='language_service', status='sleeping', started='17:19:02')>\n",
            "<bound method Process.name of psutil.Process(pid=604, name='node', status='sleeping', started='17:19:03')>\n",
            "<bound method Process.name of psutil.Process(pid=3253, name='sleep', status='sleeping', started='17:30:01')>\n"
          ]
        }
      ],
      "source": [
        "import psutil\n",
        "import datetime\n",
        "from datetime import date\n",
        "print(psutil.cpu_count())               # CPU 邏輯數量\n",
        "print(psutil.cpu_count(logical=False))  # 實際物理 CPU 數量\n",
        "print(psutil.cpu_percent(interval=0.5, percpu=True)) # CPU 使用率\n",
        "                                                     # interval：每隔多少秒更新一次\n",
        "                                                     # percpu：查看所有 CPU 使用率\n",
        "print(psutil.cpu_freq())\n",
        "print(\"硬體\")\n",
        "print(psutil.virtual_memory())  # 記憶體資訊\n",
        "print(psutil.disk_partitions())             # 所有硬碟資訊\n",
        "print(\"網路\")\n",
        "print(psutil.net_io_counters())  # 網路封包\n",
        "print(psutil.net_if_addrs())     # 網路卡的組態資訊, 包括 IP 地址、Mac地址、子網掩碼、廣播地址等等\n",
        "print(psutil.net_connections())  # 目前機器的網路連線\n",
        "print(\"系統與使用者資訊\")\n",
        "print(psutil.users())       # 登陸的使用者資訊\n",
        "print(psutil.boot_time())   # 系統啟動時間\n",
        "print(datetime.datetime.fromtimestamp(psutil.boot_time())) # 轉換成標準時間\n",
        "print(\"應用程式資訊\")\n",
        "for prcs in psutil.process_iter():\n",
        "    print(prcs.name)           # 印出所有正在執行的應用程式 ( 從中觀察 pid )\n",
        "\n"
      ]
    }
  ]
}