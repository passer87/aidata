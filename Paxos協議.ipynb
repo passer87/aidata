{
  "nbformat": 4,
  "nbformat_minor": 0,
  "metadata": {
    "colab": {
      "provenance": [],
      "authorship_tag": "ABX9TyMQPt8II6lccYhDipcdiXGs",
      "include_colab_link": true
    },
    "kernelspec": {
      "name": "python3",
      "display_name": "Python 3"
    },
    "language_info": {
      "name": "python"
    }
  },
  "cells": [
    {
      "cell_type": "markdown",
      "metadata": {
        "id": "view-in-github",
        "colab_type": "text"
      },
      "source": [
        "<a href=\"https://colab.research.google.com/github/passer87/aidata/blob/main/Paxos%E5%8D%94%E8%AD%B0.ipynb\" target=\"_parent\"><img src=\"https://colab.research.google.com/assets/colab-badge.svg\" alt=\"Open In Colab\"/></a>"
      ]
    },
    {
      "cell_type": "code",
      "execution_count": 1,
      "metadata": {
        "id": "WKg6bCKSC_FT",
        "outputId": "362b66b1-b891-4e9e-9017-7aebfffc618a",
        "colab": {
          "base_uri": "https://localhost:8080/"
        }
      },
      "outputs": [
        {
          "output_type": "stream",
          "name": "stdout",
          "text": [
            "學習者達成一致決策: Value from proposer 0\n"
          ]
        }
      ],
      "source": [
        "#Paxos協議\n",
        "import threading\n",
        "\n",
        "class Acceptor:\n",
        "    def __init__(self):\n",
        "        self.promised_n = None\n",
        "        self.accepted_n = None\n",
        "        self.accepted_value = None\n",
        "\n",
        "    def prepare(self, n):\n",
        "        if self.promised_n is None or n > self.promised_n:\n",
        "            self.promised_n = n\n",
        "            return True, self.accepted_n, self.accepted_value\n",
        "        return False, self.accepted_n, self.accepted_value\n",
        "\n",
        "    def accept(self, n, value):\n",
        "        if self.promised_n is None or n >= self.promised_n:\n",
        "            self.accepted_n = n\n",
        "            self.accepted_value = value\n",
        "            return True\n",
        "        return False\n",
        "\n",
        "class Proposer:\n",
        "    def __init__(self, id, acceptors):\n",
        "        self.id = id\n",
        "        self.n = 0\n",
        "        self.acceptors = acceptors\n",
        "\n",
        "    def propose(self, value):\n",
        "        self.n += 1\n",
        "        promises = []\n",
        "        for acceptor in self.acceptors:\n",
        "            promise, accepted_n, accepted_value = acceptor.prepare(self.n)\n",
        "            if promise:\n",
        "                promises.append((accepted_n, accepted_value))\n",
        "\n",
        "        if len(promises) > len(self.acceptors) // 2:\n",
        "            accepted_value = value\n",
        "            for accepted_n, val in promises:\n",
        "                if val is not None:\n",
        "                    accepted_value = val\n",
        "            accept_count = 0\n",
        "            for acceptor in self.acceptors:\n",
        "                if acceptor.accept(self.n, accepted_value):\n",
        "                    accept_count += 1\n",
        "            if accept_count > len(self.acceptors) // 2:\n",
        "                return accepted_value\n",
        "        return None\n",
        "\n",
        "class Learner:\n",
        "    def __init__(self):\n",
        "        self.decided_value = None\n",
        "\n",
        "    def learn(self, value):\n",
        "        self.decided_value = value\n",
        "        print(f\"學習者達成一致決策: {value}\")\n",
        " # 測試Paxos協議\n",
        "acceptors = [Acceptor() for _ in range(5)]\n",
        "proposers = [Proposer(i, acceptors) for i in range(3)]\n",
        "learner = Learner()\n",
        "\n",
        "def proposer_thread(proposer, value):\n",
        "    result = proposer.propose(value)\n",
        "    if result is not None:\n",
        "        learner.learn(result)\n",
        "\n",
        "threads = []\n",
        "for proposer in proposers:\n",
        "    t = threading.Thread(target=proposer_thread, args=(proposer, f\"Value from proposer {proposer.id}\"))\n",
        "    threads.append(t)\n",
        "    t.start()\n",
        "\n",
        "for t in threads:\n",
        "    t.join()"
      ]
    }
  ]
}