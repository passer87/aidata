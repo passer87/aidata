{
  "nbformat": 4,
  "nbformat_minor": 0,
  "metadata": {
    "colab": {
      "provenance": [],
      "authorship_tag": "ABX9TyPwnlPFWKb07OAfzYEOIkUY",
      "include_colab_link": true
    },
    "kernelspec": {
      "name": "python3",
      "display_name": "Python 3"
    },
    "language_info": {
      "name": "python"
    }
  },
  "cells": [
    {
      "cell_type": "markdown",
      "metadata": {
        "id": "view-in-github",
        "colab_type": "text"
      },
      "source": [
        "<a href=\"https://colab.research.google.com/github/passer87/aidata/blob/main/%E9%9B%99%E5%90%91%E6%90%9C%E5%B0%8B%E5%92%8C%E8%BF%AD%E4%BB%A3%E5%8A%A0%E6%B7%B1%E6%90%9C%E5%B0%8B.ipynb\" target=\"_parent\"><img src=\"https://colab.research.google.com/assets/colab-badge.svg\" alt=\"Open In Colab\"/></a>"
      ]
    },
    {
      "cell_type": "code",
      "source": [
        "#深度優先搜尋和廣度優先搜尋\n",
        "# 定義圖形結構\n",
        "graph = {\n",
        "    'A': ['B', 'C'],\n",
        "    'B': ['D', 'E'],\n",
        "    'C': ['F'],\n",
        "    'D': [],\n",
        "    'E': ['F'],\n",
        "    'F': []\n",
        "}\n",
        "\n",
        "# 深度優先搜尋\n",
        "def dfs(graph, start):\n",
        "    visited = set()\n",
        "    stack = [start]\n",
        "\n",
        "    while stack:\n",
        "        vertex = stack.pop()\n",
        "        if vertex not in visited:\n",
        "            print(vertex, end=\" \")\n",
        "            visited.add(vertex)\n",
        "            stack.extend(reversed(graph[vertex]))\n",
        "\n",
        "# 廣度優先搜尋\n",
        "def bfs(graph, start):\n",
        "    visited = set()\n",
        "    queue = [start]\n",
        "\n",
        "    while queue:\n",
        "        vertex = queue.pop(0)\n",
        "        if vertex not in visited:\n",
        "            print(vertex, end=\" \")\n",
        "            visited.add(vertex)\n",
        "            queue.extend(graph[vertex])\n",
        "\n",
        "# 測試深度優先搜尋和廣度優先搜尋\n",
        "print(\"深度優先搜尋:\")\n",
        "dfs(graph, 'A')\n",
        "print(\"\\n廣度優先搜尋:\")\n",
        "bfs(graph, 'A')"
      ],
      "metadata": {
        "id": "Gfe4-r-U92Ix",
        "outputId": "d38a7141-9d1a-480f-e5cc-ce0f923fa78c",
        "colab": {
          "base_uri": "https://localhost:8080/"
        }
      },
      "execution_count": 2,
      "outputs": [
        {
          "output_type": "stream",
          "name": "stdout",
          "text": [
            "深度優先搜尋:\n",
            "A B D E F C \n",
            "廣度優先搜尋:\n",
            "A B C D E F "
          ]
        }
      ]
    },
    {
      "cell_type": "code",
      "execution_count": 3,
      "metadata": {
        "colab": {
          "base_uri": "https://localhost:8080/"
        },
        "id": "2rklcowy9srW",
        "outputId": "a7382762-f0c6-4a88-e7d7-3e0574eb3b7d"
      },
      "outputs": [
        {
          "output_type": "stream",
          "name": "stdout",
          "text": [
            "雙向搜尋:\n",
            "None\n",
            "迭代加深搜尋:\n",
            "['A', 'C', 'F']\n"
          ]
        }
      ],
      "source": [
        "#雙向搜尋和迭代加深搜尋的\n",
        "# 雙向搜尋\n",
        "def bidirectional_search(graph, start, goal):\n",
        "    if start == goal:\n",
        "        return [start]\n",
        "\n",
        "    front_visited = {start}\n",
        "    back_visited = {goal}\n",
        "    front_queue = [(start, [start])]\n",
        "    back_queue = [(goal, [goal])]\n",
        "\n",
        "    while front_queue and back_queue:\n",
        "        if front_queue:\n",
        "            front_vertex, front_path = front_queue.pop(0)\n",
        "            for neighbor in graph[front_vertex]:\n",
        "                if neighbor not in front_visited:\n",
        "                    front_visited.add(neighbor)\n",
        "                    front_queue.append((neighbor, front_path + [neighbor]))\n",
        "                    if neighbor in back_visited:\n",
        "                        back_path = [p for v, p in back_queue if v == neighbor][0]\n",
        "                        return front_path + back_path[::-1][1:]\n",
        "\n",
        "        if back_queue:\n",
        "            back_vertex, back_path = back_queue.pop(0)\n",
        "            for neighbor in graph[back_vertex]:\n",
        "                if neighbor not in back_visited:\n",
        "                    back_visited.add(neighbor)\n",
        "                    back_queue.append((neighbor, back_path + [neighbor]))\n",
        "                    if neighbor in front_visited:\n",
        "                        front_path = [p for v, p in front_queue if v == neighbor][0]\n",
        "                        return front_path + back_path[::-1][1:]\n",
        "\n",
        "    return None\n",
        "\n",
        "# 迭代加深搜尋\n",
        "def iterative_deepening_search(graph, start, goal):\n",
        "    def dls(node, depth, path):\n",
        "        if depth == 0 and node == goal:\n",
        "            return path\n",
        "        if depth > 0:\n",
        "            for neighbor in graph[node]:\n",
        "                result = dls(neighbor, depth - 1, path + [neighbor])\n",
        "                if result:\n",
        "                    return result\n",
        "        return None\n",
        "\n",
        "    depth = 0\n",
        "    while True:\n",
        "        result = dls(start, depth, [start])\n",
        "        if result:\n",
        "            return result\n",
        "        depth += 1\n",
        "# 測試雙向搜尋與迭代加深搜尋\n",
        "print(\"雙向搜尋:\")\n",
        "print(bidirectional_search(graph, 'A', 'F'))  # 輸出: ['A', 'C', 'F']\n",
        "print(\"迭代加深搜尋:\")\n",
        "print(iterative_deepening_search(graph, 'A', 'F'))  # 輸出: ['A', 'C', 'F']"
      ]
    }
  ]
}