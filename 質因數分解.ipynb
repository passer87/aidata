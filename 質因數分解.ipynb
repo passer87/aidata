{
  "nbformat": 4,
  "nbformat_minor": 0,
  "metadata": {
    "colab": {
      "provenance": [],
      "authorship_tag": "ABX9TyP/qBpHpR/7yF31nacmd77x",
      "include_colab_link": true
    },
    "kernelspec": {
      "name": "python3",
      "display_name": "Python 3"
    },
    "language_info": {
      "name": "python"
    }
  },
  "cells": [
    {
      "cell_type": "markdown",
      "metadata": {
        "id": "view-in-github",
        "colab_type": "text"
      },
      "source": [
        "<a href=\"https://colab.research.google.com/github/passer87/aidata/blob/main/%E8%B3%AA%E5%9B%A0%E6%95%B8%E5%88%86%E8%A7%A3.ipynb\" target=\"_parent\"><img src=\"https://colab.research.google.com/assets/colab-badge.svg\" alt=\"Open In Colab\"/></a>"
      ]
    },
    {
      "cell_type": "code",
      "execution_count": 1,
      "metadata": {
        "colab": {
          "base_uri": "https://localhost:8080/"
        },
        "id": "77VwOFliPb76",
        "outputId": "d50724cb-f424-4d57-d57f-5df4f19baa03"
      },
      "outputs": [
        {
          "output_type": "stream",
          "name": "stdout",
          "text": [
            "請輸入一個正整數：17\n",
            "17 是質數\n"
          ]
        }
      ],
      "source": [
        "a = b = int(input('請輸入一個正整數：')) # 新增 a 和 b 變數，等於使用者輸入的數字\n",
        "output = ''                           # 新增 output 變數，作為輸出的文字\n",
        "while True:                           # 使用 while 迴圈\n",
        "    for i in range(2,(a+1)):          # 使用 for 迴圈\n",
        "        if i==b:                      # 如果 i 等於 b，表示是質數，跳出 for 迴圈\n",
        "            break\n",
        "        if a%i==0:                    # 如果可以被 i 整除，表示不是質數\n",
        "            output += f'{i}'          # 設定 output 輸出的內容\n",
        "            a = int(a/i)              # 重新將 a 設定為商\n",
        "            break                     # 跳出 for 迴圈\n",
        "    if a==1 or a==b:                  # 如果商等於 1 或是質數，跳出 while 迴圈\n",
        "        break\n",
        "    else:\n",
        "        output += '*'                 # 否則在 output 後方加上 * 號，繼續 while 迴圈\n",
        "if b == a and b!= 1:\n",
        "    print(f'{b} 是質數')               # while 迴圈結束後，如果 a 等於 b，印出質數的文字\n",
        "elif b == 1:\n",
        "    print(f'{b} 不是質數，也不能質因數分解')  # 如果輸入的是 1 或 2\n",
        "else:\n",
        "    print(f'{b}={output}')            # 否則印出質因數分解的結果"
      ]
    }
  ]
}