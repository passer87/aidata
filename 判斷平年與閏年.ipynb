{
  "nbformat": 4,
  "nbformat_minor": 0,
  "metadata": {
    "colab": {
      "provenance": [],
      "authorship_tag": "ABX9TyN+/uATcZ+Sq5jY0XXDyP4I",
      "include_colab_link": true
    },
    "kernelspec": {
      "name": "python3",
      "display_name": "Python 3"
    },
    "language_info": {
      "name": "python"
    }
  },
  "cells": [
    {
      "cell_type": "markdown",
      "metadata": {
        "id": "view-in-github",
        "colab_type": "text"
      },
      "source": [
        "<a href=\"https://colab.research.google.com/github/passer87/aidata/blob/main/%E5%88%A4%E6%96%B7%E5%B9%B3%E5%B9%B4%E8%88%87%E9%96%8F%E5%B9%B4.ipynb\" target=\"_parent\"><img src=\"https://colab.research.google.com/assets/colab-badge.svg\" alt=\"Open In Colab\"/></a>"
      ]
    },
    {
      "cell_type": "code",
      "execution_count": 1,
      "metadata": {
        "colab": {
          "base_uri": "https://localhost:8080/"
        },
        "id": "yt5Y94670jNy",
        "outputId": "df4cf925-9e76-4866-e9bb-c0c45b5a7c6b"
      },
      "outputs": [
        {
          "output_type": "stream",
          "name": "stdout",
          "text": [
            ">2013\n",
            "2013 是平年\n"
          ]
        }
      ],
      "source": [
        "year = int(input('>'))             # 使用變數 year 紀錄使用者輸入的年份\n",
        "if year%4 == 0:                    # 如果除以 4 能整除\n",
        "    if year%100 == 0:              # 如果除以 100 能整除\n",
        "        if year%400 == 0:          # 如果除以 400 能整除，就是閏年\n",
        "            print(f'{year} 是閏年')\n",
        "        else:\n",
        "            print(f'{year} 是平年')\n",
        "    else:\n",
        "      print(f'{year} 是閏年')\n",
        "else:\n",
        "    print(f'{year} 是平年')"
      ]
    }
  ]
}