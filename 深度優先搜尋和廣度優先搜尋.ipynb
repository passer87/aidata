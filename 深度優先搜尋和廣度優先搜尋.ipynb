{
  "nbformat": 4,
  "nbformat_minor": 0,
  "metadata": {
    "colab": {
      "provenance": [],
      "authorship_tag": "ABX9TyMZGGtisV18R9Yo9lXGP9cU",
      "include_colab_link": true
    },
    "kernelspec": {
      "name": "python3",
      "display_name": "Python 3"
    },
    "language_info": {
      "name": "python"
    }
  },
  "cells": [
    {
      "cell_type": "markdown",
      "metadata": {
        "id": "view-in-github",
        "colab_type": "text"
      },
      "source": [
        "<a href=\"https://colab.research.google.com/github/passer87/aidata/blob/main/%E6%B7%B1%E5%BA%A6%E5%84%AA%E5%85%88%E6%90%9C%E5%B0%8B%E5%92%8C%E5%BB%A3%E5%BA%A6%E5%84%AA%E5%85%88%E6%90%9C%E5%B0%8B.ipynb\" target=\"_parent\"><img src=\"https://colab.research.google.com/assets/colab-badge.svg\" alt=\"Open In Colab\"/></a>"
      ]
    },
    {
      "cell_type": "code",
      "execution_count": 1,
      "metadata": {
        "id": "7gsHQPZs9jjm",
        "outputId": "cf4327c9-7256-4e7f-dd33-bb29462313eb",
        "colab": {
          "base_uri": "https://localhost:8080/"
        }
      },
      "outputs": [
        {
          "output_type": "stream",
          "name": "stdout",
          "text": [
            "深度優先搜尋:\n",
            "A B D E F C \n",
            "廣度優先搜尋:\n",
            "A B C D E F "
          ]
        }
      ],
      "source": [
        "#深度優先搜尋和廣度優先搜尋\n",
        "# 定義圖形結構\n",
        "graph = {\n",
        "    'A': ['B', 'C'],\n",
        "    'B': ['D', 'E'],\n",
        "    'C': ['F'],\n",
        "    'D': [],\n",
        "    'E': ['F'],\n",
        "    'F': []\n",
        "}\n",
        "\n",
        "# 深度優先搜尋\n",
        "def dfs(graph, start):\n",
        "    visited = set()\n",
        "    stack = [start]\n",
        "\n",
        "    while stack:\n",
        "        vertex = stack.pop()\n",
        "        if vertex not in visited:\n",
        "            print(vertex, end=\" \")\n",
        "            visited.add(vertex)\n",
        "            stack.extend(reversed(graph[vertex]))\n",
        "\n",
        "# 廣度優先搜尋\n",
        "def bfs(graph, start):\n",
        "    visited = set()\n",
        "    queue = [start]\n",
        "\n",
        "    while queue:\n",
        "        vertex = queue.pop(0)\n",
        "        if vertex not in visited:\n",
        "            print(vertex, end=\" \")\n",
        "            visited.add(vertex)\n",
        "            queue.extend(graph[vertex])\n",
        "\n",
        "# 測試深度優先搜尋和廣度優先搜尋\n",
        "print(\"深度優先搜尋:\")\n",
        "dfs(graph, 'A')\n",
        "print(\"\\n廣度優先搜尋:\")\n",
        "bfs(graph, 'A')"
      ]
    }
  ]
}