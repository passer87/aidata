{
  "nbformat": 4,
  "nbformat_minor": 0,
  "metadata": {
    "colab": {
      "provenance": [],
      "authorship_tag": "ABX9TyOQNyIVk7MLCvPmBhfpX+sD",
      "include_colab_link": true
    },
    "kernelspec": {
      "name": "python3",
      "display_name": "Python 3"
    },
    "language_info": {
      "name": "python"
    }
  },
  "cells": [
    {
      "cell_type": "markdown",
      "metadata": {
        "id": "view-in-github",
        "colab_type": "text"
      },
      "source": [
        "<a href=\"https://colab.research.google.com/github/passer87/aidata/blob/main/%E6%9C%80%E5%A4%A7%E5%85%AC%E5%9B%A0%E6%95%B8.ipynb\" target=\"_parent\"><img src=\"https://colab.research.google.com/assets/colab-badge.svg\" alt=\"Open In Colab\"/></a>"
      ]
    },
    {
      "cell_type": "code",
      "execution_count": 1,
      "metadata": {
        "colab": {
          "base_uri": "https://localhost:8080/"
        },
        "id": "h_f-CAzbT4zD",
        "outputId": "651d1d61-14ee-4c66-ee1e-942de769718c"
      },
      "outputs": [
        {
          "output_type": "stream",
          "name": "stdout",
          "text": [
            "輸入數字 ( 逗號分隔 )：222,111,999\n",
            "111\n"
          ]
        }
      ],
      "source": [
        "input_str = input('輸入數字 ( 逗號分隔 )：')     # 讓使用者輸入數字，數字間用逗號分隔\n",
        "nums_arr = input_str.split(',')               # 將輸入的文字，用逗號拆分成串列\n",
        "for i in range(len(nums_arr)):                # 將串列的每個項目轉換成文字\n",
        "    nums_arr[i-1] = int(nums_arr[i-1])\n",
        "nums_arr.sort()                # 將串列從小到大排序\n",
        "result = nums_arr[0]           # 建立變數 result，內容為輸入的第一個數字 ( 數字的最小值 )\n",
        "arr = [result, 1]              # 建立一個變數 arr 為串列，內容預設為 [ 輸入的最小值, 1 ]\n",
        "for i in range(2,result+1):    # 使用 for 迴圈，找出 result 數字的每個因數\n",
        "    if result%i == 0:          # 找因數的方法，將 result 依序除以 2、3、4...result\n",
        "        result = int(result/i) # 如果餘數為 0 ( 整除 )，表示這個數字為因數\n",
        "        arr.append(i)          # 將因數加入 arr 串列中，並更新 result 為除以因數的數值\n",
        "        arr.append(result)     # 也將 result 加入 arr 串列 ( 因為商也算是因數 )\n",
        "arr.sort(reverse=True)         # 完成後將 arr 從大到小排序\n",
        "\n",
        "for j in arr:                # 依序取出 arr 串列中的每個數字\n",
        "    a = 0                    # 建立 a 變數，記錄餘數\n",
        "    output = 1               # 建立 output 變數，記錄最大公因數 ( 預設 1 )\n",
        "    for i in nums_arr:       # 依序將輸入的數字除以 arr 串列中的數字\n",
        "        a = a + i%j          # 將餘數加入 a 變數 ( 如果沒有餘數，a 就一直會是 0 )\n",
        "        output = j           # 將 output 等於目前的因數\n",
        "    if a == 0:               # 如果 a 為 0 表示都整除，將 result 等於 output\n",
        "        result = output\n",
        "        break\n",
        "print(result)                # 印出最大公因數"
      ]
    }
  ]
}