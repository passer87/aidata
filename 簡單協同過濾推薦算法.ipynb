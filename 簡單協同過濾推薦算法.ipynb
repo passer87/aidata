{
  "nbformat": 4,
  "nbformat_minor": 0,
  "metadata": {
    "colab": {
      "provenance": [],
      "authorship_tag": "ABX9TyOj3K9SunqpEbu+ici0VNBO",
      "include_colab_link": true
    },
    "kernelspec": {
      "name": "python3",
      "display_name": "Python 3"
    },
    "language_info": {
      "name": "python"
    }
  },
  "cells": [
    {
      "cell_type": "markdown",
      "metadata": {
        "id": "view-in-github",
        "colab_type": "text"
      },
      "source": [
        "<a href=\"https://colab.research.google.com/github/passer87/aidata/blob/main/%E7%B0%A1%E5%96%AE%E5%8D%94%E5%90%8C%E9%81%8E%E6%BF%BE%E6%8E%A8%E8%96%A6%E7%AE%97%E6%B3%95.ipynb\" target=\"_parent\"><img src=\"https://colab.research.google.com/assets/colab-badge.svg\" alt=\"Open In Colab\"/></a>"
      ]
    },
    {
      "cell_type": "code",
      "execution_count": 1,
      "metadata": {
        "id": "27sY4z94EOGq",
        "outputId": "5ccc862b-1bb5-4481-f761-0c12ade8f60d",
        "colab": {
          "base_uri": "https://localhost:8080/"
        }
      },
      "outputs": [
        {
          "output_type": "stream",
          "name": "stdout",
          "text": [
            "為用戶0推薦的視頻:\n",
            "視頻2\n",
            "視頻0\n",
            "視頻1\n"
          ]
        }
      ],
      "source": [
        "#簡單協同過濾推薦算法\n",
        "import numpy as np\n",
        "from sklearn.metrics.pairwise import cosine_similarity\n",
        "\n",
        "def collaborative_filtering(ratings, user_index, top_k=3):\n",
        "    user_ratings = ratings[user_index]\n",
        "    similarity = cosine_similarity(ratings)\n",
        "    similar_users = np.argsort(-similarity[user_index])[:top_k + 1]\n",
        "    similar_users = similar_users[similar_users != user_index]\n",
        "    recommendations = np.zeros(ratings.shape[1])\n",
        "    for sim_user in similar_users:\n",
        "        recommendations += ratings[sim_user] * similarity[user_index, sim_user]\n",
        "    recommendations[user_ratings > 0] = 0\n",
        "    recommended_items = np.argsort(-recommendations)[:top_k]\n",
        "    return recommended_items\n",
        "\n",
        "# 模擬用戶對視頻的評分數據\n",
        "# 行表示用戶，列表示視頻，數值表示評分\n",
        "ratings = np.array([\n",
        "    [5, 3, 0, 1],\n",
        "    [4, 0, 0, 1],\n",
        "    [1, 1, 0, 5],\n",
        "    [0, 0, 5, 4],\n",
        "    [0, 0, 5, 4],\n",
        "])\n",
        "\n",
        "user_index = 0\n",
        "recommended_items = collaborative_filtering(ratings, user_index)\n",
        "\n",
        "print(\"為用戶0推薦的視頻:\")\n",
        "for item in recommended_items:\n",
        "    print(f\"視頻{item}\")"
      ]
    }
  ]
}