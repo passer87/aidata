{
  "nbformat": 4,
  "nbformat_minor": 0,
  "metadata": {
    "colab": {
      "provenance": [],
      "authorship_tag": "ABX9TyON+j/fFpfsY9Atb1MmDdYR",
      "include_colab_link": true
    },
    "kernelspec": {
      "name": "python3",
      "display_name": "Python 3"
    },
    "language_info": {
      "name": "python"
    }
  },
  "cells": [
    {
      "cell_type": "markdown",
      "metadata": {
        "id": "view-in-github",
        "colab_type": "text"
      },
      "source": [
        "<a href=\"https://colab.research.google.com/github/passer87/aidata/blob/main/BMI%20%E8%A8%88%E7%AE%97.ipynb\" target=\"_parent\"><img src=\"https://colab.research.google.com/assets/colab-badge.svg\" alt=\"Open In Colab\"/></a>"
      ]
    },
    {
      "cell_type": "code",
      "execution_count": 2,
      "metadata": {
        "colab": {
          "base_uri": "https://localhost:8080/"
        },
        "id": "bk_knwBkIzvO",
        "outputId": "02db1074-e289-4462-848d-795e7ec94871"
      },
      "outputs": [
        {
          "output_type": "stream",
          "name": "stdout",
          "text": [
            "請輸入身高(cm)：177\n",
            "請輸入體重(kg)：66\n",
            "你的 BMI 數值為：21.067，你的體重正常！\n"
          ]
        }
      ],
      "source": [
        "h = float(input('請輸入身高(cm)：'))/100\n",
        "w = float(input('請輸入體重(kg)：'))\n",
        "bmi = round(w/(h*h),3)                  # 使用 round 四捨五入到小數點三位\n",
        "if bmi<18.5:                            # 使用邏輯判斷\n",
        "    note = '體重過輕！'\n",
        "elif bmi>=18.5 and bmi<=25:\n",
        "    note = '你的體重正常！'\n",
        "else:\n",
        "    note = '體重過重'\n",
        "print(f'你的 BMI 數值為：{bmi}，{note}')"
      ]
    }
  ]
}