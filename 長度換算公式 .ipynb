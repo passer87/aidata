{
  "nbformat": 4,
  "nbformat_minor": 0,
  "metadata": {
    "colab": {
      "provenance": [],
      "authorship_tag": "ABX9TyOhwCLZDWSIccA+M7t4G/UP",
      "include_colab_link": true
    },
    "kernelspec": {
      "name": "python3",
      "display_name": "Python 3"
    },
    "language_info": {
      "name": "python"
    }
  },
  "cells": [
    {
      "cell_type": "markdown",
      "metadata": {
        "id": "view-in-github",
        "colab_type": "text"
      },
      "source": [
        "<a href=\"https://colab.research.google.com/github/passer87/aidata/blob/main/%E9%95%B7%E5%BA%A6%E6%8F%9B%E7%AE%97%E5%85%AC%E5%BC%8F%20.ipynb\" target=\"_parent\"><img src=\"https://colab.research.google.com/assets/colab-badge.svg\" alt=\"Open In Colab\"/></a>"
      ]
    },
    {
      "cell_type": "code",
      "execution_count": 2,
      "metadata": {
        "colab": {
          "base_uri": "https://localhost:8080/"
        },
        "id": "eWuhRSquz_TS",
        "outputId": "d721cb30-2910-46f7-e305-7473656fb6f5"
      },
      "outputs": [
        {
          "output_type": "stream",
          "name": "stdout",
          "text": [
            "輸入 1 ( 公分 ) 或 2 ( 英吋 )：3\n",
            "輸入長度數值：10\n",
            "輸入錯誤\n"
          ]
        }
      ],
      "source": [
        "c = int(input('輸入 1 ( 公分 ) 或 2 ( 英吋 )：'))    # 使用變數 c 記錄公分還是英吋\n",
        "length = int(input('輸入長度數值：'))                # 使用變數 length 記錄數值\n",
        "\n",
        "if c == 1:\n",
        "    # 套用轉換公式\n",
        "    print(f'{length} 公分等於 {length*0.394} 英吋 ( {length*0.03281} 英尺、{length*0.01094} 碼 )')\n",
        "elif c==2:\n",
        "    # 套用轉換公式\n",
        "    print(f'{length} 英吋等於 {length*2.54} 公分 ( {length/12} 英尺、{length/36} 碼 )')\n",
        "else:\n",
        "    print('輸入錯誤')"
      ]
    }
  ]
}