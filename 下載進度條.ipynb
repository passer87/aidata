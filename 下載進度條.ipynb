{
  "nbformat": 4,
  "nbformat_minor": 0,
  "metadata": {
    "colab": {
      "provenance": [],
      "authorship_tag": "ABX9TyOwiHU5i41LZRi1/8/YyXld",
      "include_colab_link": true
    },
    "kernelspec": {
      "name": "python3",
      "display_name": "Python 3"
    },
    "language_info": {
      "name": "python"
    }
  },
  "cells": [
    {
      "cell_type": "markdown",
      "metadata": {
        "id": "view-in-github",
        "colab_type": "text"
      },
      "source": [
        "<a href=\"https://colab.research.google.com/github/passer87/aidata/blob/main/%E4%B8%8B%E8%BC%89%E9%80%B2%E5%BA%A6%E6%A2%9D.ipynb\" target=\"_parent\"><img src=\"https://colab.research.google.com/assets/colab-badge.svg\" alt=\"Open In Colab\"/></a>"
      ]
    },
    {
      "cell_type": "code",
      "execution_count": 1,
      "metadata": {
        "colab": {
          "base_uri": "https://localhost:8080/"
        },
        "id": "Lb62khRJ2xmm",
        "outputId": "2bec8dc1-8543-4ad9-ed5b-495ca5b92e1c"
      },
      "outputs": [
        {
          "output_type": "stream",
          "name": "stdout",
          "text": [
            "[████████████████████] 100.0%"
          ]
        }
      ],
      "source": [
        "import time\n",
        "n = 20                   # 設定進度條總長\n",
        "for i in range(n+1):\n",
        "    print(f'\\r[{\"█\"*i}{\" \"*(n-i)}] {i*100/n}%', end='')   # 輸出不換行的內容\n",
        "    time.sleep(0.5)"
      ]
    }
  ]
}