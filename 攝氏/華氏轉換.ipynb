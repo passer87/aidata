{
  "nbformat": 4,
  "nbformat_minor": 0,
  "metadata": {
    "colab": {
      "provenance": [],
      "authorship_tag": "ABX9TyO4AxnZ0RtMYGsGNcyGNsi9",
      "include_colab_link": true
    },
    "kernelspec": {
      "name": "python3",
      "display_name": "Python 3"
    },
    "language_info": {
      "name": "python"
    }
  },
  "cells": [
    {
      "cell_type": "markdown",
      "metadata": {
        "id": "view-in-github",
        "colab_type": "text"
      },
      "source": [
        "<a href=\"https://colab.research.google.com/github/passer87/aidata/blob/main/%E6%94%9D%E6%B0%8F/%E8%8F%AF%E6%B0%8F%E8%BD%89%E6%8F%9B.ipynb\" target=\"_parent\"><img src=\"https://colab.research.google.com/assets/colab-badge.svg\" alt=\"Open In Colab\"/></a>"
      ]
    },
    {
      "cell_type": "code",
      "execution_count": 10,
      "metadata": {
        "colab": {
          "base_uri": "https://localhost:8080/"
        },
        "id": "DbfTWTLSyPZp",
        "outputId": "70a2fa16-81be-461f-fbbc-bee6382c1bac"
      },
      "outputs": [
        {
          "output_type": "stream",
          "name": "stdout",
          "text": [
            "輸入 1 ( 攝氏 ) 或 2 ( 華氏 )：3\n",
            "輸入溫度數值：122\n",
            "輸入錯誤\n"
          ]
        }
      ],
      "source": [
        "c = int(input('輸入 1 ( 攝氏 ) 或 2 ( 華氏 )：'))   # 使用變數 c 記錄攝氏還是華氏\n",
        "t = int(input('輸入溫度數值：'))                    # 使用變數 t 記錄要轉換的數值\n",
        "\n",
        "if c== 1 or c==2:\n",
        "  if c == 1:\n",
        "      print(f'攝氏 {t} 度等於華氏 {9/5*t+32} 度')       # 套用攝氏轉華氏公式\n",
        "  else:\n",
        "      print(f'華氏 {t} 度等於攝氏 {(t-32)*5/9} 度')     # 套用華氏轉攝氏公式\n",
        "else:\n",
        "  print('輸入錯誤')"
      ]
    }
  ]
}