{
  "nbformat": 4,
  "nbformat_minor": 0,
  "metadata": {
    "colab": {
      "provenance": [],
      "authorship_tag": "ABX9TyMFvHWvAFC1YWrSH+dp8x0u",
      "include_colab_link": true
    },
    "kernelspec": {
      "name": "python3",
      "display_name": "Python 3"
    },
    "language_info": {
      "name": "python"
    }
  },
  "cells": [
    {
      "cell_type": "markdown",
      "metadata": {
        "id": "view-in-github",
        "colab_type": "text"
      },
      "source": [
        "<a href=\"https://colab.research.google.com/github/passer87/aidata/blob/main/%E7%B0%A1%E5%96%AEEdgeRank%E7%AE%97%E6%B3%95.ipynb\" target=\"_parent\"><img src=\"https://colab.research.google.com/assets/colab-badge.svg\" alt=\"Open In Colab\"/></a>"
      ]
    },
    {
      "cell_type": "code",
      "execution_count": 1,
      "metadata": {
        "colab": {
          "base_uri": "https://localhost:8080/"
        },
        "id": "KM6Y82DPF4ak",
        "outputId": "30c5bafc-7239-45ee-adb6-3919632e9488"
      },
      "outputs": [
        {
          "output_type": "stream",
          "name": "stdout",
          "text": [
            "動態消息流排序結果:\n",
            "貼文ID: 3, EdgeRank: 510.0000\n",
            "貼文ID: 1, EdgeRank: 175.0000\n",
            "貼文ID: 2, EdgeRank: 112.5000\n",
            "貼文ID: 4, EdgeRank: 16.0000\n"
          ]
        }
      ],
      "source": [
        "#簡單EdgeRank算法\n",
        "from datetime import datetime, timedelta\n",
        "\n",
        "class Post:\n",
        "    def __init__(self, post_id, user_id, post_time, likes, comments, shares):\n",
        "        self.post_id = post_id\n",
        "        self.user_id = user_id\n",
        "        self.post_time = post_time\n",
        "        self.likes = likes\n",
        "        self.comments = comments\n",
        "        self.shares = shares\n",
        "\n",
        "def calculate_affinity(user_id, post_user_id, interaction_history):\n",
        "    return interaction_history.get((user_id, post_user_id), 0)\n",
        "\n",
        "def calculate_weight(likes, comments, shares):\n",
        "    return likes * 1 + comments * 3 + shares * 5\n",
        "\n",
        "def calculate_time_decay(post_time, current_time):\n",
        "    return 1 / ((current_time - post_time).days + 1)\n",
        "\n",
        "def calculate_edgerank(post, user_id, interaction_history, current_time):\n",
        "    affinity = calculate_affinity(user_id, post.user_id, interaction_history)\n",
        "    weight = calculate_weight(post.likes, post.comments, post.shares)\n",
        "    time_decay = calculate_time_decay(post.post_time, current_time)\n",
        "    return affinity * weight * time_decay\n",
        "\n",
        "# 模擬用戶的動態消息流\n",
        "current_time = datetime.now()\n",
        "posts = [\n",
        "    Post(1, 101, current_time - timedelta(hours=1), 10, 5, 2),\n",
        "    Post(2, 102, current_time - timedelta(days=1), 20, 10, 5),\n",
        "    Post(3, 103, current_time - timedelta(hours=3), 15, 7, 3),\n",
        "    Post(4, 104, current_time - timedelta(minutes=30), 5, 2, 1),\n",
        "]\n",
        "\n",
        "# 模擬用戶的互動歷史\n",
        "interaction_history = {\n",
        "    (1, 101): 5,\n",
        "    (1, 102): 3,\n",
        "    (1, 103): 10,\n",
        "    (1, 104): 1,\n",
        "}\n",
        "\n",
        "# 計算每篇貼文的EdgeRank\n",
        "user_id = 1\n",
        "post_ranks = [(post.post_id, calculate_edgerank(post, user_id, interaction_history, current_time)) for post in posts]\n",
        "post_ranks.sort(key=lambda x: x[1], reverse=True)\n",
        "\n",
        "print(\"動態消息流排序結果:\")\n",
        "for post_id, rank in post_ranks:\n",
        "    print(f\"貼文ID: {post_id}, EdgeRank: {rank:.4f}\")"
      ]
    },
    {
      "cell_type": "code",
      "source": [
        "#在EdgeRank算法的基礎上，加入多樣性權重，提升動態消息流的內容多樣性\n",
        "def calculate_diversity_weight(post, user_interests):\n",
        "    return 1 if post.user_id in user_interests else 2\n",
        "\n",
        "def calculate_edgerank_with_diversity(post, user_id, interaction_history, current_time, user_interests):\n",
        "    affinity = calculate_affinity(user_id, post.user_id, interaction_history)\n",
        "    weight = calculate_weight(post.likes, post.comments, post.shares)\n",
        "    time_decay = calculate_time_decay(post.post_time, current_time)\n",
        "    diversity_weight = calculate_diversity_weight(post, user_interests)\n",
        "    return affinity * weight * time_decay * diversity_weight\n",
        "\n",
        "# 模擬用戶的興趣標籤\n",
        "user_interests = {101, 103}\n",
        "\n",
        "# 計算每篇貼文的EdgeRank（含多樣性權重）\n",
        "post_ranks_with_diversity = [(post.post_id, calculate_edgerank_with_diversity(post, user_id, interaction_history, current_time, user_interests)) for post in posts]\n",
        "post_ranks_with_diversity.sort(key=lambda x: x[1], reverse=True)\n",
        "\n",
        "print(\"動態消息流排序結果（含多樣性權重）:\")\n",
        "for post_id, rank in post_ranks_with_diversity:\n",
        "    print(f\"貼文ID: {post_id}, EdgeRank: {rank:.4f}\")"
      ],
      "metadata": {
        "id": "1bdpGnLlF-wV",
        "outputId": "61b8d8df-3e77-42ef-c5d5-04e118cc99c9",
        "colab": {
          "base_uri": "https://localhost:8080/"
        }
      },
      "execution_count": 2,
      "outputs": [
        {
          "output_type": "stream",
          "name": "stdout",
          "text": [
            "動態消息流排序結果（含多樣性權重）:\n",
            "貼文ID: 3, EdgeRank: 510.0000\n",
            "貼文ID: 2, EdgeRank: 225.0000\n",
            "貼文ID: 1, EdgeRank: 175.0000\n",
            "貼文ID: 4, EdgeRank: 32.0000\n"
          ]
        }
      ]
    }
  ]
}