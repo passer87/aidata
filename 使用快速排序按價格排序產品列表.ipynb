{
  "nbformat": 4,
  "nbformat_minor": 0,
  "metadata": {
    "colab": {
      "provenance": [],
      "authorship_tag": "ABX9TyPYqE2ynNwyf2o6vaKAddAg",
      "include_colab_link": true
    },
    "kernelspec": {
      "name": "python3",
      "display_name": "Python 3"
    },
    "language_info": {
      "name": "python"
    }
  },
  "cells": [
    {
      "cell_type": "markdown",
      "metadata": {
        "id": "view-in-github",
        "colab_type": "text"
      },
      "source": [
        "<a href=\"https://colab.research.google.com/github/passer87/aidata/blob/main/%E4%BD%BF%E7%94%A8%E5%BF%AB%E9%80%9F%E6%8E%92%E5%BA%8F%E6%8C%89%E5%83%B9%E6%A0%BC%E6%8E%92%E5%BA%8F%E7%94%A2%E5%93%81%E5%88%97%E8%A1%A8.ipynb\" target=\"_parent\"><img src=\"https://colab.research.google.com/assets/colab-badge.svg\" alt=\"Open In Colab\"/></a>"
      ]
    },
    {
      "cell_type": "code",
      "execution_count": 1,
      "metadata": {
        "id": "znCDzfPC8uxu",
        "outputId": "00fb639b-b300-4cee-b050-abe9a7d3be9e",
        "colab": {
          "base_uri": "https://localhost:8080/"
        }
      },
      "outputs": [
        {
          "output_type": "stream",
          "name": "stdout",
          "text": [
            "按價格排序後的產品列表:\n",
            "Keyboard: $49.99\n",
            "Monitor: $199.99\n",
            "Tablet: $499.99\n",
            "Smartphone: $699.99\n",
            "Laptop: $999.99\n"
          ]
        }
      ],
      "source": [
        "#對一組產品按價格進行排序\n",
        "# 定義產品列表，每個產品包含名稱和價格\n",
        "products = [\n",
        "    {\"name\": \"Laptop\", \"price\": 999.99},\n",
        "    {\"name\": \"Smartphone\", \"price\": 699.99},\n",
        "    {\"name\": \"Tablet\", \"price\": 499.99},\n",
        "    {\"name\": \"Monitor\", \"price\": 199.99},\n",
        "    {\"name\": \"Keyboard\", \"price\": 49.99}\n",
        "]\n",
        "\n",
        "# 使用快速排序按價格排序產品列表\n",
        "def quick_sort_products(products):\n",
        "    if len(products) <= 1:\n",
        "        return products\n",
        "    else:\n",
        "        pivot = products[len(products) // 2][\"price\"]\n",
        "        left = [product for product in products if product[\"price\"] < pivot]\n",
        "        middle = [product for product in products if product[\"price\"] == pivot]\n",
        "        right = [product for product in products if product[\"price\"] > pivot]\n",
        "        return quick_sort_products(left) + middle + quick_sort_products(right)\n",
        "\n",
        "sorted_products = quick_sort_products(products)\n",
        "\n",
        "# 打印排序後的產品列表\n",
        "print(\"按價格排序後的產品列表:\")\n",
        "for product in sorted_products:\n",
        "    print(f\"{product['name']}: ${product['price']}\")"
      ]
    }
  ]
}