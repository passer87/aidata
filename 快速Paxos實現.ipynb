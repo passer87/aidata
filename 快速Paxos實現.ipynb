{
  "nbformat": 4,
  "nbformat_minor": 0,
  "metadata": {
    "colab": {
      "provenance": [],
      "authorship_tag": "ABX9TyMNO+LJRBYrFXM0fYBZvcOj",
      "include_colab_link": true
    },
    "kernelspec": {
      "name": "python3",
      "display_name": "Python 3"
    },
    "language_info": {
      "name": "python"
    }
  },
  "cells": [
    {
      "cell_type": "markdown",
      "metadata": {
        "id": "view-in-github",
        "colab_type": "text"
      },
      "source": [
        "<a href=\"https://colab.research.google.com/github/passer87/aidata/blob/main/%E5%BF%AB%E9%80%9FPaxos%E5%AF%A6%E7%8F%BE.ipynb\" target=\"_parent\"><img src=\"https://colab.research.google.com/assets/colab-badge.svg\" alt=\"Open In Colab\"/></a>"
      ]
    },
    {
      "cell_type": "code",
      "execution_count": 2,
      "metadata": {
        "colab": {
          "base_uri": "https://localhost:8080/"
        },
        "id": "T9bATz9UDUcD",
        "outputId": "e314d7d1-604c-4b91-d396-972bdba47e6f"
      },
      "outputs": [
        {
          "output_type": "stream",
          "name": "stdout",
          "text": [
            "學習者達成一致決策: Value from proposer 0\n"
          ]
        }
      ],
      "source": [
        "import threading\n",
        "#快速Paxos實現\n",
        "class FastAcceptor:\n",
        "    def __init__(self):\n",
        "        self.promised_n = None\n",
        "        self.accepted_n = None\n",
        "        self.accepted_value = None\n",
        "\n",
        "    def prepare(self, n):\n",
        "        if self.promised_n is None or n > self.promised_n:\n",
        "            self.promised_n = n\n",
        "            return True, self.accepted_n, self.accepted_value\n",
        "        return False, self.accepted_n, self.accepted_value\n",
        "\n",
        "    def accept(self, n, value):\n",
        "        if self.promised_n is None or n >= self.promised_n:\n",
        "            self.accepted_n = n\n",
        "            self.accepted_value = value\n",
        "            return True\n",
        "        return False\n",
        "\n",
        "class FastProposer:\n",
        "    def __init__(self, id, acceptors):\n",
        "        self.id = id\n",
        "        self.n = 0\n",
        "        self.acceptors = acceptors\n",
        "\n",
        "    def propose(self, value):\n",
        "        self.n += 1\n",
        "        promises = []\n",
        "        for acceptor in self.acceptors:\n",
        "            promise, accepted_n, accepted_value = acceptor.prepare(self.n)\n",
        "            if promise:\n",
        "                promises.append((accepted_n, accepted_value))\n",
        "\n",
        "        if len(promises) > len(self.acceptors) // 2:\n",
        "            accepted_value = value\n",
        "            for accepted_n, val in promises:\n",
        "                if val is not None:\n",
        "                    accepted_value = val\n",
        "            accept_count = 0\n",
        "            for acceptor in self.acceptors:\n",
        "                if acceptor.accept(self.n, accepted_value):\n",
        "                    accept_count += 1\n",
        "            if accept_count > len(self.acceptors) // 2:\n",
        "                return accepted_value\n",
        "        return None\n",
        "\n",
        "class FastLearner:\n",
        "    def __init__(self):\n",
        "        self.decided_value = None\n",
        "\n",
        "    def learn(self, value):\n",
        "        self.decided_value = value\n",
        "        print(f\"學習者達成一致決策: {value}\")\n",
        "# 測試快速Paxos協議\n",
        "fast_acceptors = [FastAcceptor() for _ in range(5)]\n",
        "fast_proposers = [FastProposer(i, fast_acceptors) for i in range(3)]\n",
        "fast_learner = FastLearner()\n",
        "\n",
        "def fast_proposer_thread(proposer, value):\n",
        "    result = proposer.propose(value)\n",
        "    if result is not None:\n",
        "        fast_learner.learn(result)\n",
        "\n",
        "threads = []\n",
        "for proposer in fast_proposers:\n",
        "    t = threading.Thread(target=fast_proposer_thread, args=(proposer, f\"Value from proposer {proposer.id}\"))\n",
        "    threads.append(t)\n",
        "    t.start()\n",
        "\n",
        "for t in threads:\n",
        "    t.join()"
      ]
    }
  ]
}