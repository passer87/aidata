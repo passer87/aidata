{
  "nbformat": 4,
  "nbformat_minor": 0,
  "metadata": {
    "colab": {
      "provenance": [],
      "authorship_tag": "ABX9TyPAPqkGkUMFiEXKU3hOs1Tc",
      "include_colab_link": true
    },
    "kernelspec": {
      "name": "python3",
      "display_name": "Python 3"
    },
    "language_info": {
      "name": "python"
    }
  },
  "cells": [
    {
      "cell_type": "markdown",
      "metadata": {
        "id": "view-in-github",
        "colab_type": "text"
      },
      "source": [
        "<a href=\"https://colab.research.google.com/github/passer87/aidata/blob/main/%E7%88%AC%E5%8F%96%20PTT%20%E5%85%AB%E5%8D%A6%E7%89%88%E6%96%87%E7%AB%A0%E6%A8%99%E9%A1%8C.ipynb\" target=\"_parent\"><img src=\"https://colab.research.google.com/assets/colab-badge.svg\" alt=\"Open In Colab\"/></a>"
      ]
    },
    {
      "cell_type": "code",
      "execution_count": 3,
      "metadata": {
        "colab": {
          "base_uri": "https://localhost:8080/"
        },
        "id": "w9jxMObwvd7q",
        "outputId": "96a1bb45-0d27-4137-d8b8-0e94eb93ec59"
      },
      "outputs": [
        {
          "output_type": "stream",
          "name": "stdout",
          "text": [
            "Re: [新聞] 新資政、國策顧問爭議多 王鴻薇：國家即\n",
            "https://www.ptt.cc//bbs/Gossiping/M.1722847932.A.74D.html\n",
            "\n",
            "[新聞] 稱麟洋配奪金是中國人的驕傲 翁曉玲高喊\n",
            "https://www.ptt.cc//bbs/Gossiping/M.1722847958.A.616.html\n",
            "\n",
            "[問卦] 鄉民女神雄壯上圍邊走邊晃 嚇到阿伯\n",
            "https://www.ptt.cc//bbs/Gossiping/M.1722848016.A.787.html\n",
            "\n",
            "[公告] 八卦板板規(2024.07.21)\n",
            "https://www.ptt.cc//bbs/Gossiping/M.1721519414.A.6A1.html\n",
            "\n",
            "[公告] 小心兒少性剝削及宣導加嚴判定水桶(發錢)\n",
            "https://www.ptt.cc//bbs/Gossiping/M.1722163987.A.A80.html\n",
            "\n",
            "[公告]～（＠ｏ＠）～八爪板八月份置底閒聊 \n",
            "https://www.ptt.cc//bbs/Gossiping/M.1722404707.A.D13.html\n",
            "\n",
            "[協尋] 7/31週三新店區安一路安忠路口監視器畫面\n",
            "https://www.ptt.cc//bbs/Gossiping/M.1722576709.A.F44.html\n",
            "\n",
            "[協尋] 妹妹失蹤好幾天求大家幫忙\n",
            "https://www.ptt.cc//bbs/Gossiping/M.1722678938.A.995.html\n",
            "\n"
          ]
        }
      ],
      "source": [
        "import requests\n",
        "from bs4 import BeautifulSoup\n",
        "\n",
        "url = 'https://www.ptt.cc/'\n",
        "web = requests.get('https://www.ptt.cc/bbs/Gossiping/index.html', cookies={'over18':'1'})\n",
        "soup = BeautifulSoup(web.text, \"html.parser\")\n",
        "titles = soup.find_all('div', class_='title')     # 取得 class 為 title 的 div 內容\n",
        "for i in titles:\n",
        "    if i.find('a') != None:                         # 判斷如果不為 None\n",
        "        print(i.find('a').get_text())                 # 取得 div 裡 a 的內容，使用 get_text() 取得文字\n",
        "        print(url + i.find('a')['href'], end='\\n\\n')  # 使用 ['href'] 取得 href 的屬性"
      ]
    },
    {
      "cell_type": "code",
      "source": [
        "#使用純文字文件 txt 儲存資料\n",
        "import requests\n",
        "from bs4 import BeautifulSoup\n",
        "\n",
        "url = 'https://www.ptt.cc/'\n",
        "web = requests.get('https://www.ptt.cc/bbs/Gossiping/index.html', cookies={'over18':'1'})\n",
        "web.encoding='utf-8'       # 避免中文亂碼\n",
        "soup = BeautifulSoup(web.text, \"html.parser\")\n",
        "titles = soup.find_all('div', class_='title')\n",
        "output = ''           # 建立 output 變數\n",
        "for i in titles:\n",
        "    if i.find('a') != None:\n",
        "        # 將資料一次記錄到 output 變數裡\n",
        "        output = output + i.find('a').get_text() + '\\n' + url + i.find('a')['href'] + '\\n\\n'\n",
        "print(output)\n",
        "\n",
        "f = open('/content/Colab Notebookstest.txt','w')   # 建立並開啟純文字文件 ( Colab 才需要 )\n",
        "f.write(output)     # 將資料寫入檔案裡\n",
        "f.close()"
      ],
      "metadata": {
        "colab": {
          "base_uri": "https://localhost:8080/"
        },
        "id": "ElLRJlzuv-GC",
        "outputId": "e1acaef6-35c0-4881-9a84-cc9d062e1446"
      },
      "execution_count": 5,
      "outputs": [
        {
          "output_type": "stream",
          "name": "stdout",
          "text": [
            "Re: [新聞] 新資政、國策顧問爭議多 王鴻薇：國家即\n",
            "https://www.ptt.cc//bbs/Gossiping/M.1722847932.A.74D.html\n",
            "\n",
            "[新聞] 稱麟洋配奪金是中國人的驕傲 翁曉玲高喊\n",
            "https://www.ptt.cc//bbs/Gossiping/M.1722847958.A.616.html\n",
            "\n",
            "[問卦] 鄉民女神雄壯上圍邊走邊晃 嚇到阿伯\n",
            "https://www.ptt.cc//bbs/Gossiping/M.1722848016.A.787.html\n",
            "\n",
            "[公告] 八卦板板規(2024.07.21)\n",
            "https://www.ptt.cc//bbs/Gossiping/M.1721519414.A.6A1.html\n",
            "\n",
            "[公告] 小心兒少性剝削及宣導加嚴判定水桶(發錢)\n",
            "https://www.ptt.cc//bbs/Gossiping/M.1722163987.A.A80.html\n",
            "\n",
            "[公告]～（＠ｏ＠）～八爪板八月份置底閒聊 \n",
            "https://www.ptt.cc//bbs/Gossiping/M.1722404707.A.D13.html\n",
            "\n",
            "[協尋] 7/31週三新店區安一路安忠路口監視器畫面\n",
            "https://www.ptt.cc//bbs/Gossiping/M.1722576709.A.F44.html\n",
            "\n",
            "[協尋] 妹妹失蹤好幾天求大家幫忙\n",
            "https://www.ptt.cc//bbs/Gossiping/M.1722678938.A.995.html\n",
            "\n",
            "\n"
          ]
        }
      ]
    }
  ]
}