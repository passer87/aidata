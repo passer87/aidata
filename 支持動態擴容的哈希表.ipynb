{
  "nbformat": 4,
  "nbformat_minor": 0,
  "metadata": {
    "colab": {
      "provenance": [],
      "authorship_tag": "ABX9TyMl0vymaxatx2L8oWd2M6zI",
      "include_colab_link": true
    },
    "kernelspec": {
      "name": "python3",
      "display_name": "Python 3"
    },
    "language_info": {
      "name": "python"
    }
  },
  "cells": [
    {
      "cell_type": "markdown",
      "metadata": {
        "id": "view-in-github",
        "colab_type": "text"
      },
      "source": [
        "<a href=\"https://colab.research.google.com/github/passer87/aidata/blob/main/%E6%94%AF%E6%8C%81%E5%8B%95%E6%85%8B%E6%93%B4%E5%AE%B9%E7%9A%84%E5%93%88%E5%B8%8C%E8%A1%A8.ipynb\" target=\"_parent\"><img src=\"https://colab.research.google.com/assets/colab-badge.svg\" alt=\"Open In Colab\"/></a>"
      ]
    },
    {
      "cell_type": "code",
      "execution_count": 1,
      "metadata": {
        "id": "JNasOAZk6TP6",
        "outputId": "9d4e8f5b-6600-4318-98a8-b79e84bfc7ca",
        "colab": {
          "base_uri": "https://localhost:8080/"
        }
      },
      "outputs": [
        {
          "output_type": "stream",
          "name": "stdout",
          "text": [
            "0\n",
            "1\n",
            "2\n",
            "3\n",
            "4\n",
            "5\n",
            "6\n",
            "7\n",
            "8\n",
            "9\n",
            "10\n",
            "11\n",
            "12\n",
            "13\n",
            "14\n",
            "15\n",
            "16\n",
            "17\n",
            "18\n",
            "19\n",
            "None\n"
          ]
        }
      ],
      "source": [
        "#支持動態擴容的哈希表\n",
        "class DynamicHashTable:\n",
        "    def __init__(self, initial_size=10):\n",
        "        self.size = initial_size\n",
        "        self.table = [[] for _ in range(self.size)]\n",
        "        self.count = 0\n",
        "\n",
        "    def hash_function(self, key):\n",
        "        return hash(key) % self.size\n",
        "\n",
        "    def insert(self, key, value):\n",
        "        if self.count / self.size > 0.7:\n",
        "            self.resize(self.size * 2)\n",
        "        index = self.hash_function(key)\n",
        "        for kvp in self.table[index]:\n",
        "            if kvp[0] == key:\n",
        "                kvp[1] = value\n",
        "                return\n",
        "        self.table[index].append([key, value])\n",
        "        self.count += 1\n",
        "\n",
        "    def search(self, key):\n",
        "        index = self.hash_function(key)\n",
        "        for kvp in self.table[index]:\n",
        "            if kvp[0] == key:\n",
        "                return kvp[1]\n",
        "        return None\n",
        "\n",
        "    def delete(self, key):\n",
        "        index = self.hash_function(key)\n",
        "        for i, kvp in enumerate(self.table[index]):\n",
        "            if kvp[0] == key:\n",
        "                del self.table[index][i]\n",
        "                self.count -= 1\n",
        "                if self.count / self.size < 0.2 and self.size > 10:\n",
        "                    self.resize(self.size // 2)\n",
        "                return True\n",
        "        return False\n",
        "\n",
        "    def resize(self, new_size):\n",
        "        old_table = self.table\n",
        "        self.size = new_size\n",
        "        self.table = [[] for _ in range(self.size)]\n",
        "        self.count = 0\n",
        "        for bucket in old_table:\n",
        "            for kvp in bucket:\n",
        "                self.insert(kvp[0], kvp[1])\n",
        "# 測試動態擴容的哈希表\n",
        "dynamic_hash_table = DynamicHashTable()\n",
        "for i in range(20):\n",
        "    dynamic_hash_table.insert(f\"key{i}\", i)\n",
        "\n",
        "for i in range(20):\n",
        "    print(dynamic_hash_table.search(f\"key{i}\"))  # 輸出: 0, 1, 2, ..., 19\n",
        "\n",
        "dynamic_hash_table.delete(\"key5\")\n",
        "print(dynamic_hash_table.search(\"key5\"))  # 輸出: None"
      ]
    }
  ]
}