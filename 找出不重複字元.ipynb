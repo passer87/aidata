{
  "nbformat": 4,
  "nbformat_minor": 0,
  "metadata": {
    "colab": {
      "provenance": [],
      "authorship_tag": "ABX9TyMprJFgRdjy27N9N/NchGu7",
      "include_colab_link": true
    },
    "kernelspec": {
      "name": "python3",
      "display_name": "Python 3"
    },
    "language_info": {
      "name": "python"
    }
  },
  "cells": [
    {
      "cell_type": "markdown",
      "metadata": {
        "id": "view-in-github",
        "colab_type": "text"
      },
      "source": [
        "<a href=\"https://colab.research.google.com/github/passer87/aidata/blob/main/%E6%89%BE%E5%87%BA%E4%B8%8D%E9%87%8D%E8%A4%87%E5%AD%97%E5%85%83.ipynb\" target=\"_parent\"><img src=\"https://colab.research.google.com/assets/colab-badge.svg\" alt=\"Open In Colab\"/></a>"
      ]
    },
    {
      "cell_type": "code",
      "execution_count": 2,
      "metadata": {
        "colab": {
          "base_uri": "https://localhost:8080/"
        },
        "id": "AeQCI2_J06Io",
        "outputId": "99cce2bb-02b5-49c6-c3e7-7086c83d2d6c"
      },
      "outputs": [
        {
          "output_type": "stream",
          "name": "stdout",
          "text": [
            "請輸入一串英文或數字：hello world\n",
            "重複的字 ['l', 'o']\n",
            "不重複的字 ['h', 'e', ' ', 'w', 'r', 'd']\n"
          ]
        }
      ],
      "source": [
        "text = input('請輸入一串英文或數字：')      # 新增 text 變數，記錄輸入的字串\n",
        "repeat = []                             # 新增 repeat 變數為空串列\n",
        "not_repeat = []                         # 新增 not_repeat 變數為空串列\n",
        "for i in text:                          # 使用 for 迴圈，依序取出每個字元\n",
        "    a = text.count(i, 0, len(text))     # 判斷字元在字串中出現的次數\n",
        "    if a>1 and i not in repeat:         # 如果次數大於 1，且沒有存在 repeat 串列中\n",
        "        repeat.append(i)                  # 將字元加入 repeat 串列\n",
        "    if a == 1and i not in not_repeat:   # 如果次數等於 1，且沒有存在 not_repeat 串列中\n",
        "      not_repeat.append(i)              # 將字元加入 not_repeat 串列\n",
        "\n",
        "print(\"重複的字\",repeat)\n",
        "print(\"不重複的字\",not_repeat)\n"
      ]
    }
  ]
}