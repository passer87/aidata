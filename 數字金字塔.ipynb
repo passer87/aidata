{
  "nbformat": 4,
  "nbformat_minor": 0,
  "metadata": {
    "colab": {
      "provenance": [],
      "authorship_tag": "ABX9TyP9SeObHNvfr2NL4zfhVZuV",
      "include_colab_link": true
    },
    "kernelspec": {
      "name": "python3",
      "display_name": "Python 3"
    },
    "language_info": {
      "name": "python"
    }
  },
  "cells": [
    {
      "cell_type": "markdown",
      "metadata": {
        "id": "view-in-github",
        "colab_type": "text"
      },
      "source": [
        "<a href=\"https://colab.research.google.com/github/passer87/aidata/blob/main/%E6%95%B8%E5%AD%97%E9%87%91%E5%AD%97%E5%A1%94.ipynb\" target=\"_parent\"><img src=\"https://colab.research.google.com/assets/colab-badge.svg\" alt=\"Open In Colab\"/></a>"
      ]
    },
    {
      "cell_type": "code",
      "execution_count": 1,
      "metadata": {
        "colab": {
          "base_uri": "https://localhost:8080/"
        },
        "id": "KNSXZ7RH38xx",
        "outputId": "8d06f5ed-9034-4a0c-dd01-393a01c93eaf"
      },
      "outputs": [
        {
          "output_type": "stream",
          "name": "stdout",
          "text": [
            "                           1\n",
            "                        1  2  1\n",
            "                     1  2  3  2  1\n",
            "                  1  2  3  4  3  2  1\n",
            "               1  2  3  4  5  4  3  2  1\n",
            "            1  2  3  4  5  6  5  4  3  2  1\n",
            "         1  2  3  4  5  6  7  6  5  4  3  2  1\n",
            "      1  2  3  4  5  6  7  8  7  6  5  4  3  2  1\n",
            "   1  2  3  4  5  6  7  8  9  8  7  6  5  4  3  2  1\n",
            "1  2  3  4  5  6  7  8  9 10  9  8  7  6  5  4  3  2  1\n"
          ]
        }
      ],
      "source": [
        "a = 10                                # 要產生的金字塔層數\n",
        "for i in range(1,a+1):                # 使用 for 迴圈，重複 1～10 ( a+1 ) 的數字\n",
        "    print(' '*3*(a-i),end='')         # 根據不同的層數，讓第一個數字前方增加指定的空白字元 ( 後方不換行 )\n",
        "    for j in range(1, i+1):           # 第二層 for 迴圈，重複不同層內的數字\n",
        "        if j==1:                      # 如果是第一個數字\n",
        "            print(j, end='')          # 單純印出數字即可 ( 後方不換行 )\n",
        "        else:                         # 如果是第二個以後的數字\n",
        "            print(f'{j:>3d}', end='') # 格式化數字，使其寬度為 3，並靠右對齊 ( 後方不換行 )\n",
        "    for j in range(i-1, 0, -1):       # 剛剛的 for 迴圈是由小到大，加入另外一個由大到小的迴圈\n",
        "        print(f'{j:>3d}', end='')     # 格式化數字，使其寬度為 3，並靠右對齊 ( 後方不換行 )\n",
        "    print('')"
      ]
    }
  ]
}