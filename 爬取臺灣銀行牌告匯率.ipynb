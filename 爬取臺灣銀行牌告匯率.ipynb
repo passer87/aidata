{
  "nbformat": 4,
  "nbformat_minor": 0,
  "metadata": {
    "colab": {
      "provenance": [],
      "authorship_tag": "ABX9TyMVvezpQw4F05Eto+JpHNKY",
      "include_colab_link": true
    },
    "kernelspec": {
      "name": "python3",
      "display_name": "Python 3"
    },
    "language_info": {
      "name": "python"
    }
  },
  "cells": [
    {
      "cell_type": "markdown",
      "metadata": {
        "id": "view-in-github",
        "colab_type": "text"
      },
      "source": [
        "<a href=\"https://colab.research.google.com/github/passer87/aidata/blob/main/%E7%88%AC%E5%8F%96%E8%87%BA%E7%81%A3%E9%8A%80%E8%A1%8C%E7%89%8C%E5%91%8A%E5%8C%AF%E7%8E%87.ipynb\" target=\"_parent\"><img src=\"https://colab.research.google.com/assets/colab-badge.svg\" alt=\"Open In Colab\"/></a>"
      ]
    },
    {
      "cell_type": "code",
      "execution_count": 1,
      "metadata": {
        "colab": {
          "base_uri": "https://localhost:8080/"
        },
        "id": "olE1WMVNzoQt",
        "outputId": "e9b389c6-2732-4689-b2ad-da4793981d85"
      },
      "outputs": [
        {
          "output_type": "stream",
          "name": "stdout",
          "text": [
            "﻿幣別: 現金\n",
            "USD: 32.91500\n",
            "HKD: 4.24100\n",
            "GBP: 42.61000\n",
            "AUD: 21.46000\n",
            "CAD: 23.95000\n",
            "SGD: 25.05000\n",
            "CHF: 38.80000\n",
            "JPY: 0.23290\n",
            "ZAR: 0.00000\n",
            "SEK: 3.23000\n",
            "NZD: 19.72000\n",
            "THB: 0.98740\n",
            "PHP: 0.63000\n",
            "IDR: 0.00238\n",
            "EUR: 36.29000\n",
            "KRW: 0.02608\n",
            "VND: 0.00147\n",
            "MYR: 7.86900\n",
            "CNY: 4.64700\n"
          ]
        }
      ],
      "source": [
        "import requests\n",
        "\n",
        "url = 'https://rate.bot.com.tw/xrt/flcsv/0/day'   # 牌告匯率 CSV 網址\n",
        "rate = requests.get(url)   # 爬取網址內容\n",
        "rate.encoding = 'utf-8'    # 調整回應訊息編碼為 utf-8，避免編碼不同造成亂碼\n",
        "rt = rate.text             # 以文字模式讀取內容\n",
        "rts = rt.split('\\n')       # 使用「換行」將內容拆分成串列\n",
        "for i in rts:              # 讀取串列的每個項目\n",
        "    try:                             # 使用 try 避開最後一行的空白行\n",
        "        a = i.split(',')             # 每個項目用逗號拆分成子串列\n",
        "        print(a[0] + ': ' + a[12])   # 取出第一個 ( 0 ) 和第十三個項目 ( 12 )\n",
        "    except:\n",
        "      break"
      ]
    }
  ]
}