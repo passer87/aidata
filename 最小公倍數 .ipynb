{
  "nbformat": 4,
  "nbformat_minor": 0,
  "metadata": {
    "colab": {
      "provenance": [],
      "authorship_tag": "ABX9TyNDhD4Zp5M5Gx1D8gT0Vqlm",
      "include_colab_link": true
    },
    "kernelspec": {
      "name": "python3",
      "display_name": "Python 3"
    },
    "language_info": {
      "name": "python"
    }
  },
  "cells": [
    {
      "cell_type": "markdown",
      "metadata": {
        "id": "view-in-github",
        "colab_type": "text"
      },
      "source": [
        "<a href=\"https://colab.research.google.com/github/passer87/aidata/blob/main/%E6%9C%80%E5%B0%8F%E5%85%AC%E5%80%8D%E6%95%B8%20.ipynb\" target=\"_parent\"><img src=\"https://colab.research.google.com/assets/colab-badge.svg\" alt=\"Open In Colab\"/></a>"
      ]
    },
    {
      "cell_type": "code",
      "execution_count": 1,
      "metadata": {
        "colab": {
          "base_uri": "https://localhost:8080/"
        },
        "id": "J2D7UwYbTl-1",
        "outputId": "fd349627-4ea4-4398-fe23-313c205d7caf"
      },
      "outputs": [
        {
          "output_type": "stream",
          "name": "stdout",
          "text": [
            "輸入數字 ( 逗號分隔 )：213,43,12,88,321\n",
            "86241144\n"
          ]
        }
      ],
      "source": [
        "input_str = input('輸入數字 ( 逗號分隔 )：')   # 讓使用者輸入數字，數字間用逗號分隔\n",
        "nums = input_str.split(',')   # 將輸入的文字，用逗號拆分成串列\n",
        "for i in range(len(nums)):    # 將串列的每個項目轉換成文字\n",
        "    nums[i-1] = int(nums[i-1])\n",
        "nums.sort(reverse=True)       # 將串列從大到小排序\n",
        "result = nums[0]              # 設定「暫定的最小公倍數」為最大的數字\n",
        "while True:                   # 執行 while 迴圈\n",
        "    a = 0                       # 新增 a 變數，當作餘數使用\n",
        "    for i in nums:              # 依序取出串列中的每個數字\n",
        "        a = result%i              # 用「暫定的最小公倍數」除以每個數字，求出餘數\n",
        "        if a != 0:                # 如果餘數不為 0，跳出 for 迴圈再來一次\n",
        "            break\n",
        "    if a == 0:                  # 如果全部餘數都為 0，跳出 while 迴圈\n",
        "        break\n",
        "    else:\n",
        "        result = result + nums[0] # 如果餘數不為 0，就將「暫定的最小公倍數」加上最大的數字，然後再來一次\n",
        "print(result)                 # while 迴圈結束後，印出最小公倍數"
      ]
    }
  ]
}